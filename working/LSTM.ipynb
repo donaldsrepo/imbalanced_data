{
 "cells": [
  {
   "cell_type": "code",
   "execution_count": 1,
   "metadata": {},
   "outputs": [],
   "source": [
    "import os\n",
    "colab = os.environ.get('COLAB_GPU', '10')\n",
    "if (int(colab) == 0):\n",
    "    from google.colab import drive\n",
    "    drive.mount('/content/drive')\n",
    "    #Path=\"drive/My Drive/Colab Notebooks/StockAnalysis\"\n",
    "    Path=\"\"\n",
    "    DataPath=\"/content\"\n",
    "    RootPath=\"/root\"    \n",
    "else:\n",
    "    #Path=\"/c/DataScience/Repo/Imbalanced_data\"\n",
    "    Path=\"/DataScience/Repo/Imbalanced_data\"\n",
    "    DataPath=Path\n",
    "    RootPath=\"/Users/iowahawk89\""
   ]
  },
  {
   "cell_type": "code",
   "execution_count": 9,
   "metadata": {},
   "outputs": [],
   "source": [
    "import numpy as np\n",
    "import pandas as pd\n",
    "\n",
    "X = pd.read_csv('creditcard.csv', na_filter=True)\n",
    "\n",
    "y_original = np.array(X['Class'], dtype='int')\n",
    "\n",
    "print(X['Class'].value_counts())\n",
    "X.drop(['Class'], inplace=True, axis=1)\n",
    "\n",
    "rolling_window_size = 10  ### this selects how many historical transactions should be analyzed to judge the transaction at hand -- RNN width\n",
    "\n",
    "X_interim = np.zeros([(X.shape[0]-rolling_window_size)*10,30])\n",
    "y = []\n",
    "for i in range((X.shape[0]-rolling_window_size)):\n",
    "    beg = 0+i\n",
    "    end = beg+rolling_window_size\n",
    "    s = np.array(X[beg:end], dtype='float')\n",
    "    X_interim[(rolling_window_size*i):(rolling_window_size*(i+1)),:] = s\n",
    "    y.append(y_original[end])\n",
    "\n",
    "\n",
    "y = np.array(y, dtype='int')\n",
    "X_interim = X_interim[:,1::]"
   ]
  },
  {
   "cell_type": "code",
   "execution_count": 14,
   "metadata": {},
   "outputs": [],
   "source": [
    "def display_metrics(model_name, train_features, test_features, train_label, test_label, pred):\n",
    "    try:\n",
    "        print(model_name.score(test_features, test_label)) \n",
    "        print(\"Accuracy score (training): {0:.3f}\".format(model_name.score(train_features, train_label))) \n",
    "        print(\"Accuracy score (validation): {0:.3f}\".format(model_name.score(test_features, test_label))) \n",
    "    except Exception as e:\n",
    "        print(\"error\")  \n",
    "    try:\n",
    "        print(pd.Series(model_name.feature_importances_, index=train_features.columns[:]).nlargest(10).plot(kind='barh')) \n",
    "    except Exception as e:\n",
    "        print(\"error\")  \n",
    "\n",
    "    print(\"Confusion Matrix:\")\n",
    "    tn, fp, fn, tp = confusion_matrix(test_label, pred).ravel()\n",
    "    total = tn+ fp+ fn+ tp \n",
    "    print(\"false positive pct:\",(fp/total)*100) \n",
    "    print(\"tn\", \" fp\", \" fn\", \" tp\") \n",
    "    print(tn, fp, fn, tp) \n",
    "    print(confusion_matrix(test_label, pred)) \n",
    "    print(\"Classification Report\") \n",
    "    print(classification_report(test_label, pred))\n",
    "    print(\"Specificity =\", tn/(tn+fp))\n",
    "    print(\"Sensitivity =\", tp/(tp+fn))\n",
    "    return tn, fp, fn, tp"
   ]
  },
  {
   "cell_type": "code",
   "execution_count": 15,
   "metadata": {},
   "outputs": [
    {
     "name": "stdout",
     "output_type": "stream",
     "text": [
      "Model: \"sequential_2\"\n",
      "_________________________________________________________________\n",
      "Layer (type)                 Output Shape              Param #   \n",
      "=================================================================\n",
      "lstm_2 (LSTM)                (None, 20)                4000      \n",
      "_________________________________________________________________\n",
      "dense_2 (Dense)              (None, 1)                 21        \n",
      "=================================================================\n",
      "Total params: 4,021\n",
      "Trainable params: 4,021\n",
      "Non-trainable params: 0\n",
      "_________________________________________________________________\n",
      "None\n"
     ]
    }
   ],
   "source": [
    "X_tensor = X_interim.reshape(int(np.shape(X_interim)[0]/rolling_window_size), rolling_window_size, np.shape(X_interim)[1])\n",
    "#TypeError: 'float' object cannot be interpreted as an integer\n",
    "\n",
    "from keras.models import Sequential\n",
    "from keras.layers import Dense\n",
    "from keras.layers import Dropout\n",
    "from keras.layers.recurrent import LSTM\n",
    "from keras.layers import Embedding\n",
    "#from keras.callbacks import ModelCheckpoint, TensorBoard\n",
    "from keras import regularizers\n",
    "\n",
    "test_train_split = 0.5\n",
    "stratify = True\n",
    "\n",
    "if stratify:\n",
    "    y = np.vstack((range(len(y)),y)).T\n",
    "    y_pos = y[y[:,1]==1]\n",
    "    y_neg = y[y[:,1]==0]\n",
    "    \n",
    "    y_pos = y_pos[np.random.choice(y_pos.shape[0], int(y_pos.shape[0]*test_train_split), replace=False),:]\n",
    "    y_neg = y_neg[np.random.choice(y_neg.shape[0], int(y_neg.shape[0]*test_train_split), replace=False),:]\n",
    "    \n",
    "    train_idx = np.array(np.hstack((y_pos[:,0],y_neg[:,0])), dtype='int')\n",
    "    \n",
    "    X_train = X_tensor[train_idx, :, :]\n",
    "    X_test = np.delete(X_tensor, train_idx, axis=0)\n",
    "    y_train = y[train_idx,1]\n",
    "    y_test = np.delete(y, train_idx, axis=0)\n",
    "    y_test = y_test[:,1]\n",
    "else: \n",
    "    train_idx = np.random.choice(X_tensor.shape[0], int(X_tensor.shape[0]*test_train_split), replace=False)\n",
    "    X_train = X_tensor[train_idx, :, :]\n",
    "    X_test = np.delete(X_tensor, train_idx, axis=0)\n",
    "    y_train = y[train_idx]\n",
    "    y_test = np.delete(y, train_idx, axis=0)\n",
    "\n",
    "del (X_tensor, y, stratify, test_train_split, train_idx, y_neg, y_pos)\n",
    "\n",
    "\n",
    "### Hyperparameters Tuning\n",
    "# First test optimal epochs holding everything else constant\n",
    "# Dropout: 0.1-0.6\n",
    "# GradientClipping: 0.1-10\n",
    "# BatchSize: 32,64,128,256,512 (power of 2)\n",
    "\n",
    "\n",
    "### Train LSTM using Keras 2 API ###\n",
    "model = Sequential()\n",
    "model.add(LSTM(20, input_shape=X_train.shape[1:], kernel_initializer='lecun_uniform', activation='relu', kernel_regularizer=regularizers.l1(0.1), recurrent_regularizer=regularizers.l1(0.01), bias_regularizer=None, activity_regularizer=None, dropout=0.2, recurrent_dropout=0.2))#, return_sequences=True))\n",
    "#model.add(LSTM(12, activation='relu', return_sequences=True))\n",
    "#model.add(LSTM(8, activation='relu'))\n",
    "#model.add(Dense(1, kernel_initializer='lecun_uniform', activation='sigmoid'))\n",
    "model.add(Dense(1, kernel_initializer='uniform', activation='sigmoid'))\n",
    "\n",
    "model.compile(loss='binary_crossentropy', optimizer='sgd', metrics=['accuracy']) #optimizer='rmsprop', optimizer='sgd', optimizer='adam'\n",
    "print(model.summary())\n",
    "\n"
   ]
  },
  {
   "cell_type": "code",
   "execution_count": 16,
   "metadata": {},
   "outputs": [
    {
     "name": "stdout",
     "output_type": "stream",
     "text": [
      "Epoch 1/4\n",
      "142398/142398 [==============================] - 34s 241us/step - loss: 1.6990 - accuracy: 0.9981\n",
      "Epoch 2/4\n",
      "142398/142398 [==============================] - 25s 178us/step - loss: 0.7003 - accuracy: 0.9983\n",
      "Epoch 3/4\n",
      "142398/142398 [==============================] - 26s 180us/step - loss: 0.3277 - accuracy: 0.9983\n",
      "Epoch 4/4\n",
      "142398/142398 [==============================] - 26s 180us/step - loss: 0.1950 - accuracy: 0.9983\n",
      "TRAIN | AUC Score: 0.5\n",
      "TEST | AUC Score: 0.5\n"
     ]
    }
   ],
   "source": [
    "class_names=[0,1] # name  of classes 1=fraudulent transaction\n",
    "#model.fit(X_train, y_train, epochs=200, batch_size=10000, class_weight={0 : 1., 1: float(int(1/np.mean(y_train)))}, validation_split=0.3)\n",
    "model.fit(X_train, y_train, epochs=4, batch_size=32, class_weight=np.where(y_train == 1,4.0,1.0).flatten() )\n",
    "\n",
    "train_predict = model.predict_classes(X_train)\n",
    "test_predict = model.predict_classes(X_test)\n",
    "\n",
    "### test AUC ###\n",
    "from sklearn import metrics \n",
    "\n",
    "fpr, tpr, thresholds = metrics.roc_curve(y_train, train_predict, pos_label=1)\n",
    "print('TRAIN | AUC Score: ' + str((metrics.auc(fpr, tpr))))\n",
    "fpr, tpr, thresholds = metrics.roc_curve(y_test, test_predict, pos_label=1)\n",
    "print('TEST | AUC Score: ' + str((metrics.auc(fpr, tpr))))"
   ]
  },
  {
   "cell_type": "code",
   "execution_count": 17,
   "metadata": {},
   "outputs": [
    {
     "name": "stdout",
     "output_type": "stream",
     "text": [
      "error\n",
      "error\n",
      "Confusion Matrix:\n",
      "false positive pct: 0.0\n",
      "tn  fp  fn  tp\n",
      "142153 0 246 0\n",
      "[[142153      0]\n",
      " [   246      0]]\n",
      "Classification Report\n",
      "              precision    recall  f1-score   support\n",
      "\n",
      "           0       1.00      1.00      1.00    142153\n",
      "           1       0.00      0.00      0.00       246\n",
      "\n",
      "    accuracy                           1.00    142399\n",
      "   macro avg       0.50      0.50      0.50    142399\n",
      "weighted avg       1.00      1.00      1.00    142399\n",
      "\n",
      "Specificity = 1.0\n",
      "Sensitivity = 0.0\n"
     ]
    },
    {
     "name": "stderr",
     "output_type": "stream",
     "text": [
      "C:\\Users\\iowahawk89\\miniconda3\\envs\\ds_tensorflow\\lib\\site-packages\\sklearn\\metrics\\_classification.py:1272: UndefinedMetricWarning: Precision and F-score are ill-defined and being set to 0.0 in labels with no predicted samples. Use `zero_division` parameter to control this behavior.\n",
      "  _warn_prf(average, modifier, msg_start, len(result))\n"
     ]
    }
   ],
   "source": [
    "from sklearn import metrics\n",
    "from sklearn.metrics import confusion_matrix\n",
    "from sklearn.metrics import classification_report\n",
    "tn, fp, fn, tp = display_metrics(model, X_train, X_test, y_train, y_test, test_predict)"
   ]
  },
  {
   "cell_type": "code",
   "execution_count": null,
   "metadata": {},
   "outputs": [],
   "source": []
  }
 ],
 "metadata": {
  "kernelspec": {
   "display_name": "Python 3",
   "language": "python",
   "name": "python3"
  },
  "language_info": {
   "codemirror_mode": {
    "name": "ipython",
    "version": 3
   },
   "file_extension": ".py",
   "mimetype": "text/x-python",
   "name": "python",
   "nbconvert_exporter": "python",
   "pygments_lexer": "ipython3",
   "version": "3.7.7"
  }
 },
 "nbformat": 4,
 "nbformat_minor": 4
}
