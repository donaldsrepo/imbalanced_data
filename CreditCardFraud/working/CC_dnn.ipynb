{
 "cells": [
  {
   "cell_type": "markdown",
   "metadata": {
    "colab_type": "text",
    "id": "32zxVReubtUl"
   },
   "source": [
    "<h1 align='center' style='color:purple'>Credit Card Fraud - Imbalanced Data Set</h1>"
   ]
  },
  {
   "cell_type": "code",
   "execution_count": 1,
   "metadata": {
    "colab": {
     "base_uri": "https://localhost:8080/",
     "height": 51
    },
    "colab_type": "code",
    "executionInfo": {
     "elapsed": 3452,
     "status": "ok",
     "timestamp": 1591365717993,
     "user": {
      "displayName": "Don Stierman",
      "photoUrl": "https://lh3.googleusercontent.com/a-/AOh14GgL11XU-IHwYTl3abZY1--Hbam6OSfwyASvbqmP9A=s64",
      "userId": "18276471072525900320"
     },
     "user_tz": -480
    },
    "id": "E4BTK183btUo",
    "outputId": "b46da31d-2c86-4b41-b729-130b7a4a848e"
   },
   "outputs": [
    {
     "name": "stdout",
     "output_type": "stream",
     "text": [
      "no display found. Using non-interactive Agg backend\n"
     ]
    }
   ],
   "source": [
    "# Import Libraries\n",
    "\n",
    "import datetime\n",
    "\n",
    "import random as rn\n",
    "rn.seed(1) # random\n",
    "import numpy as np\n",
    "#from numpy.random import seed\n",
    "np.random.seed(7) # or 7\n",
    "import tensorflow as tf\n",
    "tf.random.set_seed(0) # tf\n",
    "\n",
    "import pandas as pd\n",
    "import os\n",
    "import tempfile\n",
    "\n",
    "import matplotlib as mpl                                                                                             \n",
    "if os.environ.get('DISPLAY','') == '':                                                                               \n",
    "    print('no display found. Using non-interactive Agg backend')                                                     \n",
    "    mpl.use('Agg')                                                                    \n",
    "    \n",
    "import matplotlib.pyplot as plt\n",
    "if (os.environ.get('TERM','') == 'xterm-color'): \n",
    "    %matplotlib inline\n",
    "elif (os.environ.get('TERM','') == 'cygwin'):\n",
    "    print(\"shell terminal found\")\n",
    "else: # 'cygwin'\n",
    "    print(\"no terminal found\")\n",
    "    \n",
    "import pandas_profiling as pp\n",
    "import seaborn as sns\n",
    "\n",
    "from scipy import stats\n",
    "from scipy.stats import norm, skew, kurtosis, boxcox #for some statistics\n",
    "from scipy.special import boxcox1p, inv_boxcox, inv_boxcox1p\n",
    "\n",
    "from sklearn.model_selection import train_test_split\n",
    "from sklearn.linear_model import LogisticRegression\n",
    "from sklearn.tree import DecisionTreeClassifier\n",
    "from sklearn.ensemble import RandomForestClassifier\n",
    "from sklearn import metrics\n",
    "from sklearn.pipeline import Pipeline\n",
    "from sklearn.metrics import confusion_matrix\n",
    "from sklearn.metrics import classification_report\n",
    "from sklearn.metrics import roc_curve\n",
    "from sklearn.metrics import roc_auc_score\n",
    "from sklearn.metrics import precision_recall_curve\n",
    "from sklearn.metrics import f1_score\n",
    "from sklearn.metrics import auc\n",
    "from sklearn.metrics import accuracy_score\n",
    "from sklearn.metrics import precision_score\n",
    "from sklearn.metrics import recall_score\n",
    "from sklearn.metrics import cohen_kappa_score\n",
    "from sklearn.ensemble import GradientBoostingClassifier, IsolationForest\n",
    "from sklearn.utils.class_weight import compute_sample_weight\n",
    "from sklearn.preprocessing import PolynomialFeatures, StandardScaler, MinMaxScaler, RobustScaler, PowerTransformer, Normalizer\n",
    "from matplotlib import pyplot\n",
    "import zipfile\n",
    "import time\n",
    "\n",
    "StartTime = datetime.datetime.now()\n"
   ]
  },
  {
   "cell_type": "code",
   "execution_count": 2,
   "metadata": {},
   "outputs": [],
   "source": [
    "class MyTimer():\n",
    "    # usage:\n",
    "    #with MyTimer():                            \n",
    "    #    rf.fit(X_train, y_train)\n",
    "    \n",
    "    def __init__(self):\n",
    "        self.start = time.time()\n",
    "    def __enter__(self):\n",
    "        return self\n",
    "    def __exit__(self, exc_type, exc_val, exc_tb):\n",
    "        end = time.time()\n",
    "        runtime = end - self.start\n",
    "        msg = 'The function took {time} seconds to complete'\n",
    "        print(msg.format(time=runtime))"
   ]
  },
  {
   "cell_type": "code",
   "execution_count": 3,
   "metadata": {},
   "outputs": [
    {
     "name": "stdout",
     "output_type": "stream",
     "text": [
      "TERM: xterm-color\n"
     ]
    }
   ],
   "source": [
    "#print(os.environ)\n",
    "print('TERM:', os.environ.get('TERM',''))"
   ]
  },
  {
   "cell_type": "markdown",
   "metadata": {},
   "source": [
    "Always like to include a timer function to see where my code is running slow or taking most of the run time"
   ]
  },
  {
   "cell_type": "code",
   "execution_count": 4,
   "metadata": {},
   "outputs": [],
   "source": [
    "class MyTimer():\n",
    "    # usage:\n",
    "    #with MyTimer():                            \n",
    "    #    rf.fit(X_train, y_train)\n",
    "    \n",
    "    def __init__(self):\n",
    "        self.start = time.time()\n",
    "    def __enter__(self):\n",
    "        return self\n",
    "    def __exit__(self, exc_type, exc_val, exc_tb):\n",
    "        end = time.time()\n",
    "        runtime = end - self.start\n",
    "        msg = 'The function took {time} seconds to complete'\n",
    "        print(msg.format(time=runtime))"
   ]
  },
  {
   "cell_type": "code",
   "execution_count": 5,
   "metadata": {},
   "outputs": [],
   "source": [
    "def CalcPct(df,title):\n",
    "    unique_elements, counts_elements = np.unique(df, return_counts=True)\n",
    "    calc_pct = round(counts_elements[1]/(counts_elements[0]+counts_elements[1]) * 100,6)\n",
    "    print(title)\n",
    "    print(np.asarray((unique_elements, counts_elements)))\n",
    "    return calc_pct"
   ]
  },
  {
   "cell_type": "code",
   "execution_count": 6,
   "metadata": {
    "colab": {
     "base_uri": "https://localhost:8080/",
     "height": 34
    },
    "colab_type": "code",
    "executionInfo": {
     "elapsed": 3425,
     "status": "ok",
     "timestamp": 1591365718004,
     "user": {
      "displayName": "Don Stierman",
      "photoUrl": "https://lh3.googleusercontent.com/a-/AOh14GgL11XU-IHwYTl3abZY1--Hbam6OSfwyASvbqmP9A=s64",
      "userId": "18276471072525900320"
     },
     "user_tz": -480
    },
    "id": "Mkd1kiOwbtUu",
    "outputId": "dcd60101-be95-4e1b-bed5-0f7007e6c0b1"
   },
   "outputs": [
    {
     "name": "stdout",
     "output_type": "stream",
     "text": [
      "colab_gpu not found\n"
     ]
    }
   ],
   "source": [
    "colab = os.environ.get('COLAB_GPU', '10')\n",
    "if (int(colab) == 0):\n",
    "    from google.colab import drive\n",
    "    drive.mount('/content/drive')  \n",
    "else:\n",
    "    print(\"colab_gpu not found\")"
   ]
  },
  {
   "cell_type": "markdown",
   "metadata": {},
   "source": [
    "Setup to run on Google Colab and Kaggle platforms"
   ]
  },
  {
   "cell_type": "code",
   "execution_count": 7,
   "metadata": {
    "colab": {
     "base_uri": "https://localhost:8080/",
     "height": 34
    },
    "colab_type": "code",
    "executionInfo": {
     "elapsed": 3369,
     "status": "ok",
     "timestamp": 1591365718009,
     "user": {
      "displayName": "Don Stierman",
      "photoUrl": "https://lh3.googleusercontent.com/a-/AOh14GgL11XU-IHwYTl3abZY1--Hbam6OSfwyASvbqmP9A=s64",
      "userId": "18276471072525900320"
     },
     "user_tz": -480
    },
    "id": "aoWL9weTbtU7",
    "outputId": "93391fd2-997b-4018-fe5e-03150fd1fd44"
   },
   "outputs": [
    {
     "name": "stdout",
     "output_type": "stream",
     "text": [
      "Current Working Directory  C:\\DataScience\\Repo\\Imbalanced_data\\CreditCardFraud\\input\\creditcardzip\n"
     ]
    }
   ],
   "source": [
    "# Check if Google Colab path exists\n",
    "if os.path.exists(\"/content/drive/My Drive/MyDSNotebooks/Imbalanced_data/input/creditcardzip\") :\n",
    "    # Change the current working Directory    \n",
    "    os.chdir(\"/content/drive/My Drive/MyDSNotebooks/Imbalanced_data/input/creditcardzip\")\n",
    "# else check if Kaggle/local path exists\n",
    "elif os.path.exists(\"../input/creditcardzip\") :\n",
    "    # Change the current working Directory    \n",
    "    os.chdir(\"../input/creditcardzip\")\n",
    "else:\n",
    "    print(\"Can't change the Current Working Directory\") \n",
    "print(\"Current Working Directory \" , os.getcwd())"
   ]
  },
  {
   "cell_type": "code",
   "execution_count": 8,
   "metadata": {
    "colab": {},
    "colab_type": "code",
    "id": "OZ5tEusybtU_"
   },
   "outputs": [],
   "source": [
    "verbose=0\n",
    "# Load the Data Set\n",
    "df = pd.read_csv('https://storage.googleapis.com/download.tensorflow.org/data/creditcard.csv')\n",
    "#off line data source for backup\n",
    "#df = pd.read_csv('creditcard.csv')"
   ]
  },
  {
   "cell_type": "markdown",
   "metadata": {
    "colab_type": "text",
    "id": "1Q7IWQDYbtVE"
   },
   "source": [
    "Public Credit Card Dataset. This is financial data, and is considered to be sensitive so it is \"encrypted\" through the use of PCA to protect privacy. Only the Time and Dollar columns are intact after the \"encryption\"\n",
    "\n",
    "Doing some initial data exploration"
   ]
  },
  {
   "cell_type": "code",
   "execution_count": 9,
   "metadata": {
    "colab": {
     "base_uri": "https://localhost:8080/",
     "height": 153
    },
    "colab_type": "code",
    "executionInfo": {
     "elapsed": 5278,
     "status": "ok",
     "timestamp": 1591365719967,
     "user": {
      "displayName": "Don Stierman",
      "photoUrl": "https://lh3.googleusercontent.com/a-/AOh14GgL11XU-IHwYTl3abZY1--Hbam6OSfwyASvbqmP9A=s64",
      "userId": "18276471072525900320"
     },
     "user_tz": -480
    },
    "id": "LVwQwfu6btVF",
    "outputId": "b1abb3cd-d5c8-4e26-c68a-104cbee9952c"
   },
   "outputs": [
    {
     "name": "stdout",
     "output_type": "stream",
     "text": [
      "   Time        V1        V2        V3        V4        V5        V6        V7  \\\n",
      "0   0.0 -1.359807 -0.072781  2.536347  1.378155 -0.338321  0.462388  0.239599   \n",
      "1   0.0  1.191857  0.266151  0.166480  0.448154  0.060018 -0.082361 -0.078803   \n",
      "2   1.0 -1.358354 -1.340163  1.773209  0.379780 -0.503198  1.800499  0.791461   \n",
      "3   1.0 -0.966272 -0.185226  1.792993 -0.863291 -0.010309  1.247203  0.237609   \n",
      "4   2.0 -1.158233  0.877737  1.548718  0.403034 -0.407193  0.095921  0.592941   \n",
      "\n",
      "         V8        V9  ...       V21       V22       V23       V24       V25  \\\n",
      "0  0.098698  0.363787  ... -0.018307  0.277838 -0.110474  0.066928  0.128539   \n",
      "1  0.085102 -0.255425  ... -0.225775 -0.638672  0.101288 -0.339846  0.167170   \n",
      "2  0.247676 -1.514654  ...  0.247998  0.771679  0.909412 -0.689281 -0.327642   \n",
      "3  0.377436 -1.387024  ... -0.108300  0.005274 -0.190321 -1.175575  0.647376   \n",
      "4 -0.270533  0.817739  ... -0.009431  0.798278 -0.137458  0.141267 -0.206010   \n",
      "\n",
      "        V26       V27       V28  Amount  Class  \n",
      "0 -0.189115  0.133558 -0.021053  149.62      0  \n",
      "1  0.125895 -0.008983  0.014724    2.69      0  \n",
      "2 -0.139097 -0.055353 -0.059752  378.66      0  \n",
      "3 -0.221929  0.062723  0.061458  123.50      0  \n",
      "4  0.502292  0.219422  0.215153   69.99      0  \n",
      "\n",
      "[5 rows x 31 columns]\n"
     ]
    }
   ],
   "source": [
    "# Check the data, make sure it loaded okay\n",
    "print(df.head())"
   ]
  },
  {
   "cell_type": "code",
   "execution_count": 10,
   "metadata": {
    "colab": {
     "base_uri": "https://localhost:8080/",
     "height": 663
    },
    "colab_type": "code",
    "executionInfo": {
     "elapsed": 5251,
     "status": "ok",
     "timestamp": 1591365719968,
     "user": {
      "displayName": "Don Stierman",
      "photoUrl": "https://lh3.googleusercontent.com/a-/AOh14GgL11XU-IHwYTl3abZY1--Hbam6OSfwyASvbqmP9A=s64",
      "userId": "18276471072525900320"
     },
     "user_tz": -480
    },
    "id": "FI6FSEPMbtVJ",
    "outputId": "c7ea196f-e353-4f30-d574-221827c966e5"
   },
   "outputs": [
    {
     "name": "stdout",
     "output_type": "stream",
     "text": [
      "<class 'pandas.core.frame.DataFrame'>\n",
      "RangeIndex: 284807 entries, 0 to 284806\n",
      "Data columns (total 31 columns):\n",
      " #   Column  Non-Null Count   Dtype  \n",
      "---  ------  --------------   -----  \n",
      " 0   Time    284807 non-null  float64\n",
      " 1   V1      284807 non-null  float64\n",
      " 2   V2      284807 non-null  float64\n",
      " 3   V3      284807 non-null  float64\n",
      " 4   V4      284807 non-null  float64\n",
      " 5   V5      284807 non-null  float64\n",
      " 6   V6      284807 non-null  float64\n",
      " 7   V7      284807 non-null  float64\n",
      " 8   V8      284807 non-null  float64\n",
      " 9   V9      284807 non-null  float64\n",
      " 10  V10     284807 non-null  float64\n",
      " 11  V11     284807 non-null  float64\n",
      " 12  V12     284807 non-null  float64\n",
      " 13  V13     284807 non-null  float64\n",
      " 14  V14     284807 non-null  float64\n",
      " 15  V15     284807 non-null  float64\n",
      " 16  V16     284807 non-null  float64\n",
      " 17  V17     284807 non-null  float64\n",
      " 18  V18     284807 non-null  float64\n",
      " 19  V19     284807 non-null  float64\n",
      " 20  V20     284807 non-null  float64\n",
      " 21  V21     284807 non-null  float64\n",
      " 22  V22     284807 non-null  float64\n",
      " 23  V23     284807 non-null  float64\n",
      " 24  V24     284807 non-null  float64\n",
      " 25  V25     284807 non-null  float64\n",
      " 26  V26     284807 non-null  float64\n",
      " 27  V27     284807 non-null  float64\n",
      " 28  V28     284807 non-null  float64\n",
      " 29  Amount  284807 non-null  float64\n",
      " 30  Class   284807 non-null  int64  \n",
      "dtypes: float64(30), int64(1)\n",
      "memory usage: 67.4 MB\n"
     ]
    }
   ],
   "source": [
    "# Check the datatypes of the Data set \n",
    "df.info()"
   ]
  },
  {
   "cell_type": "code",
   "execution_count": 11,
   "metadata": {
    "colab": {
     "base_uri": "https://localhost:8080/",
     "height": 561
    },
    "colab_type": "code",
    "executionInfo": {
     "elapsed": 5226,
     "status": "ok",
     "timestamp": 1591365719981,
     "user": {
      "displayName": "Don Stierman",
      "photoUrl": "https://lh3.googleusercontent.com/a-/AOh14GgL11XU-IHwYTl3abZY1--Hbam6OSfwyASvbqmP9A=s64",
      "userId": "18276471072525900320"
     },
     "user_tz": -480
    },
    "id": "wFE16Yv-btVO",
    "outputId": "3d7cb967-5990-468e-e1c2-1575b1c7a0a9"
   },
   "outputs": [
    {
     "data": {
      "text/plain": [
       "Time      124592\n",
       "V1        275663\n",
       "V2        275663\n",
       "V3        275663\n",
       "V4        275663\n",
       "V5        275663\n",
       "V6        275663\n",
       "V7        275663\n",
       "V8        275663\n",
       "V9        275663\n",
       "V10       275663\n",
       "V11       275663\n",
       "V12       275663\n",
       "V13       275663\n",
       "V14       275663\n",
       "V15       275663\n",
       "V16       275663\n",
       "V17       275663\n",
       "V18       275663\n",
       "V19       275663\n",
       "V20       275663\n",
       "V21       275663\n",
       "V22       275663\n",
       "V23       275663\n",
       "V24       275663\n",
       "V25       275663\n",
       "V26       275663\n",
       "V27       275663\n",
       "V28       275663\n",
       "Amount     32767\n",
       "Class          2\n",
       "dtype: int64"
      ]
     },
     "execution_count": 11,
     "metadata": {},
     "output_type": "execute_result"
    }
   ],
   "source": [
    "# Check the Uniqueness\n",
    "df.nunique()"
   ]
  },
  {
   "cell_type": "code",
   "execution_count": 12,
   "metadata": {
    "colab": {
     "base_uri": "https://localhost:8080/",
     "height": 561
    },
    "colab_type": "code",
    "executionInfo": {
     "elapsed": 5193,
     "status": "ok",
     "timestamp": 1591365719982,
     "user": {
      "displayName": "Don Stierman",
      "photoUrl": "https://lh3.googleusercontent.com/a-/AOh14GgL11XU-IHwYTl3abZY1--Hbam6OSfwyASvbqmP9A=s64",
      "userId": "18276471072525900320"
     },
     "user_tz": -480
    },
    "id": "hWSJhMa4btVT",
    "outputId": "619b155a-e408-4af5-94e3-44f77b62cef2"
   },
   "outputs": [
    {
     "data": {
      "text/plain": [
       "Time      0\n",
       "V1        0\n",
       "V2        0\n",
       "V3        0\n",
       "V4        0\n",
       "V5        0\n",
       "V6        0\n",
       "V7        0\n",
       "V8        0\n",
       "V9        0\n",
       "V10       0\n",
       "V11       0\n",
       "V12       0\n",
       "V13       0\n",
       "V14       0\n",
       "V15       0\n",
       "V16       0\n",
       "V17       0\n",
       "V18       0\n",
       "V19       0\n",
       "V20       0\n",
       "V21       0\n",
       "V22       0\n",
       "V23       0\n",
       "V24       0\n",
       "V25       0\n",
       "V26       0\n",
       "V27       0\n",
       "V28       0\n",
       "Amount    0\n",
       "Class     0\n",
       "dtype: int64"
      ]
     },
     "execution_count": 12,
     "metadata": {},
     "output_type": "execute_result"
    }
   ],
   "source": [
    "# Check for missing data\n",
    "df.isnull().sum()"
   ]
  },
  {
   "cell_type": "code",
   "execution_count": 13,
   "metadata": {
    "colab": {
     "base_uri": "https://localhost:8080/",
     "height": 317
    },
    "colab_type": "code",
    "executionInfo": {
     "elapsed": 5758,
     "status": "ok",
     "timestamp": 1591365720582,
     "user": {
      "displayName": "Don Stierman",
      "photoUrl": "https://lh3.googleusercontent.com/a-/AOh14GgL11XU-IHwYTl3abZY1--Hbam6OSfwyASvbqmP9A=s64",
      "userId": "18276471072525900320"
     },
     "user_tz": -480
    },
    "id": "5DWtjpctbtVW",
    "outputId": "334db08f-da44-44ee-dec9-505cb4566fb6"
   },
   "outputs": [
    {
     "data": {
      "text/html": [
       "<div>\n",
       "<style scoped>\n",
       "    .dataframe tbody tr th:only-of-type {\n",
       "        vertical-align: middle;\n",
       "    }\n",
       "\n",
       "    .dataframe tbody tr th {\n",
       "        vertical-align: top;\n",
       "    }\n",
       "\n",
       "    .dataframe thead th {\n",
       "        text-align: right;\n",
       "    }\n",
       "</style>\n",
       "<table border=\"1\" class=\"dataframe\">\n",
       "  <thead>\n",
       "    <tr style=\"text-align: right;\">\n",
       "      <th></th>\n",
       "      <th>Time</th>\n",
       "      <th>V1</th>\n",
       "      <th>V2</th>\n",
       "      <th>V3</th>\n",
       "      <th>V4</th>\n",
       "      <th>V5</th>\n",
       "      <th>V6</th>\n",
       "      <th>V7</th>\n",
       "      <th>V8</th>\n",
       "      <th>V9</th>\n",
       "      <th>...</th>\n",
       "      <th>V21</th>\n",
       "      <th>V22</th>\n",
       "      <th>V23</th>\n",
       "      <th>V24</th>\n",
       "      <th>V25</th>\n",
       "      <th>V26</th>\n",
       "      <th>V27</th>\n",
       "      <th>V28</th>\n",
       "      <th>Amount</th>\n",
       "      <th>Class</th>\n",
       "    </tr>\n",
       "  </thead>\n",
       "  <tbody>\n",
       "    <tr>\n",
       "      <th>count</th>\n",
       "      <td>284807.000000</td>\n",
       "      <td>2.848070e+05</td>\n",
       "      <td>2.848070e+05</td>\n",
       "      <td>2.848070e+05</td>\n",
       "      <td>2.848070e+05</td>\n",
       "      <td>2.848070e+05</td>\n",
       "      <td>2.848070e+05</td>\n",
       "      <td>2.848070e+05</td>\n",
       "      <td>2.848070e+05</td>\n",
       "      <td>2.848070e+05</td>\n",
       "      <td>...</td>\n",
       "      <td>2.848070e+05</td>\n",
       "      <td>2.848070e+05</td>\n",
       "      <td>2.848070e+05</td>\n",
       "      <td>2.848070e+05</td>\n",
       "      <td>2.848070e+05</td>\n",
       "      <td>2.848070e+05</td>\n",
       "      <td>2.848070e+05</td>\n",
       "      <td>2.848070e+05</td>\n",
       "      <td>284807.000000</td>\n",
       "      <td>284807.000000</td>\n",
       "    </tr>\n",
       "    <tr>\n",
       "      <th>mean</th>\n",
       "      <td>94813.859575</td>\n",
       "      <td>1.165980e-15</td>\n",
       "      <td>3.416908e-16</td>\n",
       "      <td>-1.373150e-15</td>\n",
       "      <td>2.086869e-15</td>\n",
       "      <td>9.604066e-16</td>\n",
       "      <td>1.490107e-15</td>\n",
       "      <td>-5.556467e-16</td>\n",
       "      <td>1.177556e-16</td>\n",
       "      <td>-2.406455e-15</td>\n",
       "      <td>...</td>\n",
       "      <td>1.656562e-16</td>\n",
       "      <td>-3.444850e-16</td>\n",
       "      <td>2.578648e-16</td>\n",
       "      <td>4.471968e-15</td>\n",
       "      <td>5.340915e-16</td>\n",
       "      <td>1.687098e-15</td>\n",
       "      <td>-3.666453e-16</td>\n",
       "      <td>-1.220404e-16</td>\n",
       "      <td>88.349619</td>\n",
       "      <td>0.001727</td>\n",
       "    </tr>\n",
       "    <tr>\n",
       "      <th>std</th>\n",
       "      <td>47488.145955</td>\n",
       "      <td>1.958696e+00</td>\n",
       "      <td>1.651309e+00</td>\n",
       "      <td>1.516255e+00</td>\n",
       "      <td>1.415869e+00</td>\n",
       "      <td>1.380247e+00</td>\n",
       "      <td>1.332271e+00</td>\n",
       "      <td>1.237094e+00</td>\n",
       "      <td>1.194353e+00</td>\n",
       "      <td>1.098632e+00</td>\n",
       "      <td>...</td>\n",
       "      <td>7.345240e-01</td>\n",
       "      <td>7.257016e-01</td>\n",
       "      <td>6.244603e-01</td>\n",
       "      <td>6.056471e-01</td>\n",
       "      <td>5.212781e-01</td>\n",
       "      <td>4.822270e-01</td>\n",
       "      <td>4.036325e-01</td>\n",
       "      <td>3.300833e-01</td>\n",
       "      <td>250.120109</td>\n",
       "      <td>0.041527</td>\n",
       "    </tr>\n",
       "    <tr>\n",
       "      <th>min</th>\n",
       "      <td>0.000000</td>\n",
       "      <td>-5.640751e+01</td>\n",
       "      <td>-7.271573e+01</td>\n",
       "      <td>-4.832559e+01</td>\n",
       "      <td>-5.683171e+00</td>\n",
       "      <td>-1.137433e+02</td>\n",
       "      <td>-2.616051e+01</td>\n",
       "      <td>-4.355724e+01</td>\n",
       "      <td>-7.321672e+01</td>\n",
       "      <td>-1.343407e+01</td>\n",
       "      <td>...</td>\n",
       "      <td>-3.483038e+01</td>\n",
       "      <td>-1.093314e+01</td>\n",
       "      <td>-4.480774e+01</td>\n",
       "      <td>-2.836627e+00</td>\n",
       "      <td>-1.029540e+01</td>\n",
       "      <td>-2.604551e+00</td>\n",
       "      <td>-2.256568e+01</td>\n",
       "      <td>-1.543008e+01</td>\n",
       "      <td>0.000000</td>\n",
       "      <td>0.000000</td>\n",
       "    </tr>\n",
       "    <tr>\n",
       "      <th>25%</th>\n",
       "      <td>54201.500000</td>\n",
       "      <td>-9.203734e-01</td>\n",
       "      <td>-5.985499e-01</td>\n",
       "      <td>-8.903648e-01</td>\n",
       "      <td>-8.486401e-01</td>\n",
       "      <td>-6.915971e-01</td>\n",
       "      <td>-7.682956e-01</td>\n",
       "      <td>-5.540759e-01</td>\n",
       "      <td>-2.086297e-01</td>\n",
       "      <td>-6.430976e-01</td>\n",
       "      <td>...</td>\n",
       "      <td>-2.283949e-01</td>\n",
       "      <td>-5.423504e-01</td>\n",
       "      <td>-1.618463e-01</td>\n",
       "      <td>-3.545861e-01</td>\n",
       "      <td>-3.171451e-01</td>\n",
       "      <td>-3.269839e-01</td>\n",
       "      <td>-7.083953e-02</td>\n",
       "      <td>-5.295979e-02</td>\n",
       "      <td>5.600000</td>\n",
       "      <td>0.000000</td>\n",
       "    </tr>\n",
       "    <tr>\n",
       "      <th>50%</th>\n",
       "      <td>84692.000000</td>\n",
       "      <td>1.810880e-02</td>\n",
       "      <td>6.548556e-02</td>\n",
       "      <td>1.798463e-01</td>\n",
       "      <td>-1.984653e-02</td>\n",
       "      <td>-5.433583e-02</td>\n",
       "      <td>-2.741871e-01</td>\n",
       "      <td>4.010308e-02</td>\n",
       "      <td>2.235804e-02</td>\n",
       "      <td>-5.142873e-02</td>\n",
       "      <td>...</td>\n",
       "      <td>-2.945017e-02</td>\n",
       "      <td>6.781943e-03</td>\n",
       "      <td>-1.119293e-02</td>\n",
       "      <td>4.097606e-02</td>\n",
       "      <td>1.659350e-02</td>\n",
       "      <td>-5.213911e-02</td>\n",
       "      <td>1.342146e-03</td>\n",
       "      <td>1.124383e-02</td>\n",
       "      <td>22.000000</td>\n",
       "      <td>0.000000</td>\n",
       "    </tr>\n",
       "    <tr>\n",
       "      <th>75%</th>\n",
       "      <td>139320.500000</td>\n",
       "      <td>1.315642e+00</td>\n",
       "      <td>8.037239e-01</td>\n",
       "      <td>1.027196e+00</td>\n",
       "      <td>7.433413e-01</td>\n",
       "      <td>6.119264e-01</td>\n",
       "      <td>3.985649e-01</td>\n",
       "      <td>5.704361e-01</td>\n",
       "      <td>3.273459e-01</td>\n",
       "      <td>5.971390e-01</td>\n",
       "      <td>...</td>\n",
       "      <td>1.863772e-01</td>\n",
       "      <td>5.285536e-01</td>\n",
       "      <td>1.476421e-01</td>\n",
       "      <td>4.395266e-01</td>\n",
       "      <td>3.507156e-01</td>\n",
       "      <td>2.409522e-01</td>\n",
       "      <td>9.104512e-02</td>\n",
       "      <td>7.827995e-02</td>\n",
       "      <td>77.165000</td>\n",
       "      <td>0.000000</td>\n",
       "    </tr>\n",
       "    <tr>\n",
       "      <th>max</th>\n",
       "      <td>172792.000000</td>\n",
       "      <td>2.454930e+00</td>\n",
       "      <td>2.205773e+01</td>\n",
       "      <td>9.382558e+00</td>\n",
       "      <td>1.687534e+01</td>\n",
       "      <td>3.480167e+01</td>\n",
       "      <td>7.330163e+01</td>\n",
       "      <td>1.205895e+02</td>\n",
       "      <td>2.000721e+01</td>\n",
       "      <td>1.559499e+01</td>\n",
       "      <td>...</td>\n",
       "      <td>2.720284e+01</td>\n",
       "      <td>1.050309e+01</td>\n",
       "      <td>2.252841e+01</td>\n",
       "      <td>4.584549e+00</td>\n",
       "      <td>7.519589e+00</td>\n",
       "      <td>3.517346e+00</td>\n",
       "      <td>3.161220e+01</td>\n",
       "      <td>3.384781e+01</td>\n",
       "      <td>25691.160000</td>\n",
       "      <td>1.000000</td>\n",
       "    </tr>\n",
       "  </tbody>\n",
       "</table>\n",
       "<p>8 rows × 31 columns</p>\n",
       "</div>"
      ],
      "text/plain": [
       "                Time            V1            V2            V3            V4  \\\n",
       "count  284807.000000  2.848070e+05  2.848070e+05  2.848070e+05  2.848070e+05   \n",
       "mean    94813.859575  1.165980e-15  3.416908e-16 -1.373150e-15  2.086869e-15   \n",
       "std     47488.145955  1.958696e+00  1.651309e+00  1.516255e+00  1.415869e+00   \n",
       "min         0.000000 -5.640751e+01 -7.271573e+01 -4.832559e+01 -5.683171e+00   \n",
       "25%     54201.500000 -9.203734e-01 -5.985499e-01 -8.903648e-01 -8.486401e-01   \n",
       "50%     84692.000000  1.810880e-02  6.548556e-02  1.798463e-01 -1.984653e-02   \n",
       "75%    139320.500000  1.315642e+00  8.037239e-01  1.027196e+00  7.433413e-01   \n",
       "max    172792.000000  2.454930e+00  2.205773e+01  9.382558e+00  1.687534e+01   \n",
       "\n",
       "                 V5            V6            V7            V8            V9  \\\n",
       "count  2.848070e+05  2.848070e+05  2.848070e+05  2.848070e+05  2.848070e+05   \n",
       "mean   9.604066e-16  1.490107e-15 -5.556467e-16  1.177556e-16 -2.406455e-15   \n",
       "std    1.380247e+00  1.332271e+00  1.237094e+00  1.194353e+00  1.098632e+00   \n",
       "min   -1.137433e+02 -2.616051e+01 -4.355724e+01 -7.321672e+01 -1.343407e+01   \n",
       "25%   -6.915971e-01 -7.682956e-01 -5.540759e-01 -2.086297e-01 -6.430976e-01   \n",
       "50%   -5.433583e-02 -2.741871e-01  4.010308e-02  2.235804e-02 -5.142873e-02   \n",
       "75%    6.119264e-01  3.985649e-01  5.704361e-01  3.273459e-01  5.971390e-01   \n",
       "max    3.480167e+01  7.330163e+01  1.205895e+02  2.000721e+01  1.559499e+01   \n",
       "\n",
       "       ...           V21           V22           V23           V24  \\\n",
       "count  ...  2.848070e+05  2.848070e+05  2.848070e+05  2.848070e+05   \n",
       "mean   ...  1.656562e-16 -3.444850e-16  2.578648e-16  4.471968e-15   \n",
       "std    ...  7.345240e-01  7.257016e-01  6.244603e-01  6.056471e-01   \n",
       "min    ... -3.483038e+01 -1.093314e+01 -4.480774e+01 -2.836627e+00   \n",
       "25%    ... -2.283949e-01 -5.423504e-01 -1.618463e-01 -3.545861e-01   \n",
       "50%    ... -2.945017e-02  6.781943e-03 -1.119293e-02  4.097606e-02   \n",
       "75%    ...  1.863772e-01  5.285536e-01  1.476421e-01  4.395266e-01   \n",
       "max    ...  2.720284e+01  1.050309e+01  2.252841e+01  4.584549e+00   \n",
       "\n",
       "                V25           V26           V27           V28         Amount  \\\n",
       "count  2.848070e+05  2.848070e+05  2.848070e+05  2.848070e+05  284807.000000   \n",
       "mean   5.340915e-16  1.687098e-15 -3.666453e-16 -1.220404e-16      88.349619   \n",
       "std    5.212781e-01  4.822270e-01  4.036325e-01  3.300833e-01     250.120109   \n",
       "min   -1.029540e+01 -2.604551e+00 -2.256568e+01 -1.543008e+01       0.000000   \n",
       "25%   -3.171451e-01 -3.269839e-01 -7.083953e-02 -5.295979e-02       5.600000   \n",
       "50%    1.659350e-02 -5.213911e-02  1.342146e-03  1.124383e-02      22.000000   \n",
       "75%    3.507156e-01  2.409522e-01  9.104512e-02  7.827995e-02      77.165000   \n",
       "max    7.519589e+00  3.517346e+00  3.161220e+01  3.384781e+01   25691.160000   \n",
       "\n",
       "               Class  \n",
       "count  284807.000000  \n",
       "mean        0.001727  \n",
       "std         0.041527  \n",
       "min         0.000000  \n",
       "25%         0.000000  \n",
       "50%         0.000000  \n",
       "75%         0.000000  \n",
       "max         1.000000  \n",
       "\n",
       "[8 rows x 31 columns]"
      ]
     },
     "execution_count": 13,
     "metadata": {},
     "output_type": "execute_result"
    }
   ],
   "source": [
    "# Check basic Statistics\n",
    "# looks like StandardScaler was performed on this dataset, mean is close to 0 for all columns\n",
    "\n",
    "df.describe(include ='all')"
   ]
  },
  {
   "cell_type": "code",
   "execution_count": 14,
   "metadata": {
    "colab": {
     "base_uri": "https://localhost:8080/",
     "height": 68
    },
    "colab_type": "code",
    "executionInfo": {
     "elapsed": 5728,
     "status": "ok",
     "timestamp": 1591365720590,
     "user": {
      "displayName": "Don Stierman",
      "photoUrl": "https://lh3.googleusercontent.com/a-/AOh14GgL11XU-IHwYTl3abZY1--Hbam6OSfwyASvbqmP9A=s64",
      "userId": "18276471072525900320"
     },
     "user_tz": -480
    },
    "id": "0c-pcxlabtVb",
    "outputId": "07aa2069-05b7-4ad6-9012-2b3ec812f76b"
   },
   "outputs": [
    {
     "data": {
      "text/plain": [
       "0    284315\n",
       "1       492\n",
       "Name: Class, dtype: int64"
      ]
     },
     "execution_count": 14,
     "metadata": {},
     "output_type": "execute_result"
    }
   ],
   "source": [
    "# Check the Class Imbalance of the Data \n",
    "\n",
    "df['Class'].value_counts()"
   ]
  },
  {
   "cell_type": "code",
   "execution_count": 15,
   "metadata": {
    "colab": {
     "base_uri": "https://localhost:8080/",
     "height": 879
    },
    "colab_type": "code",
    "executionInfo": {
     "elapsed": 10739,
     "status": "ok",
     "timestamp": 1591365725659,
     "user": {
      "displayName": "Don Stierman",
      "photoUrl": "https://lh3.googleusercontent.com/a-/AOh14GgL11XU-IHwYTl3abZY1--Hbam6OSfwyASvbqmP9A=s64",
      "userId": "18276471072525900320"
     },
     "user_tz": -480
    },
    "id": "Ji193vOGbtVi",
    "outputId": "5d0c3e28-b1e6-464f-9163-b8f10f0b547e"
   },
   "outputs": [
    {
     "data": {
      "image/png": "[encoded data removed]",
      "text/plain": [
       "<Figure size 1440x1080 with 36 Axes>"
      ]
     },
     "metadata": {},
     "output_type": "display_data"
    }
   ],
   "source": [
    "# Histograms of the features\n",
    "# most of the data has a quasi-normal/gaussian distribution\n",
    "\n",
    "df.hist(bins=20, figsize=(20,15))\n",
    "plt.show()"
   ]
  },
  {
   "attachments": {
    "2deb1518-2274-4853-9694-97f893bfa5b0.png": {
     "image/png": "[encoded data removed]"
    }
   },
   "cell_type": "markdown",
   "metadata": {},
   "source": [
    "Look at cross correlations between features. Most models will be fine with collinearity, but good to know this in any case. Most of my input is numerical, and my label is binary classification, so I can choose the Anova or Kendall's method. I will try the Kendall tau-b method first. This method will sort the 2 columns and compare if the X is always > or < Y. If so, the tau-b value will be 1.\n",
    "\n",
    "Some key points to remember:\n",
    "Kendall’s Tau: Calculations based on concordant and discordant pairs. Insensitive to error. P values are more accurate with smaller sample sizes. Good resource can be found here: https://online.stat.psu.edu/stat509/node/158/\n",
    "\n",
    "This image shows which method you should choose based on your dataset:\n",
    "\n",
    "![image.png](attachment:2deb1518-2274-4853-9694-97f893bfa5b0.png)"
   ]
  },
  {
   "cell_type": "code",
   "execution_count": 16,
   "metadata": {},
   "outputs": [
    {
     "data": {
      "text/plain": [
       "Text(0.5, 1.05, \"Kendall'sCorrelation Matrix Full Data Set\")"
      ]
     },
     "execution_count": 16,
     "metadata": {},
     "output_type": "execute_result"
    },
    {
     "data": {
      "image/png": "[encoded data removed]",
      "text/plain": [
       "<Figure size 1368x1080 with 2 Axes>"
      ]
     },
     "metadata": {},
     "output_type": "display_data"
    }
   ],
   "source": [
    "f = plt.figure(figsize=(19, 15))\n",
    "plt.matshow(df.corr(method='kendall'), fignum=f.number) # pearson or spearman are also available\n",
    "plt.xticks(range(df.shape[1]), df.columns, fontsize=14, rotation=45)\n",
    "plt.yticks(range(df.shape[1]), df.columns, fontsize=14)\n",
    "cb = plt.colorbar()\n",
    "cb.ax.tick_params(labelsize=14)\n",
    "plt.title(\"Kendall'sCorrelation Matrix Full Data Set\", fontsize=16)"
   ]
  },
  {
   "cell_type": "markdown",
   "metadata": {},
   "source": [
    "V21 and V22 show the highest tau-b score, will investigate this relationship later"
   ]
  },
  {
   "cell_type": "code",
   "execution_count": 17,
   "metadata": {},
   "outputs": [],
   "source": [
    "#try some data cleansing, Amount has a few high values, so try using the log of that column instead.\n",
    "\n",
    "temp_df = df.copy()\n",
    "temp_df = temp_df.drop(['Time'], axis=1)\n",
    "temp_df['Log_Amount'] = np.log(temp_df.pop('Amount')+0.001)\n",
    "df = temp_df.copy()"
   ]
  },
  {
   "cell_type": "code",
   "execution_count": 18,
   "metadata": {},
   "outputs": [
    {
     "name": "stdout",
     "output_type": "stream",
     "text": [
      "lam: 0\n",
      "Pre: There are 12 skewed numerical features to Box Cox transform\n",
      "Pre 4.3723215435489005\n",
      "Post: There are 10 skewed numerical features to Box Cox transform\n",
      "Post 5.924619556314968\n",
      "lam: 0.1\n",
      "Pre: There are 12 skewed numerical features to Box Cox transform\n",
      "Pre 4.3723215435489005\n",
      "Post: There are 10 skewed numerical features to Box Cox transform\n",
      "Post 5.752674910071598\n",
      "lam: 0.2\n",
      "Pre: There are 12 skewed numerical features to Box Cox transform\n",
      "Pre 4.3723215435489005\n",
      "Post: There are 10 skewed numerical features to Box Cox transform\n",
      "Post 5.591619281099101\n",
      "lam: 0.3\n",
      "Pre: There are 12 skewed numerical features to Box Cox transform\n",
      "Pre 4.3723215435489005\n",
      "Post: There are 10 skewed numerical features to Box Cox transform\n",
      "Post 5.4408440384190175\n",
      "lam: 0.4\n",
      "Pre: There are 12 skewed numerical features to Box Cox transform\n",
      "Pre 4.3723215435489005\n",
      "Post: There are 11 skewed numerical features to Box Cox transform\n",
      "Post 5.019947162619655\n",
      "lam: 0.5\n",
      "Pre: There are 12 skewed numerical features to Box Cox transform\n",
      "Pre 4.3723215435489005\n",
      "Post: There are 11 skewed numerical features to Box Cox transform\n",
      "Post 4.921398311940894\n",
      "lam: 0.6\n",
      "Pre: There are 12 skewed numerical features to Box Cox transform\n",
      "Pre 4.3723215435489005\n",
      "Post: There are 11 skewed numerical features to Box Cox transform\n",
      "Post 4.830561700841089\n",
      "lam: 0.7\n",
      "Pre: There are 12 skewed numerical features to Box Cox transform\n",
      "Pre 4.3723215435489005\n",
      "Post: There are 11 skewed numerical features to Box Cox transform\n",
      "Post 4.747077309201319\n",
      "lam: 0.8\n",
      "Pre: There are 12 skewed numerical features to Box Cox transform\n",
      "Pre 4.3723215435489005\n",
      "Post: There are 11 skewed numerical features to Box Cox transform\n",
      "Post 4.670619066610213\n",
      "lam: 1\n",
      "Pre: There are 12 skewed numerical features to Box Cox transform\n",
      "Pre 4.3723215435489005\n",
      "Post: There are 12 skewed numerical features to Box Cox transform\n",
      "Post 4.3723215435489\n",
      "lam: 2\n",
      "Pre: There are 12 skewed numerical features to Box Cox transform\n",
      "Pre 4.3723215435489005\n",
      "Post: There are 8 skewed numerical features to Box Cox transform\n",
      "Post 6.090156022452112\n",
      "lam: 3\n",
      "Pre: There are 12 skewed numerical features to Box Cox transform\n",
      "Pre 4.3723215435489005\n",
      "Post: There are 6 skewed numerical features to Box Cox transform\n",
      "Post 10.293405620825308\n"
     ]
    }
   ],
   "source": [
    "from scipy.special import boxcox1p\n",
    "lam = [0,0.1,0.2,0.3,0.4,0.5,0.6,0.7,0.8,1,2,3]\n",
    "for i in lam:\n",
    "    print(\"lam:\", i)\n",
    "    X = df.loc[:, df.columns != 'Class']\n",
    "    y = df.loc[:, df.columns == 'Class']\n",
    "    norm = MinMaxScaler().fit(X)\n",
    "    X = pd.DataFrame(norm.transform(X), index=X.index, columns=X.columns)\n",
    "    numeric_feats = X.dtypes[X.dtypes != \"object\"].index\n",
    "    skewed_feats = X[numeric_feats].apply(lambda x: skew(x.dropna())).sort_values(ascending=False)\n",
    "    skewness = pd.DataFrame({'Skew' :skewed_feats})\n",
    "    skewness = skewness[abs(skewness) > 2]\n",
    "    skewness = skewness[skewness.Skew == skewness.Skew]\n",
    "    print(\"Pre: There are {} skewed numerical features to Box Cox transform\".format(skewness.shape[0]))\n",
    "    print(\"Pre\", abs(skewness.Skew).mean())\n",
    "    skewed_features = skewness.index\n",
    "    lam_f = 0.0\n",
    "    for feat in skewed_features:\n",
    "        X[feat] = boxcox1p(X[feat], i)\n",
    "    numeric_feats = X.dtypes[X.dtypes != \"object\"].index\n",
    "    skewed_feats = X[numeric_feats].apply(lambda x: skew(x.dropna())).sort_values(ascending=False)\n",
    "    skewness = pd.DataFrame({'Skew' :skewed_feats})\n",
    "    skewness = skewness[abs(skewness) > 2]\n",
    "    skewness = skewness[skewness.Skew == skewness.Skew]\n",
    "    print(\"Post: There are {} skewed numerical features to Box Cox transform\".format(skewness.shape[0]))\n",
    "    print(\"Post\", abs(skewness.Skew).mean())"
   ]
  },
  {
   "cell_type": "code",
   "execution_count": 19,
   "metadata": {},
   "outputs": [
    {
     "name": "stdout",
     "output_type": "stream",
     "text": [
      "Pre: There are 17 skewed numerical features to Box Cox transform\n",
      "Pre 3.514581911418132\n",
      "Post: There are 8 skewed numerical features to Box Cox transform\n",
      "Post 1.977383868458546\n"
     ]
    }
   ],
   "source": [
    "from scipy.special import boxcox1p\n",
    "X = df.loc[:, df.columns != 'Class']\n",
    "y = df.loc[:, df.columns == 'Class']\n",
    "numeric_feats = X.dtypes[X.dtypes != \"object\"].index\n",
    "skewed_feats = X[numeric_feats].apply(lambda x: skew(x.dropna())).sort_values(ascending=False)\n",
    "skewness = pd.DataFrame({'Skew' :skewed_feats})\n",
    "skewness = skewness[abs(skewness) > 1.0]\n",
    "skewness = skewness[skewness.Skew == skewness.Skew]\n",
    "print(\"Pre: There are {} skewed numerical features to Box Cox transform\".format(skewness.shape[0]))\n",
    "print(\"Pre\", abs(skewness.Skew).mean())\n",
    "skewed_features = skewness.index\n",
    "pt = PowerTransformer(method='yeo-johnson').fit(X)\n",
    "X = pd.DataFrame(pt.transform(X), index=X.index, columns=X.columns)\n",
    "numeric_feats = X.dtypes[X.dtypes != \"object\"].index\n",
    "skewed_feats = X[numeric_feats].apply(lambda x: skew(x.dropna())).sort_values(ascending=False)\n",
    "skewness = pd.DataFrame({'Skew' :skewed_feats})\n",
    "skewness = skewness[abs(skewness) > 1.0]\n",
    "skewness = skewness[skewness.Skew == skewness.Skew]\n",
    "print(\"Post: There are {} skewed numerical features to Box Cox transform\".format(skewness.shape[0]))\n",
    "print(\"Post\", abs(skewness.Skew).mean())"
   ]
  },
  {
   "cell_type": "code",
   "execution_count": 20,
   "metadata": {},
   "outputs": [
    {
     "name": "stdout",
     "output_type": "stream",
     "text": [
      "\n",
      "Skew in numerical features: \n",
      "\n"
     ]
    },
    {
     "data": {
      "text/html": [
       "<div>\n",
       "<style scoped>\n",
       "    .dataframe tbody tr th:only-of-type {\n",
       "        vertical-align: middle;\n",
       "    }\n",
       "\n",
       "    .dataframe tbody tr th {\n",
       "        vertical-align: top;\n",
       "    }\n",
       "\n",
       "    .dataframe thead th {\n",
       "        text-align: right;\n",
       "    }\n",
       "</style>\n",
       "<table border=\"1\" class=\"dataframe\">\n",
       "  <thead>\n",
       "    <tr style=\"text-align: right;\">\n",
       "      <th></th>\n",
       "      <th>Skew</th>\n",
       "    </tr>\n",
       "  </thead>\n",
       "  <tbody>\n",
       "    <tr>\n",
       "      <th>V27</th>\n",
       "      <td>3.465013</td>\n",
       "    </tr>\n",
       "    <tr>\n",
       "      <th>V7</th>\n",
       "      <td>2.594561</td>\n",
       "    </tr>\n",
       "    <tr>\n",
       "      <th>V8</th>\n",
       "      <td>2.297578</td>\n",
       "    </tr>\n",
       "    <tr>\n",
       "      <th>V28</th>\n",
       "      <td>1.069187</td>\n",
       "    </tr>\n",
       "    <tr>\n",
       "      <th>V2</th>\n",
       "      <td>0.334850</td>\n",
       "    </tr>\n",
       "    <tr>\n",
       "      <th>V12</th>\n",
       "      <td>0.158932</td>\n",
       "    </tr>\n",
       "    <tr>\n",
       "      <th>V16</th>\n",
       "      <td>0.137436</td>\n",
       "    </tr>\n",
       "    <tr>\n",
       "      <th>V24</th>\n",
       "      <td>0.112492</td>\n",
       "    </tr>\n",
       "    <tr>\n",
       "      <th>V14</th>\n",
       "      <td>0.105965</td>\n",
       "    </tr>\n",
       "    <tr>\n",
       "      <th>V25</th>\n",
       "      <td>0.077895</td>\n",
       "    </tr>\n",
       "  </tbody>\n",
       "</table>\n",
       "</div>"
      ],
      "text/plain": [
       "         Skew\n",
       "V27  3.465013\n",
       "V7   2.594561\n",
       "V8   2.297578\n",
       "V28  1.069187\n",
       "V2   0.334850\n",
       "V12  0.158932\n",
       "V16  0.137436\n",
       "V24  0.112492\n",
       "V14  0.105965\n",
       "V25  0.077895"
      ]
     },
     "execution_count": 20,
     "metadata": {},
     "output_type": "execute_result"
    }
   ],
   "source": [
    "numeric_feats = X.dtypes[X.dtypes != \"object\"].index\n",
    "\n",
    "# Check the skew of all numerical features\n",
    "skewed_feats = X[numeric_feats].apply(lambda x: skew(x.dropna())).sort_values(ascending=False)\n",
    "print(\"\\nSkew in numerical features: \\n\")\n",
    "skewness = pd.DataFrame({'Skew' :skewed_feats})\n",
    "skewness.head(10)"
   ]
  },
  {
   "cell_type": "markdown",
   "metadata": {},
   "source": [
    "Need to normalize the data before using boxcox or log transforms as they don't work on negative and 0 values"
   ]
  },
  {
   "cell_type": "code",
   "execution_count": 21,
   "metadata": {},
   "outputs": [],
   "source": [
    "X = df.loc[:, df.columns != 'Class']\n",
    "y = df.loc[:, df.columns == 'Class']\n",
    "norm = MinMaxScaler().fit(X)\n",
    "X = pd.DataFrame(norm.transform(X), index=X.index, columns=X.columns)"
   ]
  },
  {
   "cell_type": "markdown",
   "metadata": {},
   "source": [
    "Pre-transform skew"
   ]
  },
  {
   "cell_type": "code",
   "execution_count": 22,
   "metadata": {},
   "outputs": [
    {
     "name": "stdout",
     "output_type": "stream",
     "text": [
      "\n",
      "Skew in all numerical features: \n",
      "\n"
     ]
    },
    {
     "data": {
      "text/html": [
       "<div>\n",
       "<style scoped>\n",
       "    .dataframe tbody tr th:only-of-type {\n",
       "        vertical-align: middle;\n",
       "    }\n",
       "\n",
       "    .dataframe tbody tr th {\n",
       "        vertical-align: top;\n",
       "    }\n",
       "\n",
       "    .dataframe thead th {\n",
       "        text-align: right;\n",
       "    }\n",
       "</style>\n",
       "<table border=\"1\" class=\"dataframe\">\n",
       "  <thead>\n",
       "    <tr style=\"text-align: right;\">\n",
       "      <th></th>\n",
       "      <th>Skew</th>\n",
       "    </tr>\n",
       "  </thead>\n",
       "  <tbody>\n",
       "    <tr>\n",
       "      <th>V28</th>\n",
       "      <td>11.192032</td>\n",
       "    </tr>\n",
       "    <tr>\n",
       "      <th>V21</th>\n",
       "      <td>3.592972</td>\n",
       "    </tr>\n",
       "    <tr>\n",
       "      <th>V7</th>\n",
       "      <td>2.553894</td>\n",
       "    </tr>\n",
       "    <tr>\n",
       "      <th>V6</th>\n",
       "      <td>1.826571</td>\n",
       "    </tr>\n",
       "    <tr>\n",
       "      <th>V10</th>\n",
       "      <td>1.187134</td>\n",
       "    </tr>\n",
       "    <tr>\n",
       "      <th>V4</th>\n",
       "      <td>0.676289</td>\n",
       "    </tr>\n",
       "    <tr>\n",
       "      <th>V26</th>\n",
       "      <td>0.576690</td>\n",
       "    </tr>\n",
       "    <tr>\n",
       "      <th>V9</th>\n",
       "      <td>0.554677</td>\n",
       "    </tr>\n",
       "    <tr>\n",
       "      <th>V11</th>\n",
       "      <td>0.356504</td>\n",
       "    </tr>\n",
       "    <tr>\n",
       "      <th>V19</th>\n",
       "      <td>0.109191</td>\n",
       "    </tr>\n",
       "  </tbody>\n",
       "</table>\n",
       "</div>"
      ],
      "text/plain": [
       "          Skew\n",
       "V28  11.192032\n",
       "V21   3.592972\n",
       "V7    2.553894\n",
       "V6    1.826571\n",
       "V10   1.187134\n",
       "V4    0.676289\n",
       "V26   0.576690\n",
       "V9    0.554677\n",
       "V11   0.356504\n",
       "V19   0.109191"
      ]
     },
     "execution_count": 22,
     "metadata": {},
     "output_type": "execute_result"
    }
   ],
   "source": [
    "numeric_feats = X.dtypes[X.dtypes != \"object\"].index\n",
    "\n",
    "# Check the skew of all numerical features\n",
    "skewed_feats = X[numeric_feats].apply(lambda x: skew(x.dropna())).sort_values(ascending=False)\n",
    "print(\"\\nSkew in all numerical features: \\n\")\n",
    "skewness = pd.DataFrame({'Skew' :skewed_feats})\n",
    "skewness.head(10)"
   ]
  },
  {
   "cell_type": "code",
   "execution_count": 23,
   "metadata": {},
   "outputs": [
    {
     "name": "stdout",
     "output_type": "stream",
     "text": [
      "There are 18 highly skewed numerical features to Box Cox transform\n"
     ]
    }
   ],
   "source": [
    "skewness = skewness[abs(skewness) > 0.75]\n",
    "skewness = skewness[skewness.Skew == skewness.Skew]\n",
    "print(\"There are {} highly skewed numerical features to Box Cox transform\".format(skewness.shape[0]))\n"
   ]
  },
  {
   "cell_type": "code",
   "execution_count": 24,
   "metadata": {},
   "outputs": [],
   "source": [
    "from scipy.special import boxcox1p\n",
    "skewed_features = skewness.index\n",
    "\n",
    "lam_f = 0.0\n",
    "for feat in skewed_features:\n",
    "    X[feat] = boxcox1p(X[feat], lam_f)"
   ]
  },
  {
   "cell_type": "markdown",
   "metadata": {},
   "source": [
    "Post-transform skew"
   ]
  },
  {
   "cell_type": "code",
   "execution_count": 25,
   "metadata": {},
   "outputs": [
    {
     "name": "stdout",
     "output_type": "stream",
     "text": [
      "\n",
      "Skew in numerical features: \n",
      "\n"
     ]
    },
    {
     "data": {
      "text/html": [
       "<div>\n",
       "<style scoped>\n",
       "    .dataframe tbody tr th:only-of-type {\n",
       "        vertical-align: middle;\n",
       "    }\n",
       "\n",
       "    .dataframe tbody tr th {\n",
       "        vertical-align: top;\n",
       "    }\n",
       "\n",
       "    .dataframe thead th {\n",
       "        text-align: right;\n",
       "    }\n",
       "</style>\n",
       "<table border=\"1\" class=\"dataframe\">\n",
       "  <thead>\n",
       "    <tr style=\"text-align: right;\">\n",
       "      <th></th>\n",
       "      <th>Skew</th>\n",
       "    </tr>\n",
       "  </thead>\n",
       "  <tbody>\n",
       "    <tr>\n",
       "      <th>V28</th>\n",
       "      <td>6.241873</td>\n",
       "    </tr>\n",
       "    <tr>\n",
       "      <th>V6</th>\n",
       "      <td>1.359141</td>\n",
       "    </tr>\n",
       "    <tr>\n",
       "      <th>V21</th>\n",
       "      <td>1.251583</td>\n",
       "    </tr>\n",
       "    <tr>\n",
       "      <th>V4</th>\n",
       "      <td>0.676289</td>\n",
       "    </tr>\n",
       "    <tr>\n",
       "      <th>V26</th>\n",
       "      <td>0.576690</td>\n",
       "    </tr>\n",
       "    <tr>\n",
       "      <th>V9</th>\n",
       "      <td>0.554677</td>\n",
       "    </tr>\n",
       "    <tr>\n",
       "      <th>V10</th>\n",
       "      <td>0.363269</td>\n",
       "    </tr>\n",
       "    <tr>\n",
       "      <th>V11</th>\n",
       "      <td>0.356504</td>\n",
       "    </tr>\n",
       "    <tr>\n",
       "      <th>V19</th>\n",
       "      <td>0.109191</td>\n",
       "    </tr>\n",
       "    <tr>\n",
       "      <th>V13</th>\n",
       "      <td>0.065233</td>\n",
       "    </tr>\n",
       "  </tbody>\n",
       "</table>\n",
       "</div>"
      ],
      "text/plain": [
       "         Skew\n",
       "V28  6.241873\n",
       "V6   1.359141\n",
       "V21  1.251583\n",
       "V4   0.676289\n",
       "V26  0.576690\n",
       "V9   0.554677\n",
       "V10  0.363269\n",
       "V11  0.356504\n",
       "V19  0.109191\n",
       "V13  0.065233"
      ]
     },
     "execution_count": 25,
     "metadata": {},
     "output_type": "execute_result"
    }
   ],
   "source": [
    "numeric_feats = X.dtypes[X.dtypes != \"object\"].index\n",
    "\n",
    "# Check the skew of all numerical features\n",
    "skewed_feats = X[numeric_feats].apply(lambda x: skew(x.dropna())).sort_values(ascending=False)\n",
    "print(\"\\nSkew in numerical features: \\n\")\n",
    "skewness = pd.DataFrame({'Skew' :skewed_feats})\n",
    "skewness.head(10)"
   ]
  },
  {
   "cell_type": "code",
   "execution_count": 26,
   "metadata": {},
   "outputs": [
    {
     "name": "stdout",
     "output_type": "stream",
     "text": [
      "There are 16 skewed numerical features to Box Cox transform\n"
     ]
    }
   ],
   "source": [
    "skewness = skewness[abs(skewness) > 0.75]\n",
    "skewness = skewness[skewness.Skew == skewness.Skew]\n",
    "print(\"There are {} skewed numerical features to Box Cox transform\".format(skewness.shape[0]))"
   ]
  },
  {
   "cell_type": "markdown",
   "metadata": {},
   "source": [
    "so far the MinMaxScaler, boxcox1p and log1p transforms make the data more skewed...\n",
    "just utilize the PowerTransformer instead, with yeo-johnson as there are many negative values"
   ]
  },
  {
   "cell_type": "markdown",
   "metadata": {
    "colab_type": "text",
    "id": "UJhSXQXtbtVo"
   },
   "source": [
    "Divide the dataset into features and labels and then into Train, Test and Validate datasets"
   ]
  },
  {
   "cell_type": "code",
   "execution_count": 27,
   "metadata": {
    "colab": {
     "base_uri": "https://localhost:8080/",
     "height": 68
    },
    "colab_type": "code",
    "executionInfo": {
     "elapsed": 10700,
     "status": "ok",
     "timestamp": 1591365725665,
     "user": {
      "displayName": "Don Stierman",
      "photoUrl": "https://lh3.googleusercontent.com/a-/AOh14GgL11XU-IHwYTl3abZY1--Hbam6OSfwyASvbqmP9A=s64",
      "userId": "18276471072525900320"
     },
     "user_tz": -480
    },
    "id": "oRdxkKs2hNeX",
    "outputId": "56e28b1c-f21f-4b6b-87f6-97f2127f8246"
   },
   "outputs": [
    {
     "name": "stdout",
     "output_type": "stream",
     "text": [
      "Original\n",
      "[[     0      1]\n",
      " [284315    492]]\n"
     ]
    }
   ],
   "source": [
    "X = df.loc[:, df.columns != 'Class']\n",
    "y = df.loc[:, df.columns == 'Class']\n",
    "\n",
    "# divide full data into features and label\n",
    "spl1 = 0.36\n",
    "spl2 = 0.44\n",
    "\n",
    "OrigPct = CalcPct(y,\"Original\")\n",
    "\n",
    "strat = True\n",
    "if (strat == True):\n",
    "    stratify=y['Class']\n",
    "else:\n",
    "    stratify=\"None\"\n",
    "# create train, test and validate datasets\n",
    "\n",
    "# first split original into Train and Test+Val\n",
    "X_train, X_test1, y_train, y_test1 = train_test_split(X,y, test_size = spl1, random_state = None, shuffle=True, stratify=stratify)\n",
    "# then split Test+Val into Test and Validate\n",
    "# Validate will only be used in the 2 Model system (explained below)\n",
    "X_test, X_val, y_test, y_val = train_test_split(X_test1,y_test1, test_size = spl2, random_state = None, shuffle=True)\n",
    "y_train_orig = y_train.copy(deep=True)"
   ]
  },
  {
   "cell_type": "markdown",
   "metadata": {},
   "source": [
    "The correct way to transform, fit the train data and transform train, test and val data based on the fit  \n",
    "This does not have any effect on the performance of the model. Mean Specificity and Sensitivity are unchanged. Tested ~ 20 iterations"
   ]
  },
  {
   "cell_type": "code",
   "execution_count": 28,
   "metadata": {},
   "outputs": [],
   "source": [
    "pt_tran = 0\n",
    "if (pt_tran == 1):\n",
    "    pt = PowerTransformer(method='yeo-johnson', standardize=True).fit(X_train)\n",
    "    X_train = pd.DataFrame(pt.transform(X_train), index=X_train.index, columns=X_train.columns)\n",
    "    X_test  = pd.DataFrame(pt.transform(X_test), index=X_test.index, columns=X_test.columns)\n",
    "    X_val   = pd.DataFrame(pt.transform(X_val), index=X_val.index, columns=X_val.columns)"
   ]
  },
  {
   "cell_type": "code",
   "execution_count": 29,
   "metadata": {},
   "outputs": [
    {
     "data": {
      "image/png": "[encoded data removed]",
      "text/plain": [
       "<Figure size 1152x864 with 2 Axes>"
      ]
     },
     "metadata": {},
     "output_type": "display_data"
    }
   ],
   "source": [
    "f = plt.figure(figsize=(16, 12))\n",
    "plt.matshow(X_train.corr(method='kendall'), fignum=f.number) # pearson or spearman are also available\n",
    "plt.xticks(range(X_train.shape[1]), X_train.columns, fontsize=14, rotation=45)\n",
    "plt.yticks(range(X_train.shape[1]), X_train.columns, fontsize=14)\n",
    "cb = plt.colorbar()\n",
    "cb.ax.tick_params(labelsize=14)\n",
    "plt.title(\"Kendall's Correlation Matrix Initial Train Set\", fontsize=16)\n",
    "plt.show()"
   ]
  },
  {
   "cell_type": "code",
   "execution_count": 30,
   "metadata": {},
   "outputs": [],
   "source": [
    "# prepare data for model, need to do this normalization and clipping separately for X_train, X_test and X_val \n",
    "# to avoid any contamination between Train and Test/Validate datasets\n",
    "\n",
    "# Use a utility from sklearn to split and shuffle our dataset.\n",
    "train_df, test_df = train_test_split(df, test_size=0.2)\n",
    "train_df, val_df = train_test_split(train_df, test_size=0.2)\n",
    "\n",
    "save_data = 1\n",
    "if (save_data == 1):\n",
    "    df1 = train_df.copy()\n",
    "    df1.to_csv('CCFraudTrain.csv', index=False)  \n",
    "    df2 = test_df.copy()\n",
    "    df2.to_csv('CCFraudTest.csv', index=False) \n",
    "    df3 = val_df.copy()\n",
    "    df3.to_csv('CCFraudVal.csv', index=False) "
   ]
  },
  {
   "cell_type": "code",
   "execution_count": 31,
   "metadata": {},
   "outputs": [],
   "source": [
    "if (save_data == 1):\n",
    "    train_df = pd.read_csv('C:\\DataScience\\Repo\\Imbalanced_data\\CreditCardFraud\\working\\Imb_Train.csv')                                                                         \n",
    "    test_df = pd.read_csv('C:\\DataScience\\Repo\\Imbalanced_data\\CreditCardFraud\\working\\Imb_Test.csv')  \n",
    "    val_df = pd.read_csv('C:\\DataScience\\Repo\\Imbalanced_data\\CreditCardFraud\\working\\Imb_Val.csv')     "
   ]
  },
  {
   "cell_type": "code",
   "execution_count": 32,
   "metadata": {},
   "outputs": [],
   "source": [
    "# Form np arrays of labels and features.\n",
    "train_labels = np.array(train_df.pop('Class'))\n",
    "bool_train_labels = train_labels != 0\n",
    "val_labels = np.array(val_df.pop('Class'))\n",
    "test_labels = np.array(test_df.pop('Class'))\n",
    "\n",
    "train_features = np.array(train_df)\n",
    "val_features = np.array(val_df)\n",
    "test_features = np.array(test_df)\n",
    "\n",
    "scaler = StandardScaler()\n",
    "\n",
    "train_features = scaler.fit_transform(train_features)\n",
    "val_features = scaler.transform(val_features)\n",
    "test_features = scaler.transform(test_features)\n",
    "\n",
    "train_features = np.clip(train_features, -5, 5)\n",
    "val_features = np.clip(val_features, -5, 5)\n",
    "test_features = np.clip(test_features, -5, 5)\n"
   ]
  },
  {
   "cell_type": "code",
   "execution_count": 33,
   "metadata": {},
   "outputs": [
    {
     "name": "stdout",
     "output_type": "stream",
     "text": [
      "Train\n",
      "[[     0      1]\n",
      " [181961    315]]\n",
      "Test\n",
      "[[    0     1]\n",
      " [57312   105]]\n",
      "Val\n",
      "[[    0     1]\n",
      " [45042    72]]\n"
     ]
    }
   ],
   "source": [
    "class_names=[0,1] # name  of classes 1=fraudulent transaction\n",
    "\n",
    "y_val['Class'].value_counts()\n",
    "\n",
    "TrainPct = CalcPct(y_train,\"Train\")\n",
    "TestPct = CalcPct(y_test,\"Test\")\n",
    "ValPct = CalcPct(y_val,\"Val\")\n",
    "zeros, ones = np.bincount(y_train['Class'])"
   ]
  },
  {
   "cell_type": "markdown",
   "metadata": {},
   "source": [
    "Investigate the high tau-b value between V21 and V22"
   ]
  },
  {
   "cell_type": "code",
   "execution_count": 34,
   "metadata": {},
   "outputs": [
    {
     "data": {
      "image/png": "[encoded data removed]",
      "text/plain": [
       "<Figure size 432x432 with 3 Axes>"
      ]
     },
     "metadata": {},
     "output_type": "display_data"
    },
    {
     "data": {
      "image/png": "[encoded data removed]",
      "text/plain": [
       "<Figure size 432x432 with 3 Axes>"
      ]
     },
     "metadata": {},
     "output_type": "display_data"
    }
   ],
   "source": [
    "# Form np arrays of labels and features for jointplot charts\n",
    "\n",
    "pos_df = pd.DataFrame(train_features[ bool_train_labels], columns = X.columns)\n",
    "neg_df = pd.DataFrame(train_features[~bool_train_labels], columns = X.columns)\n",
    "sns.jointplot(pos_df['V21'], pos_df['V22'],\n",
    "              kind='hex', xlim = (-5,5), ylim = (-5,5))\n",
    "plt.suptitle(\"Positive distribution\")\n",
    "sns.jointplot(neg_df['V21'], neg_df['V22'],\n",
    "              kind='hex', xlim = (-5,5), ylim = (-5,5))\n",
    "_ = plt.suptitle(\"Negative distribution\")"
   ]
  },
  {
   "cell_type": "markdown",
   "metadata": {},
   "source": [
    "V21 shows a slight one-sided tail, however Kendall's correlation test is good to use here as it is a non-parametric test and can handle non-gaussian distributions like this"
   ]
  },
  {
   "cell_type": "markdown",
   "metadata": {},
   "source": [
    "For a imbalanced sampling strategy, I will be using undersampling in my project as i think this is the best approach for this type of data"
   ]
  },
  {
   "cell_type": "code",
   "execution_count": 35,
   "metadata": {
    "colab": {},
    "colab_type": "code",
    "id": "R1nNMJBtbtVu"
   },
   "outputs": [],
   "source": [
    "# find the number of minority (value=1) samples in our train set so we can down-sample our majority to it\n",
    "yes = len(y_train[y_train['Class'] ==1])\n",
    "\n",
    "# retrieve the indices of the minority and majority samples \n",
    "yes_ind = y_train[y_train['Class'] == 1].index\n",
    "no_ind = y_train[y_train['Class'] == 0].index\n",
    "\n",
    "# random sample the majority indices based on the amount of \n",
    "# minority samples\n",
    "new_no_ind = np.random.choice(no_ind, yes, replace = False)\n",
    "\n",
    "# merge the two indices together\n",
    "undersample_ind = np.concatenate([new_no_ind, yes_ind])\n",
    "\n",
    "# get undersampled dataframe from the merged indices of the train dataset\n",
    "X_train = X_train.loc[undersample_ind]\n",
    "y_train = y_train.loc[undersample_ind]\n",
    "\n",
    "y_train = np.array(y_train).flatten()"
   ]
  },
  {
   "cell_type": "markdown",
   "metadata": {},
   "source": [
    "Create some calculation and visualization functions to show the results"
   ]
  },
  {
   "cell_type": "code",
   "execution_count": 36,
   "metadata": {
    "colab": {},
    "colab_type": "code",
    "id": "GuFy72pobtV0"
   },
   "outputs": [],
   "source": [
    "def visualize(Actual, Pred, Algo):\n",
    "    #Confusion Matrix\n",
    "    cnf_matrix=metrics.confusion_matrix(Actual, Pred) #\n",
    "\n",
    "    #Visualize confusion matrix using heat map\n",
    "\n",
    "    fig, ax = plt.subplots()\n",
    "    tick_marks = np.arange(len(class_names))\n",
    "    plt.xticks(tick_marks, class_names)\n",
    "    plt.yticks(tick_marks, class_names)\n",
    "\n",
    "    # create heatmap\n",
    "    sns.heatmap(pd.DataFrame(cnf_matrix), annot=True, cmap=\"YlGnBu\" ,fmt='g')\n",
    "    ax.xaxis.set_label_position(\"top\")\n",
    "    plt.tight_layout()\n",
    "    plt.title('Confusion matrix: '+Algo, y=1.1) \n",
    "    plt.ylabel('Actual label')\n",
    "    plt.xlabel('Predicted label')\n",
    "    plt.show()"
   ]
  },
  {
   "cell_type": "code",
   "execution_count": 37,
   "metadata": {
    "colab": {},
    "colab_type": "code",
    "id": "Gs9GgCsmbtV4"
   },
   "outputs": [],
   "source": [
    "def display_metrics(model_name, train_features, test_features, train_label, test_label, pred, algo):\n",
    "    model_probs = model_name.predict_proba(test_features)\n",
    "    n = model_name.predict_proba(test_features).shape[1]-1\n",
    "    model_probs = model_probs[:, n]\n",
    "    try:\n",
    "        print(model_name.score(test_features, test_label)) \n",
    "        print(\"Accuracy score (training): {0:.3f}\".format(model_name.score(train_features, train_label))) \n",
    "        print(\"Accuracy score (validation): {0:.3f}\".format(model_name.score(test_features, test_label))) \n",
    "    except Exception as e:\n",
    "        print(\"error\")  \n",
    "    try:\n",
    "        print(pd.Series(model_name.feature_importances_, index=train_features.columns[:]).nlargest(10).plot(kind='barh')) \n",
    "    except Exception as e:\n",
    "        print(\"error\") \n",
    "    print(\"Confusion Matrix:\")\n",
    "    tn, fp, fn, tp = confusion_matrix(test_label, pred).ravel()\n",
    "    total = tn+ fp+ fn+ tp \n",
    "    print(\"false positive pct:\",(fp/total)*100) \n",
    "    print(\"tn\", \" fp\", \" fn\", \" tp\") \n",
    "    print(tn, fp, fn, tp) \n",
    "    print(confusion_matrix(test_label, pred)) \n",
    "    print(\"Classification Report\") \n",
    "    print(classification_report(test_label, pred))\n",
    "    print(\"Specificity =\", tn/(tn+fp))\n",
    "    print(\"Sensitivity =\", tp/(tp+fn))\n",
    "    if (type(test_label) != np.ndarray):\n",
    "        y = np.reshape(test_label.to_numpy(), -1)\n",
    "    else:\n",
    "        y = test_label\n",
    "    fpr, tpr, thresholds = metrics.roc_curve(y, model_probs, pos_label=1)\n",
    "    cm_results.append([algo, tn, fp, fn, tp])\n",
    "    cr_results.append([algo, classification_report(test_label, pred)])\n",
    "    roc.append([algo, fpr, tpr, thresholds])\n",
    "    # AUC score should be (Sensitivity+Specificity)/2\n",
    "    print(algo + ':TEST | AUC Score: ' + str( round(metrics.auc(fpr, tpr),3 )))\n",
    "    return tn, fp, fn, tp"
   ]
  },
  {
   "cell_type": "code",
   "execution_count": 38,
   "metadata": {
    "colab": {},
    "colab_type": "code",
    "id": "A9SfJNlxbtV7"
   },
   "outputs": [],
   "source": [
    "def auc_roc_metrics(model, test_features, test_labels, algo): # model object, features, actual labels, name of algorithm\n",
    "    # useful for imbalanced data\n",
    "    ns_probs = [0 for _ in range(len(test_labels))]\n",
    "    # predict probabilities\n",
    "    model_probs = model.predict_proba(test_features)\n",
    "    # keep probabilities for the positive outcome only\n",
    "    n = model.predict_proba(test_features).shape[1]-1\n",
    "    model_probs = model_probs[:, n]  \n",
    "    model_auc = auc_roc_metrics_plots(model_probs, ns_probs, test_labels, algo) \n",
    "    return model_auc"
   ]
  },
  {
   "cell_type": "code",
   "execution_count": 39,
   "metadata": {
    "colab": {},
    "colab_type": "code",
    "id": "f1DAxVunbtV-"
   },
   "outputs": [],
   "source": [
    "def auc_roc_metrics_plots(model_probs, ns_probs, test_labels, algo):\n",
    "    \n",
    "    # calculate scores\n",
    "    ns_auc = roc_auc_score(test_labels, ns_probs) # no skill\n",
    "    model_auc = round(roc_auc_score(test_labels, model_probs), 3)\n",
    "\n",
    "    # summarize scores\n",
    "    print('%10s : ROC AUC=%.3f' % ('No Skill',ns_auc))\n",
    "    print('%10s : ROC AUC=%.3f' % (algo,model_auc))\n",
    "    # calculate roc curves\n",
    "    ns_fpr, ns_tpr, _ = roc_curve(test_labels, ns_probs)\n",
    "    # NameError: name 'ns_probs' is not defined\n",
    "    model_fpr, model_tpr, _ = roc_curve(test_labels, model_probs)\n",
    "    # plot the roc curve for the model\n",
    "    pyplot.plot(ns_fpr, ns_tpr, linestyle='--', label='No Skill')\n",
    "    pyplot.plot(model_fpr, model_tpr, marker='.', label='%s (area = %0.2f)' % (algo, model_auc))\n",
    "    # axis labels\n",
    "    pyplot.xlabel('False Positive Rate')\n",
    "    pyplot.ylabel('True Positive Rate')\n",
    "    # show the legend\n",
    "    pyplot.legend()\n",
    "    pyplot.title('Receiver Operating Characteristic curve')\n",
    "    # show the plot\n",
    "    pyplot.show()\n",
    "    return model_auc"
   ]
  },
  {
   "cell_type": "code",
   "execution_count": 40,
   "metadata": {
    "colab": {},
    "colab_type": "code",
    "id": "BdXcBfYBbtWC"
   },
   "outputs": [],
   "source": [
    "# Define our custom loss function\n",
    "def focal_loss(y_true, y_pred):\n",
    "    gamma = 2.0\n",
    "    alpha = 0.25\n",
    "    pt_1 = tf.where(tf.equal(y_true, 1), y_pred, tf.ones_like(y_pred))\n",
    "    pt_0 = tf.where(tf.equal(y_true, 0), y_pred, tf.zeros_like(y_pred))\n",
    "    return -K.sum(alpha * K.pow(1. - pt_1, gamma) * K.log(pt_1))-K.sum((1-alpha) * K.pow( pt_0, gamma) * K.log(1. - pt_0))\n"
   ]
  },
  {
   "cell_type": "code",
   "execution_count": 41,
   "metadata": {
    "colab": {},
    "colab_type": "code",
    "id": "4FlD6ktLbtWF"
   },
   "outputs": [],
   "source": [
    "def prediction_cutoff(model, test_features, cutoff):\n",
    "    model.predict_proba(test_features)\n",
    "    # to get the probability in each class, \n",
    "    # for example, first column is probability of y=0 and second column is probability of y=1.\n",
    "\n",
    "    # the probability of being y=1\n",
    "    prob1=model.predict_proba(test_features)[:,1]\n",
    "    predicted=[1 if i > cutoff else 0 for i in prob1]\n",
    "    return predicted"
   ]
  },
  {
   "cell_type": "code",
   "execution_count": 42,
   "metadata": {
    "colab": {},
    "colab_type": "code",
    "id": "TVU8S-QnbtWI"
   },
   "outputs": [],
   "source": [
    "metrics_results = {}\n",
    "roc = []\n",
    "cm_results = []\n",
    "cr_results = []"
   ]
  },
  {
   "cell_type": "markdown",
   "metadata": {
    "colab_type": "text",
    "id": "mClWIu6lbtWK"
   },
   "source": [
    "run Logistic Regression model first"
   ]
  },
  {
   "cell_type": "code",
   "execution_count": 43,
   "metadata": {},
   "outputs": [],
   "source": [
    "from sklearn.model_selection import GridSearchCV\n",
    "from sklearn.metrics import accuracy_score\n",
    "from sklearn.metrics import precision_score\n",
    "from sklearn.metrics import recall_score\n",
    "from sklearn.metrics import make_scorer"
   ]
  },
  {
   "cell_type": "markdown",
   "metadata": {
    "colab_type": "text",
    "id": "CWB7oHKFbtXh"
   },
   "source": [
    "The 2 step process has the highest sensitivity (and specificity) between the models. The 2 step process also improves the overall model prediction of positives by a large amount (FP/TP ratio from above 10x to below 2x). I don't think we could get this high of precision and recall together with a single model. The best I could do with a single model was 10x FP/TP ratio."
   ]
  },
  {
   "cell_type": "markdown",
   "metadata": {
    "colab_type": "text",
    "id": "IEpukTcTbtXj"
   },
   "source": [
    "Next will try a few Neural Networks"
   ]
  },
  {
   "cell_type": "code",
   "execution_count": 44,
   "metadata": {
    "colab": {
     "base_uri": "https://localhost:8080/",
     "height": 34
    },
    "colab_type": "code",
    "executionInfo": {
     "elapsed": 51700,
     "status": "ok",
     "timestamp": 1591365767840,
     "user": {
      "displayName": "Don Stierman",
      "photoUrl": "https://lh3.googleusercontent.com/a-/AOh14GgL11XU-IHwYTl3abZY1--Hbam6OSfwyASvbqmP9A=s64",
      "userId": "18276471072525900320"
     },
     "user_tz": -480
    },
    "id": "M_ZSdN9rbtXk",
    "outputId": "ecc2f9de-f520-4798-e4b5-0900d33326f6"
   },
   "outputs": [
    {
     "name": "stderr",
     "output_type": "stream",
     "text": [
      "Using TensorFlow backend.\n"
     ]
    }
   ],
   "source": [
    "import keras\n",
    "from keras.models import Sequential\n",
    "from keras.layers import Dense\n",
    "from keras.layers import Dropout\n",
    "from keras.layers import LSTM\n",
    "from keras.layers import Embedding\n",
    "#from keras.callbacks import ModelCheckpoint, TensorBoard\n",
    "from keras import regularizers\n",
    "from keras import backend as K\n",
    "from keras.layers import Conv1D\n",
    "from keras.layers import BatchNormalization\n",
    "from keras.layers import MaxPool1D\n",
    "from keras.layers import Flatten\n",
    "from keras.backend import sigmoid\n",
    "from keras.utils.generic_utils import get_custom_objects\n",
    "from keras.layers import Activation"
   ]
  },
  {
   "cell_type": "markdown",
   "metadata": {},
   "source": [
    "Adding swish activation function code for possible use later, can compare to relu, etc"
   ]
  },
  {
   "cell_type": "code",
   "execution_count": 45,
   "metadata": {
    "colab": {},
    "colab_type": "code",
    "id": "xGLZIzVvbtXs"
   },
   "outputs": [],
   "source": [
    "# create new activation function\n",
    "def swish(x, beta = 1):\n",
    "    return (x * sigmoid(beta * x))"
   ]
  },
  {
   "cell_type": "code",
   "execution_count": 46,
   "metadata": {
    "colab": {},
    "colab_type": "code",
    "id": "a7rIMXrrbtXy"
   },
   "outputs": [],
   "source": [
    "# add this function to the list of Activation functions\n",
    "get_custom_objects().update({'swish': Activation(swish)})"
   ]
  },
  {
   "cell_type": "markdown",
   "metadata": {},
   "source": [
    "Create the models to be used layer, using Sequential()"
   ]
  },
  {
   "cell_type": "code",
   "execution_count": 47,
   "metadata": {},
   "outputs": [],
   "source": [
    "class Metrics(keras.callbacks.Callback):\n",
    "    def on_train_begin(self, logs={}):\n",
    "        self.confusion = []\n",
    "        self.precision = []\n",
    "        self.npv = []\n",
    "        self.recall = []\n",
    "        self.specificity = []\n",
    "        self.f1s = []\n",
    "        self.kappa = []\n",
    "        self.auc = []\n",
    "\n",
    "    def on_epoch_end(self, epoch, logs={}):\n",
    "        score = np.asarray(self.model.predict(self.validation_data[0]))\n",
    "        predict = np.round(np.asarray(self.model.predict(self.validation_data[0])))\n",
    "        targ = self.validation_data[1]\n",
    "\n",
    "        self.auc.append(sklm.roc_auc_score(targ, score))\n",
    "        self.confusion.append(sklm.confusion_matrix(targ, predict))\n",
    "        self.precision.append(sklm.precision_score(targ, predict))\n",
    "        self.npv.append(sklm.precision_score(1-targ, 1-predict))\n",
    "        self.recall.append(sklm.recall_score(targ, predict))\n",
    "        self.specificity.append(sklm.recall_score(1-targ, 1-predict))\n",
    "        self.f1s.append(sklm.f1_score(targ, predict))\n",
    "        self.kappa.append(sklm.cohen_kappa_score(targ, predict))\n",
    "        print('precision: ', sklm.precision_score(targ, predict))\n",
    "        print('recall: ', sklm.recall_score(targ, predict))\n",
    "        print('npv: ', sklm.precision_score(1-targ, 1-predict))\n",
    "        print('specificity: ', sklm.recall_score(1-targ, 1-predict))\n",
    "\n",
    "        return"
   ]
  },
  {
   "cell_type": "code",
   "execution_count": 48,
   "metadata": {},
   "outputs": [],
   "source": [
    "import keras.backend as K\n",
    "def custom_loss_abs_sum(y_true, y_pred):\n",
    "    loss = abs(y_true - y_pred)\n",
    "    return loss\n",
    "#clf.compile(optimizer='adam', loss=custom_loss_abs_sum, metrics=['accuracy']) "
   ]
  },
  {
   "cell_type": "code",
   "execution_count": 49,
   "metadata": {},
   "outputs": [],
   "source": [
    "# list of all metrics: https://www.tensorflow.org/api_docs/python/tf/keras/metrics\n",
    "METRICS = [\n",
    "      keras.metrics.TruePositives(name='tp'),\n",
    "      keras.metrics.FalsePositives(name='fp'),\n",
    "      keras.metrics.TrueNegatives(name='tn'),\n",
    "      keras.metrics.FalseNegatives(name='fn'), \n",
    "      keras.metrics.BinaryAccuracy(name='accuracy', threshold=0.5),\n",
    "      keras.metrics.Precision(name='precision'),\n",
    "      keras.metrics.Recall(name='recall'),\n",
    "      keras.metrics.AUC(name='auc'),\n",
    "      keras.metrics.BinaryCrossentropy(name='crossentropy', from_logits=False, label_smoothing=0),\n",
    "      keras.metrics.SensitivityAtSpecificity(specificity=0.0, num_thresholds=200, name='sensitivity'),  # (tp / (tp + fn)).\n",
    "      keras.metrics.SpecificityAtSensitivity(sensitivity=0.0, num_thresholds=200, name='specificity'),   # (tn / (tn + fp)).\n",
    "      keras.metrics.CosineSimilarity(name='cosine_similarity', axis=-1),\n",
    "      keras.metrics.KLDivergence(name='kl_divergence'),\n",
    "      keras.metrics.LogCoshError(name='logcosh'),\n",
    "]"
   ]
  },
  {
   "cell_type": "markdown",
   "metadata": {},
   "source": [
    "Now run the basic DNN (Deep Neural Network)"
   ]
  },
  {
   "cell_type": "markdown",
   "metadata": {},
   "source": [
    "for Custom Loss fit to Train dataset (balanced):  \n",
    "\n",
    "Use Keras/Tensor math functions!  \n",
    "reference: https://www.tensorflow.org/api_docs/python/tf/keras/backend/  \n",
    "\n",
    "Predictions on test dataset:  \n",
    "\n",
    "loss = y_true - y_pred => all predictions are 1, fn are loss=+1, fp are loss=-1  \n",
    "[[    0 59708]  \n",
    "[    0   102]]  \n",
    "\n",
    "loss = y_pred - y_true => all predictions are 0, fp are loss=+1, fn are loss=-1  \n",
    "[[59708     0]  \n",
    " [  102     0]]  \n",
    " \n",
    "loss = abs(y_true - y_pred) => all mistakes have equal weight  \n",
    "\n",
    "[[57693  2015]  \n",
    " [   12    90]]  "
   ]
  },
  {
   "cell_type": "code",
   "execution_count": 50,
   "metadata": {},
   "outputs": [],
   "source": [
    "# https://www.tensorflow.org/api_docs/python/tf/keras/backend/\n",
    "\n",
    "import keras.backend as K\n",
    "def custom_loss_mask(y_true, y_pred):\n",
    "    #loss = abs(y_true - y_pred)\n",
    "    \n",
    "    mask1 = K.less(y_pred, y_true) # is y_pred < y_true or y_pred - y_true < 0, FN\n",
    "    mask2 = K.less(y_true, y_pred) # is y_true < y_pred or y_true - y_pred < 0, FP\n",
    "    #loss = K.cast(mask1, K.floatx()) * 2 * (y_true - y_pred) # only include FN\n",
    "    loss = (K.cast(mask1, K.floatx()) * 2 * (y_true - y_pred)) + (K.cast(mask2, K.floatx()) * 4 * (y_pred - y_true)) # only include FN\n",
    "    return loss\n",
    "#clf.compile(optimizer='adam', loss=custom_loss_mask, metrics=['accuracy']) "
   ]
  },
  {
   "cell_type": "code",
   "execution_count": 51,
   "metadata": {},
   "outputs": [],
   "source": [
    "# define variable learning rate function\n",
    "from keras.callbacks import LearningRateScheduler, EarlyStopping, History, LambdaCallback\n",
    "import math\n",
    "\n",
    "def step_decay(epoch, lr):\n",
    "    drop = 0.995 # was .999\n",
    "    epochs_drop = 5.0 # was 175, sgd likes 200+, adam likes 100\n",
    "    lrate = lr * math.pow(drop, math.floor((1+epoch)/epochs_drop))\n",
    "    print(\"epoch=\" + str(epoch) + \" lr=\" + str(lr) + \" lrate=\" + str(lrate))\n",
    "    return lrate\n",
    "lrate = LearningRateScheduler(step_decay)\n",
    "early_stopping = EarlyStopping(monitor='val_loss', patience=25, mode='auto', restore_best_weights = True)\n",
    "callbacks_list = [lrate, early_stopping] "
   ]
  },
  {
   "cell_type": "code",
   "execution_count": 52,
   "metadata": {},
   "outputs": [],
   "source": [
    "def create_dnn(input_dim):\n",
    "    # input_dim must equal number of features in X_train and X_test dataset\n",
    "    clf1 = Sequential([\n",
    "        Dense(units=16, kernel_initializer='uniform', input_dim=input_dim, activation='relu'),\n",
    "        Dense(units=18, kernel_initializer='uniform', activation='relu'),\n",
    "        Dropout(0.25),\n",
    "        Dense(20, kernel_initializer='uniform', activation='relu'),\n",
    "        Dense(24, kernel_initializer='uniform', activation='relu'),\n",
    "        Dense(1, kernel_initializer='uniform', activation='sigmoid')\n",
    "    ])\n",
    "    return clf1"
   ]
  },
  {
   "cell_type": "code",
   "execution_count": 53,
   "metadata": {
    "colab": {
     "base_uri": "https://localhost:8080/",
     "height": 1000
    },
    "colab_type": "code",
    "executionInfo": {
     "elapsed": 94466,
     "status": "ok",
     "timestamp": 1591365810901,
     "user": {
      "displayName": "Don Stierman",
      "photoUrl": "https://lh3.googleusercontent.com/a-/AOh14GgL11XU-IHwYTl3abZY1--Hbam6OSfwyASvbqmP9A=s64",
      "userId": "18276471072525900320"
     },
     "user_tz": -480
    },
    "id": "DGvclnN-btYR",
    "outputId": "45697876-a1c3-4c30-fbfd-b3cbcbe8088a"
   },
   "outputs": [
    {
     "name": "stdout",
     "output_type": "stream",
     "text": [
      "Model: \"sequential_1\"\n",
      "_________________________________________________________________\n",
      "Layer (type)                 Output Shape              Param #   \n",
      "=================================================================\n",
      "dense_1 (Dense)              (None, 16)                480       \n",
      "_________________________________________________________________\n",
      "dense_2 (Dense)              (None, 18)                306       \n",
      "_________________________________________________________________\n",
      "dropout_1 (Dropout)          (None, 18)                0         \n",
      "_________________________________________________________________\n",
      "dense_3 (Dense)              (None, 20)                380       \n",
      "_________________________________________________________________\n",
      "dense_4 (Dense)              (None, 24)                504       \n",
      "_________________________________________________________________\n",
      "dense_5 (Dense)              (None, 1)                 25        \n",
      "=================================================================\n",
      "Total params: 1,695\n",
      "Trainable params: 1,695\n",
      "Non-trainable params: 0\n",
      "_________________________________________________________________\n",
      "Train on 630 samples, validate on 45114 samples\n",
      "Epoch 1/200\n",
      "epoch=0 lr=9.999999747378752e-05 lrate=9.999999747378752e-05\n",
      "630/630 [==============================] - 3s 4ms/step - loss: 1.4995 - accuracy: 0.4937 - val_loss: 1.9945 - val_accuracy: 0.9984\n",
      "Epoch 2/200\n",
      "epoch=1 lr=9.999999747378752e-05 lrate=9.999999747378752e-05\n",
      "630/630 [==============================] - 2s 4ms/step - loss: 1.4983 - accuracy: 0.5000 - val_loss: 1.9901 - val_accuracy: 0.9984\n",
      "Epoch 3/200\n",
      "epoch=2 lr=9.999999747378752e-05 lrate=9.999999747378752e-05\n",
      "630/630 [==============================] - 2s 4ms/step - loss: 1.4966 - accuracy: 0.5000 - val_loss: 1.9850 - val_accuracy: 0.9984\n",
      "Epoch 4/200\n",
      "epoch=3 lr=9.999999747378752e-05 lrate=9.999999747378752e-05\n",
      "630/630 [==============================] - 2s 3ms/step - loss: 1.4932 - accuracy: 0.6079 - val_loss: 1.9790 - val_accuracy: 0.9990\n",
      "Epoch 5/200\n",
      "epoch=4 lr=9.999999747378752e-05 lrate=9.949999748641858e-05\n",
      "630/630 [==============================] - 2s 3ms/step - loss: 1.4854 - accuracy: 0.8159 - val_loss: 1.9709 - val_accuracy: 0.9995\n",
      "Epoch 6/200\n",
      "epoch=5 lr=9.950000094249845e-05 lrate=9.900250093778595e-05\n",
      "630/630 [==============================] - 4s 6ms/step - loss: 1.4669 - accuracy: 0.9000 - val_loss: 1.9606 - val_accuracy: 0.9985\n",
      "Epoch 7/200\n",
      "epoch=6 lr=9.900250006467104e-05 lrate=9.850748756434768e-05\n",
      "630/630 [==============================] - 3s 5ms/step - loss: 1.4260 - accuracy: 0.9095 - val_loss: 1.9488 - val_accuracy: 0.9935\n",
      "Epoch 8/200\n",
      "epoch=7 lr=9.850748756434768e-05 lrate=9.801495012652595e-05\n",
      "630/630 [==============================] - 3s 4ms/step - loss: 1.3553 - accuracy: 0.9127 - val_loss: 1.9339 - val_accuracy: 0.9828\n",
      "Epoch 9/200\n",
      "epoch=8 lr=9.801494888961315e-05 lrate=9.752487414516509e-05\n",
      "630/630 [==============================] - 4s 6ms/step - loss: 1.2684 - accuracy: 0.9222 - val_loss: 1.9140 - val_accuracy: 0.9775\n",
      "Epoch 10/200\n",
      "epoch=9 lr=9.752487676450983e-05 lrate=9.655206611878385e-05\n",
      "630/630 [==============================] - 3s 5ms/step - loss: 1.1881 - accuracy: 0.9238 - val_loss: 1.8883 - val_accuracy: 0.9741\n",
      "Epoch 11/200\n",
      "epoch=10 lr=9.655206667957827e-05 lrate=9.558895981444948e-05\n",
      "630/630 [==============================] - 3s 5ms/step - loss: 1.1296 - accuracy: 0.9286 - val_loss: 1.8525 - val_accuracy: 0.9759\n",
      "Epoch 12/200\n",
      "epoch=11 lr=9.558896272210404e-05 lrate=9.463546281895106e-05\n",
      "630/630 [==============================] - 3s 6ms/step - loss: 1.0784 - accuracy: 0.9254 - val_loss: 1.8077 - val_accuracy: 0.9780\n",
      "Epoch 13/200\n",
      "epoch=12 lr=9.463546302868053e-05 lrate=9.369147428496945e-05\n",
      "630/630 [==============================] - 3s 5ms/step - loss: 1.0387 - accuracy: 0.9270 - val_loss: 1.7481 - val_accuracy: 0.9820\n",
      "Epoch 14/200\n",
      "epoch=13 lr=9.369147301185876e-05 lrate=9.275690056856547e-05\n",
      "630/630 [==============================] - 4s 6ms/step - loss: 0.9921 - accuracy: 0.9286 - val_loss: 1.6746 - val_accuracy: 0.9849\n",
      "Epoch 15/200\n",
      "epoch=14 lr=9.275689808418974e-05 lrate=9.137248978567096e-05\n",
      "630/630 [==============================] - 3s 4ms/step - loss: 0.9440 - accuracy: 0.9254 - val_loss: 1.5826 - val_accuracy: 0.9869\n",
      "Epoch 16/200\n",
      "epoch=15 lr=9.137248707702383e-05 lrate=9.000874128583837e-05\n",
      "630/630 [==============================] - 3s 5ms/step - loss: 0.8850 - accuracy: 0.9286 - val_loss: 1.4640 - val_accuracy: 0.9889\n",
      "Epoch 17/200\n",
      "epoch=16 lr=9.00087397894822e-05 lrate=8.866534809703171e-05\n",
      "630/630 [==============================] - 2s 4ms/step - loss: 0.8228 - accuracy: 0.9222 - val_loss: 1.3327 - val_accuracy: 0.9901\n",
      "Epoch 18/200\n",
      "epoch=17 lr=8.866535063134506e-05 lrate=8.73420091900034e-05\n",
      "630/630 [==============================] - 3s 5ms/step - loss: 0.7549 - accuracy: 0.9286 - val_loss: 1.1848 - val_accuracy: 0.9916\n",
      "Epoch 19/200\n",
      "epoch=18 lr=8.7342006736435e-05 lrate=8.603841636814286e-05\n",
      "630/630 [==============================] - 3s 4ms/step - loss: 0.6810 - accuracy: 0.9302 - val_loss: 1.0270 - val_accuracy: 0.9923\n",
      "Epoch 20/200\n",
      "epoch=19 lr=8.603841706644744e-05 lrate=8.433051152224393e-05\n",
      "630/630 [==============================] - 2s 4ms/step - loss: 0.6000 - accuracy: 0.9270 - val_loss: 0.8768 - val_accuracy: 0.9933\n",
      "Epoch 21/200\n",
      "epoch=20 lr=8.433050970779732e-05 lrate=8.265650697754925e-05\n",
      "630/630 [==============================] - 2s 3ms/step - loss: 0.5346 - accuracy: 0.9238 - val_loss: 0.7422 - val_accuracy: 0.9934\n",
      "Epoch 22/200\n",
      "epoch=21 lr=8.26565083116293e-05 lrate=8.10157353450496e-05\n",
      "630/630 [==============================] - 2s 3ms/step - loss: 0.4828 - accuracy: 0.9206 - val_loss: 0.6311 - val_accuracy: 0.9934\n",
      "Epoch 23/200\n",
      "epoch=22 lr=8.101573621388525e-05 lrate=7.940753339280634e-05\n",
      "630/630 [==============================] - 3s 4ms/step - loss: 0.4335 - accuracy: 0.9238 - val_loss: 0.5326 - val_accuracy: 0.9940\n",
      "Epoch 24/200\n",
      "epoch=23 lr=7.940753130242229e-05 lrate=7.783125215193325e-05\n",
      "630/630 [==============================] - 3s 5ms/step - loss: 0.3857 - accuracy: 0.9286 - val_loss: 0.4555 - val_accuracy: 0.9942\n",
      "Epoch 25/200\n",
      "epoch=24 lr=7.783125329297036e-05 lrate=7.590483272788217e-05\n",
      "630/630 [==============================] - 3s 5ms/step - loss: 0.3515 - accuracy: 0.9317 - val_loss: 0.3951 - val_accuracy: 0.9939\n",
      "Epoch 26/200\n",
      "epoch=25 lr=7.590483437525108e-05 lrate=7.402609508038605e-05\n",
      "630/630 [==============================] - 2s 3ms/step - loss: 0.3226 - accuracy: 0.9238 - val_loss: 0.3413 - val_accuracy: 0.9944\n",
      "Epoch 27/200\n",
      "epoch=26 lr=7.402609480777755e-05 lrate=7.219385665976677e-05\n",
      "630/630 [==============================] - 2s 3ms/step - loss: 0.3052 - accuracy: 0.9270 - val_loss: 0.3002 - val_accuracy: 0.9947\n",
      "Epoch 28/200\n",
      "epoch=27 lr=7.219385588541627e-05 lrate=7.040696793531255e-05\n",
      "630/630 [==============================] - 2s 3ms/step - loss: 0.2869 - accuracy: 0.9238 - val_loss: 0.2677 - val_accuracy: 0.9947\n",
      "Epoch 29/200\n",
      "epoch=28 lr=7.040696800686419e-05 lrate=6.866430775978604e-05\n",
      "630/630 [==============================] - 2s 4ms/step - loss: 0.2784 - accuracy: 0.9206 - val_loss: 0.2420 - val_accuracy: 0.9947\n",
      "Epoch 30/200\n",
      "epoch=29 lr=6.866431067464873e-05 lrate=6.662995945257711e-05\n",
      "630/630 [==============================] - 2s 4ms/step - loss: 0.2617 - accuracy: 0.9222 - val_loss: 0.2221 - val_accuracy: 0.9943\n",
      "Epoch 31/200\n",
      "epoch=30 lr=6.662996020168066e-05 lrate=6.465588167921297e-05\n",
      "630/630 [==============================] - 2s 4ms/step - loss: 0.2498 - accuracy: 0.9238 - val_loss: 0.2063 - val_accuracy: 0.9939\n",
      "Epoch 32/200\n",
      "epoch=31 lr=6.465588376158848e-05 lrate=6.274029217037965e-05\n",
      "630/630 [==============================] - 2s 4ms/step - loss: 0.2455 - accuracy: 0.9238 - val_loss: 0.1934 - val_accuracy: 0.9937\n",
      "Epoch 33/200\n",
      "epoch=32 lr=6.274029146879911e-05 lrate=6.08814540703221e-05\n",
      "630/630 [==============================] - 2s 3ms/step - loss: 0.2381 - accuracy: 0.9286 - val_loss: 0.1803 - val_accuracy: 0.9937\n",
      "Epoch 34/200\n",
      "epoch=33 lr=6.088145528337918e-05 lrate=5.907769053659393e-05\n",
      "630/630 [==============================] - 2s 3ms/step - loss: 0.2311 - accuracy: 0.9238 - val_loss: 0.1690 - val_accuracy: 0.9936\n",
      "Epoch 35/200\n",
      "epoch=34 lr=5.9077690821141005e-05 lrate=5.704073025363879e-05\n",
      "630/630 [==============================] - 2s 4ms/step - loss: 0.2226 - accuracy: 0.9317 - val_loss: 0.1571 - val_accuracy: 0.9941\n",
      "Epoch 36/200\n",
      "epoch=35 lr=5.704073191736825e-05 lrate=5.5074004375343785e-05\n",
      "630/630 [==============================] - 2s 4ms/step - loss: 0.2268 - accuracy: 0.9238 - val_loss: 0.1500 - val_accuracy: 0.9938\n",
      "Epoch 37/200\n",
      "epoch=36 lr=5.50740041944664e-05 lrate=5.3175088152229445e-05\n",
      "630/630 [==============================] - 3s 4ms/step - loss: 0.2119 - accuracy: 0.9270 - val_loss: 0.1439 - val_accuracy: 0.9935\n",
      "Epoch 38/200\n",
      "epoch=37 lr=5.3175088396528736e-05 lrate=5.134164574276793e-05\n",
      "630/630 [==============================] - 2s 3ms/step - loss: 0.2111 - accuracy: 0.9302 - val_loss: 0.1384 - val_accuracy: 0.9935\n",
      "Epoch 39/200\n",
      "epoch=38 lr=5.1341645303182304e-05 lrate=4.95714185813917e-05\n",
      "630/630 [==============================] - 2s 4ms/step - loss: 0.2067 - accuracy: 0.9286 - val_loss: 0.1330 - val_accuracy: 0.9934\n",
      "Epoch 40/200\n",
      "epoch=39 lr=4.9571419367566705e-05 lrate=4.762291774658202e-05\n",
      "630/630 [==============================] - 2s 4ms/step - loss: 0.2047 - accuracy: 0.9302 - val_loss: 0.1279 - val_accuracy: 0.9933\n",
      "Epoch 41/200\n",
      "epoch=40 lr=4.762291791848838e-05 lrate=4.575100595905581e-05\n",
      "630/630 [==============================] - 2s 4ms/step - loss: 0.2016 - accuracy: 0.9270 - val_loss: 0.1235 - val_accuracy: 0.9933\n",
      "Epoch 42/200\n",
      "epoch=41 lr=4.5751006837235764e-05 lrate=4.3952674005104646e-05\n",
      "630/630 [==============================] - 2s 4ms/step - loss: 0.2002 - accuracy: 0.9270 - val_loss: 0.1190 - val_accuracy: 0.9934\n",
      "Epoch 43/200\n",
      "epoch=42 lr=4.3952673877356574e-05 lrate=4.222502804051628e-05\n",
      "630/630 [==============================] - 2s 4ms/step - loss: 0.1946 - accuracy: 0.9286 - val_loss: 0.1152 - val_accuracy: 0.9934\n",
      "Epoch 44/200\n",
      "epoch=43 lr=4.2225026845699176e-05 lrate=4.056528955544927e-05\n",
      "630/630 [==============================] - 2s 4ms/step - loss: 0.1974 - accuracy: 0.9286 - val_loss: 0.1109 - val_accuracy: 0.9936\n",
      "Epoch 45/200\n",
      "epoch=44 lr=4.056528996443376e-05 lrate=3.877593792005473e-05\n",
      "630/630 [==============================] - 2s 4ms/step - loss: 0.1966 - accuracy: 0.9302 - val_loss: 0.1086 - val_accuracy: 0.9936\n",
      "Epoch 46/200\n",
      "epoch=45 lr=3.877593917422928e-05 lrate=3.7065516147672405e-05\n",
      "630/630 [==============================] - 2s 4ms/step - loss: 0.1925 - accuracy: 0.9302 - val_loss: 0.1072 - val_accuracy: 0.9934\n",
      "Epoch 47/200\n",
      "epoch=46 lr=3.7065514334244654e-05 lrate=3.5430538868567204e-05\n",
      "630/630 [==============================] - 2s 4ms/step - loss: 0.1895 - accuracy: 0.9302 - val_loss: 0.1042 - val_accuracy: 0.9934\n",
      "Epoch 48/200\n",
      "epoch=47 lr=3.54305375367403e-05 lrate=3.386768158697638e-05\n",
      "630/630 [==============================] - 2s 4ms/step - loss: 0.1921 - accuracy: 0.9254 - val_loss: 0.1023 - val_accuracy: 0.9934\n",
      "Epoch 49/200\n",
      "epoch=48 lr=3.386768003110774e-05 lrate=3.237376238488432e-05\n",
      "630/630 [==============================] - 2s 4ms/step - loss: 0.1857 - accuracy: 0.9317 - val_loss: 0.1009 - val_accuracy: 0.9932\n",
      "Epoch 50/200\n",
      "epoch=49 lr=3.237376222386956e-05 lrate=3.079101321241246e-05\n",
      "630/630 [==============================] - 3s 4ms/step - loss: 0.1793 - accuracy: 0.9349 - val_loss: 0.1004 - val_accuracy: 0.9929\n",
      "Epoch 51/200\n",
      "epoch=50 lr=3.079101225011982e-05 lrate=2.9285643678384643e-05\n",
      "630/630 [==============================] - 2s 4ms/step - loss: 0.1791 - accuracy: 0.9365 - val_loss: 0.0990 - val_accuracy: 0.9929\n",
      "Epoch 52/200\n",
      "epoch=51 lr=2.9285643904586323e-05 lrate=2.7853872594865233e-05\n",
      "630/630 [==============================] - 2s 4ms/step - loss: 0.1855 - accuracy: 0.9317 - val_loss: 0.0973 - val_accuracy: 0.9929\n",
      "Epoch 53/200\n",
      "epoch=52 lr=2.785387187032029e-05 lrate=2.6492099708557223e-05\n",
      "630/630 [==============================] - 2s 4ms/step - loss: 0.1886 - accuracy: 0.9317 - val_loss: 0.0960 - val_accuracy: 0.9928\n",
      "Epoch 54/200\n",
      "epoch=53 lr=2.6492100005270913e-05 lrate=2.5196904692325493e-05\n",
      "630/630 [==============================] - 3s 4ms/step - loss: 0.1848 - accuracy: 0.9317 - val_loss: 0.0947 - val_accuracy: 0.9928\n",
      "Epoch 55/200\n",
      "epoch=54 lr=2.5196904971380718e-05 lrate=2.3845206416790252e-05\n",
      "630/630 [==============================] - 2s 4ms/step - loss: 0.1846 - accuracy: 0.9302 - val_loss: 0.0941 - val_accuracy: 0.9928\n",
      "Epoch 56/200\n",
      "epoch=55 lr=2.3845206669648178e-05 lrate=2.256602053841961e-05\n",
      "630/630 [==============================] - 3s 4ms/step - loss: 0.1782 - accuracy: 0.9302 - val_loss: 0.0920 - val_accuracy: 0.9929\n",
      "Epoch 57/200\n",
      "epoch=56 lr=2.256602056149859e-05 lrate=2.135545690653851e-05\n",
      "630/630 [==============================] - 3s 5ms/step - loss: 0.1741 - accuracy: 0.9333 - val_loss: 0.0917 - val_accuracy: 0.9928\n",
      "Epoch 58/200\n",
      "epoch=57 lr=2.1355457647587173e-05 lrate=2.0209835148806135e-05\n",
      "630/630 [==============================] - 5s 8ms/step - loss: 0.1800 - accuracy: 0.9302 - val_loss: 0.0903 - val_accuracy: 0.9928\n",
      "Epoch 59/200\n",
      "epoch=58 lr=2.0209834474371746e-05 lrate=1.9125669412093307e-05\n",
      "630/630 [==============================] - 7s 11ms/step - loss: 0.1775 - accuracy: 0.9302 - val_loss: 0.0894 - val_accuracy: 0.9928\n",
      "Epoch 60/200\n",
      "epoch=59 lr=1.9125669496133924e-05 lrate=1.800916659506628e-05\n",
      "630/630 [==============================] - 3s 5ms/step - loss: 0.1735 - accuracy: 0.9333 - val_loss: 0.0889 - val_accuracy: 0.9928\n",
      "Epoch 61/200\n",
      "epoch=60 lr=1.8009166524279863e-05 lrate=1.6957841932780818e-05\n",
      "630/630 [==============================] - 4s 6ms/step - loss: 0.1804 - accuracy: 0.9317 - val_loss: 0.0878 - val_accuracy: 0.9929\n",
      "Epoch 62/200\n",
      "epoch=61 lr=1.6957841580733657e-05 lrate=1.596789038845974e-05\n",
      "630/630 [==============================] - 4s 6ms/step - loss: 0.1758 - accuracy: 0.9254 - val_loss: 0.0867 - val_accuracy: 0.9929\n",
      "Epoch 63/200\n",
      "epoch=62 lr=1.5967891158652492e-05 lrate=1.5035730493313602e-05\n",
      "630/630 [==============================] - 3s 4ms/step - loss: 0.1738 - accuracy: 0.9317 - val_loss: 0.0861 - val_accuracy: 0.9929\n",
      "Epoch 64/200\n",
      "epoch=63 lr=1.503573093941668e-05 lrate=1.4157987171182858e-05\n",
      "630/630 [==============================] - 4s 7ms/step - loss: 0.1682 - accuracy: 0.9381 - val_loss: 0.0858 - val_accuracy: 0.9929\n",
      "Epoch 65/200\n",
      "epoch=64 lr=1.4157987607177347e-05 lrate=1.3264826610774633e-05\n",
      "630/630 [==============================] - 3s 5ms/step - loss: 0.1775 - accuracy: 0.9317 - val_loss: 0.0852 - val_accuracy: 0.9929\n",
      "Epoch 66/200\n",
      "epoch=65 lr=1.3264826520753559e-05 lrate=1.2428010865795699e-05\n",
      "630/630 [==============================] - 3s 4ms/step - loss: 0.1718 - accuracy: 0.9317 - val_loss: 0.0850 - val_accuracy: 0.9928\n",
      "Epoch 67/200\n",
      "epoch=66 lr=1.2428010450094007e-05 lrate=1.164398559395682e-05\n",
      "630/630 [==============================] - 3s 4ms/step - loss: 0.1759 - accuracy: 0.9317 - val_loss: 0.0846 - val_accuracy: 0.9928\n",
      "Epoch 68/200\n",
      "epoch=67 lr=1.1643985999398865e-05 lrate=1.0909421566523525e-05\n",
      "630/630 [==============================] - 3s 4ms/step - loss: 0.1679 - accuracy: 0.9317 - val_loss: 0.0848 - val_accuracy: 0.9927\n",
      "Epoch 69/200\n",
      "epoch=68 lr=1.0909421689575538e-05 lrate=1.0221197471784937e-05\n",
      "630/630 [==============================] - 3s 4ms/step - loss: 0.1723 - accuracy: 0.9349 - val_loss: 0.0845 - val_accuracy: 0.9927\n",
      "Epoch 70/200\n",
      "epoch=69 lr=1.0221197044302244e-05 lrate=9.528507741178264e-06\n",
      "630/630 [==============================] - 2s 4ms/step - loss: 0.1721 - accuracy: 0.9317 - val_loss: 0.0842 - val_accuracy: 0.9927\n",
      "Epoch 71/200\n",
      "epoch=70 lr=9.528507689537946e-06 lrate=8.882761861268563e-06\n",
      "630/630 [==============================] - 3s 4ms/step - loss: 0.1714 - accuracy: 0.9317 - val_loss: 0.0836 - val_accuracy: 0.9927\n",
      "Epoch 72/200\n",
      "epoch=71 lr=8.882761903805658e-06 lrate=8.280778190323358e-06\n",
      "630/630 [==============================] - 3s 5ms/step - loss: 0.1706 - accuracy: 0.9333 - val_loss: 0.0834 - val_accuracy: 0.9927\n",
      "Epoch 73/200\n",
      "epoch=72 lr=8.280778274638578e-06 lrate=7.719590919818813e-06\n",
      "630/630 [==============================] - 3s 5ms/step - loss: 0.1750 - accuracy: 0.9286 - val_loss: 0.0829 - val_accuracy: 0.9927\n",
      "Epoch 74/200\n",
      "epoch=73 lr=7.719590939814225e-06 lrate=7.196435183661093e-06\n",
      "630/630 [==============================] - 3s 5ms/step - loss: 0.1714 - accuracy: 0.9349 - val_loss: 0.0826 - val_accuracy: 0.9927\n",
      "Epoch 75/200\n",
      "epoch=74 lr=7.196435035439208e-06 lrate=6.675189824990433e-06\n",
      "630/630 [==============================] - 3s 4ms/step - loss: 0.1762 - accuracy: 0.9317 - val_loss: 0.0823 - val_accuracy: 0.9927\n",
      "Epoch 76/200\n",
      "epoch=75 lr=6.675189979432616e-06 lrate=6.191699085888747e-06\n",
      "630/630 [==============================] - 2s 4ms/step - loss: 0.1748 - accuracy: 0.9302 - val_loss: 0.0821 - val_accuracy: 0.9927\n",
      "Epoch 77/200\n",
      "epoch=76 lr=6.191698957991321e-06 lrate=5.743227817697524e-06\n",
      "630/630 [==============================] - 2s 4ms/step - loss: 0.1697 - accuracy: 0.9365 - val_loss: 0.0816 - val_accuracy: 0.9927\n",
      "Epoch 78/200\n",
      "epoch=77 lr=5.7432280300417915e-06 lrate=5.327240101514381e-06\n",
      "630/630 [==============================] - 3s 4ms/step - loss: 0.1703 - accuracy: 0.9317 - val_loss: 0.0817 - val_accuracy: 0.9927\n",
      "Epoch 79/200\n",
      "epoch=78 lr=5.327240160113433e-06 lrate=4.941382661964001e-06\n",
      "630/630 [==============================] - 2s 4ms/step - loss: 0.1713 - accuracy: 0.9317 - val_loss: 0.0815 - val_accuracy: 0.9927\n",
      "Epoch 80/200\n",
      "epoch=79 lr=4.94138248541276e-06 lrate=4.560555691248603e-06\n",
      "630/630 [==============================] - 3s 4ms/step - loss: 0.1703 - accuracy: 0.9333 - val_loss: 0.0814 - val_accuracy: 0.9927\n",
      "Epoch 81/200\n",
      "epoch=80 lr=4.560555680654943e-06 lrate=4.209078780293954e-06\n",
      "630/630 [==============================] - 2s 4ms/step - loss: 0.1725 - accuracy: 0.9333 - val_loss: 0.0812 - val_accuracy: 0.9927\n",
      "Epoch 82/200\n",
      "epoch=81 lr=4.2090787246706896e-06 lrate=3.884689758256364e-06\n",
      "630/630 [==============================] - 3s 4ms/step - loss: 0.1677 - accuracy: 0.9365 - val_loss: 0.0810 - val_accuracy: 0.9927\n",
      "Epoch 83/200\n",
      "epoch=82 lr=3.88468970413669e-06 lrate=3.5853010349300184e-06\n",
      "630/630 [==============================] - 2s 4ms/step - loss: 0.1742 - accuracy: 0.9349 - val_loss: 0.0808 - val_accuracy: 0.9927\n",
      "Epoch 84/200\n",
      "epoch=83 lr=3.5853011013387004e-06 lrate=3.3089859752445935e-06\n",
      "630/630 [==============================] - 3s 4ms/step - loss: 0.1721 - accuracy: 0.9333 - val_loss: 0.0807 - val_accuracy: 0.9927\n",
      "Epoch 85/200\n",
      "epoch=84 lr=3.308985924377339e-06 lrate=3.0386962679085016e-06\n",
      "630/630 [==============================] - 3s 4ms/step - loss: 0.1670 - accuracy: 0.9317 - val_loss: 0.0807 - val_accuracy: 0.9927\n",
      "Epoch 86/200\n",
      "epoch=85 lr=3.0386963771888986e-06 lrate=2.7904849255013127e-06\n",
      "630/630 [==============================] - 3s 4ms/step - loss: 0.1641 - accuracy: 0.9365 - val_loss: 0.0806 - val_accuracy: 0.9927\n",
      "Epoch 87/200\n",
      "epoch=86 lr=2.790484813885996e-06 lrate=2.5625481592842756e-06\n",
      "630/630 [==============================] - 3s 4ms/step - loss: 0.1670 - accuracy: 0.9317 - val_loss: 0.0806 - val_accuracy: 0.9926\n",
      "Epoch 88/200\n",
      "epoch=87 lr=2.5625481612223666e-06 lrate=2.3532301774016955e-06\n",
      "630/630 [==============================] - 3s 4ms/step - loss: 0.1746 - accuracy: 0.9317 - val_loss: 0.0805 - val_accuracy: 0.9926\n",
      "Epoch 89/200\n",
      "epoch=88 lr=2.3532302293460816e-06 lrate=2.161010073437826e-06\n",
      "630/630 [==============================] - 2s 4ms/step - loss: 0.1643 - accuracy: 0.9317 - val_loss: 0.0804 - val_accuracy: 0.9926\n",
      "Epoch 90/200\n",
      "epoch=89 lr=2.1610101157421013e-06 lrate=1.9745687216785124e-06\n",
      "630/630 [==============================] - 3s 5ms/step - loss: 0.1691 - accuracy: 0.9333 - val_loss: 0.0804 - val_accuracy: 0.9926\n",
      "Epoch 91/200\n",
      "epoch=90 lr=1.974568704099511e-06 lrate=1.8042125640773594e-06\n",
      "630/630 [==============================] - 3s 4ms/step - loss: 0.1663 - accuracy: 0.9349 - val_loss: 0.0803 - val_accuracy: 0.9926\n",
      "Epoch 92/200\n",
      "epoch=91 lr=1.8042126157524763e-06 lrate=1.648553966670914e-06\n",
      "630/630 [==============================] - 3s 4ms/step - loss: 0.1704 - accuracy: 0.9317 - val_loss: 0.0802 - val_accuracy: 0.9926\n",
      "Epoch 93/200\n",
      "epoch=92 lr=1.6485539617860923e-06 lrate=1.506324780818606e-06\n",
      "630/630 [==============================] - 4s 7ms/step - loss: 0.1690 - accuracy: 0.9333 - val_loss: 0.0802 - val_accuracy: 0.9926\n",
      "Epoch 94/200\n",
      "epoch=93 lr=1.5063247928992496e-06 lrate=1.3763664496898099e-06\n",
      "630/630 [==============================] - 2s 4ms/step - loss: 0.1662 - accuracy: 0.9381 - val_loss: 0.0801 - val_accuracy: 0.9926\n",
      "Epoch 95/200\n",
      "epoch=94 lr=1.3763664128418895e-06 lrate=1.2513321424670897e-06\n",
      "630/630 [==============================] - 3s 4ms/step - loss: 0.1664 - accuracy: 0.9349 - val_loss: 0.0800 - val_accuracy: 0.9926\n",
      "Epoch 96/200\n",
      "epoch=95 lr=1.2513321507867659e-06 lrate=1.137656460207323e-06\n",
      "630/630 [==============================] - 2s 4ms/step - loss: 0.1732 - accuracy: 0.9302 - val_loss: 0.0800 - val_accuracy: 0.9926\n",
      "Epoch 97/200\n",
      "epoch=96 lr=1.1376564543752465e-06 lrate=1.0343074890250355e-06\n",
      "630/630 [==============================] - 3s 5ms/step - loss: 0.1664 - accuracy: 0.9365 - val_loss: 0.0800 - val_accuracy: 0.9926\n",
      "Epoch 98/200\n",
      "epoch=97 lr=1.0343075018681702e-06 lrate=9.403471417252314e-07\n",
      "630/630 [==============================] - 3s 4ms/step - loss: 0.1685 - accuracy: 0.9349 - val_loss: 0.0800 - val_accuracy: 0.9926\n",
      "Epoch 99/200\n",
      "epoch=98 lr=9.403471494806581e-07 lrate=8.549224990116238e-07\n",
      "630/630 [==============================] - 3s 4ms/step - loss: 0.1654 - accuracy: 0.9333 - val_loss: 0.0800 - val_accuracy: 0.9926\n",
      "Epoch 100/200\n",
      "epoch=99 lr=8.549225185561227e-07 lrate=7.733718701086397e-07\n",
      "630/630 [==============================] - 2s 4ms/step - loss: 0.1637 - accuracy: 0.9365 - val_loss: 0.0799 - val_accuracy: 0.9926\n",
      "Epoch 101/200\n",
      "epoch=100 lr=7.73371880313789e-07 lrate=6.996003080815407e-07\n",
      "630/630 [==============================] - 2s 4ms/step - loss: 0.1737 - accuracy: 0.9302 - val_loss: 0.0799 - val_accuracy: 0.9926\n",
      "Epoch 102/200\n",
      "epoch=101 lr=6.996003207859758e-07 lrate=6.328657821864781e-07\n",
      "630/630 [==============================] - 3s 4ms/step - loss: 0.1699 - accuracy: 0.9333 - val_loss: 0.0799 - val_accuracy: 0.9926\n",
      "Epoch 103/200\n",
      "epoch=102 lr=6.32865805982874e-07 lrate=5.724970406995506e-07\n",
      "630/630 [==============================] - 3s 4ms/step - loss: 0.1658 - accuracy: 0.9349 - val_loss: 0.0799 - val_accuracy: 0.9926\n",
      "Epoch 104/200\n",
      "epoch=103 lr=5.724970151277375e-07 lrate=5.178867998104876e-07\n",
      "630/630 [==============================] - 3s 4ms/step - loss: 0.1629 - accuracy: 0.9381 - val_loss: 0.0798 - val_accuracy: 0.9926\n",
      "Epoch 105/200\n",
      "epoch=104 lr=5.178868036637141e-07 lrate=4.6614340103916836e-07\n",
      "630/630 [==============================] - 3s 4ms/step - loss: 0.1703 - accuracy: 0.9349 - val_loss: 0.0798 - val_accuracy: 0.9926\n",
      "Epoch 106/200\n",
      "epoch=105 lr=4.661434047648072e-07 lrate=4.19569818214832e-07\n",
      "630/630 [==============================] - 2s 4ms/step - loss: 0.1715 - accuracy: 0.9302 - val_loss: 0.0798 - val_accuracy: 0.9926\n",
      "Epoch 107/200\n",
      "epoch=106 lr=4.195698295461625e-07 lrate=3.77649528689421e-07\n",
      "630/630 [==============================] - 3s 4ms/step - loss: 0.1655 - accuracy: 0.9349 - val_loss: 0.0798 - val_accuracy: 0.9926\n",
      "Epoch 108/200\n",
      "epoch=107 lr=3.7764954186059185e-07 lrate=3.399176047708093e-07\n",
      "630/630 [==============================] - 3s 4ms/step - loss: 0.1723 - accuracy: 0.9333 - val_loss: 0.0798 - val_accuracy: 0.9926\n",
      "Epoch 109/200\n",
      "epoch=108 lr=3.3991759096352325e-07 lrate=3.0595555013922725e-07\n",
      "630/630 [==============================] - 3s 5ms/step - loss: 0.1659 - accuracy: 0.9333 - val_loss: 0.0798 - val_accuracy: 0.9926\n",
      "Epoch 110/200\n",
      "epoch=109 lr=3.059555524487223e-07 lrate=2.7400981251587246e-07\n",
      "630/630 [==============================] - 3s 5ms/step - loss: 0.1723 - accuracy: 0.9286 - val_loss: 0.0798 - val_accuracy: 0.9926\n",
      "Epoch 111/200\n",
      "epoch=110 lr=2.7400980684433307e-07 lrate=2.453996183432875e-07\n",
      "630/630 [==============================] - 3s 5ms/step - loss: 0.1697 - accuracy: 0.9333 - val_loss: 0.0798 - val_accuracy: 0.9926\n",
      "Epoch 112/200\n",
      "epoch=111 lr=2.453996046369866e-07 lrate=2.1977669344412232e-07\n",
      "630/630 [==============================] - 3s 5ms/step - loss: 0.1700 - accuracy: 0.9349 - val_loss: 0.0797 - val_accuracy: 0.9926\n",
      "Epoch 113/200\n",
      "epoch=112 lr=2.1977669462103222e-07 lrate=1.9682914856908878e-07\n",
      "630/630 [==============================] - 3s 4ms/step - loss: 0.1679 - accuracy: 0.9333 - val_loss: 0.0797 - val_accuracy: 0.9926\n",
      "Epoch 114/200\n",
      "epoch=113 lr=1.9682914853547118e-07 lrate=1.7627762482559417e-07\n",
      "630/630 [==============================] - 2s 4ms/step - loss: 0.1681 - accuracy: 0.9349 - val_loss: 0.0797 - val_accuracy: 0.9926\n",
      "Epoch 115/200\n",
      "epoch=114 lr=1.7627762360916677e-07 lrate=1.5708258672954364e-07\n",
      "630/630 [==============================] - 2s 4ms/step - loss: 0.1682 - accuracy: 0.9365 - val_loss: 0.0797 - val_accuracy: 0.9926\n",
      "Epoch 116/200\n",
      "epoch=115 lr=1.5708258160884725e-07 lrate=1.3997771097697748e-07\n",
      "630/630 [==============================] - 2s 3ms/step - loss: 0.1670 - accuracy: 0.9349 - val_loss: 0.0797 - val_accuracy: 0.9926\n",
      "Epoch 117/200\n",
      "epoch=116 lr=1.399777147526038e-07 lrate=1.2473540922346417e-07\n",
      "630/630 [==============================] - 2s 4ms/step - loss: 0.1703 - accuracy: 0.9365 - val_loss: 0.0797 - val_accuracy: 0.9926\n",
      "Epoch 118/200\n",
      "epoch=117 lr=1.24735407780463e-07 lrate=1.1115285144960769e-07\n",
      "630/630 [==============================] - 3s 5ms/step - loss: 0.1690 - accuracy: 0.9333 - val_loss: 0.0797 - val_accuracy: 0.9926\n",
      "Epoch 119/200\n",
      "epoch=118 lr=1.1115285047935686e-07 lrate=9.904931163793842e-08\n",
      "630/630 [==============================] - 3s 4ms/step - loss: 0.1703 - accuracy: 0.9317 - val_loss: 0.0797 - val_accuracy: 0.9926\n",
      "Epoch 120/200\n",
      "epoch=119 lr=9.904930919901744e-08 lrate=8.78224177140383e-08\n",
      "630/630 [==============================] - 3s 4ms/step - loss: 0.1668 - accuracy: 0.9333 - val_loss: 0.0797 - val_accuracy: 0.9926\n",
      "Epoch 121/200\n",
      "epoch=120 lr=8.782241422977677e-08 lrate=7.786805187753158e-08\n",
      "630/630 [==============================] - 3s 5ms/step - loss: 0.1694 - accuracy: 0.9302 - val_loss: 0.0797 - val_accuracy: 0.9926\n",
      "Epoch 122/200\n",
      "epoch=121 lr=7.786805156229093e-08 lrate=6.90419812736021e-08\n",
      "630/630 [==============================] - 3s 4ms/step - loss: 0.1673 - accuracy: 0.9333 - val_loss: 0.0797 - val_accuracy: 0.9926\n",
      "Epoch 123/200\n",
      "epoch=122 lr=6.904198102120063e-08 lrate=6.12163148444122e-08\n",
      "630/630 [==============================] - 3s 4ms/step - loss: 0.1660 - accuracy: 0.9349 - val_loss: 0.0797 - val_accuracy: 0.9926\n",
      "Epoch 124/200\n",
      "epoch=123 lr=6.12163120194964e-08 lrate=5.4277657952029885e-08\n",
      "630/630 [==============================] - 3s 5ms/step - loss: 0.1732 - accuracy: 0.9365 - val_loss: 0.0797 - val_accuracy: 0.9926\n",
      "Epoch 125/200\n",
      "epoch=124 lr=5.427765970011933e-08 lrate=4.788485012733163e-08\n",
      "630/630 [==============================] - 4s 6ms/step - loss: 0.1662 - accuracy: 0.9365 - val_loss: 0.0797 - val_accuracy: 0.9926\n",
      "Epoch 126/200\n",
      "epoch=125 lr=4.788484986306685e-08 lrate=4.22449838797617e-08\n",
      "630/630 [==============================] - 3s 4ms/step - loss: 0.1698 - accuracy: 0.9333 - val_loss: 0.0797 - val_accuracy: 0.9926\n",
      "Epoch 127/200\n",
      "epoch=126 lr=4.224498439953095e-08 lrate=3.726938040032251e-08\n",
      "630/630 [==============================] - 3s 4ms/step - loss: 0.1655 - accuracy: 0.9365 - val_loss: 0.0797 - val_accuracy: 0.9926\n",
      "Epoch 128/200\n",
      "epoch=127 lr=3.726938047066142e-08 lrate=3.287980189337822e-08\n",
      "630/630 [==============================] - 3s 4ms/step - loss: 0.1685 - accuracy: 0.9302 - val_loss: 0.0797 - val_accuracy: 0.9926\n",
      "Epoch 129/200\n",
      "epoch=128 lr=3.287980021582371e-08 lrate=2.9007225334512037e-08\n",
      "630/630 [==============================] - 4s 6ms/step - loss: 0.1737 - accuracy: 0.9333 - val_loss: 0.0797 - val_accuracy: 0.9926\n",
      "Epoch 130/200\n",
      "epoch=129 lr=2.900722506637976e-08 lrate=2.5462807339605448e-08\n",
      "630/630 [==============================] - 3s 5ms/step - loss: 0.1627 - accuracy: 0.9397 - val_loss: 0.0797 - val_accuracy: 0.9926\n",
      "Epoch 131/200\n",
      "epoch=130 lr=2.546280697401926e-08 lrate=2.235148473600381e-08\n",
      "630/630 [==============================] - 3s 4ms/step - loss: 0.1718 - accuracy: 0.9270 - val_loss: 0.0797 - val_accuracy: 0.9926\n",
      "Epoch 132/200\n",
      "epoch=131 lr=2.235148421902977e-08 lrate=1.9620337178788847e-08\n",
      "630/630 [==============================] - 3s 5ms/step - loss: 0.1721 - accuracy: 0.9365 - val_loss: 0.0797 - val_accuracy: 0.9926\n",
      "Epoch 133/200\n",
      "epoch=132 lr=1.9620337354808726e-08 lrate=1.722291149395731e-08\n",
      "630/630 [==============================] - 3s 6ms/step - loss: 0.1664 - accuracy: 0.9333 - val_loss: 0.0797 - val_accuracy: 0.9926\n",
      "Epoch 134/200\n",
      "epoch=133 lr=1.7222911097292126e-08 lrate=1.5118428808475972e-08\n",
      "630/630 [==============================] - 4s 6ms/step - loss: 0.1677 - accuracy: 0.9333 - val_loss: 0.0797 - val_accuracy: 0.9926\n",
      "Epoch 135/200\n",
      "epoch=134 lr=1.511842917523154e-08 lrate=1.3204739861983743e-08\n",
      "630/630 [==============================] - 3s 4ms/step - loss: 0.1712 - accuracy: 0.9302 - val_loss: 0.0797 - val_accuracy: 0.9926\n",
      "Epoch 136/200\n",
      "epoch=135 lr=1.3204739524041997e-08 lrate=1.1533284863078983e-08\n",
      "630/630 [==============================] - 3s 5ms/step - loss: 0.1669 - accuracy: 0.9349 - val_loss: 0.0797 - val_accuracy: 0.9926\n",
      "Epoch 137/200\n",
      "epoch=136 lr=1.1533284549614109e-08 lrate=1.0073402498812067e-08\n",
      "630/630 [==============================] - 3s 4ms/step - loss: 0.1690 - accuracy: 0.9317 - val_loss: 0.0797 - val_accuracy: 0.9926\n",
      "Epoch 138/200\n",
      "epoch=137 lr=1.0073402556542987e-08 lrate=8.798312228238155e-09\n",
      "630/630 [==============================] - 3s 4ms/step - loss: 0.1761 - accuracy: 0.9286 - val_loss: 0.0797 - val_accuracy: 0.9926\n",
      "Epoch 139/200\n",
      "epoch=138 lr=8.798312300939415e-09 lrate=7.684622774747846e-09\n",
      "630/630 [==============================] - 4s 6ms/step - loss: 0.1675 - accuracy: 0.9333 - val_loss: 0.0797 - val_accuracy: 0.9926\n",
      "Epoch 140/200\n",
      "epoch=139 lr=7.684622715942169e-09 lrate=6.678344390924694e-09\n",
      "630/630 [==============================] - 3s 4ms/step - loss: 0.1753 - accuracy: 0.9333 - val_loss: 0.0797 - val_accuracy: 0.9926\n",
      "Epoch 141/200\n",
      "epoch=140 lr=6.678344544042147e-09 lrate=5.803835331283172e-09\n",
      "630/630 [==============================] - 3s 4ms/step - loss: 0.1719 - accuracy: 0.9333 - val_loss: 0.0797 - val_accuracy: 0.9926\n",
      "Epoch 142/200\n",
      "epoch=141 lr=5.803835190221207e-09 lrate=5.0438403577127345e-09\n",
      "630/630 [==============================] - 3s 4ms/step - loss: 0.1608 - accuracy: 0.9365 - val_loss: 0.0797 - val_accuracy: 0.9926\n",
      "Epoch 143/200\n",
      "epoch=142 lr=5.043840456409043e-09 lrate=4.383364657694651e-09\n",
      "630/630 [==============================] - 3s 4ms/step - loss: 0.1641 - accuracy: 0.9286 - val_loss: 0.0797 - val_accuracy: 0.9926\n",
      "Epoch 144/200\n",
      "epoch=143 lr=4.383364782256649e-09 lrate=3.809376294587738e-09\n",
      "630/630 [==============================] - 3s 4ms/step - loss: 0.1695 - accuracy: 0.9365 - val_loss: 0.0797 - val_accuracy: 0.9926\n",
      "Epoch 145/200\n",
      "epoch=144 lr=3.809376369900974e-09 lrate=3.2939971956946613e-09\n",
      "630/630 [==============================] - 3s 4ms/step - loss: 0.1699 - accuracy: 0.9286 - val_loss: 0.0797 - val_accuracy: 0.9926\n",
      "Epoch 146/200\n",
      "epoch=145 lr=3.293997297149076e-09 lrate=2.8483449273133674e-09\n",
      "630/630 [==============================] - 2s 4ms/step - loss: 0.1671 - accuracy: 0.9333 - val_loss: 0.0797 - val_accuracy: 0.9926\n",
      "Epoch 147/200\n",
      "epoch=146 lr=2.8483448932803412e-09 lrate=2.462985848542068e-09\n",
      "630/630 [==============================] - 3s 4ms/step - loss: 0.1717 - accuracy: 0.9317 - val_loss: 0.0797 - val_accuracy: 0.9926\n",
      "Epoch 148/200\n",
      "epoch=147 lr=2.4629858152991346e-09 lrate=2.1297628747673414e-09\n",
      "630/630 [==============================] - 2s 4ms/step - loss: 0.1786 - accuracy: 0.9286 - val_loss: 0.0797 - val_accuracy: 0.9926\n",
      "Epoch 149/200\n",
      "epoch=148 lr=2.1297628105543254e-09 lrate=1.841622366561563e-09\n",
      "630/630 [==============================] - 2s 4ms/step - loss: 0.1661 - accuracy: 0.9349 - val_loss: 0.0797 - val_accuracy: 0.9926\n",
      "Epoch 150/200\n",
      "epoch=149 lr=1.841622410125865e-09 lrate=1.5845028091481373e-09\n",
      "630/630 [==============================] - 3s 4ms/step - loss: 0.1677 - accuracy: 0.9349 - val_loss: 0.0797 - val_accuracy: 0.9926\n",
      "Epoch 151/200\n",
      "epoch=150 lr=1.5845028622507584e-09 lrate=1.3632812147241417e-09\n",
      "630/630 [==============================] - 3s 5ms/step - loss: 0.1683 - accuracy: 0.9365 - val_loss: 0.0797 - val_accuracy: 0.9926\n",
      "Epoch 152/200\n",
      "epoch=151 lr=1.3632812656538817e-09 lrate=1.1729456501020592e-09\n",
      "630/630 [==============================] - 2s 4ms/step - loss: 0.1688 - accuracy: 0.9349 - val_loss: 0.0797 - val_accuracy: 0.9926\n",
      "Epoch 153/200\n",
      "epoch=152 lr=1.172945629512867e-09 lrate=1.0091838776083025e-09\n",
      "630/630 [==============================] - 3s 4ms/step - loss: 0.1682 - accuracy: 0.9333 - val_loss: 0.0797 - val_accuracy: 0.9926\n",
      "Epoch 154/200\n",
      "epoch=153 lr=1.0091838476000703e-09 lrate=8.682858292107502e-10\n",
      "630/630 [==============================] - 3s 5ms/step - loss: 0.1681 - accuracy: 0.9333 - val_loss: 0.0797 - val_accuracy: 0.9926\n",
      "Epoch 155/200\n",
      "epoch=154 lr=8.682858321229503e-10 lrate=7.433241070019736e-10\n",
      "630/630 [==============================] - 3s 5ms/step - loss: 0.1647 - accuracy: 0.9349 - val_loss: 0.0797 - val_accuracy: 0.9926\n",
      "Epoch 156/200\n",
      "epoch=155 lr=7.433241244747535e-10 lrate=6.363466045360752e-10\n",
      "630/630 [==============================] - 2s 4ms/step - loss: 0.1689 - accuracy: 0.9333 - val_loss: 0.0797 - val_accuracy: 0.9926\n",
      "Epoch 157/200\n",
      "epoch=156 lr=6.363465865355522e-10 lrate=5.44765030915896e-10\n",
      "630/630 [==============================] - 2s 4ms/step - loss: 0.1657 - accuracy: 0.9349 - val_loss: 0.0797 - val_accuracy: 0.9926\n",
      "Epoch 158/200\n",
      "epoch=157 lr=5.44765010879189e-10 lrate=4.663636676503482e-10\n",
      "630/630 [==============================] - 2s 3ms/step - loss: 0.1685 - accuracy: 0.9381 - val_loss: 0.0797 - val_accuracy: 0.9926\n",
      "Epoch 159/200\n",
      "epoch=158 lr=4.663636699042684e-10 lrate=3.992456696226112e-10\n",
      "630/630 [==============================] - 2s 4ms/step - loss: 0.1674 - accuracy: 0.9349 - val_loss: 0.0797 - val_accuracy: 0.9926\n",
      "Epoch 160/200\n",
      "epoch=159 lr=3.992456643064912e-10 lrate=3.4007819929364506e-10\n",
      "630/630 [==============================] - 2s 4ms/step - loss: 0.1662 - accuracy: 0.9365 - val_loss: 0.0797 - val_accuracy: 0.9926\n",
      "Epoch 161/200\n",
      "epoch=160 lr=3.4007818783265975e-10 lrate=2.8967923280537566e-10\n",
      "630/630 [==============================] - 2s 4ms/step - loss: 0.1658 - accuracy: 0.9365 - val_loss: 0.0797 - val_accuracy: 0.9926\n",
      "Epoch 162/200\n",
      "epoch=161 lr=2.8967922505174215e-10 lrate=2.467493025866614e-10\n",
      "630/630 [==============================] - 2s 3ms/step - loss: 0.1626 - accuracy: 0.9365 - val_loss: 0.0797 - val_accuracy: 0.9926\n",
      "Epoch 163/200\n",
      "epoch=162 lr=2.467493154245659e-10 lrate=2.101815257337578e-10\n",
      "630/630 [==============================] - 3s 4ms/step - loss: 0.1674 - accuracy: 0.9333 - val_loss: 0.0797 - val_accuracy: 0.9926\n",
      "Epoch 164/200\n",
      "epoch=163 lr=2.1018152496221632e-10 lrate=1.790330138164526e-10\n",
      "630/630 [==============================] - 3s 4ms/step - loss: 0.1717 - accuracy: 0.9317 - val_loss: 0.0797 - val_accuracy: 0.9926\n",
      "Epoch 165/200\n",
      "epoch=164 lr=1.7903301063881827e-10 lrate=1.5173814813503413e-10\n",
      "630/630 [==============================] - 3s 5ms/step - loss: 0.1665 - accuracy: 0.9365 - val_loss: 0.0797 - val_accuracy: 0.9926\n",
      "Epoch 166/200\n",
      "epoch=165 lr=1.5173814982283318e-10 lrate=1.2860458400044834e-10\n",
      "630/630 [==============================] - 3s 4ms/step - loss: 0.1722 - accuracy: 0.9349 - val_loss: 0.0797 - val_accuracy: 0.9926\n",
      "630/630 [==============================] - 0s 15us/step\n",
      "\n",
      "And the Train Score is  93.4920608997345 %\n",
      "57417/57417 [==============================] - 0s 7us/step\n",
      "\n",
      "And the Test Score is  99.20058250427246 %\n",
      "57417/57417 [==============================] - 1s 14us/step\n",
      "57417/57417 [==============================] - 1s 11us/step\n",
      "Classification Report (DNN)\n",
      "              precision    recall  f1-score   support\n",
      "\n",
      "           0       1.00      0.99      1.00     57312\n",
      "           1       0.17      0.88      0.29       105\n",
      "\n",
      "    accuracy                           0.99     57417\n",
      "   macro avg       0.59      0.93      0.64     57417\n",
      "weighted avg       1.00      0.99      0.99     57417\n",
      "\n",
      "error\n",
      "error\n",
      "Confusion Matrix:\n",
      "false positive pct: 0.7767734294721076\n",
      "tn  fp  fn  tp\n",
      "56866 446 13 92\n",
      "[[56866   446]\n",
      " [   13    92]]\n",
      "Classification Report\n",
      "              precision    recall  f1-score   support\n",
      "\n",
      "           0       1.00      0.99      1.00     57312\n",
      "           1       0.17      0.88      0.29       105\n",
      "\n",
      "    accuracy                           0.99     57417\n",
      "   macro avg       0.59      0.93      0.64     57417\n",
      "weighted avg       1.00      0.99      0.99     57417\n",
      "\n",
      "Specificity = 0.9922180346175321\n",
      "Sensitivity = 0.8761904761904762\n",
      "DNN:TEST | AUC Score: 0.943\n"
     ]
    },
    {
     "data": {
      "image/png": "[encoded data removed]",
      "text/plain": [
       "<Figure size 576x396 with 2 Axes>"
      ]
     },
     "metadata": {},
     "output_type": "display_data"
    },
    {
     "name": "stdout",
     "output_type": "stream",
     "text": [
      "  No Skill : ROC AUC=0.500\n",
      "       DNN : ROC AUC=0.943\n"
     ]
    },
    {
     "data": {
      "image/png": "[encoded data removed]",
      "text/plain": [
       "<Figure size 576x396 with 1 Axes>"
      ]
     },
     "metadata": {},
     "output_type": "display_data"
    }
   ],
   "source": [
    "from keras.optimizers import Adam, SGD, RMSprop\n",
    "\n",
    "verbose=1\n",
    "clf = create_dnn(X_train.shape[1])\n",
    "clf.summary()\n",
    "#clf.compile(optimizer='adam', loss='binary_crossentropy', metrics=['accuracy'])\n",
    "\n",
    "learning_rate = 0.0001\n",
    "decay = 0.0002\n",
    "momentum=0.99\n",
    "opt_sel = \"adam\"\n",
    "if (opt_sel == \"adam\"):\n",
    "    #opt = Adam(lr=learning_rate, beta_1=beta_1, beta_2=beta_2, epsilon=epsilon, amsgrad=amsgrad) # added to v86\n",
    "    opt = Adam(lr=learning_rate)\n",
    "elif(opt_sel == \"sgd\"):\n",
    "    opt = SGD(learning_rate=learning_rate, momentum=momentum, decay=decay, nesterov=True)\n",
    "\n",
    "clf.compile(optimizer=opt, loss=custom_loss_mask, metrics=['accuracy'])\n",
    "\n",
    "#adam = keras.optimizers.Adam(learning_rate=0.001)\n",
    "# try using focal_loss to give heavier weight to examples that are difficult to classify\n",
    "# seems to improve the metrics slightly\n",
    "#clf.compile(optimizer=adam, loss=[focal_loss], metrics=['accuracy'])\n",
    "\n",
    "# create/fit model on the training dataset\n",
    "#clf.fit(X_train, y_train, batch_size=16, epochs=32, sample_weight=np.where(y_train == 1,0.2,1.0).flatten())\n",
    "clf.fit(X_train, y_train, batch_size=16, epochs=200, verbose=verbose, \n",
    "        sample_weight=np.where(y_train == 1,1.0,1.0).flatten(), \n",
    "        callbacks=callbacks_list, validation_data=(X_val, y_val))\n",
    "\n",
    "# check model metrics\n",
    "score = clf.evaluate(X_train, y_train, batch_size=128)\n",
    "print('\\nAnd the Train Score is ', score[1] * 100, '%')\n",
    "score = clf.evaluate(X_test, y_test, batch_size=128)\n",
    "print('\\nAnd the Test Score is ', score[1] * 100, '%')\n",
    "# predict probabilities for test set\n",
    "yhat_probs = clf.predict(X_test, verbose=verbose)\n",
    "# predict crisp classes for test set\n",
    "yhat_classes = clf.predict_classes(X_test, verbose=verbose)\n",
    "# reduce to 1d array\n",
    "yhat_probs = yhat_probs[:, 0]\n",
    "yhat_classes = yhat_classes[:, 0]\n",
    "print(\"Classification Report (DNN)\") \n",
    "print(classification_report(y_test, yhat_classes))\n",
    "\n",
    "tn, fp, fn, tp = display_metrics(clf, X_train, X_test, y_train, y_test, yhat_classes, 'DNN')\n",
    "visualize(y_test, yhat_classes, 'DNN')\n",
    "dnn_auc = auc_roc_metrics(clf, X_test, y_test, 'DNN')\n",
    "metrics_results['dnn'] = dnn_auc"
   ]
  },
  {
   "cell_type": "code",
   "execution_count": 54,
   "metadata": {},
   "outputs": [],
   "source": [
    "def plot_metrics(history):\n",
    "    metrics =  ['loss', 'auc', 'precision', 'recall', 'accuracy', 'crossentropy','fn','fp']\n",
    "    for n, metric in enumerate(metrics):\n",
    "        name = metric.replace(\"_\",\" \").capitalize()\n",
    "        plt.subplot(2,4,n+1)\n",
    "        plt.plot(history.epoch,  history.history[metric], color=colors[0], label='Train')\n",
    "        plt.plot(history.epoch, history.history['val_'+metric],\n",
    "                 color=colors[0], linestyle=\"--\", label='Val')\n",
    "        plt.xlabel('Epoch')\n",
    "        plt.ylabel(name)\n",
    "        if metric == 'loss':\n",
    "            plt.ylim([0, plt.ylim()[1]])\n",
    "        elif metric == 'auc':\n",
    "            plt.ylim([0.8,1])\n",
    "        elif metric == 'fn':\n",
    "            plt.ylim([0,100])\n",
    "        elif metric == 'fp':\n",
    "            plt.ylim([0,5000])\n",
    "        elif metric == 'accuracy':\n",
    "            plt.ylim([0.8,1])\n",
    "        elif metric == 'crossentropy':\n",
    "            plt.ylim([0,0.2])\n",
    "        elif metric == 'precision':\n",
    "            plt.ylim([0,0.2])\n",
    "        elif metric == 'recall':\n",
    "            plt.ylim([0.8,1])\n",
    "        else:\n",
    "            plt.ylim([0,1])\n",
    "\n",
    "        plt.legend()"
   ]
  },
  {
   "cell_type": "code",
   "execution_count": 55,
   "metadata": {},
   "outputs": [],
   "source": [
    "#import keras.backend as K                                                                                         \n",
    "def custom_loss(y_true, y_pred):                                                                                   \n",
    "    #loss = abs(y_true - y_pred)                                                                                   \n",
    "    mask1 = K.less(y_pred, y_true) # is y_pred < y_true or y_pred - y_true < 0, FN                                 \n",
    "    mask2 = K.less(y_true, y_pred) # is y_true < y_pred or y_true - y_pred < 0, FP                                 \n",
    "    #loss = K.cast(mask1, K.floatx()) * 2 * (y_true - y_pred) # only include FN                                    \n",
    "    loss = (K.cast(mask1, K.floatx()) * 2 * (y_true - y_pred)) + (K.cast(mask2, K.floatx()) * 4 * (y_pred - y_true) ) # FP has higher penalty                                                                                          \n",
    "    return loss \n",
    "\n",
    "def binary_accuracy(y_true, y_pred):\n",
    "    return K.mean(K.equal(y_true, K.round(y_pred)), axis=-1)\n",
    "\n",
    "def custom_loss_function(y_true, y_pred):\n",
    "    squared_difference = K.square(y_true - y_pred)\n",
    "    return tf.reduce_mean(squared_difference, axis=-1)\n",
    "\n",
    "def make_model(metrics = METRICS, output_bias=-100):\n",
    "    #if output_bias is not None:\n",
    "    print('func_output_bias:', output_bias)\n",
    "    \n",
    "    METRICS = [\n",
    "          keras.metrics.TruePositives(name='tp'),\n",
    "          keras.metrics.FalsePositives(name='fp'),\n",
    "          keras.metrics.TrueNegatives(name='tn'),\n",
    "          keras.metrics.FalseNegatives(name='fn'), \n",
    "          keras.metrics.BinaryAccuracy(name='accuracy', threshold=0.5),\n",
    "          keras.metrics.Precision(name='precision'),\n",
    "          keras.metrics.Recall(name='recall'),\n",
    "          keras.metrics.AUC(name='auc'),\n",
    "          #keras.metrics.BinaryCrossentropy(name='crossentropy', from_logits=False, label_smoothing=0),\n",
    "          keras.metrics.BinaryCrossentropy(name='crossentropy'),\n",
    "          keras.metrics.SensitivityAtSpecificity(specificity=0.0, num_thresholds=200, name='sensitivity'),  # (tp / (tp + fn)).\n",
    "          keras.metrics.SpecificityAtSensitivity(sensitivity=0.0, num_thresholds=200, name='specificity'),   # (tn / (tn + fp)).\n",
    "          keras.metrics.CosineSimilarity(name='cosine_similarity', axis=-1),\n",
    "          keras.metrics.KLDivergence(name='kl_divergence'),\n",
    "          #custom_loss_mask,\n",
    "          #custom_loss_function\n",
    "    ]\n",
    "\n",
    "    if (output_bias > -50):\n",
    "        print(\"output_bias passed in:\", output_bias)\n",
    "        use_bias_sel = True\n",
    "        output_bias = keras.initializers.Constant(output_bias)\n",
    "        clf = Sequential([\n",
    "                Dense(units=16, activation='relu', input_shape=(train_features.shape[-1],)),\n",
    "                Dropout(0.50),\n",
    "                Dense(units=1, activation='sigmoid', use_bias=use_bias_sel, bias_initializer=output_bias),\n",
    "            ])\n",
    "    else:\n",
    "        print(\"output_bias not passed in\")\n",
    "        use_bias_sel = False\n",
    "        clf = Sequential([\n",
    "                Dense(units=16, activation='relu', input_shape=(train_features.shape[-1],)),\n",
    "                Dropout(0.50),\n",
    "                Dense(units=1, activation='sigmoid'),\n",
    "            ])\n",
    "\n",
    "    clf.compile(\n",
    "        optimizer=keras.optimizers.Adam(lr=1e-3),\n",
    "        loss=keras.losses.BinaryCrossentropy(),\n",
    "        #loss=custom_loss_mask,\n",
    "        #loss=custom_loss_function,\n",
    "        metrics=METRICS)\n",
    "\n",
    "    return clf;"
   ]
  },
  {
   "cell_type": "code",
   "execution_count": 56,
   "metadata": {},
   "outputs": [
    {
     "name": "stdout",
     "output_type": "stream",
     "text": [
      "initial_bias: [-6.38474387]\n",
      "Weight for class 0: 0.50\n",
      "Weight for class 1: 296.87\n"
     ]
    }
   ],
   "source": [
    "# use model from imbalanced_data notebook\n",
    "\n",
    "BATCH_SIZE = 2048\n",
    "EPOCHS = 100\n",
    "neg, pos = np.bincount(train_labels)\n",
    "total = neg + pos\n",
    "initial_bias = np.log([pos/neg])\n",
    "weight_for_0 = (1 / neg)*(total)/2.0 \n",
    "weight_for_1 = (1 / pos)*(total)/2.0\n",
    "class_weight = {0: weight_for_0, 1: weight_for_1}\n",
    "print('initial_bias:', initial_bias)\n",
    "print('Weight for class 0: {:.2f}'.format(weight_for_0))\n",
    "print('Weight for class 1: {:.2f}'.format(weight_for_1));"
   ]
  },
  {
   "cell_type": "code",
   "execution_count": 57,
   "metadata": {},
   "outputs": [],
   "source": [
    "def RunModel(mon='val_auc', mod='max'):\n",
    "    #First Pass\n",
    "    early_stopping = tf.keras.callbacks.EarlyStopping(monitor=mon, verbose=0, patience=25, mode=mod, restore_best_weights=True)\n",
    "\n",
    "    clf = make_model(output_bias = initial_bias)\n",
    "    \n",
    "    clf.fit(\n",
    "        train_features,\n",
    "        train_labels,\n",
    "        initial_epoch=0,\n",
    "        batch_size=BATCH_SIZE,\n",
    "        epochs=EPOCHS,\n",
    "        callbacks = [early_stopping],\n",
    "        validation_data=(val_features, val_labels),\n",
    "        shuffle=False,\n",
    "        # The class weights go here\n",
    "        class_weight=class_weight\n",
    "    ) \n",
    "    \n",
    "    #clf.fit(train_features, train_labels, batch_size=BATCH_SIZE, verbose=0)#, shuffle=False)\n",
    "    \n",
    "    #evaluate does not change or train the model, think this can be skipped unless we want the loss metric\n",
    "    results = clf.evaluate(train_features, train_labels, batch_size=BATCH_SIZE, verbose=0)\n",
    "    print(\"Loss: {:0.4f}\".format(results[0]))\n",
    "\n",
    "    # 12/18 before removing these 4 lines\n",
    "    initial_weights = os.path.join(tempfile.mkdtemp(),'initial_weights')\n",
    "    clf.save_weights(initial_weights)\n",
    "\n",
    "    #clf = make_model()\n",
    "    clf = make_model(output_bias = initial_bias)\n",
    "    clf.load_weights(initial_weights)\n",
    "\n",
    "    weighted_history = clf.fit(\n",
    "        train_features,\n",
    "        train_labels,\n",
    "        initial_epoch=0,\n",
    "        batch_size=BATCH_SIZE,\n",
    "        epochs=EPOCHS,\n",
    "        callbacks = [early_stopping],\n",
    "        validation_data=(val_features, val_labels),\n",
    "        shuffle=False,\n",
    "        # The class weights go here\n",
    "        class_weight=class_weight\n",
    "    ) \n",
    "\n",
    "    yhat_classes = clf.predict_classes(test_features, verbose=verbose, batch_size=BATCH_SIZE)\n",
    "    yhat_classes = yhat_classes[:, 0]\n",
    "    print(\"mon='\", mon, \"',mod='\", mod)\n",
    "    print(metrics.confusion_matrix(test_labels, yhat_classes))\n",
    "    tn, fp, fn, tp = display_metrics(clf, train_features, test_features, train_labels, test_labels, yhat_classes, 'DNN Weighted')\n",
    "    dnn_weighted_auc = auc_roc_metrics(clf, test_features, test_labels, 'DNN-Weighted')\n",
    "    metrics_results['dnn_weighted'] = dnn_weighted_auc\n",
    "    return (weighted_history);"
   ]
  },
  {
   "cell_type": "code",
   "execution_count": 58,
   "metadata": {
    "collapsed": true,
    "jupyter": {
     "outputs_hidden": true
    }
   },
   "outputs": [
    {
     "name": "stdout",
     "output_type": "stream",
     "text": [
      "func_output_bias: [-6.38474387]\n",
      "output_bias passed in: [-6.38474387]\n",
      "Train on 182276 samples, validate on 45569 samples\n",
      "Epoch 1/100\n",
      "182276/182276 [==============================] - 5s 28us/step - loss: 1.5790 - tp: 114.0000 - fp: 266.0000 - tn: 181703.0000 - fn: 193.0000 - accuracy: 0.9975 - precision: 0.3000 - recall: 0.3713 - auc: 0.7769 - crossentropy: 0.0172 - sensitivity: 1.0000 - specificity: 1.0000 - cosine_similarity: 0.0017 - kl_divergence: 0.0053 - val_loss: 0.0102 - val_tp: 63.0000 - val_fp: 12.0000 - val_tn: 45472.0000 - val_fn: 22.0000 - val_accuracy: 0.9993 - val_precision: 0.8400 - val_recall: 0.7412 - val_auc: 0.9375 - val_crossentropy: 0.0102 - val_sensitivity: 1.0000 - val_specificity: 1.0000 - val_cosine_similarity: 0.0019 - val_kl_divergence: 0.0020\n",
      "Epoch 2/100\n",
      "182276/182276 [==============================] - 4s 22us/step - loss: 0.7356 - tp: 204.0000 - fp: 631.0000 - tn: 181338.0000 - fn: 103.0000 - accuracy: 0.9960 - precision: 0.2443 - recall: 0.6645 - auc: 0.8922 - crossentropy: 0.0234 - sensitivity: 1.0000 - specificity: 1.0000 - cosine_similarity: 0.0017 - kl_divergence: 0.0024 - val_loss: 0.0143 - val_tp: 68.0000 - val_fp: 18.0000 - val_tn: 45466.0000 - val_fn: 17.0000 - val_accuracy: 0.9992 - val_precision: 0.7907 - val_recall: 0.8000 - val_auc: 0.9577 - val_crossentropy: 0.0143 - val_sensitivity: 1.0000 - val_specificity: 1.0000 - val_cosine_similarity: 0.0019 - val_kl_divergence: 0.0015\n",
      "Epoch 3/100\n",
      "182276/182276 [==============================] - 3s 19us/step - loss: 0.6125 - tp: 209.0000 - fp: 1253.0000 - tn: 180716.0000 - fn: 98.0000 - accuracy: 0.9926 - precision: 0.1430 - recall: 0.6808 - auc: 0.9160 - crossentropy: 0.0356 - sensitivity: 1.0000 - specificity: 1.0000 - cosine_similarity: 0.0017 - kl_divergence: 0.0020 - val_loss: 0.0212 - val_tp: 69.0000 - val_fp: 40.0000 - val_tn: 45444.0000 - val_fn: 16.0000 - val_accuracy: 0.9988 - val_precision: 0.6330 - val_recall: 0.8118 - val_auc: 0.9643 - val_crossentropy: 0.0212 - val_sensitivity: 1.0000 - val_specificity: 1.0000 - val_cosine_similarity: 0.0019 - val_kl_divergence: 0.0012\n",
      "Epoch 4/100\n",
      "182276/182276 [==============================] - 4s 21us/step - loss: 0.4504 - tp: 232.0000 - fp: 2332.0000 - tn: 179637.0000 - fn: 75.0000 - accuracy: 0.9868 - precision: 0.0905 - recall: 0.7557 - auc: 0.9344 - crossentropy: 0.0534 - sensitivity: 1.0000 - specificity: 1.0000 - cosine_similarity: 0.0017 - kl_divergence: 0.0014 - val_loss: 0.0299 - val_tp: 71.0000 - val_fp: 97.0000 - val_tn: 45387.0000 - val_fn: 14.0000 - val_accuracy: 0.9976 - val_precision: 0.4226 - val_recall: 0.8353 - val_auc: 0.9658 - val_crossentropy: 0.0299 - val_sensitivity: 1.0000 - val_specificity: 1.0000 - val_cosine_similarity: 0.0019 - val_kl_divergence: 9.2598e-04000 - tn: 167572.0000 - fn: 69.0000 - accuracy: 0.9871 - precision: 0.0922 - recall: 0.7579 - auc: 0.9375 - crossentropy: 0.0527 - sensitivity: 1.0000 - specificity: 1.0000 - cosine_similarity: 0.0017 - kl_divergence: 0.\n",
      "Epoch 5/100\n",
      "182276/182276 [==============================] - 5s 25us/step - loss: 0.4053 - tp: 242.0000 - fp: 3491.0000 - tn: 178478.0000 - fn: 65.0000 - accuracy: 0.9805 - precision: 0.0648 - recall: 0.7883 - auc: 0.9332 - crossentropy: 0.0715 - sensitivity: 1.0000 - specificity: 1.0000 - cosine_similarity: 0.0017 - kl_divergence: 0.0012 - val_loss: 0.0406 - val_tp: 72.0000 - val_fp: 265.0000 - val_tn: 45219.0000 - val_fn: 13.0000 - val_accuracy: 0.9939 - val_precision: 0.2136 - val_recall: 0.8471 - val_auc: 0.9692 - val_crossentropy: 0.0406 - val_sensitivity: 1.0000 - val_specificity: 1.0000 - val_cosine_similarity: 0.0019 - val_kl_divergence: 7.5804e-04\n",
      "Epoch 6/100\n",
      "182276/182276 [==============================] - 4s 22us/step - loss: 0.3230 - tp: 255.0000 - fp: 4616.0000 - tn: 177353.0000 - fn: 52.0000 - accuracy: 0.9744 - precision: 0.0524 - recall: 0.8306 - auc: 0.9482 - crossentropy: 0.0893 - sensitivity: 1.0000 - specificity: 1.0000 - cosine_similarity: 0.0017 - kl_divergence: 9.3769e-04 - val_loss: 0.0516 - val_tp: 75.0000 - val_fp: 460.0000 - val_tn: 45024.0000 - val_fn: 10.0000 - val_accuracy: 0.9897 - val_precision: 0.1402 - val_recall: 0.8824 - val_auc: 0.9692 - val_crossentropy: 0.0516 - val_sensitivity: 1.0000 - val_specificity: 1.0000 - val_cosine_similarity: 0.0019 - val_kl_divergence: 6.4833e-04\n",
      "Epoch 7/100\n",
      "182276/182276 [==============================] - 4s 25us/step - loss: 0.3390 - tp: 253.0000 - fp: 5560.0000 - tn: 176409.0000 - fn: 54.0000 - accuracy: 0.9692 - precision: 0.0435 - recall: 0.8241 - auc: 0.9424 - crossentropy: 0.1074 - sensitivity: 1.0000 - specificity: 1.0000 - cosine_similarity: 0.0017 - kl_divergence: 9.6102e-04 - val_loss: 0.0630 - val_tp: 77.0000 - val_fp: 641.0000 - val_tn: 44843.0000 - val_fn: 8.0000 - val_accuracy: 0.9858 - val_precision: 0.1072 - val_recall: 0.9059 - val_auc: 0.9692 - val_crossentropy: 0.0630 - val_sensitivity: 1.0000 - val_specificity: 1.0000 - val_cosine_similarity: 0.0019 - val_kl_divergence: 5.8098e-04\n",
      "Epoch 8/100\n",
      "182276/182276 [==============================] - 5s 29us/step - loss: 0.3069 - tp: 259.0000 - fp: 6348.0000 - tn: 175621.0000 - fn: 48.0000 - accuracy: 0.9649 - precision: 0.0392 - recall: 0.8436 - auc: 0.9495 - crossentropy: 0.1196 - sensitivity: 1.0000 - specificity: 1.0000 - cosine_similarity: 0.0017 - kl_divergence: 8.3220e-04 - val_loss: 0.0728 - val_tp: 78.0000 - val_fp: 759.0000 - val_tn: 44725.0000 - val_fn: 7.0000 - val_accuracy: 0.9832 - val_precision: 0.0932 - val_recall: 0.9176 - val_auc: 0.9707 - val_crossentropy: 0.0728 - val_sensitivity: 1.0000 - val_specificity: 1.0000 - val_cosine_similarity: 0.0019 - val_kl_divergence: 5.4201e-04\n",
      "Epoch 9/100\n",
      "182276/182276 [==============================] - 4s 24us/step - loss: 0.2928 - tp: 261.0000 - fp: 6885.0000 - tn: 175084.0000 - fn: 46.0000 - accuracy: 0.9620 - precision: 0.0365 - recall: 0.8502 - auc: 0.9514 - crossentropy: 0.1318 - sensitivity: 1.0000 - specificity: 1.0000 - cosine_similarity: 0.0017 - kl_divergence: 7.6414e-04 - val_loss: 0.0794 - val_tp: 78.0000 - val_fp: 837.0000 - val_tn: 44647.0000 - val_fn: 7.0000 - val_accuracy: 0.9815 - val_precision: 0.0852 - val_recall: 0.9176 - val_auc: 0.9723 - val_crossentropy: 0.0794 - val_sensitivity: 1.0000 - val_specificity: 1.0000 - val_cosine_similarity: 0.0019 - val_kl_divergence: 5.1394e-04\n",
      "Epoch 10/100\n",
      "182276/182276 [==============================] - 5s 27us/step - loss: 0.2756 - tp: 268.0000 - fp: 7372.0000 - tn: 174597.0000 - fn: 39.0000 - accuracy: 0.9593 - precision: 0.0351 - recall: 0.8730 - auc: 0.9548 - crossentropy: 0.1406 - sensitivity: 1.0000 - specificity: 1.0000 - cosine_similarity: 0.0017 - kl_divergence: 6.9098e-04 - val_loss: 0.0861 - val_tp: 78.0000 - val_fp: 922.0000 - val_tn: 44562.0000 - val_fn: 7.0000 - val_accuracy: 0.9796 - val_precision: 0.0780 - val_recall: 0.9176 - val_auc: 0.9741 - val_crossentropy: 0.0861 - val_sensitivity: 1.0000 - val_specificity: 1.0000 - val_cosine_similarity: 0.0019 - val_kl_divergence: 4.9674e-04\n",
      "Epoch 11/100\n",
      "182276/182276 [==============================] - 4s 24us/step - loss: 0.2754 - tp: 268.0000 - fp: 7750.0000 - tn: 174219.0000 - fn: 39.0000 - accuracy: 0.9573 - precision: 0.0334 - recall: 0.8730 - auc: 0.9545 - crossentropy: 0.1461 - sensitivity: 1.0000 - specificity: 1.0000 - cosine_similarity: 0.0017 - kl_divergence: 6.8101e-04 - val_loss: 0.0880 - val_tp: 78.0000 - val_fp: 948.0000 - val_tn: 44536.0000 - val_fn: 7.0000 - val_accuracy: 0.9790 - val_precision: 0.0760 - val_recall: 0.9176 - val_auc: 0.9741 - val_crossentropy: 0.0880 - val_sensitivity: 1.0000 - val_specificity: 1.0000 - val_cosine_similarity: 0.0019 - val_kl_divergence: 4.8688e-04\n",
      "Epoch 12/100\n",
      "182276/182276 [==============================] - 4s 24us/step - loss: 0.2663 - tp: 265.0000 - fp: 7790.0000 - tn: 174179.0000 - fn: 42.0000 - accuracy: 0.9570 - precision: 0.0329 - recall: 0.8632 - auc: 0.9576 - crossentropy: 0.1467 - sensitivity: 1.0000 - specificity: 1.0000 - cosine_similarity: 0.0017 - kl_divergence: 6.4925e-04 - val_loss: 0.0920 - val_tp: 78.0000 - val_fp: 994.0000 - val_tn: 44490.0000 - val_fn: 7.0000 - val_accuracy: 0.9780 - val_precision: 0.0728 - val_recall: 0.9176 - val_auc: 0.9751 - val_crossentropy: 0.0920 - val_sensitivity: 1.0000 - val_specificity: 1.0000 - val_cosine_similarity: 0.0019 - val_kl_divergence: 4.7473e-04\n",
      "Epoch 13/100\n",
      "182276/182276 [==============================] - 4s 20us/step - loss: 0.2425 - tp: 269.0000 - fp: 7710.0000 - tn: 174259.0000 - fn: 38.0000 - accuracy: 0.9575 - precision: 0.0337 - recall: 0.8762 - auc: 0.9636 - crossentropy: 0.1488 - sensitivity: 1.0000 - specificity: 1.0000 - cosine_similarity: 0.0017 - kl_divergence: 5.6566e-04 - val_loss: 0.0934 - val_tp: 78.0000 - val_fp: 1010.0000 - val_tn: 44474.0000 - val_fn: 7.0000 - val_accuracy: 0.9777 - val_precision: 0.0717 - val_recall: 0.9176 - val_auc: 0.9752 - val_crossentropy: 0.0934 - val_sensitivity: 1.0000 - val_specificity: 1.0000 - val_cosine_similarity: 0.0019 - val_kl_divergence: 4.6844e-04\n",
      "Epoch 14/100\n",
      "182276/182276 [==============================] - 5s 25us/step - loss: 0.2793 - tp: 271.0000 - fp: 7795.0000 - tn: 174174.0000 - fn: 36.0000 - accuracy: 0.9570 - precision: 0.0336 - recall: 0.8827 - auc: 0.9493 - crossentropy: 0.1487 - sensitivity: 1.0000 - specificity: 1.0000 - cosine_similarity: 0.0017 - kl_divergence: 6.8967e-04 - val_loss: 0.0908 - val_tp: 78.0000 - val_fp: 978.0000 - val_tn: 44506.0000 - val_fn: 7.0000 - val_accuracy: 0.9784 - val_precision: 0.0739 - val_recall: 0.9176 - val_auc: 0.9759 - val_crossentropy: 0.0908 - val_sensitivity: 1.0000 - val_specificity: 1.0000 - val_cosine_similarity: 0.0019 - val_kl_divergence: 4.6598e-04\n",
      "Epoch 15/100\n",
      "182276/182276 [==============================] - 4s 21us/step - loss: 0.2700 - tp: 266.0000 - fp: 7699.0000 - tn: 174270.0000 - fn: 41.0000 - accuracy: 0.9575 - precision: 0.0334 - recall: 0.8664 - auc: 0.9584 - crossentropy: 0.1474 - sensitivity: 1.0000 - specificity: 1.0000 - cosine_similarity: 0.0017 - kl_divergence: 6.6082e-04 - val_loss: 0.0929 - val_tp: 78.0000 - val_fp: 1003.0000 - val_tn: 44481.0000 - val_fn: 7.0000 - val_accuracy: 0.9778 - val_precision: 0.0722 - val_recall: 0.9176 - val_auc: 0.9758 - val_crossentropy: 0.0929 - val_sensitivity: 1.0000 - val_specificity: 1.0000 - val_cosine_similarity: 0.0019 - val_kl_divergence: 4.6343e-04\n",
      "Epoch 16/100\n",
      "182276/182276 [==============================] - 4s 23us/step - loss: 0.2321 - tp: 273.0000 - fp: 7651.0000 - tn: 174318.0000 - fn: 34.0000 - accuracy: 0.9578 - precision: 0.0345 - recall: 0.8893 - auc: 0.9645 - crossentropy: 0.1476 - sensitivity: 1.0000 - specificity: 1.0000 - cosine_similarity: 0.0017 - kl_divergence: 5.3254e-04 - val_loss: 0.0933 - val_tp: 78.0000 - val_fp: 1018.0000 - val_tn: 44466.0000 - val_fn: 7.0000 - val_accuracy: 0.9775 - val_precision: 0.0712 - val_recall: 0.9176 - val_auc: 0.9761 - val_crossentropy: 0.0933 - val_sensitivity: 1.0000 - val_specificity: 1.0000 - val_cosine_similarity: 0.0019 - val_kl_divergence: 4.5869e-04\n",
      "Epoch 17/100\n",
      "182276/182276 [==============================] - 4s 21us/step - loss: 0.2141 - tp: 278.0000 - fp: 7670.0000 - tn: 174299.0000 - fn: 29.0000 - accuracy: 0.9578 - precision: 0.0350 - recall: 0.9055 - auc: 0.9706 - crossentropy: 0.1484 - sensitivity: 1.0000 - specificity: 1.0000 - cosine_similarity: 0.0017 - kl_divergence: 4.7044e-04 - val_loss: 0.0920 - val_tp: 78.0000 - val_fp: 1011.0000 - val_tn: 44473.0000 - val_fn: 7.0000 - val_accuracy: 0.9777 - val_precision: 0.0716 - val_recall: 0.9176 - val_auc: 0.9766 - val_crossentropy: 0.0920 - val_sensitivity: 1.0000 - val_specificity: 1.0000 - val_cosine_similarity: 0.0019 - val_kl_divergence: 4.5849e-04\n",
      "Epoch 18/100\n",
      "182276/182276 [==============================] - 4s 20us/step - loss: 0.2063 - tp: 277.0000 - fp: 7286.0000 - tn: 174683.0000 - fn: 30.0000 - accuracy: 0.9599 - precision: 0.0366 - recall: 0.9023 - auc: 0.9730 - crossentropy: 0.1428 - sensitivity: 1.0000 - specificity: 1.0000 - cosine_similarity: 0.0017 - kl_divergence: 4.5367e-04 - val_loss: 0.0896 - val_tp: 78.0000 - val_fp: 980.0000 - val_tn: 44504.0000 - val_fn: 7.0000 - val_accuracy: 0.9783 - val_precision: 0.0737 - val_recall: 0.9176 - val_auc: 0.9771 - val_crossentropy: 0.0896 - val_sensitivity: 1.0000 - val_specificity: 1.0000 - val_cosine_similarity: 0.0019 - val_kl_divergence: 4.5942e-04\n",
      "Epoch 19/100\n",
      "182276/182276 [==============================] - 4s 20us/step - loss: 0.2785 - tp: 261.0000 - fp: 7511.0000 - tn: 174458.0000 - fn: 46.0000 - accuracy: 0.9585 - precision: 0.0336 - recall: 0.8502 - auc: 0.9542 - crossentropy: 0.1450 - sensitivity: 1.0000 - specificity: 1.0000 - cosine_similarity: 0.0017 - kl_divergence: 6.9355e-04 - val_loss: 0.0976 - val_tp: 78.0000 - val_fp: 1071.0000 - val_tn: 44413.0000 - val_fn: 7.0000 - val_accuracy: 0.9763 - val_precision: 0.0679 - val_recall: 0.9176 - val_auc: 0.9765 - val_crossentropy: 0.0976 - val_sensitivity: 1.0000 - val_specificity: 1.0000 - val_cosine_similarity: 0.0019 - val_kl_divergence: 4.4660e-04\n",
      "Epoch 20/100\n",
      "182276/182276 [==============================] - 4s 20us/step - loss: 0.2056 - tp: 277.0000 - fp: 7883.0000 - tn: 174086.0000 - fn: 30.0000 - accuracy: 0.9566 - precision: 0.0339 - recall: 0.9023 - auc: 0.9725 - crossentropy: 0.1505 - sensitivity: 1.0000 - specificity: 1.0000 - cosine_similarity: 0.0017 - kl_divergence: 4.3828e-04 - val_loss: 0.0949 - val_tp: 78.0000 - val_fp: 1031.0000 - val_tn: 44453.0000 - val_fn: 7.0000 - val_accuracy: 0.9772 - val_precision: 0.0703 - val_recall: 0.9176 - val_auc: 0.9767 - val_crossentropy: 0.0949 - val_sensitivity: 1.0000 - val_specificity: 1.0000 - val_cosine_similarity: 0.0019 - val_kl_divergence: 4.5146e-04\n",
      "Epoch 21/100\n",
      "182276/182276 [==============================] - 4s 20us/step - loss: 0.1968 - tp: 278.0000 - fp: 7475.0000 - tn: 174494.0000 - fn: 29.0000 - accuracy: 0.9588 - precision: 0.0359 - recall: 0.9055 - auc: 0.9760 - crossentropy: 0.1435 - sensitivity: 1.0000 - specificity: 1.0000 - cosine_similarity: 0.0017 - kl_divergence: 4.2029e-04 - val_loss: 0.0922 - val_tp: 78.0000 - val_fp: 996.0000 - val_tn: 44488.0000 - val_fn: 7.0000 - val_accuracy: 0.9780 - val_precision: 0.0726 - val_recall: 0.9176 - val_auc: 0.9766 - val_crossentropy: 0.0922 - val_sensitivity: 1.0000 - val_specificity: 1.0000 - val_cosine_similarity: 0.0019 - val_kl_divergence: 4.5575e-04\n",
      "Epoch 22/100\n",
      "182276/182276 [==============================] - 4s 22us/step - loss: 0.2524 - tp: 274.0000 - fp: 7229.0000 - tn: 174740.0000 - fn: 33.0000 - accuracy: 0.9602 - precision: 0.0365 - recall: 0.8925 - auc: 0.9602 - crossentropy: 0.1408 - sensitivity: 1.0000 - specificity: 1.0000 - cosine_similarity: 0.0017 - kl_divergence: 6.1246e-04 - val_loss: 0.0914 - val_tp: 78.0000 - val_fp: 983.0000 - val_tn: 44501.0000 - val_fn: 7.0000 - val_accuracy: 0.9783 - val_precision: 0.0735 - val_recall: 0.9176 - val_auc: 0.9767 - val_crossentropy: 0.0914 - val_sensitivity: 1.0000 - val_specificity: 1.0000 - val_cosine_similarity: 0.0019 - val_kl_divergence: 4.5708e-04\n",
      "Epoch 23/100\n",
      "182276/182276 [==============================] - 3s 19us/step - loss: 0.2131 - tp: 276.0000 - fp: 7059.0000 - tn: 174910.0000 - fn: 31.0000 - accuracy: 0.9611 - precision: 0.0376 - recall: 0.8990 - auc: 0.9681 - crossentropy: 0.1369 - sensitivity: 1.0000 - specificity: 1.0000 - cosine_similarity: 0.0017 - kl_divergence: 4.8658e-04 - val_loss: 0.0869 - val_tp: 78.0000 - val_fp: 916.0000 - val_tn: 44568.0000 - val_fn: 7.0000 - val_accuracy: 0.9797 - val_precision: 0.0785 - val_recall: 0.9176 - val_auc: 0.9760 - val_crossentropy: 0.0869 - val_sensitivity: 1.0000 - val_specificity: 1.0000 - val_cosine_similarity: 0.0019 - val_kl_divergence: 4.6475e-04\n",
      "Epoch 24/100\n",
      "182276/182276 [==============================] - 4s 22us/step - loss: 0.2073 - tp: 275.0000 - fp: 6663.0000 - tn: 175306.0000 - fn: 32.0000 - accuracy: 0.9633 - precision: 0.0396 - recall: 0.8958 - auc: 0.9726 - crossentropy: 0.1317 - sensitivity: 1.0000 - specificity: 1.0000 - cosine_similarity: 0.0017 - kl_divergence: 4.7582e-04 - val_loss: 0.0895 - val_tp: 78.0000 - val_fp: 947.0000 - val_tn: 44537.0000 - val_fn: 7.0000 - val_accuracy: 0.9791 - val_precision: 0.0761 - val_recall: 0.9176 - val_auc: 0.9760 - val_crossentropy: 0.0895 - val_sensitivity: 1.0000 - val_specificity: 1.0000 - val_cosine_similarity: 0.0019 - val_kl_divergence: 4.5982e-04\n",
      "Epoch 25/100\n",
      "182276/182276 [==============================] - 4s 21us/step - loss: 0.1945 - tp: 277.0000 - fp: 6704.0000 - tn: 175265.0000 - fn: 30.0000 - accuracy: 0.9631 - precision: 0.0397 - recall: 0.9023 - auc: 0.9747 - crossentropy: 0.1325 - sensitivity: 1.0000 - specificity: 1.0000 - cosine_similarity: 0.0017 - kl_divergence: 4.3115e-04 - val_loss: 0.0897 - val_tp: 78.0000 - val_fp: 950.0000 - val_tn: 44534.0000 - val_fn: 7.0000 - val_accuracy: 0.9790 - val_precision: 0.0759 - val_recall: 0.9176 - val_auc: 0.9770 - val_crossentropy: 0.0897 - val_sensitivity: 1.0000 - val_specificity: 1.0000 - val_cosine_similarity: 0.0019 - val_kl_divergence: 4.5592e-04\n",
      "Epoch 26/100\n",
      "182276/182276 [==============================] - 4s 22us/step - loss: 0.1994 - tp: 275.0000 - fp: 6872.0000 - tn: 175097.0000 - fn: 32.0000 - accuracy: 0.9621 - precision: 0.0385 - recall: 0.8958 - auc: 0.9738 - crossentropy: 0.1341 - sensitivity: 1.0000 - specificity: 1.0000 - cosine_similarity: 0.0017 - kl_divergence: 4.4491e-04 - val_loss: 0.0887 - val_tp: 78.0000 - val_fp: 939.0000 - val_tn: 44545.0000 - val_fn: 7.0000 - val_accuracy: 0.9792 - val_precision: 0.0767 - val_recall: 0.9176 - val_auc: 0.9774 - val_crossentropy: 0.0887 - val_sensitivity: 1.0000 - val_specificity: 1.0000 - val_cosine_similarity: 0.0019 - val_kl_divergence: 4.5246e-04\n",
      "Epoch 27/100\n",
      "182276/182276 [==============================] - 4s 21us/step - loss: 0.1756 - tp: 280.0000 - fp: 6892.0000 - tn: 175077.0000 - fn: 27.0000 - accuracy: 0.9620 - precision: 0.0390 - recall: 0.9121 - auc: 0.9800 - crossentropy: 0.1336 - sensitivity: 1.0000 - specificity: 1.0000 - cosine_similarity: 0.0017 - kl_divergence: 3.6545e-04 - val_loss: 0.0895 - val_tp: 78.0000 - val_fp: 957.0000 - val_tn: 44527.0000 - val_fn: 7.0000 - val_accuracy: 0.9788 - val_precision: 0.0754 - val_recall: 0.9176 - val_auc: 0.9766 - val_crossentropy: 0.0895 - val_sensitivity: 1.0000 - val_specificity: 1.0000 - val_cosine_similarity: 0.0019 - val_kl_divergence: 4.5183e-04\n",
      "Epoch 28/100\n",
      "182276/182276 [==============================] - 5s 27us/step - loss: 0.1850 - tp: 279.0000 - fp: 6633.0000 - tn: 175336.0000 - fn: 28.0000 - accuracy: 0.9635 - precision: 0.0404 - recall: 0.9088 - auc: 0.9763 - crossentropy: 0.1316 - sensitivity: 1.0000 - specificity: 1.0000 - cosine_similarity: 0.0017 - kl_divergence: 4.0073e-04 - val_loss: 0.0868 - val_tp: 78.0000 - val_fp: 899.0000 - val_tn: 44585.0000 - val_fn: 7.0000 - val_accuracy: 0.9801 - val_precision: 0.0798 - val_recall: 0.9176 - val_auc: 0.9770 - val_crossentropy: 0.0868 - val_sensitivity: 1.0000 - val_specificity: 1.0000 - val_cosine_similarity: 0.0019 - val_kl_divergence: 4.5580e-04\n",
      "Epoch 29/100\n",
      "182276/182276 [==============================] - 4s 21us/step - loss: 0.1948 - tp: 274.0000 - fp: 6466.0000 - tn: 175503.0000 - fn: 33.0000 - accuracy: 0.9643 - precision: 0.0407 - recall: 0.8925 - auc: 0.9772 - crossentropy: 0.1279 - sensitivity: 1.0000 - specificity: 1.0000 - cosine_similarity: 0.0017 - kl_divergence: 4.3988e-04 - val_loss: 0.0882 - val_tp: 78.0000 - val_fp: 920.0000 - val_tn: 44564.0000 - val_fn: 7.0000 - val_accuracy: 0.9797 - val_precision: 0.0782 - val_recall: 0.9176 - val_auc: 0.9778 - val_crossentropy: 0.0882 - val_sensitivity: 1.0000 - val_specificity: 1.0000 - val_cosine_similarity: 0.0019 - val_kl_divergence: 4.4953e-04\n",
      "Epoch 30/100\n",
      "182276/182276 [==============================] - 5s 25us/step - loss: 0.2019 - tp: 273.0000 - fp: 6643.0000 - tn: 175326.0000 - fn: 34.0000 - accuracy: 0.9634 - precision: 0.0395 - recall: 0.8893 - auc: 0.9761 - crossentropy: 0.1319 - sensitivity: 1.0000 - specificity: 1.0000 - cosine_similarity: 0.0017 - kl_divergence: 4.5702e-04 - val_loss: 0.0919 - val_tp: 78.0000 - val_fp: 975.0000 - val_tn: 44509.0000 - val_fn: 7.0000 - val_accuracy: 0.9785 - val_precision: 0.0741 - val_recall: 0.9176 - val_auc: 0.9800 - val_crossentropy: 0.0919 - val_sensitivity: 1.0000 - val_specificity: 1.0000 - val_cosine_similarity: 0.0019 - val_kl_divergence: 4.3867e-04\n",
      "Epoch 31/100\n",
      "182276/182276 [==============================] - 4s 24us/step - loss: 0.1898 - tp: 280.0000 - fp: 6615.0000 - tn: 175354.0000 - fn: 27.0000 - accuracy: 0.9636 - precision: 0.0406 - recall: 0.9121 - auc: 0.9756 - crossentropy: 0.1316 - sensitivity: 1.0000 - specificity: 1.0000 - cosine_similarity: 0.0017 - kl_divergence: 4.1692e-04 - val_loss: 0.0876 - val_tp: 78.0000 - val_fp: 888.0000 - val_tn: 44596.0000 - val_fn: 7.0000 - val_accuracy: 0.9804 - val_precision: 0.0807 - val_recall: 0.9176 - val_auc: 0.9783 - val_crossentropy: 0.0876 - val_sensitivity: 1.0000 - val_specificity: 1.0000 - val_cosine_similarity: 0.0019 - val_kl_divergence: 4.4419e-04\n",
      "Epoch 32/100\n",
      "182276/182276 [==============================] - 4s 24us/step - loss: 0.1769 - tp: 279.0000 - fp: 6417.0000 - tn: 175552.0000 - fn: 28.0000 - accuracy: 0.9646 - precision: 0.0417 - recall: 0.9088 - auc: 0.9819 - crossentropy: 0.1277 - sensitivity: 1.0000 - specificity: 1.0000 - cosine_similarity: 0.0017 - kl_divergence: 3.7972e-04 - val_loss: 0.0905 - val_tp: 78.0000 - val_fp: 930.0000 - val_tn: 44554.0000 - val_fn: 7.0000 - val_accuracy: 0.9794 - val_precision: 0.0774 - val_recall: 0.9176 - val_auc: 0.9785 - val_crossentropy: 0.0905 - val_sensitivity: 1.0000 - val_specificity: 1.0000 - val_cosine_similarity: 0.0019 - val_kl_divergence: 4.3537e-04\n",
      "Epoch 33/100\n",
      "182276/182276 [==============================] - 4s 22us/step - loss: 0.1738 - tp: 280.0000 - fp: 6856.0000 - tn: 175113.0000 - fn: 27.0000 - accuracy: 0.9622 - precision: 0.0392 - recall: 0.9121 - auc: 0.9811 - crossentropy: 0.1340 - sensitivity: 1.0000 - specificity: 1.0000 - cosine_similarity: 0.0017 - kl_divergence: 3.5882e-04 - val_loss: 0.0932 - val_tp: 78.0000 - val_fp: 964.0000 - val_tn: 44520.0000 - val_fn: 7.0000 - val_accuracy: 0.9787 - val_precision: 0.0749 - val_recall: 0.9176 - val_auc: 0.9809 - val_crossentropy: 0.0932 - val_sensitivity: 1.0000 - val_specificity: 1.0000 - val_cosine_similarity: 0.0019 - val_kl_divergence: 4.3089e-04\n",
      "Epoch 34/100\n",
      "182276/182276 [==============================] - 4s 19us/step - loss: 0.1832 - tp: 277.0000 - fp: 6647.0000 - tn: 175322.0000 - fn: 30.0000 - accuracy: 0.9634 - precision: 0.0400 - recall: 0.9023 - auc: 0.9786 - crossentropy: 0.1324 - sensitivity: 1.0000 - specificity: 1.0000 - cosine_similarity: 0.0017 - kl_divergence: 3.9328e-04 - val_loss: 0.0916 - val_tp: 78.0000 - val_fp: 944.0000 - val_tn: 44540.0000 - val_fn: 7.0000 - val_accuracy: 0.9791 - val_precision: 0.0763 - val_recall: 0.9176 - val_auc: 0.9803 - val_crossentropy: 0.0916 - val_sensitivity: 1.0000 - val_specificity: 1.0000 - val_cosine_similarity: 0.0019 - val_kl_divergence: 4.3524e-04\n",
      "Epoch 35/100\n",
      "182276/182276 [==============================] - 4s 20us/step - loss: 0.1786 - tp: 281.0000 - fp: 6593.0000 - tn: 175376.0000 - fn: 26.0000 - accuracy: 0.9637 - precision: 0.0409 - recall: 0.9153 - auc: 0.9793 - crossentropy: 0.1295 - sensitivity: 1.0000 - specificity: 1.0000 - cosine_similarity: 0.0017 - kl_divergence: 3.8276e-04 - val_loss: 0.0884 - val_tp: 78.0000 - val_fp: 897.0000 - val_tn: 44587.0000 - val_fn: 7.0000 - val_accuracy: 0.9802 - val_precision: 0.0800 - val_recall: 0.9176 - val_auc: 0.9803 - val_crossentropy: 0.0884 - val_sensitivity: 1.0000 - val_specificity: 1.0000 - val_cosine_similarity: 0.0019 - val_kl_divergence: 4.4321e-04\n",
      "Epoch 36/100\n",
      "182276/182276 [==============================] - 4s 23us/step - loss: 0.1691 - tp: 278.0000 - fp: 6403.0000 - tn: 175566.0000 - fn: 29.0000 - accuracy: 0.9647 - precision: 0.0416 - recall: 0.9055 - auc: 0.9824 - crossentropy: 0.1267 - sensitivity: 1.0000 - specificity: 1.0000 - cosine_similarity: 0.0017 - kl_divergence: 3.5537e-04 - val_loss: 0.0882 - val_tp: 78.0000 - val_fp: 882.0000 - val_tn: 44602.0000 - val_fn: 7.0000 - val_accuracy: 0.9805 - val_precision: 0.0812 - val_recall: 0.9176 - val_auc: 0.9805 - val_crossentropy: 0.0882 - val_sensitivity: 1.0000 - val_specificity: 1.0000 - val_cosine_similarity: 0.0019 - val_kl_divergence: 4.3845e-04\n",
      "Epoch 37/100\n",
      "182276/182276 [==============================] - 4s 23us/step - loss: 0.1859 - tp: 275.0000 - fp: 6370.0000 - tn: 175599.0000 - fn: 32.0000 - accuracy: 0.9649 - precision: 0.0414 - recall: 0.8958 - auc: 0.9771 - crossentropy: 0.1279 - sensitivity: 1.0000 - specificity: 1.0000 - cosine_similarity: 0.0017 - kl_divergence: 4.0987e-04 - val_loss: 0.0925 - val_tp: 78.0000 - val_fp: 947.0000 - val_tn: 44537.0000 - val_fn: 7.0000 - val_accuracy: 0.9791 - val_precision: 0.0761 - val_recall: 0.9176 - val_auc: 0.9811 - val_crossentropy: 0.0925 - val_sensitivity: 1.0000 - val_specificity: 1.0000 - val_cosine_similarity: 0.0019 - val_kl_divergence: 4.3075e-04\n",
      "Epoch 38/100\n",
      "182276/182276 [==============================] - 3s 19us/step - loss: 0.1738 - tp: 278.0000 - fp: 6651.0000 - tn: 175318.0000 - fn: 29.0000 - accuracy: 0.9634 - precision: 0.0401 - recall: 0.9055 - auc: 0.9809 - crossentropy: 0.1309 - sensitivity: 1.0000 - specificity: 1.0000 - cosine_similarity: 0.0017 - kl_divergence: 3.6421e-04 - val_loss: 0.0916 - val_tp: 78.0000 - val_fp: 925.0000 - val_tn: 44559.0000 - val_fn: 7.0000 - val_accuracy: 0.9795 - val_precision: 0.0778 - val_recall: 0.9176 - val_auc: 0.9811 - val_crossentropy: 0.0916 - val_sensitivity: 1.0000 - val_specificity: 1.0000 - val_cosine_similarity: 0.0019 - val_kl_divergence: 4.3209e-04\n",
      "Epoch 39/100\n",
      "182276/182276 [==============================] - 4s 21us/step - loss: 0.1576 - tp: 287.0000 - fp: 6369.0000 - tn: 175600.0000 - fn: 20.0000 - accuracy: 0.9649 - precision: 0.0431 - recall: 0.9349 - auc: 0.9815 - crossentropy: 0.1280 - sensitivity: 1.0000 - specificity: 1.0000 - cosine_similarity: 0.0017 - kl_divergence: 3.1423e-04 - val_loss: 0.0873 - val_tp: 78.0000 - val_fp: 860.0000 - val_tn: 44624.0000 - val_fn: 7.0000 - val_accuracy: 0.9810 - val_precision: 0.0832 - val_recall: 0.9176 - val_auc: 0.9809 - val_crossentropy: 0.0873 - val_sensitivity: 1.0000 - val_specificity: 1.0000 - val_cosine_similarity: 0.0019 - val_kl_divergence: 4.3870e-04\n",
      "Epoch 40/100\n",
      "182276/182276 [==============================] - 4s 20us/step - loss: 0.1811 - tp: 279.0000 - fp: 6051.0000 - tn: 175918.0000 - fn: 28.0000 - accuracy: 0.9666 - precision: 0.0441 - recall: 0.9088 - auc: 0.9774 - crossentropy: 0.1222 - sensitivity: 1.0000 - specificity: 1.0000 - cosine_similarity: 0.0017 - kl_divergence: 4.0321e-04 - val_loss: 0.0850 - val_tp: 78.0000 - val_fp: 835.0000 - val_tn: 44649.0000 - val_fn: 7.0000 - val_accuracy: 0.9815 - val_precision: 0.0854 - val_recall: 0.9176 - val_auc: 0.9808 - val_crossentropy: 0.0850 - val_sensitivity: 1.0000 - val_specificity: 1.0000 - val_cosine_similarity: 0.0019 - val_kl_divergence: 4.4149e-04\n",
      "Epoch 41/100\n",
      "182276/182276 [==============================] - 4s 22us/step - loss: 0.1652 - tp: 279.0000 - fp: 6113.0000 - tn: 175856.0000 - fn: 28.0000 - accuracy: 0.9663 - precision: 0.0436 - recall: 0.9088 - auc: 0.9834 - crossentropy: 0.1223 - sensitivity: 1.0000 - specificity: 1.0000 - cosine_similarity: 0.0017 - kl_divergence: 3.4953e-04 - val_loss: 0.0847 - val_tp: 78.0000 - val_fp: 830.0000 - val_tn: 44654.0000 - val_fn: 7.0000 - val_accuracy: 0.9816 - val_precision: 0.0859 - val_recall: 0.9176 - val_auc: 0.9809 - val_crossentropy: 0.0847 - val_sensitivity: 1.0000 - val_specificity: 1.0000 - val_cosine_similarity: 0.0019 - val_kl_divergence: 4.3701e-04\n",
      "Epoch 42/100\n",
      "182276/182276 [==============================] - 4s 21us/step - loss: 0.1669 - tp: 279.0000 - fp: 6030.0000 - tn: 175939.0000 - fn: 28.0000 - accuracy: 0.9668 - precision: 0.0442 - recall: 0.9088 - auc: 0.9823 - crossentropy: 0.1202 - sensitivity: 1.0000 - specificity: 1.0000 - cosine_similarity: 0.0017 - kl_divergence: 3.5897e-04 - val_loss: 0.0832 - val_tp: 78.0000 - val_fp: 806.0000 - val_tn: 44678.0000 - val_fn: 7.0000 - val_accuracy: 0.9822 - val_precision: 0.0882 - val_recall: 0.9176 - val_auc: 0.9811 - val_crossentropy: 0.0832 - val_sensitivity: 1.0000 - val_specificity: 1.0000 - val_cosine_similarity: 0.0019 - val_kl_divergence: 4.3869e-04\n",
      "Epoch 43/100\n",
      "182276/182276 [==============================] - 4s 19us/step - loss: 0.1558 - tp: 282.0000 - fp: 6085.0000 - tn: 175884.0000 - fn: 25.0000 - accuracy: 0.9665 - precision: 0.0443 - recall: 0.9186 - auc: 0.9848 - crossentropy: 0.1215 - sensitivity: 1.0000 - specificity: 1.0000 - cosine_similarity: 0.0017 - kl_divergence: 3.1932e-04 - val_loss: 0.0834 - val_tp: 78.0000 - val_fp: 808.0000 - val_tn: 44676.0000 - val_fn: 7.0000 - val_accuracy: 0.9821 - val_precision: 0.0880 - val_recall: 0.9176 - val_auc: 0.9812 - val_crossentropy: 0.0834 - val_sensitivity: 1.0000 - val_specificity: 1.0000 - val_cosine_similarity: 0.0019 - val_kl_divergence: 4.4050e-04\n",
      "Epoch 44/100\n",
      "182276/182276 [==============================] - 4s 20us/step - loss: 0.1796 - tp: 279.0000 - fp: 5985.0000 - tn: 175984.0000 - fn: 28.0000 - accuracy: 0.9670 - precision: 0.0445 - recall: 0.9088 - auc: 0.9811 - crossentropy: 0.1211 - sensitivity: 1.0000 - specificity: 1.0000 - cosine_similarity: 0.0017 - kl_divergence: 4.0021e-04 - val_loss: 0.0876 - val_tp: 78.0000 - val_fp: 876.0000 - val_tn: 44608.0000 - val_fn: 7.0000 - val_accuracy: 0.9806 - val_precision: 0.0818 - val_recall: 0.9176 - val_auc: 0.9811 - val_crossentropy: 0.0876 - val_sensitivity: 1.0000 - val_specificity: 1.0000 - val_cosine_similarity: 0.0019 - val_kl_divergence: 4.3058e-04\n",
      "Epoch 45/100\n",
      "182276/182276 [==============================] - 4s 19us/step - loss: 0.1734 - tp: 279.0000 - fp: 6169.0000 - tn: 175800.0000 - fn: 28.0000 - accuracy: 0.9660 - precision: 0.0433 - recall: 0.9088 - auc: 0.9816 - crossentropy: 0.1256 - sensitivity: 1.0000 - specificity: 1.0000 - cosine_similarity: 0.0017 - kl_divergence: 3.7152e-04 - val_loss: 0.0872 - val_tp: 78.0000 - val_fp: 860.0000 - val_tn: 44624.0000 - val_fn: 7.0000 - val_accuracy: 0.9810 - val_precision: 0.0832 - val_recall: 0.9176 - val_auc: 0.9817 - val_crossentropy: 0.0872 - val_sensitivity: 1.0000 - val_specificity: 1.0000 - val_cosine_similarity: 0.0019 - val_kl_divergence: 4.3036e-04\n",
      "Epoch 46/100\n",
      "182276/182276 [==============================] - 3s 18us/step - loss: 0.1871 - tp: 279.0000 - fp: 5992.0000 - tn: 175977.0000 - fn: 28.0000 - accuracy: 0.9670 - precision: 0.0445 - recall: 0.9088 - auc: 0.9751 - crossentropy: 0.1220 - sensitivity: 1.0000 - specificity: 1.0000 - cosine_similarity: 0.0017 - kl_divergence: 4.2399e-04 - val_loss: 0.0846 - val_tp: 78.0000 - val_fp: 825.0000 - val_tn: 44659.0000 - val_fn: 7.0000 - val_accuracy: 0.9817 - val_precision: 0.0864 - val_recall: 0.9176 - val_auc: 0.9813 - val_crossentropy: 0.0846 - val_sensitivity: 1.0000 - val_specificity: 1.0000 - val_cosine_similarity: 0.0019 - val_kl_divergence: 4.3161e-04\n",
      "Epoch 47/100\n",
      "182276/182276 [==============================] - 4s 21us/step - loss: 0.1820 - tp: 277.0000 - fp: 6222.0000 - tn: 175747.0000 - fn: 30.0000 - accuracy: 0.9657 - precision: 0.0426 - recall: 0.9023 - auc: 0.9793 - crossentropy: 0.1236 - sensitivity: 1.0000 - specificity: 1.0000 - cosine_similarity: 0.0017 - kl_divergence: 4.0419e-04 - val_loss: 0.0905 - val_tp: 78.0000 - val_fp: 928.0000 - val_tn: 44556.0000 - val_fn: 7.0000 - val_accuracy: 0.9795 - val_precision: 0.0775 - val_recall: 0.9176 - val_auc: 0.9815 - val_crossentropy: 0.0905 - val_sensitivity: 1.0000 - val_specificity: 1.0000 - val_cosine_similarity: 0.0019 - val_kl_divergence: 4.2158e-04\n",
      "Epoch 48/100\n",
      "182276/182276 [==============================] - 3s 18us/step - loss: 0.1398 - tp: 288.0000 - fp: 6120.0000 - tn: 175849.0000 - fn: 19.0000 - accuracy: 0.9663 - precision: 0.0449 - recall: 0.9381 - auc: 0.9879 - crossentropy: 0.1227 - sensitivity: 1.0000 - specificity: 1.0000 - cosine_similarity: 0.0017 - kl_divergence: 2.6322e-04 - val_loss: 0.0844 - val_tp: 78.0000 - val_fp: 836.0000 - val_tn: 44648.0000 - val_fn: 7.0000 - val_accuracy: 0.9815 - val_precision: 0.0853 - val_recall: 0.9176 - val_auc: 0.9811 - val_crossentropy: 0.0844 - val_sensitivity: 1.0000 - val_specificity: 1.0000 - val_cosine_similarity: 0.0019 - val_kl_divergence: 4.3304e-04\n",
      "Epoch 49/100\n",
      "182276/182276 [==============================] - 4s 21us/step - loss: 0.1481 - tp: 284.0000 - fp: 6061.0000 - tn: 175908.0000 - fn: 23.0000 - accuracy: 0.9666 - precision: 0.0448 - recall: 0.9251 - auc: 0.9852 - crossentropy: 0.1203 - sensitivity: 1.0000 - specificity: 1.0000 - cosine_similarity: 0.0017 - kl_divergence: 2.9522e-04 - val_loss: 0.0856 - val_tp: 78.0000 - val_fp: 849.0000 - val_tn: 44635.0000 - val_fn: 7.0000 - val_accuracy: 0.9812 - val_precision: 0.0841 - val_recall: 0.9176 - val_auc: 0.9809 - val_crossentropy: 0.0856 - val_sensitivity: 1.0000 - val_specificity: 1.0000 - val_cosine_similarity: 0.0019 - val_kl_divergence: 4.3505e-04\n",
      "Epoch 50/100\n",
      "182276/182276 [==============================] - 4s 19us/step - loss: 0.1443 - tp: 283.0000 - fp: 5836.0000 - tn: 176133.0000 - fn: 24.0000 - accuracy: 0.9679 - precision: 0.0462 - recall: 0.9218 - auc: 0.9869 - crossentropy: 0.1167 - sensitivity: 1.0000 - specificity: 1.0000 - cosine_similarity: 0.0017 - kl_divergence: 2.8836e-04 - val_loss: 0.0818 - val_tp: 78.0000 - val_fp: 789.0000 - val_tn: 44695.0000 - val_fn: 7.0000 - val_accuracy: 0.9825 - val_precision: 0.0900 - val_recall: 0.9176 - val_auc: 0.9810 - val_crossentropy: 0.0818 - val_sensitivity: 1.0000 - val_specificity: 1.0000 - val_cosine_similarity: 0.0019 - val_kl_divergence: 4.4116e-04\n",
      "Epoch 51/100\n",
      "182276/182276 [==============================] - 3s 19us/step - loss: 0.1419 - tp: 285.0000 - fp: 5755.0000 - tn: 176214.0000 - fn: 22.0000 - accuracy: 0.9683 - precision: 0.0472 - recall: 0.9283 - auc: 0.9877 - crossentropy: 0.1155 - sensitivity: 1.0000 - specificity: 1.0000 - cosine_similarity: 0.0017 - kl_divergence: 2.8229e-04 - val_loss: 0.0808 - val_tp: 78.0000 - val_fp: 764.0000 - val_tn: 44720.0000 - val_fn: 7.0000 - val_accuracy: 0.9831 - val_precision: 0.0926 - val_recall: 0.9176 - val_auc: 0.9810 - val_crossentropy: 0.0808 - val_sensitivity: 1.0000 - val_specificity: 1.0000 - val_cosine_similarity: 0.0019 - val_kl_divergence: 4.4007e-04\n",
      "Epoch 52/100\n",
      "182276/182276 [==============================] - 3s 18us/step - loss: 0.1711 - tp: 280.0000 - fp: 5847.0000 - tn: 176122.0000 - fn: 27.0000 - accuracy: 0.9678 - precision: 0.0457 - recall: 0.9121 - auc: 0.9801 - crossentropy: 0.1172 - sensitivity: 1.0000 - specificity: 1.0000 - cosine_similarity: 0.0017 - kl_divergence: 3.7821e-04 - val_loss: 0.0828 - val_tp: 78.0000 - val_fp: 795.0000 - val_tn: 44689.0000 - val_fn: 7.0000 - val_accuracy: 0.9824 - val_precision: 0.0893 - val_recall: 0.9176 - val_auc: 0.9816 - val_crossentropy: 0.0828 - val_sensitivity: 1.0000 - val_specificity: 1.0000 - val_cosine_similarity: 0.0019 - val_kl_divergence: 4.3540e-04\n",
      "Epoch 53/100\n",
      "182276/182276 [==============================] - 4s 20us/step - loss: 0.1543 - tp: 284.0000 - fp: 5858.0000 - tn: 176111.0000 - fn: 23.0000 - accuracy: 0.9677 - precision: 0.0462 - recall: 0.9251 - auc: 0.9842 - crossentropy: 0.1170 - sensitivity: 1.0000 - specificity: 1.0000 - cosine_similarity: 0.0017 - kl_divergence: 3.2188e-04 - val_loss: 0.0846 - val_tp: 78.0000 - val_fp: 818.0000 - val_tn: 44666.0000 - val_fn: 7.0000 - val_accuracy: 0.9819 - val_precision: 0.0871 - val_recall: 0.9176 - val_auc: 0.9814 - val_crossentropy: 0.0846 - val_sensitivity: 1.0000 - val_specificity: 1.0000 - val_cosine_similarity: 0.0019 - val_kl_divergence: 4.3366e-04\n",
      "Epoch 54/100\n",
      "182276/182276 [==============================] - 4s 20us/step - loss: 0.1615 - tp: 279.0000 - fp: 6147.0000 - tn: 175822.0000 - fn: 28.0000 - accuracy: 0.9661 - precision: 0.0434 - recall: 0.9088 - auc: 0.9836 - crossentropy: 0.1217 - sensitivity: 1.0000 - specificity: 1.0000 - cosine_similarity: 0.0017 - kl_divergence: 3.3786e-04 - val_loss: 0.0858 - val_tp: 78.0000 - val_fp: 843.0000 - val_tn: 44641.0000 - val_fn: 7.0000 - val_accuracy: 0.9813 - val_precision: 0.0847 - val_recall: 0.9176 - val_auc: 0.9811 - val_crossentropy: 0.0858 - val_sensitivity: 1.0000 - val_specificity: 1.0000 - val_cosine_similarity: 0.0019 - val_kl_divergence: 4.3700e-04\n",
      "Epoch 55/100\n",
      "182276/182276 [==============================] - 3s 18us/step - loss: 0.1572 - tp: 280.0000 - fp: 6195.0000 - tn: 175774.0000 - fn: 27.0000 - accuracy: 0.9659 - precision: 0.0432 - recall: 0.9121 - auc: 0.9852 - crossentropy: 0.1222 - sensitivity: 1.0000 - specificity: 1.0000 - cosine_similarity: 0.0017 - kl_divergence: 3.2263e-04 - val_loss: 0.0878 - val_tp: 78.0000 - val_fp: 873.0000 - val_tn: 44611.0000 - val_fn: 7.0000 - val_accuracy: 0.9807 - val_precision: 0.0820 - val_recall: 0.9176 - val_auc: 0.9809 - val_crossentropy: 0.0878 - val_sensitivity: 1.0000 - val_specificity: 1.0000 - val_cosine_similarity: 0.0019 - val_kl_divergence: 4.3285e-04\n",
      "Epoch 56/100\n",
      "182276/182276 [==============================] - 4s 20us/step - loss: 0.1533 - tp: 283.0000 - fp: 5870.0000 - tn: 176099.0000 - fn: 24.0000 - accuracy: 0.9677 - precision: 0.0460 - recall: 0.9218 - auc: 0.9828 - crossentropy: 0.1173 - sensitivity: 1.0000 - specificity: 1.0000 - cosine_similarity: 0.0017 - kl_divergence: 3.1778e-04 - val_loss: 0.0852 - val_tp: 78.0000 - val_fp: 843.0000 - val_tn: 44641.0000 - val_fn: 7.0000 - val_accuracy: 0.9813 - val_precision: 0.0847 - val_recall: 0.9176 - val_auc: 0.9811 - val_crossentropy: 0.0852 - val_sensitivity: 1.0000 - val_specificity: 1.0000 - val_cosine_similarity: 0.0019 - val_kl_divergence: 4.3617e-04\n",
      "Epoch 57/100\n",
      "182276/182276 [==============================] - 4s 20us/step - loss: 0.1429 - tp: 283.0000 - fp: 5911.0000 - tn: 176058.0000 - fn: 24.0000 - accuracy: 0.9674 - precision: 0.0457 - recall: 0.9218 - auc: 0.9878 - crossentropy: 0.1185 - sensitivity: 1.0000 - specificity: 1.0000 - cosine_similarity: 0.0017 - kl_divergence: 2.8063e-04 - val_loss: 0.0841 - val_tp: 78.0000 - val_fp: 831.0000 - val_tn: 44653.0000 - val_fn: 7.0000 - val_accuracy: 0.9816 - val_precision: 0.0858 - val_recall: 0.9176 - val_auc: 0.9810 - val_crossentropy: 0.0841 - val_sensitivity: 1.0000 - val_specificity: 1.0000 - val_cosine_similarity: 0.0019 - val_kl_divergence: 4.3933e-04\n",
      "Epoch 58/100\n",
      "182276/182276 [==============================] - 4s 19us/step - loss: 0.1638 - tp: 281.0000 - fp: 5593.0000 - tn: 176376.0000 - fn: 26.0000 - accuracy: 0.9692 - precision: 0.0478 - recall: 0.9153 - auc: 0.9814 - crossentropy: 0.1144 - sensitivity: 1.0000 - specificity: 1.0000 - cosine_similarity: 0.0017 - kl_divergence: 3.5811e-04 - val_loss: 0.0811 - val_tp: 78.0000 - val_fp: 763.0000 - val_tn: 44721.0000 - val_fn: 7.0000 - val_accuracy: 0.9831 - val_precision: 0.0927 - val_recall: 0.9176 - val_auc: 0.9814 - val_crossentropy: 0.0811 - val_sensitivity: 1.0000 - val_specificity: 1.0000 - val_cosine_similarity: 0.0019 - val_kl_divergence: 4.4135e-04\n",
      "Epoch 59/100\n",
      "182276/182276 [==============================] - 4s 19us/step - loss: 0.1523 - tp: 283.0000 - fp: 5431.0000 - tn: 176538.0000 - fn: 24.0000 - accuracy: 0.9701 - precision: 0.0495 - recall: 0.9218 - auc: 0.9839 - crossentropy: 0.1100 - sensitivity: 1.0000 - specificity: 1.0000 - cosine_similarity: 0.0017 - kl_divergence: 3.2660e-04 - val_loss: 0.0760 - val_tp: 78.0000 - val_fp: 686.0000 - val_tn: 44798.0000 - val_fn: 7.0000 - val_accuracy: 0.9848 - val_precision: 0.1021 - val_recall: 0.9176 - val_auc: 0.9813 - val_crossentropy: 0.0760 - val_sensitivity: 1.0000 - val_specificity: 1.0000 - val_cosine_similarity: 0.0019 - val_kl_divergence: 4.5358e-04\n",
      "Epoch 60/100\n",
      "182276/182276 [==============================] - 3s 19us/step - loss: 0.1511 - tp: 282.0000 - fp: 5245.0000 - tn: 176724.0000 - fn: 25.0000 - accuracy: 0.9711 - precision: 0.0510 - recall: 0.9186 - auc: 0.9841 - crossentropy: 0.1089 - sensitivity: 1.0000 - specificity: 1.0000 - cosine_similarity: 0.0017 - kl_divergence: 3.2448e-04 - val_loss: 0.0770 - val_tp: 78.0000 - val_fp: 710.0000 - val_tn: 44774.0000 - val_fn: 7.0000 - val_accuracy: 0.9843 - val_precision: 0.0990 - val_recall: 0.9176 - val_auc: 0.9814 - val_crossentropy: 0.0770 - val_sensitivity: 1.0000 - val_specificity: 1.0000 - val_cosine_similarity: 0.0019 - val_kl_divergence: 4.5120e-04\n",
      "Epoch 61/100\n",
      "182276/182276 [==============================] - 4s 20us/step - loss: 0.1597 - tp: 278.0000 - fp: 5240.0000 - tn: 176729.0000 - fn: 29.0000 - accuracy: 0.9711 - precision: 0.0504 - recall: 0.9055 - auc: 0.9821 - crossentropy: 0.1083 - sensitivity: 1.0000 - specificity: 1.0000 - cosine_similarity: 0.0017 - kl_divergence: 3.5472e-04 - val_loss: 0.0774 - val_tp: 78.0000 - val_fp: 709.0000 - val_tn: 44775.0000 - val_fn: 7.0000 - val_accuracy: 0.9843 - val_precision: 0.0991 - val_recall: 0.9176 - val_auc: 0.9815 - val_crossentropy: 0.0774 - val_sensitivity: 1.0000 - val_specificity: 1.0000 - val_cosine_similarity: 0.0019 - val_kl_divergence: 4.4710e-04\n",
      "Epoch 62/100\n",
      "182276/182276 [==============================] - 4s 20us/step - loss: 0.1512 - tp: 282.0000 - fp: 5614.0000 - tn: 176355.0000 - fn: 25.0000 - accuracy: 0.9691 - precision: 0.0478 - recall: 0.9186 - auc: 0.9859 - crossentropy: 0.1135 - sensitivity: 1.0000 - specificity: 1.0000 - cosine_similarity: 0.0017 - kl_divergence: 3.1732e-04 - val_loss: 0.0814 - val_tp: 78.0000 - val_fp: 784.0000 - val_tn: 44700.0000 - val_fn: 7.0000 - val_accuracy: 0.9826 - val_precision: 0.0905 - val_recall: 0.9176 - val_auc: 0.9812 - val_crossentropy: 0.0814 - val_sensitivity: 1.0000 - val_specificity: 1.0000 - val_cosine_similarity: 0.0019 - val_kl_divergence: 4.4014e-04\n",
      "Epoch 63/100\n",
      "182276/182276 [==============================] - 4s 20us/step - loss: 0.1617 - tp: 284.0000 - fp: 5542.0000 - tn: 176427.0000 - fn: 23.0000 - accuracy: 0.9695 - precision: 0.0487 - recall: 0.9251 - auc: 0.9820 - crossentropy: 0.1125 - sensitivity: 1.0000 - specificity: 1.0000 - cosine_similarity: 0.0017 - kl_divergence: 3.5411e-04 - val_loss: 0.0789 - val_tp: 78.0000 - val_fp: 751.0000 - val_tn: 44733.0000 - val_fn: 7.0000 - val_accuracy: 0.9834 - val_precision: 0.0941 - val_recall: 0.9176 - val_auc: 0.9814 - val_crossentropy: 0.0789 - val_sensitivity: 1.0000 - val_specificity: 1.0000 - val_cosine_similarity: 0.0019 - val_kl_divergence: 4.4496e-04\n",
      "Epoch 64/100\n",
      "182276/182276 [==============================] - 4s 20us/step - loss: 0.1455 - tp: 284.0000 - fp: 5346.0000 - tn: 176623.0000 - fn: 23.0000 - accuracy: 0.9705 - precision: 0.0504 - recall: 0.9251 - auc: 0.9858 - crossentropy: 0.1094 - sensitivity: 1.0000 - specificity: 1.0000 - cosine_similarity: 0.0017 - kl_divergence: 3.0477e-04 - val_loss: 0.0754 - val_tp: 78.0000 - val_fp: 688.0000 - val_tn: 44796.0000 - val_fn: 7.0000 - val_accuracy: 0.9847 - val_precision: 0.1018 - val_recall: 0.9176 - val_auc: 0.9818 - val_crossentropy: 0.0754 - val_sensitivity: 1.0000 - val_specificity: 1.0000 - val_cosine_similarity: 0.0019 - val_kl_divergence: 4.4901e-04\n",
      "Epoch 65/100\n",
      "182276/182276 [==============================] - 3s 18us/step - loss: 0.1501 - tp: 281.0000 - fp: 5157.0000 - tn: 176812.0000 - fn: 26.0000 - accuracy: 0.9716 - precision: 0.0517 - recall: 0.9153 - auc: 0.9861 - crossentropy: 0.1052 - sensitivity: 1.0000 - specificity: 1.0000 - cosine_similarity: 0.0017 - kl_divergence: 3.2754e-04 - val_loss: 0.0778 - val_tp: 78.0000 - val_fp: 738.0000 - val_tn: 44746.0000 - val_fn: 7.0000 - val_accuracy: 0.9837 - val_precision: 0.0956 - val_recall: 0.9176 - val_auc: 0.9820 - val_crossentropy: 0.0778 - val_sensitivity: 1.0000 - val_specificity: 1.0000 - val_cosine_similarity: 0.0019 - val_kl_divergence: 4.4403e-04\n",
      "Epoch 66/100\n",
      "182276/182276 [==============================] - 4s 22us/step - loss: 0.1582 - tp: 284.0000 - fp: 5434.0000 - tn: 176535.0000 - fn: 23.0000 - accuracy: 0.9701 - precision: 0.0497 - recall: 0.9251 - auc: 0.9837 - crossentropy: 0.1112 - sensitivity: 1.0000 - specificity: 1.0000 - cosine_similarity: 0.0017 - kl_divergence: 3.4470e-04 - val_loss: 0.0778 - val_tp: 78.0000 - val_fp: 725.0000 - val_tn: 44759.0000 - val_fn: 7.0000 - val_accuracy: 0.9839 - val_precision: 0.0971 - val_recall: 0.9176 - val_auc: 0.9817 - val_crossentropy: 0.0778 - val_sensitivity: 1.0000 - val_specificity: 1.0000 - val_cosine_similarity: 0.0019 - val_kl_divergence: 4.4829e-04\n",
      "Epoch 67/100\n",
      "182276/182276 [==============================] - 3s 19us/step - loss: 0.1622 - tp: 279.0000 - fp: 5631.0000 - tn: 176338.0000 - fn: 28.0000 - accuracy: 0.9690 - precision: 0.0472 - recall: 0.9088 - auc: 0.9835 - crossentropy: 0.1123 - sensitivity: 1.0000 - specificity: 1.0000 - cosine_similarity: 0.0017 - kl_divergence: 3.5613e-04 - val_loss: 0.0798 - val_tp: 78.0000 - val_fp: 774.0000 - val_tn: 44710.0000 - val_fn: 7.0000 - val_accuracy: 0.9829 - val_precision: 0.0915 - val_recall: 0.9176 - val_auc: 0.9816 - val_crossentropy: 0.0798 - val_sensitivity: 1.0000 - val_specificity: 1.0000 - val_cosine_similarity: 0.0019 - val_kl_divergence: 4.4773e-04\n",
      "Epoch 68/100\n",
      "182276/182276 [==============================] - 4s 20us/step - loss: 0.1422 - tp: 284.0000 - fp: 5577.0000 - tn: 176392.0000 - fn: 23.0000 - accuracy: 0.9693 - precision: 0.0485 - recall: 0.9251 - auc: 0.9874 - crossentropy: 0.1123 - sensitivity: 1.0000 - specificity: 1.0000 - cosine_similarity: 0.0017 - kl_divergence: 2.8897e-04 - val_loss: 0.0766 - val_tp: 78.0000 - val_fp: 720.0000 - val_tn: 44764.0000 - val_fn: 7.0000 - val_accuracy: 0.9840 - val_precision: 0.0977 - val_recall: 0.9176 - val_auc: 0.9816 - val_crossentropy: 0.0766 - val_sensitivity: 1.0000 - val_specificity: 1.0000 - val_cosine_similarity: 0.0019 - val_kl_divergence: 4.5424e-04\n",
      "Epoch 69/100\n",
      "182276/182276 [==============================] - 3s 18us/step - loss: 0.1675 - tp: 280.0000 - fp: 5270.0000 - tn: 176699.0000 - fn: 27.0000 - accuracy: 0.9709 - precision: 0.0505 - recall: 0.9121 - auc: 0.9816 - crossentropy: 0.1074 - sensitivity: 1.0000 - specificity: 1.0000 - cosine_similarity: 0.0017 - kl_divergence: 3.8251e-04 - val_loss: 0.0767 - val_tp: 78.0000 - val_fp: 715.0000 - val_tn: 44769.0000 - val_fn: 7.0000 - val_accuracy: 0.9842 - val_precision: 0.0984 - val_recall: 0.9176 - val_auc: 0.9818 - val_crossentropy: 0.0767 - val_sensitivity: 1.0000 - val_specificity: 1.0000 - val_cosine_similarity: 0.0019 - val_kl_divergence: 4.5273e-04\n",
      "Epoch 70/100\n",
      "182276/182276 [==============================] - 4s 22us/step - loss: 0.1548 - tp: 279.0000 - fp: 5518.0000 - tn: 176451.0000 - fn: 28.0000 - accuracy: 0.9696 - precision: 0.0481 - recall: 0.9088 - auc: 0.9853 - crossentropy: 0.1109 - sensitivity: 1.0000 - specificity: 1.0000 - cosine_similarity: 0.0017 - kl_divergence: 3.3386e-04 - val_loss: 0.0790 - val_tp: 78.0000 - val_fp: 740.0000 - val_tn: 44744.0000 - val_fn: 7.0000 - val_accuracy: 0.9836 - val_precision: 0.0954 - val_recall: 0.9176 - val_auc: 0.9822 - val_crossentropy: 0.0790 - val_sensitivity: 1.0000 - val_specificity: 1.0000 - val_cosine_similarity: 0.0019 - val_kl_divergence: 4.4779e-04\n",
      "Epoch 71/100\n",
      "182276/182276 [==============================] - 4s 20us/step - loss: 0.1667 - tp: 280.0000 - fp: 5372.0000 - tn: 176597.0000 - fn: 27.0000 - accuracy: 0.9704 - precision: 0.0495 - recall: 0.9121 - auc: 0.9806 - crossentropy: 0.1096 - sensitivity: 1.0000 - specificity: 1.0000 - cosine_similarity: 0.0017 - kl_divergence: 3.7586e-04 - val_loss: 0.0768 - val_tp: 78.0000 - val_fp: 728.0000 - val_tn: 44756.0000 - val_fn: 7.0000 - val_accuracy: 0.9839 - val_precision: 0.0968 - val_recall: 0.9176 - val_auc: 0.9820 - val_crossentropy: 0.0768 - val_sensitivity: 1.0000 - val_specificity: 1.0000 - val_cosine_similarity: 0.0019 - val_kl_divergence: 4.5523e-04\n",
      "Epoch 72/100\n",
      "182276/182276 [==============================] - 3s 19us/step - loss: 0.1616 - tp: 280.0000 - fp: 5525.0000 - tn: 176444.0000 - fn: 27.0000 - accuracy: 0.9695 - precision: 0.0482 - recall: 0.9121 - auc: 0.9834 - crossentropy: 0.1112 - sensitivity: 1.0000 - specificity: 1.0000 - cosine_similarity: 0.0017 - kl_divergence: 3.5607e-04 - val_loss: 0.0802 - val_tp: 78.0000 - val_fp: 789.0000 - val_tn: 44695.0000 - val_fn: 7.0000 - val_accuracy: 0.9825 - val_precision: 0.0900 - val_recall: 0.9176 - val_auc: 0.9819 - val_crossentropy: 0.0802 - val_sensitivity: 1.0000 - val_specificity: 1.0000 - val_cosine_similarity: 0.0019 - val_kl_divergence: 4.4615e-04\n",
      "Epoch 73/100\n",
      "182276/182276 [==============================] - 4s 20us/step - loss: 0.1366 - tp: 286.0000 - fp: 5479.0000 - tn: 176490.0000 - fn: 21.0000 - accuracy: 0.9698 - precision: 0.0496 - recall: 0.9316 - auc: 0.9883 - crossentropy: 0.1108 - sensitivity: 1.0000 - specificity: 1.0000 - cosine_similarity: 0.0017 - kl_divergence: 2.7240e-04 - val_loss: 0.0774 - val_tp: 78.0000 - val_fp: 732.0000 - val_tn: 44752.0000 - val_fn: 7.0000 - val_accuracy: 0.9838 - val_precision: 0.0963 - val_recall: 0.9176 - val_auc: 0.9820 - val_crossentropy: 0.0774 - val_sensitivity: 1.0000 - val_specificity: 1.0000 - val_cosine_similarity: 0.0019 - val_kl_divergence: 4.4917e-04\n",
      "Epoch 74/100\n",
      "182276/182276 [==============================] - 4s 20us/step - loss: 0.1580 - tp: 282.0000 - fp: 5254.0000 - tn: 176715.0000 - fn: 25.0000 - accuracy: 0.9710 - precision: 0.0509 - recall: 0.9186 - auc: 0.9826 - crossentropy: 0.1080 - sensitivity: 1.0000 - specificity: 1.0000 - cosine_similarity: 0.0017 - kl_divergence: 3.4938e-04 - val_loss: 0.0769 - val_tp: 78.0000 - val_fp: 735.0000 - val_tn: 44749.0000 - val_fn: 7.0000 - val_accuracy: 0.9837 - val_precision: 0.0959 - val_recall: 0.9176 - val_auc: 0.9820 - val_crossentropy: 0.0769 - val_sensitivity: 1.0000 - val_specificity: 1.0000 - val_cosine_similarity: 0.0019 - val_kl_divergence: 4.4827e-04\n",
      "Epoch 75/100\n",
      "182276/182276 [==============================] - 4s 23us/step - loss: 0.1678 - tp: 276.0000 - fp: 5564.0000 - tn: 176405.0000 - fn: 31.0000 - accuracy: 0.9693 - precision: 0.0473 - recall: 0.8990 - auc: 0.9836 - crossentropy: 0.1140 - sensitivity: 1.0000 - specificity: 1.0000 - cosine_similarity: 0.0017 - kl_divergence: 3.7249e-04 - val_loss: 0.0811 - val_tp: 78.0000 - val_fp: 791.0000 - val_tn: 44693.0000 - val_fn: 7.0000 - val_accuracy: 0.9825 - val_precision: 0.0898 - val_recall: 0.9176 - val_auc: 0.9818 - val_crossentropy: 0.0811 - val_sensitivity: 1.0000 - val_specificity: 1.0000 - val_cosine_similarity: 0.0019 - val_kl_divergence: 4.4188e-04\n",
      "Epoch 76/100\n",
      "182276/182276 [==============================] - 3s 19us/step - loss: 0.1583 - tp: 281.0000 - fp: 5755.0000 - tn: 176214.0000 - fn: 26.0000 - accuracy: 0.9683 - precision: 0.0466 - recall: 0.9153 - auc: 0.9853 - crossentropy: 0.1156 - sensitivity: 1.0000 - specificity: 1.0000 - cosine_similarity: 0.0017 - kl_divergence: 3.3753e-04 - val_loss: 0.0823 - val_tp: 78.0000 - val_fp: 812.0000 - val_tn: 44672.0000 - val_fn: 7.0000 - val_accuracy: 0.9820 - val_precision: 0.0876 - val_recall: 0.9176 - val_auc: 0.9820 - val_crossentropy: 0.0823 - val_sensitivity: 1.0000 - val_specificity: 1.0000 - val_cosine_similarity: 0.0019 - val_kl_divergence: 4.3870e-04\n",
      "Epoch 77/100\n",
      "182276/182276 [==============================] - 4s 20us/step - loss: 0.1550 - tp: 282.0000 - fp: 5854.0000 - tn: 176115.0000 - fn: 25.0000 - accuracy: 0.9677 - precision: 0.0460 - recall: 0.9186 - auc: 0.9848 - crossentropy: 0.1170 - sensitivity: 1.0000 - specificity: 1.0000 - cosine_similarity: 0.0017 - kl_divergence: 3.2419e-04 - val_loss: 0.0827 - val_tp: 78.0000 - val_fp: 839.0000 - val_tn: 44645.0000 - val_fn: 7.0000 - val_accuracy: 0.9814 - val_precision: 0.0851 - val_recall: 0.9176 - val_auc: 0.9823 - val_crossentropy: 0.0827 - val_sensitivity: 1.0000 - val_specificity: 1.0000 - val_cosine_similarity: 0.0019 - val_kl_divergence: 4.3407e-04\n",
      "Epoch 78/100\n",
      "182276/182276 [==============================] - 4s 20us/step - loss: 0.1465 - tp: 283.0000 - fp: 5834.0000 - tn: 176135.0000 - fn: 24.0000 - accuracy: 0.9679 - precision: 0.0463 - recall: 0.9218 - auc: 0.9881 - crossentropy: 0.1149 - sensitivity: 1.0000 - specificity: 1.0000 - cosine_similarity: 0.0017 - kl_divergence: 2.9879e-04 - val_loss: 0.0839 - val_tp: 78.0000 - val_fp: 844.0000 - val_tn: 44640.0000 - val_fn: 7.0000 - val_accuracy: 0.9813 - val_precision: 0.0846 - val_recall: 0.9176 - val_auc: 0.9823 - val_crossentropy: 0.0839 - val_sensitivity: 1.0000 - val_specificity: 1.0000 - val_cosine_similarity: 0.0019 - val_kl_divergence: 4.3158e-04\n",
      "Epoch 79/100\n",
      "182276/182276 [==============================] - 4s 20us/step - loss: 0.1362 - tp: 284.0000 - fp: 5823.0000 - tn: 176146.0000 - fn: 23.0000 - accuracy: 0.9679 - precision: 0.0465 - recall: 0.9251 - auc: 0.9892 - crossentropy: 0.1163 - sensitivity: 1.0000 - specificity: 1.0000 - cosine_similarity: 0.0017 - kl_divergence: 2.6179e-04 - val_loss: 0.0812 - val_tp: 78.0000 - val_fp: 817.0000 - val_tn: 44667.0000 - val_fn: 7.0000 - val_accuracy: 0.9819 - val_precision: 0.0872 - val_recall: 0.9176 - val_auc: 0.9826 - val_crossentropy: 0.0812 - val_sensitivity: 1.0000 - val_specificity: 1.0000 - val_cosine_similarity: 0.0019 - val_kl_divergence: 4.3504e-04\n",
      "Epoch 80/100\n",
      "182276/182276 [==============================] - 3s 18us/step - loss: 0.1501 - tp: 280.0000 - fp: 5774.0000 - tn: 176195.0000 - fn: 27.0000 - accuracy: 0.9682 - precision: 0.0463 - recall: 0.9121 - auc: 0.9857 - crossentropy: 0.1132 - sensitivity: 1.0000 - specificity: 1.0000 - cosine_similarity: 0.0017 - kl_divergence: 3.1403e-04 - val_loss: 0.0811 - val_tp: 78.0000 - val_fp: 811.0000 - val_tn: 44673.0000 - val_fn: 7.0000 - val_accuracy: 0.9820 - val_precision: 0.0877 - val_recall: 0.9176 - val_auc: 0.9825 - val_crossentropy: 0.0811 - val_sensitivity: 1.0000 - val_specificity: 1.0000 - val_cosine_similarity: 0.0019 - val_kl_divergence: 4.3316e-04\n",
      "Epoch 81/100\n",
      "182276/182276 [==============================] - 4s 20us/step - loss: 0.1491 - tp: 282.0000 - fp: 5629.0000 - tn: 176340.0000 - fn: 25.0000 - accuracy: 0.9690 - precision: 0.0477 - recall: 0.9186 - auc: 0.9863 - crossentropy: 0.1128 - sensitivity: 1.0000 - specificity: 1.0000 - cosine_similarity: 0.0017 - kl_divergence: 3.1143e-04 - val_loss: 0.0770 - val_tp: 78.0000 - val_fp: 749.0000 - val_tn: 44735.0000 - val_fn: 7.0000 - val_accuracy: 0.9834 - val_precision: 0.0943 - val_recall: 0.9176 - val_auc: 0.9829 - val_crossentropy: 0.0770 - val_sensitivity: 1.0000 - val_specificity: 1.0000 - val_cosine_similarity: 0.0019 - val_kl_divergence: 4.4359e-04\n",
      "Epoch 82/100\n",
      "182276/182276 [==============================] - 3s 18us/step - loss: 0.1464 - tp: 282.0000 - fp: 5564.0000 - tn: 176405.0000 - fn: 25.0000 - accuracy: 0.9693 - precision: 0.0482 - recall: 0.9186 - auc: 0.9864 - crossentropy: 0.1117 - sensitivity: 1.0000 - specificity: 1.0000 - cosine_similarity: 0.0017 - kl_divergence: 3.0416e-04 - val_loss: 0.0804 - val_tp: 78.0000 - val_fp: 796.0000 - val_tn: 44688.0000 - val_fn: 7.0000 - val_accuracy: 0.9824 - val_precision: 0.0892 - val_recall: 0.9176 - val_auc: 0.9809 - val_crossentropy: 0.0804 - val_sensitivity: 1.0000 - val_specificity: 1.0000 - val_cosine_similarity: 0.0019 - val_kl_divergence: 4.4726e-04\n",
      "Epoch 83/100\n",
      "182276/182276 [==============================] - 4s 19us/step - loss: 0.1575 - tp: 278.0000 - fp: 5615.0000 - tn: 176354.0000 - fn: 29.0000 - accuracy: 0.9690 - precision: 0.0472 - recall: 0.9055 - auc: 0.9843 - crossentropy: 0.1128 - sensitivity: 1.0000 - specificity: 1.0000 - cosine_similarity: 0.0017 - kl_divergence: 3.3986e-04 - val_loss: 0.0802 - val_tp: 78.0000 - val_fp: 796.0000 - val_tn: 44688.0000 - val_fn: 7.0000 - val_accuracy: 0.9824 - val_precision: 0.0892 - val_recall: 0.9176 - val_auc: 0.9811 - val_crossentropy: 0.0802 - val_sensitivity: 1.0000 - val_specificity: 1.0000 - val_cosine_similarity: 0.0019 - val_kl_divergence: 4.4782e-04\n",
      "Epoch 84/100\n",
      "182276/182276 [==============================] - 4s 21us/step - loss: 0.1519 - tp: 284.0000 - fp: 5567.0000 - tn: 176402.0000 - fn: 23.0000 - accuracy: 0.9693 - precision: 0.0485 - recall: 0.9251 - auc: 0.9851 - crossentropy: 0.1127 - sensitivity: 1.0000 - specificity: 1.0000 - cosine_similarity: 0.0017 - kl_divergence: 3.2085e-04 - val_loss: 0.0779 - val_tp: 78.0000 - val_fp: 771.0000 - val_tn: 44713.0000 - val_fn: 7.0000 - val_accuracy: 0.9829 - val_precision: 0.0919 - val_recall: 0.9176 - val_auc: 0.9812 - val_crossentropy: 0.0779 - val_sensitivity: 1.0000 - val_specificity: 1.0000 - val_cosine_similarity: 0.0019 - val_kl_divergence: 4.5335e-04\n",
      "Epoch 85/100\n",
      "182276/182276 [==============================] - 4s 24us/step - loss: 0.1213 - tp: 287.0000 - fp: 5142.0000 - tn: 176827.0000 - fn: 20.0000 - accuracy: 0.9717 - precision: 0.0529 - recall: 0.9349 - auc: 0.9904 - crossentropy: 0.1063 - sensitivity: 1.0000 - specificity: 1.0000 - cosine_similarity: 0.0017 - kl_divergence: 2.2866e-04 - val_loss: 0.0723 - val_tp: 78.0000 - val_fp: 699.0000 - val_tn: 44785.0000 - val_fn: 7.0000 - val_accuracy: 0.9845 - val_precision: 0.1004 - val_recall: 0.9176 - val_auc: 0.9809 - val_crossentropy: 0.0723 - val_sensitivity: 1.0000 - val_specificity: 1.0000 - val_cosine_similarity: 0.0019 - val_kl_divergence: 4.6773e-04\n",
      "Epoch 86/100\n",
      "182276/182276 [==============================] - 4s 21us/step - loss: 0.1323 - tp: 283.0000 - fp: 5150.0000 - tn: 176819.0000 - fn: 24.0000 - accuracy: 0.9716 - precision: 0.0521 - recall: 0.9218 - auc: 0.9900 - crossentropy: 0.1050 - sensitivity: 1.0000 - specificity: 1.0000 - cosine_similarity: 0.0017 - kl_divergence: 2.6761e-04 - val_loss: 0.0737 - val_tp: 78.0000 - val_fp: 710.0000 - val_tn: 44774.0000 - val_fn: 7.0000 - val_accuracy: 0.9843 - val_precision: 0.0990 - val_recall: 0.9176 - val_auc: 0.9810 - val_crossentropy: 0.0737 - val_sensitivity: 1.0000 - val_specificity: 1.0000 - val_cosine_similarity: 0.0019 - val_kl_divergence: 4.6269e-04\n",
      "Epoch 87/100\n",
      "182276/182276 [==============================] - 4s 20us/step - loss: 0.1574 - tp: 277.0000 - fp: 5254.0000 - tn: 176715.0000 - fn: 30.0000 - accuracy: 0.9710 - precision: 0.0501 - recall: 0.9023 - auc: 0.9862 - crossentropy: 0.1071 - sensitivity: 1.0000 - specificity: 1.0000 - cosine_similarity: 0.0017 - kl_divergence: 3.4893e-04 - val_loss: 0.0775 - val_tp: 78.0000 - val_fp: 767.0000 - val_tn: 44717.0000 - val_fn: 7.0000 - val_accuracy: 0.9830 - val_precision: 0.0923 - val_recall: 0.9176 - val_auc: 0.9807 - val_crossentropy: 0.0775 - val_sensitivity: 1.0000 - val_specificity: 1.0000 - val_cosine_similarity: 0.0019 - val_kl_divergence: 4.5576e-04\n",
      "Epoch 88/100\n",
      "182276/182276 [==============================] - 4s 21us/step - loss: 0.1416 - tp: 284.0000 - fp: 5743.0000 - tn: 176226.0000 - fn: 23.0000 - accuracy: 0.9684 - precision: 0.0471 - recall: 0.9251 - auc: 0.9879 - crossentropy: 0.1141 - sensitivity: 1.0000 - specificity: 1.0000 - cosine_similarity: 0.0017 - kl_divergence: 2.8365e-04 - val_loss: 0.0805 - val_tp: 78.0000 - val_fp: 819.0000 - val_tn: 44665.0000 - val_fn: 7.0000 - val_accuracy: 0.9819 - val_precision: 0.0870 - val_recall: 0.9176 - val_auc: 0.9814 - val_crossentropy: 0.0805 - val_sensitivity: 1.0000 - val_specificity: 1.0000 - val_cosine_similarity: 0.0019 - val_kl_divergence: 4.4490e-04\n",
      "Epoch 89/100\n",
      "182276/182276 [==============================] - 4s 20us/step - loss: 0.1419 - tp: 283.0000 - fp: 5777.0000 - tn: 176192.0000 - fn: 24.0000 - accuracy: 0.9682 - precision: 0.0467 - recall: 0.9218 - auc: 0.9876 - crossentropy: 0.1148 - sensitivity: 1.0000 - specificity: 1.0000 - cosine_similarity: 0.0017 - kl_divergence: 2.8348e-04 - val_loss: 0.0784 - val_tp: 78.0000 - val_fp: 794.0000 - val_tn: 44690.0000 - val_fn: 7.0000 - val_accuracy: 0.9824 - val_precision: 0.0894 - val_recall: 0.9176 - val_auc: 0.9811 - val_crossentropy: 0.0784 - val_sensitivity: 1.0000 - val_specificity: 1.0000 - val_cosine_similarity: 0.0019 - val_kl_divergence: 4.5350e-04\n",
      "Epoch 90/100\n",
      "182276/182276 [==============================] - 4s 21us/step - loss: 0.1336 - tp: 282.0000 - fp: 5764.0000 - tn: 176205.0000 - fn: 25.0000 - accuracy: 0.9682 - precision: 0.0466 - recall: 0.9186 - auc: 0.9904 - crossentropy: 0.1139 - sensitivity: 1.0000 - specificity: 1.0000 - cosine_similarity: 0.0017 - kl_divergence: 2.5707e-04 - val_loss: 0.0791 - val_tp: 78.0000 - val_fp: 815.0000 - val_tn: 44669.0000 - val_fn: 7.0000 - val_accuracy: 0.9820 - val_precision: 0.0873 - val_recall: 0.9176 - val_auc: 0.9814 - val_crossentropy: 0.0791 - val_sensitivity: 1.0000 - val_specificity: 1.0000 - val_cosine_similarity: 0.0019 - val_kl_divergence: 4.5068e-04\n",
      "Epoch 91/100\n",
      "182276/182276 [==============================] - 3s 19us/step - loss: 0.1574 - tp: 282.0000 - fp: 5608.0000 - tn: 176361.0000 - fn: 25.0000 - accuracy: 0.9691 - precision: 0.0479 - recall: 0.9186 - auc: 0.9850 - crossentropy: 0.1130 - sensitivity: 1.0000 - specificity: 1.0000 - cosine_similarity: 0.0017 - kl_divergence: 3.3883e-04 - val_loss: 0.0798 - val_tp: 78.0000 - val_fp: 835.0000 - val_tn: 44649.0000 - val_fn: 7.0000 - val_accuracy: 0.9815 - val_precision: 0.0854 - val_recall: 0.9176 - val_auc: 0.9811 - val_crossentropy: 0.0798 - val_sensitivity: 1.0000 - val_specificity: 1.0000 - val_cosine_similarity: 0.0019 - val_kl_divergence: 4.5482e-04\n",
      "Epoch 92/100\n",
      "182276/182276 [==============================] - 4s 20us/step - loss: 0.1315 - tp: 283.0000 - fp: 5593.0000 - tn: 176376.0000 - fn: 24.0000 - accuracy: 0.9692 - precision: 0.0482 - recall: 0.9218 - auc: 0.9899 - crossentropy: 0.1125 - sensitivity: 1.0000 - specificity: 1.0000 - cosine_similarity: 0.0017 - kl_divergence: 2.5220e-04 - val_loss: 0.0771 - val_tp: 78.0000 - val_fp: 791.0000 - val_tn: 44693.0000 - val_fn: 7.0000 - val_accuracy: 0.9825 - val_precision: 0.0898 - val_recall: 0.9176 - val_auc: 0.9810 - val_crossentropy: 0.0771 - val_sensitivity: 1.0000 - val_specificity: 1.0000 - val_cosine_similarity: 0.0019 - val_kl_divergence: 4.6148e-04\n",
      "Epoch 93/100\n",
      "182276/182276 [==============================] - 4s 19us/step - loss: 0.1393 - tp: 283.0000 - fp: 5577.0000 - tn: 176392.0000 - fn: 24.0000 - accuracy: 0.9693 - precision: 0.0483 - recall: 0.9218 - auc: 0.9893 - crossentropy: 0.1125 - sensitivity: 1.0000 - specificity: 1.0000 - cosine_similarity: 0.0017 - kl_divergence: 2.7891e-04 - val_loss: 0.0763 - val_tp: 78.0000 - val_fp: 783.0000 - val_tn: 44701.0000 - val_fn: 7.0000 - val_accuracy: 0.9827 - val_precision: 0.0906 - val_recall: 0.9176 - val_auc: 0.9812 - val_crossentropy: 0.0763 - val_sensitivity: 1.0000 - val_specificity: 1.0000 - val_cosine_similarity: 0.0019 - val_kl_divergence: 4.5744e-04\n",
      "Epoch 94/100\n",
      "182276/182276 [==============================] - 3s 19us/step - loss: 0.1267 - tp: 286.0000 - fp: 5581.0000 - tn: 176388.0000 - fn: 21.0000 - accuracy: 0.9693 - precision: 0.0487 - recall: 0.9316 - auc: 0.9906 - crossentropy: 0.1110 - sensitivity: 1.0000 - specificity: 1.0000 - cosine_similarity: 0.0017 - kl_divergence: 2.3898e-04 - val_loss: 0.0747 - val_tp: 78.0000 - val_fp: 762.0000 - val_tn: 44722.0000 - val_fn: 7.0000 - val_accuracy: 0.9831 - val_precision: 0.0929 - val_recall: 0.9176 - val_auc: 0.9814 - val_crossentropy: 0.0747 - val_sensitivity: 1.0000 - val_specificity: 1.0000 - val_cosine_similarity: 0.0019 - val_kl_divergence: 4.6139e-04\n",
      "Epoch 95/100\n",
      "182276/182276 [==============================] - 4s 19us/step - loss: 0.1255 - tp: 286.0000 - fp: 5327.0000 - tn: 176642.0000 - fn: 21.0000 - accuracy: 0.9707 - precision: 0.0510 - recall: 0.9316 - auc: 0.9909 - crossentropy: 0.1074 - sensitivity: 1.0000 - specificity: 1.0000 - cosine_similarity: 0.0017 - kl_divergence: 2.4083e-04 - val_loss: 0.0719 - val_tp: 78.0000 - val_fp: 722.0000 - val_tn: 44762.0000 - val_fn: 7.0000 - val_accuracy: 0.9840 - val_precision: 0.0975 - val_recall: 0.9176 - val_auc: 0.9814 - val_crossentropy: 0.0719 - val_sensitivity: 1.0000 - val_specificity: 1.0000 - val_cosine_similarity: 0.0019 - val_kl_divergence: 4.7072e-04\n",
      "Epoch 96/100\n",
      "182276/182276 [==============================] - 4s 20us/step - loss: 0.1491 - tp: 282.0000 - fp: 5479.0000 - tn: 176490.0000 - fn: 25.0000 - accuracy: 0.9698 - precision: 0.0489 - recall: 0.9186 - auc: 0.9861 - crossentropy: 0.1088 - sensitivity: 1.0000 - specificity: 1.0000 - cosine_similarity: 0.0017 - kl_divergence: 3.1792e-04 - val_loss: 0.0754 - val_tp: 78.0000 - val_fp: 768.0000 - val_tn: 44716.0000 - val_fn: 7.0000 - val_accuracy: 0.9830 - val_precision: 0.0922 - val_recall: 0.9176 - val_auc: 0.9813 - val_crossentropy: 0.0754 - val_sensitivity: 1.0000 - val_specificity: 1.0000 - val_cosine_similarity: 0.0019 - val_kl_divergence: 4.6454e-04\n",
      "Epoch 97/100\n",
      "182276/182276 [==============================] - 4s 22us/step - loss: 0.1402 - tp: 282.0000 - fp: 5327.0000 - tn: 176642.0000 - fn: 25.0000 - accuracy: 0.9706 - precision: 0.0503 - recall: 0.9186 - auc: 0.9884 - crossentropy: 0.1082 - sensitivity: 1.0000 - specificity: 1.0000 - cosine_similarity: 0.0017 - kl_divergence: 2.8915e-04 - val_loss: 0.0721 - val_tp: 78.0000 - val_fp: 733.0000 - val_tn: 44751.0000 - val_fn: 7.0000 - val_accuracy: 0.9838 - val_precision: 0.0962 - val_recall: 0.9176 - val_auc: 0.9815 - val_crossentropy: 0.0721 - val_sensitivity: 1.0000 - val_specificity: 1.0000 - val_cosine_similarity: 0.0019 - val_kl_divergence: 4.7618e-04\n",
      "Epoch 98/100\n",
      "182276/182276 [==============================] - 4s 20us/step - loss: 0.1401 - tp: 282.0000 - fp: 5628.0000 - tn: 176341.0000 - fn: 25.0000 - accuracy: 0.9690 - precision: 0.0477 - recall: 0.9186 - auc: 0.9885 - crossentropy: 0.1109 - sensitivity: 1.0000 - specificity: 1.0000 - cosine_similarity: 0.0017 - kl_divergence: 2.8417e-04 - val_loss: 0.0778 - val_tp: 78.0000 - val_fp: 828.0000 - val_tn: 44656.0000 - val_fn: 7.0000 - val_accuracy: 0.9817 - val_precision: 0.0861 - val_recall: 0.9176 - val_auc: 0.9814 - val_crossentropy: 0.0778 - val_sensitivity: 1.0000 - val_specificity: 1.0000 - val_cosine_similarity: 0.0019 - val_kl_divergence: 4.6691e-04\n",
      "Epoch 99/100\n",
      "182276/182276 [==============================] - 4s 20us/step - loss: 0.1499 - tp: 282.0000 - fp: 5389.0000 - tn: 176580.0000 - fn: 25.0000 - accuracy: 0.9703 - precision: 0.0497 - recall: 0.9186 - auc: 0.9857 - crossentropy: 0.1090 - sensitivity: 1.0000 - specificity: 1.0000 - cosine_similarity: 0.0017 - kl_divergence: 3.2031e-04 - val_loss: 0.0711 - val_tp: 78.0000 - val_fp: 703.0000 - val_tn: 44781.0000 - val_fn: 7.0000 - val_accuracy: 0.9844 - val_precision: 0.0999 - val_recall: 0.9176 - val_auc: 0.9818 - val_crossentropy: 0.0711 - val_sensitivity: 1.0000 - val_specificity: 1.0000 - val_cosine_similarity: 0.0019 - val_kl_divergence: 4.8161e-04\n",
      "Epoch 100/100\n",
      "182276/182276 [==============================] - 3s 19us/step - loss: 0.1465 - tp: 280.0000 - fp: 5383.0000 - tn: 176586.0000 - fn: 27.0000 - accuracy: 0.9703 - precision: 0.0494 - recall: 0.9121 - auc: 0.9880 - crossentropy: 0.1064 - sensitivity: 1.0000 - specificity: 1.0000 - cosine_similarity: 0.0017 - kl_divergence: 3.1337e-04 - val_loss: 0.0765 - val_tp: 78.0000 - val_fp: 788.0000 - val_tn: 44696.0000 - val_fn: 7.0000 - val_accuracy: 0.9826 - val_precision: 0.0901 - val_recall: 0.9176 - val_auc: 0.9813 - val_crossentropy: 0.0765 - val_sensitivity: 1.0000 - val_specificity: 1.0000 - val_cosine_similarity: 0.0019 - val_kl_divergence: 4.7093e-04\n",
      "Loss: 0.0746\n",
      "func_output_bias: [-6.38474387]\n",
      "output_bias passed in: [-6.38474387]\n",
      "Train on 182276 samples, validate on 45569 samples\n",
      "Epoch 1/100\n",
      "182276/182276 [==============================] - 4s 24us/step - loss: 0.1393 - tp: 282.0000 - fp: 4437.0000 - tn: 177532.0000 - fn: 25.0000 - accuracy: 0.9755 - precision: 0.0598 - recall: 0.9186 - auc: 0.9883 - crossentropy: 0.0932 - sensitivity: 1.0000 - specificity: 1.0000 - cosine_similarity: 0.0017 - kl_divergence: 3.1136e-04 - val_loss: 0.0599 - val_tp: 78.0000 - val_fp: 528.0000 - val_tn: 44956.0000 - val_fn: 7.0000 - val_accuracy: 0.9883 - val_precision: 0.1287 - val_recall: 0.9176 - val_auc: 0.9784 - val_crossentropy: 0.0599 - val_sensitivity: 1.0000 - val_specificity: 1.0000 - val_cosine_similarity: 0.0019 - val_kl_divergence: 5.2308e-04\n",
      "Epoch 2/100\n",
      "182276/182276 [==============================] - 3s 19us/step - loss: 0.1436 - tp: 282.0000 - fp: 4948.0000 - tn: 177021.0000 - fn: 25.0000 - accuracy: 0.9727 - precision: 0.0539 - recall: 0.9186 - auc: 0.9877 - crossentropy: 0.0993 - sensitivity: 1.0000 - specificity: 1.0000 - cosine_similarity: 0.0017 - kl_divergence: 3.1555e-04 - val_loss: 0.0692 - val_tp: 78.0000 - val_fp: 694.0000 - val_tn: 44790.0000 - val_fn: 7.0000 - val_accuracy: 0.9846 - val_precision: 0.1010 - val_recall: 0.9176 - val_auc: 0.9817 - val_crossentropy: 0.0692 - val_sensitivity: 1.0000 - val_specificity: 1.0000 - val_cosine_similarity: 0.0019 - val_kl_divergence: 4.9012e-04\n",
      "Epoch 3/100\n",
      "182276/182276 [==============================] - 3s 19us/step - loss: 0.1543 - tp: 283.0000 - fp: 5048.0000 - tn: 176921.0000 - fn: 24.0000 - accuracy: 0.9722 - precision: 0.0531 - recall: 0.9218 - auc: 0.9844 - crossentropy: 0.1026 - sensitivity: 1.0000 - specificity: 1.0000 - cosine_similarity: 0.0017 - kl_divergence: 3.4607e-04 - val_loss: 0.0683 - val_tp: 78.0000 - val_fp: 657.0000 - val_tn: 44827.0000 - val_fn: 7.0000 - val_accuracy: 0.9854 - val_precision: 0.1061 - val_recall: 0.9176 - val_auc: 0.9819 - val_crossentropy: 0.0683 - val_sensitivity: 1.0000 - val_specificity: 1.0000 - val_cosine_similarity: 0.0019 - val_kl_divergence: 4.8557e-04\n",
      "Epoch 4/100\n",
      "182276/182276 [==============================] - 3s 18us/step - loss: 0.1327 - tp: 282.0000 - fp: 5180.0000 - tn: 176789.0000 - fn: 25.0000 - accuracy: 0.9714 - precision: 0.0516 - recall: 0.9186 - auc: 0.9900 - crossentropy: 0.1047 - sensitivity: 1.0000 - specificity: 1.0000 - cosine_similarity: 0.0017 - kl_divergence: 2.6963e-04 - val_loss: 0.0712 - val_tp: 78.0000 - val_fp: 721.0000 - val_tn: 44763.0000 - val_fn: 7.0000 - val_accuracy: 0.9840 - val_precision: 0.0976 - val_recall: 0.9176 - val_auc: 0.9824 - val_crossentropy: 0.0712 - val_sensitivity: 1.0000 - val_specificity: 1.0000 - val_cosine_similarity: 0.0019 - val_kl_divergence: 4.7790e-04\n",
      "Epoch 5/100\n",
      "182276/182276 [==============================] - 3s 18us/step - loss: 0.1354 - tp: 283.0000 - fp: 5386.0000 - tn: 176583.0000 - fn: 24.0000 - accuracy: 0.9703 - precision: 0.0499 - recall: 0.9218 - auc: 0.9889 - crossentropy: 0.1075 - sensitivity: 1.0000 - specificity: 1.0000 - cosine_similarity: 0.0017 - kl_divergence: 2.7425e-04 - val_loss: 0.0699 - val_tp: 78.0000 - val_fp: 697.0000 - val_tn: 44787.0000 - val_fn: 7.0000 - val_accuracy: 0.9846 - val_precision: 0.1006 - val_recall: 0.9176 - val_auc: 0.9823 - val_crossentropy: 0.0699 - val_sensitivity: 1.0000 - val_specificity: 1.0000 - val_cosine_similarity: 0.0019 - val_kl_divergence: 4.8018e-04\n",
      "Epoch 6/100\n",
      "182276/182276 [==============================] - 4s 20us/step - loss: 0.1280 - tp: 284.0000 - fp: 5501.0000 - tn: 176468.0000 - fn: 23.0000 - accuracy: 0.9697 - precision: 0.0491 - recall: 0.9251 - auc: 0.9900 - crossentropy: 0.1074 - sensitivity: 1.0000 - specificity: 1.0000 - cosine_similarity: 0.0017 - kl_divergence: 2.4918e-04 - val_loss: 0.0729 - val_tp: 78.0000 - val_fp: 768.0000 - val_tn: 44716.0000 - val_fn: 7.0000 - val_accuracy: 0.9830 - val_precision: 0.0922 - val_recall: 0.9176 - val_auc: 0.9824 - val_crossentropy: 0.0729 - val_sensitivity: 1.0000 - val_specificity: 1.0000 - val_cosine_similarity: 0.0019 - val_kl_divergence: 4.7595e-04\n",
      "Epoch 7/100\n",
      "182276/182276 [==============================] - 4s 20us/step - loss: 0.1421 - tp: 284.0000 - fp: 5423.0000 - tn: 176546.0000 - fn: 23.0000 - accuracy: 0.9701 - precision: 0.0498 - recall: 0.9251 - auc: 0.9866 - crossentropy: 0.1085 - sensitivity: 1.0000 - specificity: 1.0000 - cosine_similarity: 0.0017 - kl_divergence: 2.9496e-04 - val_loss: 0.0699 - val_tp: 78.0000 - val_fp: 712.0000 - val_tn: 44772.0000 - val_fn: 7.0000 - val_accuracy: 0.9842 - val_precision: 0.0987 - val_recall: 0.9176 - val_auc: 0.9824 - val_crossentropy: 0.0699 - val_sensitivity: 1.0000 - val_specificity: 1.0000 - val_cosine_similarity: 0.0019 - val_kl_divergence: 4.8070e-04\n",
      "Epoch 8/100\n",
      "182276/182276 [==============================] - 4s 20us/step - loss: 0.1254 - tp: 284.0000 - fp: 5021.0000 - tn: 176948.0000 - fn: 23.0000 - accuracy: 0.9723 - precision: 0.0535 - recall: 0.9251 - auc: 0.9910 - crossentropy: 0.1025 - sensitivity: 1.0000 - specificity: 1.0000 - cosine_similarity: 0.0017 - kl_divergence: 2.4886e-04 - val_loss: 0.0691 - val_tp: 78.0000 - val_fp: 696.0000 - val_tn: 44788.0000 - val_fn: 7.0000 - val_accuracy: 0.9846 - val_precision: 0.1008 - val_recall: 0.9176 - val_auc: 0.9823 - val_crossentropy: 0.0691 - val_sensitivity: 1.0000 - val_specificity: 1.0000 - val_cosine_similarity: 0.0019 - val_kl_divergence: 4.8219e-04\n",
      "Epoch 9/100\n",
      "182276/182276 [==============================] - 4s 22us/step - loss: 0.1410 - tp: 279.0000 - fp: 5333.0000 - tn: 176636.0000 - fn: 28.0000 - accuracy: 0.9706 - precision: 0.0497 - recall: 0.9088 - auc: 0.9886 - crossentropy: 0.1067 - sensitivity: 1.0000 - specificity: 1.0000 - cosine_similarity: 0.0017 - kl_divergence: 2.9436e-04 - val_loss: 0.0720 - val_tp: 78.0000 - val_fp: 741.0000 - val_tn: 44743.0000 - val_fn: 7.0000 - val_accuracy: 0.9836 - val_precision: 0.0952 - val_recall: 0.9176 - val_auc: 0.9821 - val_crossentropy: 0.0720 - val_sensitivity: 1.0000 - val_specificity: 1.0000 - val_cosine_similarity: 0.0019 - val_kl_divergence: 4.8062e-04\n",
      "Epoch 10/100\n",
      "182276/182276 [==============================] - 3s 18us/step - loss: 0.1445 - tp: 283.0000 - fp: 5737.0000 - tn: 176232.0000 - fn: 24.0000 - accuracy: 0.9684 - precision: 0.0470 - recall: 0.9218 - auc: 0.9877 - crossentropy: 0.1108 - sensitivity: 1.0000 - specificity: 1.0000 - cosine_similarity: 0.0017 - kl_divergence: 2.9914e-04 - val_loss: 0.0744 - val_tp: 78.0000 - val_fp: 790.0000 - val_tn: 44694.0000 - val_fn: 7.0000 - val_accuracy: 0.9825 - val_precision: 0.0899 - val_recall: 0.9176 - val_auc: 0.9824 - val_crossentropy: 0.0744 - val_sensitivity: 1.0000 - val_specificity: 1.0000 - val_cosine_similarity: 0.0019 - val_kl_divergence: 4.7315e-04\n",
      "Epoch 11/100\n",
      "182276/182276 [==============================] - 4s 21us/step - loss: 0.1427 - tp: 285.0000 - fp: 5708.0000 - tn: 176261.0000 - fn: 22.0000 - accuracy: 0.9686 - precision: 0.0476 - recall: 0.9283 - auc: 0.9870 - crossentropy: 0.1114 - sensitivity: 1.0000 - specificity: 1.0000 - cosine_similarity: 0.0017 - kl_divergence: 2.9234e-04 - val_loss: 0.0707 - val_tp: 78.0000 - val_fp: 743.0000 - val_tn: 44741.0000 - val_fn: 7.0000 - val_accuracy: 0.9835 - val_precision: 0.0950 - val_recall: 0.9176 - val_auc: 0.9829 - val_crossentropy: 0.0707 - val_sensitivity: 1.0000 - val_specificity: 1.0000 - val_cosine_similarity: 0.0019 - val_kl_divergence: 4.8371e-04\n",
      "Epoch 12/100\n",
      "182276/182276 [==============================] - 4s 19us/step - loss: 0.1400 - tp: 287.0000 - fp: 5206.0000 - tn: 176763.0000 - fn: 20.0000 - accuracy: 0.9713 - precision: 0.0522 - recall: 0.9349 - auc: 0.9855 - crossentropy: 0.1034 - sensitivity: 1.0000 - specificity: 1.0000 - cosine_similarity: 0.0017 - kl_divergence: 2.9668e-04 - val_loss: 0.0652 - val_tp: 78.0000 - val_fp: 672.0000 - val_tn: 44812.0000 - val_fn: 7.0000 - val_accuracy: 0.9851 - val_precision: 0.1040 - val_recall: 0.9176 - val_auc: 0.9830 - val_crossentropy: 0.0652 - val_sensitivity: 1.0000 - val_specificity: 1.0000 - val_cosine_similarity: 0.0019 - val_kl_divergence: 4.9908e-04\n",
      "Epoch 13/100\n",
      "182276/182276 [==============================] - 3s 19us/step - loss: 0.1371 - tp: 282.0000 - fp: 4976.0000 - tn: 176993.0000 - fn: 25.0000 - accuracy: 0.9726 - precision: 0.0536 - recall: 0.9186 - auc: 0.9893 - crossentropy: 0.1006 - sensitivity: 1.0000 - specificity: 1.0000 - cosine_similarity: 0.0017 - kl_divergence: 2.9149e-04 - val_loss: 0.0661 - val_tp: 78.0000 - val_fp: 676.0000 - val_tn: 44808.0000 - val_fn: 7.0000 - val_accuracy: 0.9850 - val_precision: 0.1034 - val_recall: 0.9176 - val_auc: 0.9828 - val_crossentropy: 0.0661 - val_sensitivity: 1.0000 - val_specificity: 1.0000 - val_cosine_similarity: 0.0019 - val_kl_divergence: 4.9648e-04\n",
      "Epoch 14/100\n",
      "182276/182276 [==============================] - 3s 19us/step - loss: 0.1268 - tp: 283.0000 - fp: 5362.0000 - tn: 176607.0000 - fn: 24.0000 - accuracy: 0.9705 - precision: 0.0501 - recall: 0.9218 - auc: 0.9919 - crossentropy: 0.1056 - sensitivity: 1.0000 - specificity: 1.0000 - cosine_similarity: 0.0017 - kl_divergence: 2.4839e-04 - val_loss: 0.0699 - val_tp: 78.0000 - val_fp: 739.0000 - val_tn: 44745.0000 - val_fn: 7.0000 - val_accuracy: 0.9836 - val_precision: 0.0955 - val_recall: 0.9176 - val_auc: 0.9829 - val_crossentropy: 0.0699 - val_sensitivity: 1.0000 - val_specificity: 1.0000 - val_cosine_similarity: 0.0019 - val_kl_divergence: 4.8232e-04\n",
      "Epoch 15/100\n",
      "182276/182276 [==============================] - 3s 18us/step - loss: 0.1177 - tp: 288.0000 - fp: 5207.0000 - tn: 176762.0000 - fn: 19.0000 - accuracy: 0.9713 - precision: 0.0524 - recall: 0.9381 - auc: 0.9916 - crossentropy: 0.1045 - sensitivity: 1.0000 - specificity: 1.0000 - cosine_similarity: 0.0017 - kl_divergence: 2.1935e-04 - val_loss: 0.0647 - val_tp: 78.0000 - val_fp: 649.0000 - val_tn: 44835.0000 - val_fn: 7.0000 - val_accuracy: 0.9856 - val_precision: 0.1073 - val_recall: 0.9176 - val_auc: 0.9836 - val_crossentropy: 0.0647 - val_sensitivity: 1.0000 - val_specificity: 1.0000 - val_cosine_similarity: 0.0019 - val_kl_divergence: 4.8924e-04\n",
      "Epoch 16/100\n",
      "182276/182276 [==============================] - 4s 20us/step - loss: 0.1232 - tp: 286.0000 - fp: 5058.0000 - tn: 176911.0000 - fn: 21.0000 - accuracy: 0.9721 - precision: 0.0535 - recall: 0.9316 - auc: 0.9912 - crossentropy: 0.1016 - sensitivity: 1.0000 - specificity: 1.0000 - cosine_similarity: 0.0017 - kl_divergence: 2.4295e-04 - val_loss: 0.0650 - val_tp: 78.0000 - val_fp: 650.0000 - val_tn: 44834.0000 - val_fn: 7.0000 - val_accuracy: 0.9856 - val_precision: 0.1071 - val_recall: 0.9176 - val_auc: 0.9833 - val_crossentropy: 0.0650 - val_sensitivity: 1.0000 - val_specificity: 1.0000 - val_cosine_similarity: 0.0019 - val_kl_divergence: 4.8837e-04\n",
      "Epoch 17/100\n",
      "182276/182276 [==============================] - 3s 19us/step - loss: 0.1106 - tp: 288.0000 - fp: 5190.0000 - tn: 176779.0000 - fn: 19.0000 - accuracy: 0.9714 - precision: 0.0526 - recall: 0.9381 - auc: 0.9932 - crossentropy: 0.1025 - sensitivity: 1.0000 - specificity: 1.0000 - cosine_similarity: 0.0017 - kl_divergence: 1.9870e-04 - val_loss: 0.0667 - val_tp: 78.0000 - val_fp: 681.0000 - val_tn: 44803.0000 - val_fn: 7.0000 - val_accuracy: 0.9849 - val_precision: 0.1028 - val_recall: 0.9176 - val_auc: 0.9798 - val_crossentropy: 0.0667 - val_sensitivity: 1.0000 - val_specificity: 1.0000 - val_cosine_similarity: 0.0019 - val_kl_divergence: 4.9111e-04\n",
      "Epoch 18/100\n",
      "182276/182276 [==============================] - 3s 19us/step - loss: 0.1283 - tp: 285.0000 - fp: 5467.0000 - tn: 176502.0000 - fn: 22.0000 - accuracy: 0.9699 - precision: 0.0495 - recall: 0.9283 - auc: 0.9910 - crossentropy: 0.1063 - sensitivity: 1.0000 - specificity: 1.0000 - cosine_similarity: 0.0017 - kl_divergence: 2.5204e-04 - val_loss: 0.0719 - val_tp: 78.0000 - val_fp: 768.0000 - val_tn: 44716.0000 - val_fn: 7.0000 - val_accuracy: 0.9830 - val_precision: 0.0922 - val_recall: 0.9176 - val_auc: 0.9798 - val_crossentropy: 0.0719 - val_sensitivity: 1.0000 - val_specificity: 1.0000 - val_cosine_similarity: 0.0019 - val_kl_divergence: 4.8753e-04\n",
      "Epoch 19/100\n",
      "182276/182276 [==============================] - 4s 20us/step - loss: 0.1252 - tp: 284.0000 - fp: 5794.0000 - tn: 176175.0000 - fn: 23.0000 - accuracy: 0.9681 - precision: 0.0467 - recall: 0.9251 - auc: 0.9914 - crossentropy: 0.1130 - sensitivity: 1.0000 - specificity: 1.0000 - cosine_similarity: 0.0017 - kl_divergence: 2.3051e-04 - val_loss: 0.0750 - val_tp: 78.0000 - val_fp: 833.0000 - val_tn: 44651.0000 - val_fn: 7.0000 - val_accuracy: 0.9816 - val_precision: 0.0856 - val_recall: 0.9176 - val_auc: 0.9791 - val_crossentropy: 0.0750 - val_sensitivity: 1.0000 - val_specificity: 1.0000 - val_cosine_similarity: 0.0019 - val_kl_divergence: 4.9249e-04\n",
      "Epoch 20/100\n",
      "182276/182276 [==============================] - 3s 19us/step - loss: 0.1405 - tp: 283.0000 - fp: 5864.0000 - tn: 176105.0000 - fn: 24.0000 - accuracy: 0.9677 - precision: 0.0460 - recall: 0.9218 - auc: 0.9883 - crossentropy: 0.1132 - sensitivity: 1.0000 - specificity: 1.0000 - cosine_similarity: 0.0017 - kl_divergence: 2.8143e-04 - val_loss: 0.0723 - val_tp: 78.0000 - val_fp: 773.0000 - val_tn: 44711.0000 - val_fn: 7.0000 - val_accuracy: 0.9829 - val_precision: 0.0917 - val_recall: 0.9176 - val_auc: 0.9786 - val_crossentropy: 0.0723 - val_sensitivity: 1.0000 - val_specificity: 1.0000 - val_cosine_similarity: 0.0019 - val_kl_divergence: 4.9965e-04\n",
      "Epoch 21/100\n",
      "182276/182276 [==============================] - 3s 19us/step - loss: 0.1417 - tp: 283.0000 - fp: 5571.0000 - tn: 176398.0000 - fn: 24.0000 - accuracy: 0.9693 - precision: 0.0483 - recall: 0.9218 - auc: 0.9874 - crossentropy: 0.1080 - sensitivity: 1.0000 - specificity: 1.0000 - cosine_similarity: 0.0017 - kl_divergence: 2.9428e-04 - val_loss: 0.0697 - val_tp: 78.0000 - val_fp: 743.0000 - val_tn: 44741.0000 - val_fn: 7.0000 - val_accuracy: 0.9835 - val_precision: 0.0950 - val_recall: 0.9176 - val_auc: 0.9787 - val_crossentropy: 0.0697 - val_sensitivity: 1.0000 - val_specificity: 1.0000 - val_cosine_similarity: 0.0019 - val_kl_divergence: 5.0953e-04\n",
      "Epoch 22/100\n",
      "182276/182276 [==============================] - 4s 20us/step - loss: 0.1527 - tp: 280.0000 - fp: 5441.0000 - tn: 176528.0000 - fn: 27.0000 - accuracy: 0.9700 - precision: 0.0489 - recall: 0.9121 - auc: 0.9863 - crossentropy: 0.1062 - sensitivity: 1.0000 - specificity: 1.0000 - cosine_similarity: 0.0017 - kl_divergence: 3.3476e-04 - val_loss: 0.0697 - val_tp: 78.0000 - val_fp: 767.0000 - val_tn: 44717.0000 - val_fn: 7.0000 - val_accuracy: 0.9830 - val_precision: 0.0923 - val_recall: 0.9176 - val_auc: 0.9786 - val_crossentropy: 0.0697 - val_sensitivity: 1.0000 - val_specificity: 1.0000 - val_cosine_similarity: 0.0019 - val_kl_divergence: 5.0594e-04\n",
      "Epoch 23/100\n",
      "182276/182276 [==============================] - 3s 18us/step - loss: 0.1276 - tp: 285.0000 - fp: 5349.0000 - tn: 176620.0000 - fn: 22.0000 - accuracy: 0.9705 - precision: 0.0506 - recall: 0.9283 - auc: 0.9903 - crossentropy: 0.1060 - sensitivity: 1.0000 - specificity: 1.0000 - cosine_similarity: 0.0017 - kl_divergence: 2.5031e-04 - val_loss: 0.0680 - val_tp: 78.0000 - val_fp: 741.0000 - val_tn: 44743.0000 - val_fn: 7.0000 - val_accuracy: 0.9836 - val_precision: 0.0952 - val_recall: 0.9176 - val_auc: 0.9789 - val_crossentropy: 0.0680 - val_sensitivity: 1.0000 - val_specificity: 1.0000 - val_cosine_similarity: 0.0019 - val_kl_divergence: 5.0852e-04\n",
      "Epoch 24/100\n",
      "182276/182276 [==============================] - 4s 20us/step - loss: 0.1183 - tp: 285.0000 - fp: 5440.0000 - tn: 176529.0000 - fn: 22.0000 - accuracy: 0.9700 - precision: 0.0498 - recall: 0.9283 - auc: 0.9917 - crossentropy: 0.1059 - sensitivity: 1.0000 - specificity: 1.0000 - cosine_similarity: 0.0017 - kl_divergence: 2.1901e-04 - val_loss: 0.0665 - val_tp: 78.0000 - val_fp: 717.0000 - val_tn: 44767.0000 - val_fn: 7.0000 - val_accuracy: 0.9841 - val_precision: 0.0981 - val_recall: 0.9176 - val_auc: 0.9790 - val_crossentropy: 0.0665 - val_sensitivity: 1.0000 - val_specificity: 1.0000 - val_cosine_similarity: 0.0019 - val_kl_divergence: 5.1763e-04\n",
      "Epoch 25/100\n",
      "182276/182276 [==============================] - 3s 18us/step - loss: 0.1235 - tp: 287.0000 - fp: 5258.0000 - tn: 176711.0000 - fn: 20.0000 - accuracy: 0.9710 - precision: 0.0518 - recall: 0.9349 - auc: 0.9915 - crossentropy: 0.1048 - sensitivity: 1.0000 - specificity: 1.0000 - cosine_similarity: 0.0017 - kl_divergence: 2.3854e-04 - val_loss: 0.0657 - val_tp: 78.0000 - val_fp: 692.0000 - val_tn: 44792.0000 - val_fn: 7.0000 - val_accuracy: 0.9847 - val_precision: 0.1013 - val_recall: 0.9176 - val_auc: 0.9791 - val_crossentropy: 0.0657 - val_sensitivity: 1.0000 - val_specificity: 1.0000 - val_cosine_similarity: 0.0019 - val_kl_divergence: 5.1848e-04\n",
      "Epoch 26/100\n",
      "182276/182276 [==============================] - 4s 20us/step - loss: 0.1244 - tp: 289.0000 - fp: 5316.0000 - tn: 176653.0000 - fn: 18.0000 - accuracy: 0.9707 - precision: 0.0516 - recall: 0.9414 - auc: 0.9902 - crossentropy: 0.1046 - sensitivity: 1.0000 - specificity: 1.0000 - cosine_similarity: 0.0017 - kl_divergence: 2.4205e-04 - val_loss: 0.0655 - val_tp: 78.0000 - val_fp: 697.0000 - val_tn: 44787.0000 - val_fn: 7.0000 - val_accuracy: 0.9846 - val_precision: 0.1006 - val_recall: 0.9176 - val_auc: 0.9790 - val_crossentropy: 0.0655 - val_sensitivity: 1.0000 - val_specificity: 1.0000 - val_cosine_similarity: 0.0019 - val_kl_divergence: 5.2706e-04\n",
      "Epoch 27/100\n",
      "182276/182276 [==============================] - 3s 18us/step - loss: 0.1225 - tp: 282.0000 - fp: 5190.0000 - tn: 176779.0000 - fn: 25.0000 - accuracy: 0.9714 - precision: 0.0515 - recall: 0.9186 - auc: 0.9912 - crossentropy: 0.1029 - sensitivity: 1.0000 - specificity: 1.0000 - cosine_similarity: 0.0017 - kl_divergence: 2.3853e-04 - val_loss: 0.0634 - val_tp: 78.0000 - val_fp: 669.0000 - val_tn: 44815.0000 - val_fn: 7.0000 - val_accuracy: 0.9852 - val_precision: 0.1044 - val_recall: 0.9176 - val_auc: 0.9792 - val_crossentropy: 0.0634 - val_sensitivity: 1.0000 - val_specificity: 1.0000 - val_cosine_similarity: 0.0019 - val_kl_divergence: 5.3389e-04\n",
      "Epoch 28/100\n",
      "182276/182276 [==============================] - 3s 19us/step - loss: 0.1265 - tp: 281.0000 - fp: 5275.0000 - tn: 176694.0000 - fn: 26.0000 - accuracy: 0.9709 - precision: 0.0506 - recall: 0.9153 - auc: 0.9913 - crossentropy: 0.1031 - sensitivity: 1.0000 - specificity: 1.0000 - cosine_similarity: 0.0017 - kl_divergence: 2.5140e-04 - val_loss: 0.0648 - val_tp: 78.0000 - val_fp: 686.0000 - val_tn: 44798.0000 - val_fn: 7.0000 - val_accuracy: 0.9848 - val_precision: 0.1021 - val_recall: 0.9176 - val_auc: 0.9788 - val_crossentropy: 0.0648 - val_sensitivity: 1.0000 - val_specificity: 1.0000 - val_cosine_similarity: 0.0019 - val_kl_divergence: 5.2402e-04\n",
      "Epoch 29/100\n",
      "182276/182276 [==============================] - 3s 19us/step - loss: 0.1278 - tp: 282.0000 - fp: 5420.0000 - tn: 176549.0000 - fn: 25.0000 - accuracy: 0.9701 - precision: 0.0495 - recall: 0.9186 - auc: 0.9911 - crossentropy: 0.1059 - sensitivity: 1.0000 - specificity: 1.0000 - cosine_similarity: 0.0017 - kl_divergence: 2.5123e-04 - val_loss: 0.0675 - val_tp: 78.0000 - val_fp: 746.0000 - val_tn: 44738.0000 - val_fn: 7.0000 - val_accuracy: 0.9835 - val_precision: 0.0947 - val_recall: 0.9176 - val_auc: 0.9788 - val_crossentropy: 0.0675 - val_sensitivity: 1.0000 - val_specificity: 1.0000 - val_cosine_similarity: 0.0019 - val_kl_divergence: 5.1724e-04\n",
      "Epoch 30/100\n",
      "182276/182276 [==============================] - 3s 18us/step - loss: 0.1383 - tp: 284.0000 - fp: 5581.0000 - tn: 176388.0000 - fn: 23.0000 - accuracy: 0.9693 - precision: 0.0484 - recall: 0.9251 - auc: 0.9891 - crossentropy: 0.1078 - sensitivity: 1.0000 - specificity: 1.0000 - cosine_similarity: 0.0017 - kl_divergence: 2.8349e-04 - val_loss: 0.0675 - val_tp: 78.0000 - val_fp: 762.0000 - val_tn: 44722.0000 - val_fn: 7.0000 - val_accuracy: 0.9831 - val_precision: 0.0929 - val_recall: 0.9176 - val_auc: 0.9790 - val_crossentropy: 0.0675 - val_sensitivity: 1.0000 - val_specificity: 1.0000 - val_cosine_similarity: 0.0019 - val_kl_divergence: 5.2067e-04\n",
      "Epoch 31/100\n",
      "182276/182276 [==============================] - 3s 18us/step - loss: 0.1178 - tp: 286.0000 - fp: 5451.0000 - tn: 176518.0000 - fn: 21.0000 - accuracy: 0.9700 - precision: 0.0499 - recall: 0.9316 - auc: 0.9920 - crossentropy: 0.1067 - sensitivity: 1.0000 - specificity: 1.0000 - cosine_similarity: 0.0017 - kl_divergence: 2.1632e-04 - val_loss: 0.0650 - val_tp: 78.0000 - val_fp: 717.0000 - val_tn: 44767.0000 - val_fn: 7.0000 - val_accuracy: 0.9841 - val_precision: 0.0981 - val_recall: 0.9176 - val_auc: 0.9787 - val_crossentropy: 0.0650 - val_sensitivity: 1.0000 - val_specificity: 1.0000 - val_cosine_similarity: 0.0019 - val_kl_divergence: 5.3147e-04\n",
      "Epoch 32/100\n",
      "182276/182276 [==============================] - 3s 17us/step - loss: 0.1475 - tp: 285.0000 - fp: 5484.0000 - tn: 176485.0000 - fn: 22.0000 - accuracy: 0.9698 - precision: 0.0494 - recall: 0.9283 - auc: 0.9877 - crossentropy: 0.1068 - sensitivity: 1.0000 - specificity: 1.0000 - cosine_similarity: 0.0017 - kl_divergence: 3.1606e-04 - val_loss: 0.0679 - val_tp: 78.0000 - val_fp: 756.0000 - val_tn: 44728.0000 - val_fn: 7.0000 - val_accuracy: 0.9833 - val_precision: 0.0935 - val_recall: 0.9176 - val_auc: 0.9784 - val_crossentropy: 0.0679 - val_sensitivity: 1.0000 - val_specificity: 1.0000 - val_cosine_similarity: 0.0019 - val_kl_divergence: 5.2932e-04\n",
      "Epoch 33/100\n",
      "182276/182276 [==============================] - 3s 19us/step - loss: 0.1209 - tp: 288.0000 - fp: 5185.0000 - tn: 176784.0000 - fn: 19.0000 - accuracy: 0.9714 - precision: 0.0526 - recall: 0.9381 - auc: 0.9903 - crossentropy: 0.1034 - sensitivity: 1.0000 - specificity: 1.0000 - cosine_similarity: 0.0017 - kl_divergence: 2.3218e-04 - val_loss: 0.0620 - val_tp: 78.0000 - val_fp: 663.0000 - val_tn: 44821.0000 - val_fn: 7.0000 - val_accuracy: 0.9853 - val_precision: 0.1053 - val_recall: 0.9176 - val_auc: 0.9785 - val_crossentropy: 0.0620 - val_sensitivity: 1.0000 - val_specificity: 1.0000 - val_cosine_similarity: 0.0019 - val_kl_divergence: 5.4098e-04\n",
      "Epoch 34/100\n",
      "182276/182276 [==============================] - 3s 17us/step - loss: 0.1291 - tp: 286.0000 - fp: 5060.0000 - tn: 176909.0000 - fn: 21.0000 - accuracy: 0.9721 - precision: 0.0535 - recall: 0.9316 - auc: 0.9909 - crossentropy: 0.1002 - sensitivity: 1.0000 - specificity: 1.0000 - cosine_similarity: 0.0017 - kl_divergence: 2.6519e-04 - val_loss: 0.0621 - val_tp: 78.0000 - val_fp: 659.0000 - val_tn: 44825.0000 - val_fn: 7.0000 - val_accuracy: 0.9854 - val_precision: 0.1058 - val_recall: 0.9176 - val_auc: 0.9783 - val_crossentropy: 0.0621 - val_sensitivity: 1.0000 - val_specificity: 1.0000 - val_cosine_similarity: 0.0019 - val_kl_divergence: 5.4413e-04\n",
      "Epoch 35/100\n",
      "182276/182276 [==============================] - 4s 19us/step - loss: 0.1179 - tp: 289.0000 - fp: 5196.0000 - tn: 176773.0000 - fn: 18.0000 - accuracy: 0.9714 - precision: 0.0527 - recall: 0.9414 - auc: 0.9916 - crossentropy: 0.1007 - sensitivity: 1.0000 - specificity: 1.0000 - cosine_similarity: 0.0017 - kl_divergence: 2.2674e-04 - val_loss: 0.0602 - val_tp: 78.0000 - val_fp: 629.0000 - val_tn: 44855.0000 - val_fn: 7.0000 - val_accuracy: 0.9860 - val_precision: 0.1103 - val_recall: 0.9176 - val_auc: 0.9781 - val_crossentropy: 0.0602 - val_sensitivity: 1.0000 - val_specificity: 1.0000 - val_cosine_similarity: 0.0019 - val_kl_divergence: 5.5688e-04\n",
      "Epoch 36/100\n",
      "182276/182276 [==============================] - 4s 19us/step - loss: 0.1304 - tp: 285.0000 - fp: 4939.0000 - tn: 177030.0000 - fn: 22.0000 - accuracy: 0.9728 - precision: 0.0546 - recall: 0.9283 - auc: 0.9885 - crossentropy: 0.0978 - sensitivity: 1.0000 - specificity: 1.0000 - cosine_similarity: 0.0017 - kl_divergence: 2.7348e-04 - val_loss: 0.0590 - val_tp: 78.0000 - val_fp: 616.0000 - val_tn: 44868.0000 - val_fn: 7.0000 - val_accuracy: 0.9863 - val_precision: 0.1124 - val_recall: 0.9176 - val_auc: 0.9786 - val_crossentropy: 0.0590 - val_sensitivity: 1.0000 - val_specificity: 1.0000 - val_cosine_similarity: 0.0019 - val_kl_divergence: 5.6173e-04\n",
      "Epoch 37/100\n",
      "182276/182276 [==============================] - 3s 17us/step - loss: 0.1405 - tp: 281.0000 - fp: 5144.0000 - tn: 176825.0000 - fn: 26.0000 - accuracy: 0.9716 - precision: 0.0518 - recall: 0.9153 - auc: 0.9887 - crossentropy: 0.1011 - sensitivity: 1.0000 - specificity: 1.0000 - cosine_similarity: 0.0017 - kl_divergence: 3.0217e-04 - val_loss: 0.0626 - val_tp: 78.0000 - val_fp: 666.0000 - val_tn: 44818.0000 - val_fn: 7.0000 - val_accuracy: 0.9852 - val_precision: 0.1048 - val_recall: 0.9176 - val_auc: 0.9789 - val_crossentropy: 0.0626 - val_sensitivity: 1.0000 - val_specificity: 1.0000 - val_cosine_similarity: 0.0019 - val_kl_divergence: 5.4571e-04\n",
      "Epoch 38/100\n",
      "182276/182276 [==============================] - 3s 19us/step - loss: 0.1384 - tp: 281.0000 - fp: 5429.0000 - tn: 176540.0000 - fn: 26.0000 - accuracy: 0.9701 - precision: 0.0492 - recall: 0.9153 - auc: 0.9891 - crossentropy: 0.1052 - sensitivity: 1.0000 - specificity: 1.0000 - cosine_similarity: 0.0017 - kl_divergence: 2.8827e-04 - val_loss: 0.0650 - val_tp: 78.0000 - val_fp: 706.0000 - val_tn: 44778.0000 - val_fn: 7.0000 - val_accuracy: 0.9844 - val_precision: 0.0995 - val_recall: 0.9176 - val_auc: 0.9796 - val_crossentropy: 0.0650 - val_sensitivity: 1.0000 - val_specificity: 1.0000 - val_cosine_similarity: 0.0019 - val_kl_divergence: 5.3428e-04\n",
      "Epoch 39/100\n",
      "182276/182276 [==============================] - 3s 18us/step - loss: 0.1299 - tp: 282.0000 - fp: 5476.0000 - tn: 176493.0000 - fn: 25.0000 - accuracy: 0.9698 - precision: 0.0490 - recall: 0.9186 - auc: 0.9900 - crossentropy: 0.1054 - sensitivity: 1.0000 - specificity: 1.0000 - cosine_similarity: 0.0017 - kl_divergence: 2.5922e-04 - val_loss: 0.0659 - val_tp: 78.0000 - val_fp: 744.0000 - val_tn: 44740.0000 - val_fn: 7.0000 - val_accuracy: 0.9835 - val_precision: 0.0949 - val_recall: 0.9176 - val_auc: 0.9793 - val_crossentropy: 0.0659 - val_sensitivity: 1.0000 - val_specificity: 1.0000 - val_cosine_similarity: 0.0019 - val_kl_divergence: 5.3368e-04\n",
      "Epoch 40/100\n",
      "182276/182276 [==============================] - 4s 19us/step - loss: 0.1146 - tp: 288.0000 - fp: 5342.0000 - tn: 176627.0000 - fn: 19.0000 - accuracy: 0.9706 - precision: 0.0512 - recall: 0.9381 - auc: 0.9916 - crossentropy: 0.1033 - sensitivity: 1.0000 - specificity: 1.0000 - cosine_similarity: 0.0017 - kl_divergence: 2.1104e-04 - val_loss: 0.0622 - val_tp: 78.0000 - val_fp: 671.0000 - val_tn: 44813.0000 - val_fn: 7.0000 - val_accuracy: 0.9851 - val_precision: 0.1041 - val_recall: 0.9176 - val_auc: 0.9786 - val_crossentropy: 0.0622 - val_sensitivity: 1.0000 - val_specificity: 1.0000 - val_cosine_similarity: 0.0019 - val_kl_divergence: 5.4691e-04\n",
      "56962/56962 [==============================] - 0s 1us/step\n",
      "mon=' val_auc ',mod=' max\n",
      "[[56033   829]\n",
      " [    9    91]]\n",
      "error\n",
      "error\n",
      "Confusion Matrix:\n",
      "false positive pct: 1.4553562023805344\n",
      "tn  fp  fn  tp\n",
      "56033 829 9 91\n",
      "[[56033   829]\n",
      " [    9    91]]\n",
      "Classification Report\n",
      "              precision    recall  f1-score   support\n",
      "\n",
      "           0       1.00      0.99      0.99     56862\n",
      "           1       0.10      0.91      0.18       100\n",
      "\n",
      "    accuracy                           0.99     56962\n",
      "   macro avg       0.55      0.95      0.59     56962\n",
      "weighted avg       1.00      0.99      0.99     56962\n",
      "\n",
      "Specificity = 0.9854208434455348\n",
      "Sensitivity = 0.91\n",
      "DNN Weighted:TEST | AUC Score: 0.985\n",
      "  No Skill : ROC AUC=0.500\n",
      "DNN-Weighted : ROC AUC=0.985\n"
     ]
    },
    {
     "data": {
      "image/png": "[encoded data removed]",
      "text/plain": [
       "<Figure size 576x396 with 1 Axes>"
      ]
     },
     "metadata": {},
     "output_type": "display_data"
    },
    {
     "name": "stdout",
     "output_type": "stream",
     "text": [
      "The function took 537.1929943561554 seconds to complete\n"
     ]
    }
   ],
   "source": [
    "with MyTimer():\n",
    "    weighted_history = RunModel(mon='val_auc', mod='max');\n",
    "    #weighted_history = RunModel(mon='val_loss', mod='min');"
   ]
  },
  {
   "cell_type": "code",
   "execution_count": 59,
   "metadata": {},
   "outputs": [
    {
     "data": {
      "image/png": "[encoded data removed]",
      "text/plain": [
       "<Figure size 576x396 with 8 Axes>"
      ]
     },
     "metadata": {},
     "output_type": "display_data"
    }
   ],
   "source": [
    "colors = plt.rcParams['axes.prop_cycle'].by_key()['color']\n",
    "plot_metrics(weighted_history)"
   ]
  },
  {
   "cell_type": "code",
   "execution_count": 60,
   "metadata": {},
   "outputs": [],
   "source": [
    "# show all variables in memory\n",
    "#%who or %whos"
   ]
  },
  {
   "cell_type": "markdown",
   "metadata": {},
   "source": [
    "Here are the final results in tabular form. "
   ]
  },
  {
   "cell_type": "code",
   "execution_count": 61,
   "metadata": {
    "colab": {
     "base_uri": "https://localhost:8080/",
     "height": 452
    },
    "colab_type": "code",
    "executionInfo": {
     "elapsed": 127359,
     "status": "ok",
     "timestamp": 1591365844290,
     "user": {
      "displayName": "Don Stierman",
      "photoUrl": "https://lh3.googleusercontent.com/a-/AOh14GgL11XU-IHwYTl3abZY1--Hbam6OSfwyASvbqmP9A=s64",
      "userId": "18276471072525900320"
     },
     "user_tz": -480
    },
    "id": "3UJXtvQebtY9",
    "outputId": "a0dc07e2-dfc6-45e4-9a72-f5da4996d473"
   },
   "outputs": [
    {
     "name": "stdout",
     "output_type": "stream",
     "text": [
      "test, val, split settings\n",
      "0.36 0.44\n",
      "test, val, split sizes\n",
      "0.2016 0.15839999999999999\n",
      "           algo     TN   FP  FN  TP     SP     SE     Avg\n",
      "1  DNN Weighted  56033  829   9  91  0.985  0.910  0.9475\n",
      "0           DNN  56866  446  13  92  0.992  0.876  0.9340\n"
     ]
    }
   ],
   "source": [
    "final_results = pd.DataFrame(cm_results, columns=('algo','TN','FP','FN','TP')) \n",
    "#sp = round((tn1 + tn2)/(tn1 + tn2 +fp2), 3)\n",
    "#se = round(tp2/(tp2 + fn1 + fn2), 3)\n",
    "final_results['SP'] = round(final_results['TN']/(final_results['TN'] + final_results['FP']), 3)\n",
    "final_results['SE'] = round(final_results['TP']/(final_results['TP'] + final_results['FN']), 3)\n",
    "final_results['Avg'] = (final_results['SP'] + final_results['SE'])/2\n",
    "print('test, val, split settings')\n",
    "print(spl1,spl2)\n",
    "print('test, val, split sizes')\n",
    "print( (spl1-spl1*spl2), (spl1*spl2) )\n",
    "filtered = final_results[~final_results.algo.str.contains('a', regex= True, na=False)]\n",
    "sort = filtered.sort_values(filtered.columns[7], ascending = False)\n",
    "print(sort)\n",
    "sort.to_csv('c:\\\\DataScience\\\\Repo\\\\Imbalanced_data\\\\CreditCardFraud\\\\working\\\\results.csv', sep=',', mode='a', encoding='utf-8', header=True)\n"
   ]
  },
  {
   "cell_type": "code",
   "execution_count": 62,
   "metadata": {},
   "outputs": [
    {
     "name": "stdout",
     "output_type": "stream",
     "text": [
      "Start:  2020-09-25 20:09:06.999256\n",
      "End:  2020-09-25 20:29:49.582630\n"
     ]
    }
   ],
   "source": [
    "print(\"Start: \", StartTime)\n",
    "print(\"End: \", datetime.datetime.now())"
   ]
  },
  {
   "cell_type": "code",
   "execution_count": 63,
   "metadata": {},
   "outputs": [],
   "source": [
    "#%reset -f"
   ]
  },
  {
   "cell_type": "code",
   "execution_count": null,
   "metadata": {},
   "outputs": [],
   "source": []
  }
 ],
 "metadata": {
  "colab": {
   "collapsed_sections": [],
   "name": "DonCreditCardImbalancedDataSet.ipynb",
   "provenance": []
  },
  "kernelspec": {
   "display_name": "Python 3",
   "language": "python",
   "name": "python3"
  },
  "language_info": {
   "codemirror_mode": {
    "name": "ipython",
    "version": 3
   },
   "file_extension": ".py",
   "mimetype": "text/x-python",
   "name": "python",
   "nbconvert_exporter": "python",
   "pygments_lexer": "ipython3",
   "version": "3.7.7"
  }
 },
 "nbformat": 4,
 "nbformat_minor": 4
}
