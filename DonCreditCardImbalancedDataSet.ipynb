{
 "cells": [
  {
   "cell_type": "markdown",
   "metadata": {},
   "source": [
    "<h1 align='center' style='color:purple'>Credit Card Imbalanced Data Set</h1>"
   ]
  },
  {
   "cell_type": "markdown",
   "metadata": {},
   "source": [
    "Credit Card Fraud Dataset, trying different algorithms, also try to run 2 consecutive tests to see if this can improve the model\n",
    "Author: Donald Stierman"
   ]
  },
  {
   "cell_type": "code",
   "execution_count": 1,
   "metadata": {},
   "outputs": [],
   "source": [
    "# Import Libraries\n",
    "\n",
    "import numpy as np\n",
    "import pandas as pd\n",
    "import matplotlib.pyplot as plt\n",
    "%matplotlib inline\n",
    "import pandas_profiling as pp\n",
    "import seaborn as sns\n",
    "import os\n",
    "\n",
    "from sklearn.model_selection import train_test_split\n",
    "from sklearn.linear_model import LogisticRegression\n",
    "from sklearn.tree import DecisionTreeClassifier\n",
    "from sklearn.ensemble import RandomForestClassifier\n",
    "from sklearn import metrics\n",
    "from sklearn.metrics import confusion_matrix\n",
    "from sklearn.metrics import classification_report\n",
    "from sklearn.metrics import roc_curve\n",
    "from sklearn.metrics import roc_auc_score\n",
    "from sklearn.metrics import precision_recall_curve\n",
    "from sklearn.metrics import f1_score\n",
    "from sklearn.metrics import auc\n",
    "from sklearn.metrics import accuracy_score\n",
    "from sklearn.metrics import precision_score\n",
    "from sklearn.metrics import recall_score\n",
    "from sklearn.metrics import cohen_kappa_score\n",
    "from sklearn.ensemble import GradientBoostingClassifier\n",
    "from sklearn.utils.class_weight import compute_sample_weight\n",
    "from sklearn.preprocessing import StandardScaler\n",
    "from matplotlib import pyplot\n",
    "import zipfile\n"
   ]
  },
  {
   "cell_type": "code",
   "execution_count": 2,
   "metadata": {},
   "outputs": [],
   "source": [
    "colab = os.environ.get('COLAB_GPU', '10')\n",
    "if (int(colab) == 0):\n",
    "    from google.colab import drive\n",
    "    drive.mount('/content/drive')\n",
    "    #Path=\"drive/My Drive/Colab Notebooks/StockAnalysis\"\n",
    "    Path=\"\"\n",
    "    DataPath=\"/content\"\n",
    "    RootPath=\"/root\"    \n",
    "else:\n",
    "    #Path=\"/c/DataScience/Repo/Imbalanced_data\"\n",
    "    Path=\"/DataScience/Repo/Imbalanced_data\"\n",
    "    DataPath=Path\n",
    "    RootPath=\"/Users/iowahawk89\""
   ]
  },
  {
   "cell_type": "code",
   "execution_count": 3,
   "metadata": {},
   "outputs": [],
   "source": [
    "with zipfile.ZipFile(DataPath+'/creditcard.zip', 'r') as zip_ref:\n",
    "    zip_ref.extractall(Path)"
   ]
  },
  {
   "cell_type": "code",
   "execution_count": 4,
   "metadata": {},
   "outputs": [],
   "source": [
    "# Load the Data Set\n",
    "df = pd.read_csv('creditcard.csv')"
   ]
  },
  {
   "cell_type": "code",
   "execution_count": 5,
   "metadata": {},
   "outputs": [
    {
     "name": "stdout",
     "output_type": "stream",
     "text": [
      "   Time_Series        V1        V2        V3        V4        V5        V6  \\\n",
      "0          0.0 -1.359807 -0.072781  2.536347  1.378155 -0.338321  0.462388   \n",
      "1          0.0  1.191857  0.266151  0.166480  0.448154  0.060018 -0.082361   \n",
      "2          1.0 -1.358354 -1.340163  1.773209  0.379780 -0.503198  1.800499   \n",
      "3          1.0 -0.966272 -0.185226  1.792993 -0.863291 -0.010309  1.247203   \n",
      "4          2.0 -1.158233  0.877737  1.548718  0.403034 -0.407193  0.095921   \n",
      "\n",
      "         V7        V8        V9  ...       V21       V22       V23       V24  \\\n",
      "0  0.239599  0.098698  0.363787  ... -0.018307  0.277838 -0.110474  0.066928   \n",
      "1 -0.078803  0.085102 -0.255425  ... -0.225775 -0.638672  0.101288 -0.339846   \n",
      "2  0.791461  0.247676 -1.514654  ...  0.247998  0.771679  0.909412 -0.689281   \n",
      "3  0.237609  0.377436 -1.387024  ... -0.108300  0.005274 -0.190321 -1.175575   \n",
      "4  0.592941 -0.270533  0.817739  ... -0.009431  0.798278 -0.137458  0.141267   \n",
      "\n",
      "        V25       V26       V27       V28  Amount  Class  \n",
      "0  0.128539 -0.189115  0.133558 -0.021053  149.62      0  \n",
      "1  0.167170  0.125895 -0.008983  0.014724    2.69      0  \n",
      "2 -0.327642 -0.139097 -0.055353 -0.059752  378.66      0  \n",
      "3  0.647376 -0.221929  0.062723  0.061458  123.50      0  \n",
      "4 -0.206010  0.502292  0.219422  0.215153   69.99      0  \n",
      "\n",
      "[5 rows x 31 columns]\n"
     ]
    }
   ],
   "source": [
    "# Check the data\n",
    "print(df.head())"
   ]
  },
  {
   "cell_type": "code",
   "execution_count": 6,
   "metadata": {},
   "outputs": [
    {
     "name": "stdout",
     "output_type": "stream",
     "text": [
      "<class 'pandas.core.frame.DataFrame'>\n",
      "RangeIndex: 284807 entries, 0 to 284806\n",
      "Data columns (total 31 columns):\n",
      " #   Column       Non-Null Count   Dtype  \n",
      "---  ------       --------------   -----  \n",
      " 0   Time_Series  284807 non-null  float64\n",
      " 1   V1           284807 non-null  float64\n",
      " 2   V2           284807 non-null  float64\n",
      " 3   V3           284807 non-null  float64\n",
      " 4   V4           284807 non-null  float64\n",
      " 5   V5           284807 non-null  float64\n",
      " 6   V6           284807 non-null  float64\n",
      " 7   V7           284807 non-null  float64\n",
      " 8   V8           284807 non-null  float64\n",
      " 9   V9           284807 non-null  float64\n",
      " 10  V10          284807 non-null  float64\n",
      " 11  V11          284807 non-null  float64\n",
      " 12  V12          284807 non-null  float64\n",
      " 13  V13          284807 non-null  float64\n",
      " 14  V14          284807 non-null  float64\n",
      " 15  V15          284807 non-null  float64\n",
      " 16  V16          284807 non-null  float64\n",
      " 17  V17          284807 non-null  float64\n",
      " 18  V18          284807 non-null  float64\n",
      " 19  V19          284807 non-null  float64\n",
      " 20  V20          284807 non-null  float64\n",
      " 21  V21          284807 non-null  float64\n",
      " 22  V22          284807 non-null  float64\n",
      " 23  V23          284807 non-null  float64\n",
      " 24  V24          284807 non-null  float64\n",
      " 25  V25          284807 non-null  float64\n",
      " 26  V26          284807 non-null  float64\n",
      " 27  V27          284807 non-null  float64\n",
      " 28  V28          284807 non-null  float64\n",
      " 29  Amount       284807 non-null  float64\n",
      " 30  Class        284807 non-null  int64  \n",
      "dtypes: float64(30), int64(1)\n",
      "memory usage: 67.4 MB\n"
     ]
    }
   ],
   "source": [
    "# Check the datatypes of the Data set \n",
    "df.info()"
   ]
  },
  {
   "cell_type": "code",
   "execution_count": 7,
   "metadata": {},
   "outputs": [
    {
     "data": {
      "text/plain": [
       "Time_Series    124592\n",
       "V1             275663\n",
       "V2             275662\n",
       "V3             275663\n",
       "V4             275662\n",
       "V5             275662\n",
       "V6             275662\n",
       "V7             275662\n",
       "V8             275661\n",
       "V9             275662\n",
       "V10            275659\n",
       "V11            275662\n",
       "V12            275662\n",
       "V13            275663\n",
       "V14            275662\n",
       "V15            275661\n",
       "V16            275661\n",
       "V17            275662\n",
       "V18            275662\n",
       "V19            275661\n",
       "V20            275661\n",
       "V21            275660\n",
       "V22            275661\n",
       "V23            275659\n",
       "V24            275662\n",
       "V25            275661\n",
       "V26            275661\n",
       "V27            275659\n",
       "V28            275653\n",
       "Amount          32767\n",
       "Class               2\n",
       "dtype: int64"
      ]
     },
     "execution_count": 7,
     "metadata": {},
     "output_type": "execute_result"
    }
   ],
   "source": [
    "# Check the Uniqueness\n",
    "df.nunique()"
   ]
  },
  {
   "cell_type": "code",
   "execution_count": 8,
   "metadata": {},
   "outputs": [
    {
     "data": {
      "text/plain": [
       "Time_Series    0\n",
       "V1             0\n",
       "V2             0\n",
       "V3             0\n",
       "V4             0\n",
       "V5             0\n",
       "V6             0\n",
       "V7             0\n",
       "V8             0\n",
       "V9             0\n",
       "V10            0\n",
       "V11            0\n",
       "V12            0\n",
       "V13            0\n",
       "V14            0\n",
       "V15            0\n",
       "V16            0\n",
       "V17            0\n",
       "V18            0\n",
       "V19            0\n",
       "V20            0\n",
       "V21            0\n",
       "V22            0\n",
       "V23            0\n",
       "V24            0\n",
       "V25            0\n",
       "V26            0\n",
       "V27            0\n",
       "V28            0\n",
       "Amount         0\n",
       "Class          0\n",
       "dtype: int64"
      ]
     },
     "execution_count": 8,
     "metadata": {},
     "output_type": "execute_result"
    }
   ],
   "source": [
    "# Check for missing data\n",
    "df.isnull().sum()"
   ]
  },
  {
   "cell_type": "code",
   "execution_count": 9,
   "metadata": {},
   "outputs": [
    {
     "data": {
      "text/html": [
       "<div>\n",
       "<style scoped>\n",
       "    .dataframe tbody tr th:only-of-type {\n",
       "        vertical-align: middle;\n",
       "    }\n",
       "\n",
       "    .dataframe tbody tr th {\n",
       "        vertical-align: top;\n",
       "    }\n",
       "\n",
       "    .dataframe thead th {\n",
       "        text-align: right;\n",
       "    }\n",
       "</style>\n",
       "<table border=\"1\" class=\"dataframe\">\n",
       "  <thead>\n",
       "    <tr style=\"text-align: right;\">\n",
       "      <th></th>\n",
       "      <th>Time_Series</th>\n",
       "      <th>V1</th>\n",
       "      <th>V2</th>\n",
       "      <th>V3</th>\n",
       "      <th>V4</th>\n",
       "      <th>V5</th>\n",
       "      <th>V6</th>\n",
       "      <th>V7</th>\n",
       "      <th>V8</th>\n",
       "      <th>V9</th>\n",
       "      <th>...</th>\n",
       "      <th>V21</th>\n",
       "      <th>V22</th>\n",
       "      <th>V23</th>\n",
       "      <th>V24</th>\n",
       "      <th>V25</th>\n",
       "      <th>V26</th>\n",
       "      <th>V27</th>\n",
       "      <th>V28</th>\n",
       "      <th>Amount</th>\n",
       "      <th>Class</th>\n",
       "    </tr>\n",
       "  </thead>\n",
       "  <tbody>\n",
       "    <tr>\n",
       "      <th>count</th>\n",
       "      <td>284807.000000</td>\n",
       "      <td>2.848070e+05</td>\n",
       "      <td>2.848070e+05</td>\n",
       "      <td>2.848070e+05</td>\n",
       "      <td>2.848070e+05</td>\n",
       "      <td>2.848070e+05</td>\n",
       "      <td>2.848070e+05</td>\n",
       "      <td>2.848070e+05</td>\n",
       "      <td>2.848070e+05</td>\n",
       "      <td>2.848070e+05</td>\n",
       "      <td>...</td>\n",
       "      <td>2.848070e+05</td>\n",
       "      <td>2.848070e+05</td>\n",
       "      <td>2.848070e+05</td>\n",
       "      <td>2.848070e+05</td>\n",
       "      <td>2.848070e+05</td>\n",
       "      <td>2.848070e+05</td>\n",
       "      <td>2.848070e+05</td>\n",
       "      <td>2.848070e+05</td>\n",
       "      <td>284807.000000</td>\n",
       "      <td>284807.000000</td>\n",
       "    </tr>\n",
       "    <tr>\n",
       "      <th>mean</th>\n",
       "      <td>94813.859575</td>\n",
       "      <td>-2.971792e-14</td>\n",
       "      <td>2.531226e-14</td>\n",
       "      <td>-1.923049e-14</td>\n",
       "      <td>1.093810e-14</td>\n",
       "      <td>-6.677660e-14</td>\n",
       "      <td>1.285053e-14</td>\n",
       "      <td>-5.204238e-14</td>\n",
       "      <td>1.023695e-14</td>\n",
       "      <td>2.237256e-15</td>\n",
       "      <td>...</td>\n",
       "      <td>-3.823399e-14</td>\n",
       "      <td>9.996013e-14</td>\n",
       "      <td>8.036320e-15</td>\n",
       "      <td>3.042869e-14</td>\n",
       "      <td>-8.644179e-14</td>\n",
       "      <td>-9.235807e-14</td>\n",
       "      <td>-5.269689e-14</td>\n",
       "      <td>9.542474e-14</td>\n",
       "      <td>88.349619</td>\n",
       "      <td>0.001727</td>\n",
       "    </tr>\n",
       "    <tr>\n",
       "      <th>std</th>\n",
       "      <td>47488.145955</td>\n",
       "      <td>1.958696e+00</td>\n",
       "      <td>1.651309e+00</td>\n",
       "      <td>1.516255e+00</td>\n",
       "      <td>1.415869e+00</td>\n",
       "      <td>1.380247e+00</td>\n",
       "      <td>1.332271e+00</td>\n",
       "      <td>1.237094e+00</td>\n",
       "      <td>1.194353e+00</td>\n",
       "      <td>1.098632e+00</td>\n",
       "      <td>...</td>\n",
       "      <td>7.345240e-01</td>\n",
       "      <td>7.257016e-01</td>\n",
       "      <td>6.244603e-01</td>\n",
       "      <td>6.056471e-01</td>\n",
       "      <td>5.212781e-01</td>\n",
       "      <td>4.822270e-01</td>\n",
       "      <td>4.036325e-01</td>\n",
       "      <td>3.300833e-01</td>\n",
       "      <td>250.120109</td>\n",
       "      <td>0.041527</td>\n",
       "    </tr>\n",
       "    <tr>\n",
       "      <th>min</th>\n",
       "      <td>0.000000</td>\n",
       "      <td>-5.640751e+01</td>\n",
       "      <td>-7.271573e+01</td>\n",
       "      <td>-4.832559e+01</td>\n",
       "      <td>-5.683171e+00</td>\n",
       "      <td>-1.137433e+02</td>\n",
       "      <td>-2.616051e+01</td>\n",
       "      <td>-4.355724e+01</td>\n",
       "      <td>-7.321672e+01</td>\n",
       "      <td>-1.343407e+01</td>\n",
       "      <td>...</td>\n",
       "      <td>-3.483038e+01</td>\n",
       "      <td>-1.093314e+01</td>\n",
       "      <td>-4.480774e+01</td>\n",
       "      <td>-2.836627e+00</td>\n",
       "      <td>-1.029540e+01</td>\n",
       "      <td>-2.604551e+00</td>\n",
       "      <td>-2.256568e+01</td>\n",
       "      <td>-1.543008e+01</td>\n",
       "      <td>0.000000</td>\n",
       "      <td>0.000000</td>\n",
       "    </tr>\n",
       "    <tr>\n",
       "      <th>25%</th>\n",
       "      <td>54201.500000</td>\n",
       "      <td>-9.203734e-01</td>\n",
       "      <td>-5.985499e-01</td>\n",
       "      <td>-8.903648e-01</td>\n",
       "      <td>-8.486401e-01</td>\n",
       "      <td>-6.915971e-01</td>\n",
       "      <td>-7.682956e-01</td>\n",
       "      <td>-5.540759e-01</td>\n",
       "      <td>-2.086297e-01</td>\n",
       "      <td>-6.430976e-01</td>\n",
       "      <td>...</td>\n",
       "      <td>-2.283949e-01</td>\n",
       "      <td>-5.423504e-01</td>\n",
       "      <td>-1.618463e-01</td>\n",
       "      <td>-3.545861e-01</td>\n",
       "      <td>-3.171451e-01</td>\n",
       "      <td>-3.269839e-01</td>\n",
       "      <td>-7.083953e-02</td>\n",
       "      <td>-5.295979e-02</td>\n",
       "      <td>5.600000</td>\n",
       "      <td>0.000000</td>\n",
       "    </tr>\n",
       "    <tr>\n",
       "      <th>50%</th>\n",
       "      <td>84692.000000</td>\n",
       "      <td>1.810880e-02</td>\n",
       "      <td>6.548556e-02</td>\n",
       "      <td>1.798463e-01</td>\n",
       "      <td>-1.984653e-02</td>\n",
       "      <td>-5.433583e-02</td>\n",
       "      <td>-2.741871e-01</td>\n",
       "      <td>4.010308e-02</td>\n",
       "      <td>2.235804e-02</td>\n",
       "      <td>-5.142873e-02</td>\n",
       "      <td>...</td>\n",
       "      <td>-2.945017e-02</td>\n",
       "      <td>6.781942e-03</td>\n",
       "      <td>-1.119293e-02</td>\n",
       "      <td>4.097606e-02</td>\n",
       "      <td>1.659350e-02</td>\n",
       "      <td>-5.213911e-02</td>\n",
       "      <td>1.342146e-03</td>\n",
       "      <td>1.124383e-02</td>\n",
       "      <td>22.000000</td>\n",
       "      <td>0.000000</td>\n",
       "    </tr>\n",
       "    <tr>\n",
       "      <th>75%</th>\n",
       "      <td>139320.500000</td>\n",
       "      <td>1.315642e+00</td>\n",
       "      <td>8.037239e-01</td>\n",
       "      <td>1.027196e+00</td>\n",
       "      <td>7.433413e-01</td>\n",
       "      <td>6.119264e-01</td>\n",
       "      <td>3.985649e-01</td>\n",
       "      <td>5.704361e-01</td>\n",
       "      <td>3.273459e-01</td>\n",
       "      <td>5.971390e-01</td>\n",
       "      <td>...</td>\n",
       "      <td>1.863772e-01</td>\n",
       "      <td>5.285536e-01</td>\n",
       "      <td>1.476421e-01</td>\n",
       "      <td>4.395266e-01</td>\n",
       "      <td>3.507156e-01</td>\n",
       "      <td>2.409522e-01</td>\n",
       "      <td>9.104512e-02</td>\n",
       "      <td>7.827995e-02</td>\n",
       "      <td>77.165000</td>\n",
       "      <td>0.000000</td>\n",
       "    </tr>\n",
       "    <tr>\n",
       "      <th>max</th>\n",
       "      <td>172792.000000</td>\n",
       "      <td>2.454930e+00</td>\n",
       "      <td>2.205773e+01</td>\n",
       "      <td>9.382558e+00</td>\n",
       "      <td>1.687534e+01</td>\n",
       "      <td>3.480167e+01</td>\n",
       "      <td>7.330163e+01</td>\n",
       "      <td>1.205895e+02</td>\n",
       "      <td>2.000721e+01</td>\n",
       "      <td>1.559499e+01</td>\n",
       "      <td>...</td>\n",
       "      <td>2.720284e+01</td>\n",
       "      <td>1.050309e+01</td>\n",
       "      <td>2.252841e+01</td>\n",
       "      <td>4.584549e+00</td>\n",
       "      <td>7.519589e+00</td>\n",
       "      <td>3.517346e+00</td>\n",
       "      <td>3.161220e+01</td>\n",
       "      <td>3.384781e+01</td>\n",
       "      <td>25691.160000</td>\n",
       "      <td>1.000000</td>\n",
       "    </tr>\n",
       "  </tbody>\n",
       "</table>\n",
       "<p>8 rows × 31 columns</p>\n",
       "</div>"
      ],
      "text/plain": [
       "         Time_Series            V1            V2            V3            V4  \\\n",
       "count  284807.000000  2.848070e+05  2.848070e+05  2.848070e+05  2.848070e+05   \n",
       "mean    94813.859575 -2.971792e-14  2.531226e-14 -1.923049e-14  1.093810e-14   \n",
       "std     47488.145955  1.958696e+00  1.651309e+00  1.516255e+00  1.415869e+00   \n",
       "min         0.000000 -5.640751e+01 -7.271573e+01 -4.832559e+01 -5.683171e+00   \n",
       "25%     54201.500000 -9.203734e-01 -5.985499e-01 -8.903648e-01 -8.486401e-01   \n",
       "50%     84692.000000  1.810880e-02  6.548556e-02  1.798463e-01 -1.984653e-02   \n",
       "75%    139320.500000  1.315642e+00  8.037239e-01  1.027196e+00  7.433413e-01   \n",
       "max    172792.000000  2.454930e+00  2.205773e+01  9.382558e+00  1.687534e+01   \n",
       "\n",
       "                 V5            V6            V7            V8            V9  \\\n",
       "count  2.848070e+05  2.848070e+05  2.848070e+05  2.848070e+05  2.848070e+05   \n",
       "mean  -6.677660e-14  1.285053e-14 -5.204238e-14  1.023695e-14  2.237256e-15   \n",
       "std    1.380247e+00  1.332271e+00  1.237094e+00  1.194353e+00  1.098632e+00   \n",
       "min   -1.137433e+02 -2.616051e+01 -4.355724e+01 -7.321672e+01 -1.343407e+01   \n",
       "25%   -6.915971e-01 -7.682956e-01 -5.540759e-01 -2.086297e-01 -6.430976e-01   \n",
       "50%   -5.433583e-02 -2.741871e-01  4.010308e-02  2.235804e-02 -5.142873e-02   \n",
       "75%    6.119264e-01  3.985649e-01  5.704361e-01  3.273459e-01  5.971390e-01   \n",
       "max    3.480167e+01  7.330163e+01  1.205895e+02  2.000721e+01  1.559499e+01   \n",
       "\n",
       "       ...           V21           V22           V23           V24  \\\n",
       "count  ...  2.848070e+05  2.848070e+05  2.848070e+05  2.848070e+05   \n",
       "mean   ... -3.823399e-14  9.996013e-14  8.036320e-15  3.042869e-14   \n",
       "std    ...  7.345240e-01  7.257016e-01  6.244603e-01  6.056471e-01   \n",
       "min    ... -3.483038e+01 -1.093314e+01 -4.480774e+01 -2.836627e+00   \n",
       "25%    ... -2.283949e-01 -5.423504e-01 -1.618463e-01 -3.545861e-01   \n",
       "50%    ... -2.945017e-02  6.781942e-03 -1.119293e-02  4.097606e-02   \n",
       "75%    ...  1.863772e-01  5.285536e-01  1.476421e-01  4.395266e-01   \n",
       "max    ...  2.720284e+01  1.050309e+01  2.252841e+01  4.584549e+00   \n",
       "\n",
       "                V25           V26           V27           V28         Amount  \\\n",
       "count  2.848070e+05  2.848070e+05  2.848070e+05  2.848070e+05  284807.000000   \n",
       "mean  -8.644179e-14 -9.235807e-14 -5.269689e-14  9.542474e-14      88.349619   \n",
       "std    5.212781e-01  4.822270e-01  4.036325e-01  3.300833e-01     250.120109   \n",
       "min   -1.029540e+01 -2.604551e+00 -2.256568e+01 -1.543008e+01       0.000000   \n",
       "25%   -3.171451e-01 -3.269839e-01 -7.083953e-02 -5.295979e-02       5.600000   \n",
       "50%    1.659350e-02 -5.213911e-02  1.342146e-03  1.124383e-02      22.000000   \n",
       "75%    3.507156e-01  2.409522e-01  9.104512e-02  7.827995e-02      77.165000   \n",
       "max    7.519589e+00  3.517346e+00  3.161220e+01  3.384781e+01   25691.160000   \n",
       "\n",
       "               Class  \n",
       "count  284807.000000  \n",
       "mean        0.001727  \n",
       "std         0.041527  \n",
       "min         0.000000  \n",
       "25%         0.000000  \n",
       "50%         0.000000  \n",
       "75%         0.000000  \n",
       "max         1.000000  \n",
       "\n",
       "[8 rows x 31 columns]"
      ]
     },
     "execution_count": 9,
     "metadata": {},
     "output_type": "execute_result"
    }
   ],
   "source": [
    "# Check the Statistics\n",
    "\n",
    "df.describe(include ='all')"
   ]
  },
  {
   "cell_type": "code",
   "execution_count": 10,
   "metadata": {},
   "outputs": [
    {
     "data": {
      "text/plain": [
       "0    284315\n",
       "1       492\n",
       "Name: Class, dtype: int64"
      ]
     },
     "execution_count": 10,
     "metadata": {},
     "output_type": "execute_result"
    }
   ],
   "source": [
    "# Check the Class Imbalance of the Data \n",
    "\n",
    "df['Class'].value_counts()"
   ]
  },
  {
   "cell_type": "code",
   "execution_count": 11,
   "metadata": {},
   "outputs": [
    {
     "data": {
      "image/png": "[encoded data removed]",
      "text/plain": [
       "<Figure size 1440x1080 with 36 Axes>"
      ]
     },
     "metadata": {},
     "output_type": "display_data"
    }
   ],
   "source": [
    "# Histograms of the features\n",
    "\n",
    "df.hist(bins=10, figsize=(20,15))\n",
    "plt.show()"
   ]
  },
  {
   "cell_type": "code",
   "execution_count": 12,
   "metadata": {},
   "outputs": [
    {
     "name": "stdout",
     "output_type": "stream",
     "text": [
      "X_train (199364, 30)\n",
      "X_test (85443, 30)\n"
     ]
    }
   ],
   "source": [
    "# divide full data into features and label\n",
    "\n",
    "X = df.loc[:, df.columns != 'Class']\n",
    "y = df.loc[:, df.columns == 'Class']\n",
    "# Split the Data into Train and Test \n",
    "\n",
    "X_train, X_test, y_train, y_test = train_test_split(X,y, test_size = 0.3, random_state = 42)\n",
    "print('X_train',X_train.shape) # X_train (199364, 30)\n",
    "print('X_test',X_test.shape) # X_test (85443, 30)\n",
    "\n",
    "class_names=[0,1] # name  of classes 1=fraudulent transaction"
   ]
  },
  {
   "cell_type": "code",
   "execution_count": 13,
   "metadata": {},
   "outputs": [],
   "source": [
    "# find the number of minority (value=1) samples in our train set so we can down-sample our majority to it\n",
    "yes = len(y_train[y_train['Class'] ==1])\n",
    "\n",
    "# retrieve the indices of the minority and majority samples \n",
    "yes_ind = y_train[y_train['Class'] == 1].index\n",
    "no_ind = y_train[y_train['Class'] == 0].index\n",
    "\n",
    "# random sample the majority indices based on the amount of \n",
    "# minority samples\n",
    "new_no_ind = np.random.choice(no_ind, yes, replace = False)\n",
    "\n",
    "# merge the two indices together\n",
    "undersample_ind = np.concatenate([new_no_ind, yes_ind])\n",
    "\n",
    "# get undersampled dataframe from the merged indices of the train dataset\n",
    "X_train = X_train.loc[undersample_ind]\n",
    "y_train = y_train.loc[undersample_ind]"
   ]
  },
  {
   "cell_type": "markdown",
   "metadata": {},
   "source": [
    "run Logistic Regression model first"
   ]
  },
  {
   "cell_type": "code",
   "execution_count": 14,
   "metadata": {},
   "outputs": [
    {
     "name": "stderr",
     "output_type": "stream",
     "text": [
      "C:\\Users\\iowahawk89\\miniconda3\\envs\\ds_tensorflow\\lib\\site-packages\\sklearn\\utils\\validation.py:760: DataConversionWarning: A column-vector y was passed when a 1d array was expected. Please change the shape of y to (n_samples, ), for example using ravel().\n",
      "  y = column_or_1d(y, warn=True)\n",
      "C:\\Users\\iowahawk89\\miniconda3\\envs\\ds_tensorflow\\lib\\site-packages\\sklearn\\linear_model\\_logistic.py:940: ConvergenceWarning: lbfgs failed to converge (status=1):\n",
      "STOP: TOTAL NO. of ITERATIONS REACHED LIMIT.\n",
      "\n",
      "Increase the number of iterations (max_iter) or scale the data as shown in:\n",
      "    https://scikit-learn.org/stable/modules/preprocessing.html\n",
      "Please also refer to the documentation for alternative solver options:\n",
      "    https://scikit-learn.org/stable/modules/linear_model.html#logistic-regression\n",
      "  extra_warning_msg=_LOGISTIC_SOLVER_CONVERGENCE_MSG)\n"
     ]
    },
    {
     "name": "stdout",
     "output_type": "stream",
     "text": [
      "              precision    recall  f1-score   support\n",
      "\n",
      "           0       1.00      0.96      0.98     85307\n",
      "           1       0.04      0.93      0.07       136\n",
      "\n",
      "    accuracy                           0.96     85443\n",
      "   macro avg       0.52      0.94      0.52     85443\n",
      "weighted avg       1.00      0.96      0.98     85443\n",
      "\n"
     ]
    }
   ],
   "source": [
    "lr = LogisticRegression()\n",
    "#lr = LogisticRegression(solver='lbfgs')\n",
    "\n",
    "lr.fit(X_train, y_train)\n",
    "\n",
    "lr_Pred=lr.predict(X_test)\n",
    "\n",
    "#print(metrics.accuracy_score(y_test, y_pred))\n",
    "print(classification_report(y_test, lr_Pred))"
   ]
  },
  {
   "cell_type": "code",
   "execution_count": 15,
   "metadata": {},
   "outputs": [],
   "source": [
    "def visualize(Actual, Pred, Algo):\n",
    "    #Confusion Matrix\n",
    "    cnf_matrix=metrics.confusion_matrix(Actual, Pred) #\n",
    "\n",
    "    #Visualize confusion matrix using heat map\n",
    "\n",
    "    fig, ax = plt.subplots()\n",
    "    tick_marks = np.arange(len(class_names))\n",
    "    plt.xticks(tick_marks, class_names)\n",
    "    plt.yticks(tick_marks, class_names)\n",
    "\n",
    "    # create heatmap\n",
    "    sns.heatmap(pd.DataFrame(cnf_matrix), annot=True, cmap=\"YlGnBu\" ,fmt='g')\n",
    "    ax.xaxis.set_label_position(\"top\")\n",
    "    plt.tight_layout()\n",
    "    plt.title('Confusion matrix: '+Algo, y=1.1) \n",
    "    plt.ylabel('Actual label')\n",
    "    plt.xlabel('Predicted label')"
   ]
  },
  {
   "cell_type": "code",
   "execution_count": 16,
   "metadata": {},
   "outputs": [],
   "source": [
    "def display_metrics(model_name, train_features, test_features, train_label, test_label, pred):\n",
    "    print(model_name.score(test_features, test_label)) \n",
    "    print(pd.Series(model_name.feature_importances_, index=train_features.columns[:]).nlargest(10).plot(kind='barh')) \n",
    "    print(\"Accuracy score (training): {0:.3f}\".format(model_name.score(train_features, train_label))) \n",
    "    print(\"Accuracy score (validation): {0:.3f}\".format(model_name.score(test_features, test_label))) \n",
    "    print(\"Confusion Matrix:\")\n",
    "    tn, fp, fn, tp = confusion_matrix(test_label, pred).ravel()\n",
    "    total = tn+ fp+ fn+ tp \n",
    "    print(\"false positive pct:\",(fp/total)*100) \n",
    "    print(\"tn\", \" fp\", \" fn\", \" tp\") \n",
    "    print(tn, fp, fn, tp) \n",
    "    print(confusion_matrix(test_label, pred)) \n",
    "    print(\"Classification Report\") \n",
    "    print(classification_report(test_label, pred))\n",
    "    return tn, fp, fn, tp"
   ]
  },
  {
   "cell_type": "code",
   "execution_count": 17,
   "metadata": {},
   "outputs": [
    {
     "data": {
      "image/png": "[encoded data removed]",
      "text/plain": [
       "<Figure size 576x396 with 2 Axes>"
      ]
     },
     "metadata": {},
     "output_type": "display_data"
    }
   ],
   "source": [
    "visualize(y_test, lr_Pred, 'LR')"
   ]
  },
  {
   "cell_type": "code",
   "execution_count": 18,
   "metadata": {},
   "outputs": [
    {
     "name": "stdout",
     "output_type": "stream",
     "text": [
      "No Skill: ROC AUC=0.500\n",
      "Logistic: ROC AUC=0.974\n"
     ]
    },
    {
     "data": {
      "image/png": "[encoded data removed]",
      "text/plain": [
       "<Figure size 576x396 with 1 Axes>"
      ]
     },
     "metadata": {},
     "output_type": "display_data"
    }
   ],
   "source": [
    "# useful for balanced data, included here for an example to use later\n",
    "\n",
    "ns_probs = [0 for _ in range(len(y_test))]\n",
    "# predict probabilities\n",
    "lr_probs = lr.predict_proba(X_test)\n",
    "# keep probabilities for the positive outcome only\n",
    "lr_probs = lr_probs[:, 1]\n",
    "# calculate scores\n",
    "ns_auc = roc_auc_score(y_test, ns_probs)\n",
    "lr_auc = roc_auc_score(y_test, lr_probs)\n",
    "# summarize scores\n",
    "print('No Skill: ROC AUC=%.3f' % (ns_auc))\n",
    "print('Logistic: ROC AUC=%.3f' % (lr_auc))\n",
    "# calculate roc curves\n",
    "ns_fpr, ns_tpr, _ = roc_curve(y_test, ns_probs)\n",
    "lr_fpr, lr_tpr, _ = roc_curve(y_test, lr_probs)\n",
    "# plot the roc curve for the model\n",
    "pyplot.plot(ns_fpr, ns_tpr, linestyle='--', label='No Skill')\n",
    "pyplot.plot(lr_fpr, lr_tpr, marker='.', label='Logistic')\n",
    "# axis labels\n",
    "pyplot.xlabel('False Positive Rate')\n",
    "pyplot.ylabel('True Positive Rate')\n",
    "# show the legend\n",
    "pyplot.legend()\n",
    "# show the plot\n",
    "pyplot.show()"
   ]
  },
  {
   "cell_type": "code",
   "execution_count": 19,
   "metadata": {},
   "outputs": [
    {
     "name": "stdout",
     "output_type": "stream",
     "text": [
      "Logistic: f1=0.070 auc=0.481\n"
     ]
    },
    {
     "data": {
      "image/png": "[encoded data removed]",
      "text/plain": [
       "<Figure size 576x396 with 1 Axes>"
      ]
     },
     "metadata": {},
     "output_type": "display_data"
    }
   ],
   "source": [
    "# useful for unbalanced data\n",
    "\n",
    "lr_precision, lr_recall, _ = precision_recall_curve(y_test, lr_Pred)\n",
    "lr_f1, lr_auc = f1_score(y_test, lr_Pred), auc(lr_recall, lr_precision)\n",
    "# summarize scores\n",
    "print('Logistic: f1=%.3f auc=%.3f' % (lr_f1, lr_auc))\n",
    "# plot the precision-recall curves\n",
    "no_skill = len(y_test[y_test==1]) / len(y_test)\n",
    "pyplot.plot([0, 1], [no_skill, no_skill], linestyle='--', label='No Skill')\n",
    "pyplot.plot(lr_recall, lr_precision, marker='.', label='Logistic')\n",
    "# axis labels\n",
    "pyplot.xlabel('Recall')\n",
    "pyplot.ylabel('Precision')\n",
    "# show the legend\n",
    "pyplot.legend()\n",
    "# show the plot\n",
    "pyplot.show()"
   ]
  },
  {
   "cell_type": "markdown",
   "metadata": {},
   "source": [
    "Next try the Random Forest model"
   ]
  },
  {
   "cell_type": "code",
   "execution_count": 20,
   "metadata": {},
   "outputs": [
    {
     "name": "stderr",
     "output_type": "stream",
     "text": [
      "C:\\Users\\iowahawk89\\miniconda3\\envs\\ds_tensorflow\\lib\\site-packages\\ipykernel_launcher.py:3: DataConversionWarning: A column-vector y was passed when a 1d array was expected. Please change the shape of y to (n_samples,), for example using ravel().\n",
      "  This is separate from the ipykernel package so we can avoid doing imports until\n"
     ]
    },
    {
     "name": "stdout",
     "output_type": "stream",
     "text": [
      "              precision    recall  f1-score   support\n",
      "\n",
      "           0       1.00      0.97      0.99     85307\n",
      "           1       0.05      0.93      0.10       136\n",
      "\n",
      "    accuracy                           0.97     85443\n",
      "   macro avg       0.53      0.95      0.54     85443\n",
      "weighted avg       1.00      0.97      0.98     85443\n",
      "\n"
     ]
    },
    {
     "data": {
      "image/png": "[encoded data removed]",
      "text/plain": [
       "<Figure size 576x396 with 2 Axes>"
      ]
     },
     "metadata": {},
     "output_type": "display_data"
    }
   ],
   "source": [
    "rf = RandomForestClassifier(n_estimators = 1000)\n",
    "\n",
    "rf.fit(X_train, y_train)\n",
    "\n",
    "rf_Pred=rf.predict(X_test)\n",
    "\n",
    "#print(metrics.accuracy_score(y_test, y_pred))\n",
    "print(classification_report(y_test, rf_Pred))\n",
    "visualize(y_test, rf_Pred, 'RF')"
   ]
  },
  {
   "cell_type": "markdown",
   "metadata": {},
   "source": [
    "So far, logistic regression has better prediction capability, the RandomForestClassifier test has a lot more mistakes in the False Positive category, and only a few less mistakes in the False Negative category."
   ]
  },
  {
   "cell_type": "code",
   "execution_count": 21,
   "metadata": {},
   "outputs": [
    {
     "name": "stderr",
     "output_type": "stream",
     "text": [
      "C:\\Users\\iowahawk89\\miniconda3\\envs\\ds_tensorflow\\lib\\site-packages\\sklearn\\ensemble\\_gb.py:1448: DataConversionWarning: A column-vector y was passed when a 1d array was expected. Please change the shape of y to (n_samples, ), for example using ravel().\n",
      "  sample_weight = column_or_1d(sample_weight, warn=True)\n",
      "C:\\Users\\iowahawk89\\miniconda3\\envs\\ds_tensorflow\\lib\\site-packages\\sklearn\\ensemble\\_gb.py:1454: DataConversionWarning: A column-vector y was passed when a 1d array was expected. Please change the shape of y to (n_samples, ), for example using ravel().\n",
      "  y = column_or_1d(y, warn=True)\n"
     ]
    },
    {
     "name": "stdout",
     "output_type": "stream",
     "text": [
      "0.9864236976697915\n",
      "AxesSubplot(0.125,0.125;0.775x0.755)\n",
      "Accuracy score (training): 0.934\n",
      "Accuracy score (validation): 0.986\n",
      "Confusion Matrix:\n",
      "false positive pct: 1.3459265241154923\n",
      "tn  fp  fn  tp\n",
      "84157 1150 10 126\n",
      "[[84157  1150]\n",
      " [   10   126]]\n",
      "Classification Report\n",
      "              precision    recall  f1-score   support\n",
      "\n",
      "           0       1.00      0.99      0.99     85307\n",
      "           1       0.10      0.93      0.18       136\n",
      "\n",
      "    accuracy                           0.99     85443\n",
      "   macro avg       0.55      0.96      0.59     85443\n",
      "weighted avg       1.00      0.99      0.99     85443\n",
      "\n"
     ]
    },
    {
     "data": {
      "image/png": "[encoded data removed]",
      "text/plain": [
       "<Figure size 576x396 with 1 Axes>"
      ]
     },
     "metadata": {},
     "output_type": "display_data"
    },
    {
     "data": {
      "image/png": "[encoded data removed]",
      "text/plain": [
       "<Figure size 576x396 with 2 Axes>"
      ]
     },
     "metadata": {},
     "output_type": "display_data"
    }
   ],
   "source": [
    "#setup model parameters, change some of the defaults based on benchmarking\n",
    "gb_clf = GradientBoostingClassifier(n_estimators=20, learning_rate=0.1, max_features=10, \n",
    "                                    max_depth=3, random_state=0, subsample = 0.5, criterion='mse', \n",
    "                                    min_samples_split = 10, min_samples_leaf = 10)\n",
    "\n",
    "#default fit model\n",
    "#gb_clf.fit(X_train, y_train)\n",
    "\n",
    "#since a false negative is much more likely than a false positive, we should weight them accordingly\n",
    "gb_clf.fit( X_train, y_train, sample_weight=np.where(y_train == 1,0.5,1.0) ) #  fn = 12 and fp = 1057\n",
    "# no weights gives worse false positive counts\n",
    "#gb_clf.fit( X_train, y_train) # fn = 8 and fp = 2639\n",
    "\n",
    "#use model to predict validation dataset\n",
    "predictions = gb_clf.predict(X_test)\n",
    "\n",
    "tn, fp, fn, tp = display_metrics(gb_clf, X_train, X_test, y_train, y_test, predictions)\n",
    "visualize(y_test, predictions, 'GB')"
   ]
  },
  {
   "cell_type": "markdown",
   "metadata": {},
   "source": [
    "After tweaking the parameters, i get a better result from GradientBoostingClassifier. Changing the weights has a very large influence on the number of errors (FN and FP). Decreasing the weight of a true value vs a false value will decrease the FN, doing the opposite will decrease the FP. For example:  the sample_weight=np.where(y_train == 1,0.37,1.0) gives 13 FN and 795 FP. sample_weight=np.where(y_train == 1,0.1,1.0) gives 17 FN and 217 FP"
   ]
  },
  {
   "cell_type": "markdown",
   "metadata": {},
   "source": [
    "my next idea is to run 2 consecutive models. 1st model should have low false negatives to catch (almost) all the actual positives, even if the number of false positives is high. Then only take these records with a predicted 1 value (should only be a few thousand), as the input for the next model. 2nd test should have low false positives to weed out the actual negatives.\n",
    "Can also try the inverse, but think that option will have less chance of success."
   ]
  },
  {
   "cell_type": "markdown",
   "metadata": {},
   "source": [
    "1st step"
   ]
  },
  {
   "cell_type": "code",
   "execution_count": 22,
   "metadata": {},
   "outputs": [
    {
     "name": "stderr",
     "output_type": "stream",
     "text": [
      "C:\\Users\\iowahawk89\\miniconda3\\envs\\ds_tensorflow\\lib\\site-packages\\sklearn\\ensemble\\_gb.py:1448: DataConversionWarning: A column-vector y was passed when a 1d array was expected. Please change the shape of y to (n_samples, ), for example using ravel().\n",
      "  sample_weight = column_or_1d(sample_weight, warn=True)\n",
      "C:\\Users\\iowahawk89\\miniconda3\\envs\\ds_tensorflow\\lib\\site-packages\\sklearn\\ensemble\\_gb.py:1454: DataConversionWarning: A column-vector y was passed when a 1d array was expected. Please change the shape of y to (n_samples, ), for example using ravel().\n",
      "  y = column_or_1d(y, warn=True)\n"
     ]
    },
    {
     "name": "stdout",
     "output_type": "stream",
     "text": [
      "0.8381611132567911\n",
      "AxesSubplot(0.125,0.125;0.775x0.755)\n",
      "Accuracy score (training): 0.944\n",
      "Accuracy score (validation): 0.838\n",
      "Confusion Matrix:\n",
      "false positive pct: 16.179207190758753\n",
      "tn  fp  fn  tp\n",
      "71483 13824 4 132\n",
      "[[71483 13824]\n",
      " [    4   132]]\n",
      "Classification Report\n",
      "              precision    recall  f1-score   support\n",
      "\n",
      "           0       1.00      0.84      0.91     85307\n",
      "           1       0.01      0.97      0.02       136\n",
      "\n",
      "    accuracy                           0.84     85443\n",
      "   macro avg       0.50      0.90      0.47     85443\n",
      "weighted avg       1.00      0.84      0.91     85443\n",
      "\n"
     ]
    },
    {
     "data": {
      "image/png": "[encoded data removed]",
      "text/plain": [
       "<Figure size 576x396 with 1 Axes>"
      ]
     },
     "metadata": {},
     "output_type": "display_data"
    },
    {
     "data": {
      "image/png": "[encoded data removed]",
      "text/plain": [
       "<Figure size 576x396 with 2 Axes>"
      ]
     },
     "metadata": {},
     "output_type": "display_data"
    }
   ],
   "source": [
    "#setup model parameters, change some of the defaults based on benchmarking\n",
    "gb_clf = GradientBoostingClassifier(n_estimators=20, learning_rate=0.1, max_features=5, \n",
    "                                    max_depth=3, random_state=0, subsample = 1.0, criterion='mse', \n",
    "                                    min_samples_split = 10, min_samples_leaf = 10)\n",
    "\n",
    "#default fit model\n",
    "#gb_clf.fit(X_train, y_train)\n",
    "\n",
    "#since a false negative is much more likely than a false positive, we should weight them accordingly. \n",
    "#IE Finding a true one is more important, also more rare\n",
    "gb_clf.fit( X_train, y_train, sample_weight=np.where(y_train == 1,5.0,1.0) )\n",
    "\n",
    "#use model to predict validation dataset\n",
    "predictions = gb_clf.predict(X_test) \n",
    "\n",
    "tn1, fp1, fn1, tp1 = display_metrics(gb_clf, X_train, X_test, y_train, y_test, predictions)\n",
    "visualize(y_test, predictions, 'GB1')\n"
   ]
  },
  {
   "cell_type": "markdown",
   "metadata": {},
   "source": [
    "2nd step takes all the Predicted Positives (the misclassified FP from upper right (~ 14000) plus the TP (since we won't use the actual value until the validation step)) and reprocesses these using a different model. The other 2 squares (Predicted 0's) are not included in the 2nd model, since we already have a low False negative result, so the initial predicted 0s don't change. Will need to add those back into the final results at the end."
   ]
  },
  {
   "cell_type": "markdown",
   "metadata": {},
   "source": [
    "Add 1st model prediction column to X_test"
   ]
  },
  {
   "cell_type": "code",
   "execution_count": 23,
   "metadata": {},
   "outputs": [
    {
     "name": "stderr",
     "output_type": "stream",
     "text": [
      "C:\\Users\\iowahawk89\\miniconda3\\envs\\ds_tensorflow\\lib\\site-packages\\ipykernel_launcher.py:1: SettingWithCopyWarning: \n",
      "A value is trying to be set on a copy of a slice from a DataFrame.\n",
      "Try using .loc[row_indexer,col_indexer] = value instead\n",
      "\n",
      "See the caveats in the documentation: https://pandas.pydata.org/pandas-docs/stable/user_guide/indexing.html#returning-a-view-versus-a-copy\n",
      "  \"\"\"Entry point for launching an IPython kernel.\n"
     ]
    }
   ],
   "source": [
    "X_test['Prediction'] = predictions"
   ]
  },
  {
   "cell_type": "markdown",
   "metadata": {},
   "source": [
    "select rows with prediction of 1"
   ]
  },
  {
   "cell_type": "code",
   "execution_count": 24,
   "metadata": {},
   "outputs": [],
   "source": [
    "yes_ind = X_test[X_test['Prediction'] == 1].index"
   ]
  },
  {
   "cell_type": "markdown",
   "metadata": {},
   "source": [
    "Create 2nd train dataset from 1st dataset where the prediction was 1"
   ]
  },
  {
   "cell_type": "code",
   "execution_count": 25,
   "metadata": {},
   "outputs": [],
   "source": [
    "X2_test = X_test.loc[yes_ind]\n",
    "y2_test = y_test.loc[yes_ind]\n",
    "X2_test = X2_test.drop(['Prediction'], axis=1)"
   ]
  },
  {
   "cell_type": "markdown",
   "metadata": {},
   "source": [
    "run the 2nd model"
   ]
  },
  {
   "cell_type": "code",
   "execution_count": 26,
   "metadata": {},
   "outputs": [
    {
     "name": "stderr",
     "output_type": "stream",
     "text": [
      "C:\\Users\\iowahawk89\\miniconda3\\envs\\ds_tensorflow\\lib\\site-packages\\sklearn\\ensemble\\_gb.py:1448: DataConversionWarning: A column-vector y was passed when a 1d array was expected. Please change the shape of y to (n_samples, ), for example using ravel().\n",
      "  sample_weight = column_or_1d(sample_weight, warn=True)\n",
      "C:\\Users\\iowahawk89\\miniconda3\\envs\\ds_tensorflow\\lib\\site-packages\\sklearn\\ensemble\\_gb.py:1454: DataConversionWarning: A column-vector y was passed when a 1d array was expected. Please change the shape of y to (n_samples, ), for example using ravel().\n",
      "  y = column_or_1d(y, warn=True)\n"
     ]
    },
    {
     "name": "stdout",
     "output_type": "stream",
     "text": [
      "0.9762109486959014\n",
      "AxesSubplot(0.125,0.125;0.775x0.755)\n",
      "Accuracy score (training): 0.923\n",
      "Accuracy score (validation): 0.976\n",
      "Confusion Matrix:\n",
      "false positive pct: 2.292920607623961\n",
      "tn  fp  fn  tp\n",
      "13504 320 12 120\n",
      "[[13504   320]\n",
      " [   12   120]]\n",
      "Classification Report\n",
      "              precision    recall  f1-score   support\n",
      "\n",
      "           0       1.00      0.98      0.99     13824\n",
      "           1       0.27      0.91      0.42       132\n",
      "\n",
      "    accuracy                           0.98     13956\n",
      "   macro avg       0.64      0.94      0.70     13956\n",
      "weighted avg       0.99      0.98      0.98     13956\n",
      "\n",
      "2 Step Final Confusion Matrix:\n",
      "84987 320\n",
      "16 120\n"
     ]
    },
    {
     "data": {
      "text/plain": [
       "Text(0.5, 352.48, 'Predicted label')"
      ]
     },
     "execution_count": 26,
     "metadata": {},
     "output_type": "execute_result"
    },
    {
     "data": {
      "image/png": "[encoded data removed]",
      "text/plain": [
       "<Figure size 576x396 with 1 Axes>"
      ]
     },
     "metadata": {},
     "output_type": "display_data"
    },
    {
     "data": {
      "image/png": "[encoded data removed]",
      "text/plain": [
       "<Figure size 576x396 with 2 Axes>"
      ]
     },
     "metadata": {},
     "output_type": "display_data"
    },
    {
     "data": {
      "image/png": "[encoded data removed]",
      "text/plain": [
       "<Figure size 576x396 with 2 Axes>"
      ]
     },
     "metadata": {},
     "output_type": "display_data"
    }
   ],
   "source": [
    "#setup model parameters, change some of the defaults based on benchmarking\n",
    "gb_clf = GradientBoostingClassifier(n_estimators=20, learning_rate=0.1, max_features=5, \n",
    "                                    max_depth=3, random_state=0, subsample = 1.0, criterion='mse', \n",
    "                                    min_samples_split = 10, min_samples_leaf = 10)\n",
    "\n",
    "#default fit model\n",
    "#gb_clf.fit(X_train, y_train)\n",
    "\n",
    "#since a false negative is much more likely than a false positive, we should weight them accordingly. \n",
    "#IE Finding a true one is more important\n",
    "# note that the weights in the 2nd model are the inverse of the weights in the 1st model\n",
    "gb_clf.fit( X_train, y_train, sample_weight=np.where(y_train == 1,0.1,1.0) )\n",
    "\n",
    "#use model to predict validation dataset\n",
    "predictions = gb_clf.predict(X2_test) \n",
    "\n",
    "tn, fp, fn, tp = display_metrics(gb_clf, X_train, X2_test, y_train, y2_test, predictions)\n",
    "\n",
    "visualize(y2_test, predictions, 'GB2')\n",
    "\n",
    "print(\"2 Step Final Confusion Matrix:\")\n",
    "print(tn+tn1, fp) \n",
    "print(fn+fn1, tp) \n",
    "\n",
    "fig, ax = plt.subplots() \n",
    "tick_marks = np.arange(len(class_names)) \n",
    "plt.xticks(tick_marks, class_names) \n",
    "plt.yticks(tick_marks, class_names)\n",
    "\n",
    "#create heatmap with combined data from both models\n",
    "sns.heatmap(pd.DataFrame([[tn+tn1,fp],[fn+fn1,tp]]), annot=True, cmap=\"YlGnBu\" ,fmt='g') \n",
    "ax.xaxis.set_label_position(\"top\") \n",
    "plt.tight_layout() \n",
    "plt.title('2 Step Final Confusion matrix', y=1.1) \n",
    "plt.ylabel('Actual label') \n",
    "plt.xlabel('Predicted label')"
   ]
  },
  {
   "cell_type": "markdown",
   "metadata": {},
   "source": [
    "The 2 step modelling process improves the overall model prediction by a large amount (148 incorrect predictions). I don't think we could get this high of precision and recall together with a single model. The best I could do with a single model was 1283 incorrect predictions."
   ]
  },
  {
   "cell_type": "markdown",
   "metadata": {},
   "source": [
    "Next will try a NN"
   ]
  },
  {
   "cell_type": "code",
   "execution_count": 27,
   "metadata": {},
   "outputs": [
    {
     "name": "stderr",
     "output_type": "stream",
     "text": [
      "Using TensorFlow backend.\n"
     ]
    }
   ],
   "source": [
    "import keras\n",
    "from keras.models import Sequential\n",
    "from keras.layers import Dense\n",
    "from keras.layers import Dropout\n",
    "#from keras.callbacks import ModelCheckpoint, TensorBoard\n",
    "from keras import regularizers"
   ]
  },
  {
   "cell_type": "code",
   "execution_count": 28,
   "metadata": {},
   "outputs": [
    {
     "name": "stderr",
     "output_type": "stream",
     "text": [
      "C:\\Users\\iowahawk89\\miniconda3\\envs\\ds_tensorflow\\lib\\site-packages\\pandas\\core\\frame.py:3997: SettingWithCopyWarning: \n",
      "A value is trying to be set on a copy of a slice from a DataFrame\n",
      "\n",
      "See the caveats in the documentation: https://pandas.pydata.org/pandas-docs/stable/user_guide/indexing.html#returning-a-view-versus-a-copy\n",
      "  errors=errors,\n"
     ]
    }
   ],
   "source": [
    "# prepare data for model\n",
    "X_test.drop(X_test.columns[[-1,]], axis=1, inplace=True)\n",
    "sc = StandardScaler()\n",
    "X_train = sc.fit_transform(X_train)\n",
    "X_test = sc.transform(X_test)"
   ]
  },
  {
   "cell_type": "code",
   "execution_count": 29,
   "metadata": {},
   "outputs": [],
   "source": [
    "def create_dnn():\n",
    "    # input_dim must equal number of features in X_train and X_test dataset\n",
    "    clf1 = Sequential([\n",
    "        Dense(units=16, kernel_initializer='uniform', input_dim=30, activation='relu'),\n",
    "        Dense(units=18, kernel_initializer='uniform', activation='relu'),\n",
    "        Dropout(0.25),\n",
    "        Dense(20, kernel_initializer='uniform', activation='relu'),\n",
    "        Dense(24, kernel_initializer='uniform', activation='relu'),\n",
    "        Dense(1, kernel_initializer='uniform', activation='sigmoid')\n",
    "    ])\n",
    "    return clf1"
   ]
  },
  {
   "cell_type": "code",
   "execution_count": 30,
   "metadata": {},
   "outputs": [],
   "source": [
    "def create_simple_dnn():\n",
    "    # input_dim must equal number of features in X_train and X_test dataset\n",
    "    clf1 = Sequential([\n",
    "        Dense(units=16, kernel_initializer='uniform', input_dim=30, activation='relu'),\n",
    "        Dense(units=18, kernel_initializer='uniform', activation='relu'),\n",
    "        Dense(1, kernel_initializer='uniform', activation='sigmoid')\n",
    "    ])\n",
    "    return clf1"
   ]
  },
  {
   "cell_type": "code",
   "execution_count": 31,
   "metadata": {},
   "outputs": [],
   "source": [
    "def create_complex_dnn():\n",
    "    # input_dim must equal number of features in X_train and X_test dataset\n",
    "    clf1 = Sequential([\n",
    "        Dense(units=16, kernel_initializer='uniform', input_dim=30, activation='relu'),\n",
    "        Dense(units=18, kernel_initializer='uniform', activation='relu'),\n",
    "        Dropout(0.10),\n",
    "        Dense(units=30, kernel_initializer='uniform', activation='relu'),\n",
    "        Dense(units=28, kernel_initializer='uniform', activation='relu'),\n",
    "        Dropout(0.10),\n",
    "        Dense(units=30, kernel_initializer='uniform', activation='relu'),\n",
    "        Dense(units=28, kernel_initializer='uniform', activation='relu'),\n",
    "        Dropout(0.10),\n",
    "        Dense(units=20, kernel_initializer='uniform', activation='relu'),\n",
    "        Dense(units=24, kernel_initializer='uniform', activation='relu'),\n",
    "        Dense(units=1, kernel_initializer='uniform', activation='sigmoid')\n",
    "    ])\n",
    "    return clf1"
   ]
  },
  {
   "cell_type": "code",
   "execution_count": 32,
   "metadata": {},
   "outputs": [
    {
     "name": "stdout",
     "output_type": "stream",
     "text": [
      "Model: \"sequential_1\"\n",
      "_________________________________________________________________\n",
      "Layer (type)                 Output Shape              Param #   \n",
      "=================================================================\n",
      "dense_1 (Dense)              (None, 16)                496       \n",
      "_________________________________________________________________\n",
      "dense_2 (Dense)              (None, 18)                306       \n",
      "_________________________________________________________________\n",
      "dropout_1 (Dropout)          (None, 18)                0         \n",
      "_________________________________________________________________\n",
      "dense_3 (Dense)              (None, 20)                380       \n",
      "_________________________________________________________________\n",
      "dense_4 (Dense)              (None, 24)                504       \n",
      "_________________________________________________________________\n",
      "dense_5 (Dense)              (None, 1)                 25        \n",
      "=================================================================\n",
      "Total params: 1,711\n",
      "Trainable params: 1,711\n",
      "Non-trainable params: 0\n",
      "_________________________________________________________________\n",
      "Epoch 1/5\n",
      "712/712 [==============================] - 0s 654us/step - loss: 0.3660 - accuracy: 0.5000\n",
      "Epoch 2/5\n",
      "712/712 [==============================] - 0s 119us/step - loss: 0.1535 - accuracy: 0.5000\n",
      "Epoch 3/5\n",
      "712/712 [==============================] - 0s 173us/step - loss: 0.0768 - accuracy: 0.6447\n",
      "Epoch 4/5\n",
      "712/712 [==============================] - 0s 141us/step - loss: 0.0643 - accuracy: 0.8750\n",
      "Epoch 5/5\n",
      "712/712 [==============================] - 0s 121us/step - loss: 0.0488 - accuracy: 0.8947\n",
      "712/712 [==============================] - 0s 45us/step\n",
      "\n",
      "And the Train Score is  90.02808928489685 %\n",
      "85443/85443 [==============================] - 1s 7us/step\n",
      "\n",
      "And the Test Score is  99.89583492279053 %\n",
      "Classification Report (DNN)\n",
      "              precision    recall  f1-score   support\n",
      "\n",
      "           0       1.00      1.00      1.00     85307\n",
      "           1       0.63      0.85      0.72       136\n",
      "\n",
      "    accuracy                           1.00     85443\n",
      "   macro avg       0.81      0.92      0.86     85443\n",
      "weighted avg       1.00      1.00      1.00     85443\n",
      "\n"
     ]
    },
    {
     "data": {
      "image/png": "[encoded data removed]",
      "text/plain": [
       "<Figure size 576x396 with 2 Axes>"
      ]
     },
     "metadata": {},
     "output_type": "display_data"
    }
   ],
   "source": [
    "clf = create_dnn()\n",
    "clf.summary()\n",
    "clf.compile(optimizer='adam', loss='binary_crossentropy', metrics=['accuracy'])\n",
    "# create/fit model on the training dataset\n",
    "clf.fit(X_train, y_train, batch_size=15, epochs=5, sample_weight=np.where(y_train == 1,0.1,1.0).flatten())\n",
    "#clf.fit(X_train, y_train, batch_size=15, epochs=5, sample_weight=np.where(y_train == 1,5.0,1.0).flatten())\n",
    "#clf.fit(X_train, y_train, batch_size=15, epochs=5)\n",
    "\n",
    "# check model metrics\n",
    "score = clf.evaluate(X_train, y_train, batch_size=128)\n",
    "print('\\nAnd the Train Score is ', score[1] * 100, '%')\n",
    "score = clf.evaluate(X_test, y_test, batch_size=128)\n",
    "print('\\nAnd the Test Score is ', score[1] * 100, '%')\n",
    "# predict probabilities for test set\n",
    "yhat_probs = clf.predict(X_test, verbose=0)\n",
    "# predict crisp classes for test set\n",
    "yhat_classes = clf.predict_classes(X_test, verbose=0)\n",
    "# reduce to 1d array\n",
    "yhat_probs = yhat_probs[:, 0]\n",
    "yhat_classes = yhat_classes[:, 0]\n",
    "print(\"Classification Report (DNN)\") \n",
    "print(classification_report(y_test, yhat_classes))\n",
    "\n",
    "visualize(y_test, yhat_classes, 'DNN')"
   ]
  },
  {
   "cell_type": "markdown",
   "metadata": {},
   "source": [
    "Results from Deep NN are better than 1 step/model examples, but not as good as the 2 step/model process. As more data is added or processed through this DNN, the results should improve, maybe eventually beating the 2 step model. However, it seems that increasing the number of epochs will weight the model to higher false negatives, similar to using sample weights for the GBM model:\n",
    "\n",
    "**sample_weight=np.where(y_train == 1,0.1,1.0)**\n",
    "\n",
    " **giving a 1 in the training data 10 times the weight or inflence of a 0**\n",
    "\n",
    "For now, we will keep the number of epochs at 5.\n",
    "Weighting has the same effect on this DNN as it had on the GBM. Best all around result with \n",
    "\n",
    "sample_weight=np.where(y_train == 1,0.1,1.0).flatten()"
   ]
  },
  {
   "cell_type": "code",
   "execution_count": 33,
   "metadata": {},
   "outputs": [
    {
     "name": "stdout",
     "output_type": "stream",
     "text": [
      "Model: \"sequential_2\"\n",
      "_________________________________________________________________\n",
      "Layer (type)                 Output Shape              Param #   \n",
      "=================================================================\n",
      "dense_6 (Dense)              (None, 16)                496       \n",
      "_________________________________________________________________\n",
      "dense_7 (Dense)              (None, 18)                306       \n",
      "_________________________________________________________________\n",
      "dense_8 (Dense)              (None, 1)                 19        \n",
      "=================================================================\n",
      "Total params: 821\n",
      "Trainable params: 821\n",
      "Non-trainable params: 0\n",
      "_________________________________________________________________\n",
      "Epoch 1/5\n",
      "712/712 [==============================] - 0s 261us/step - loss: 0.3645 - accuracy: 0.5379\n",
      "Epoch 2/5\n",
      "712/712 [==============================] - 0s 106us/step - loss: 0.2283 - accuracy: 0.8006\n",
      "Epoch 3/5\n",
      "712/712 [==============================] - 0s 85us/step - loss: 0.0773 - accuracy: 0.8666\n",
      "Epoch 4/5\n",
      "712/712 [==============================] - 0s 86us/step - loss: 0.0548 - accuracy: 0.8750\n",
      "Epoch 5/5\n",
      "712/712 [==============================] - 0s 89us/step - loss: 0.0502 - accuracy: 0.8792\n",
      "712/712 [==============================] - 0s 32us/step\n",
      "\n",
      "And the Train Score is  87.92135119438171 %\n",
      "85443/85443 [==============================] - 0s 4us/step\n",
      "\n",
      "And the Test Score is  99.93796944618225 %\n",
      "Classification Report (DNN)\n",
      "              precision    recall  f1-score   support\n",
      "\n",
      "           0       1.00      1.00      1.00     85307\n",
      "           1       0.81      0.80      0.80       136\n",
      "\n",
      "    accuracy                           1.00     85443\n",
      "   macro avg       0.90      0.90      0.90     85443\n",
      "weighted avg       1.00      1.00      1.00     85443\n",
      "\n"
     ]
    },
    {
     "data": {
      "image/png": "[encoded data removed]",
      "text/plain": [
       "<Figure size 576x396 with 2 Axes>"
      ]
     },
     "metadata": {},
     "output_type": "display_data"
    }
   ],
   "source": [
    "clf = create_simple_dnn()\n",
    "clf.summary()\n",
    "clf.compile(optimizer='adam', loss='binary_crossentropy', metrics=['accuracy'])\n",
    "# create/fit model on the training dataset\n",
    "clf.fit(X_train, y_train, batch_size=15, epochs=5, sample_weight=np.where(y_train == 1,0.1,1.0).flatten())\n",
    "#clf.fit(X_train, y_train, batch_size=15, epochs=5, sample_weight=np.where(y_train == 1,5.0,1.0).flatten())\n",
    "#clf.fit(X_train, y_train, batch_size=15, epochs=5)\n",
    "\n",
    "# check model metrics\n",
    "score = clf.evaluate(X_train, y_train, batch_size=128)\n",
    "print('\\nAnd the Train Score is ', score[1] * 100, '%')\n",
    "score = clf.evaluate(X_test, y_test, batch_size=128)\n",
    "print('\\nAnd the Test Score is ', score[1] * 100, '%')\n",
    "# predict probabilities for test set\n",
    "yhat_probs = clf.predict(X_test, verbose=0)\n",
    "# predict crisp classes for test set\n",
    "yhat_classes = clf.predict_classes(X_test, verbose=0)\n",
    "# reduce to 1d array\n",
    "yhat_probs = yhat_probs[:, 0]\n",
    "yhat_classes = yhat_classes[:, 0]\n",
    "print(\"Classification Report (DNN)\") \n",
    "print(classification_report(y_test, yhat_classes))\n",
    "\n",
    "visualize(y_test, yhat_classes, 'DNN')"
   ]
  },
  {
   "cell_type": "code",
   "execution_count": 34,
   "metadata": {},
   "outputs": [
    {
     "name": "stdout",
     "output_type": "stream",
     "text": [
      "Model: \"sequential_3\"\n",
      "_________________________________________________________________\n",
      "Layer (type)                 Output Shape              Param #   \n",
      "=================================================================\n",
      "dense_9 (Dense)              (None, 16)                496       \n",
      "_________________________________________________________________\n",
      "dense_10 (Dense)             (None, 18)                306       \n",
      "_________________________________________________________________\n",
      "dropout_2 (Dropout)          (None, 18)                0         \n",
      "_________________________________________________________________\n",
      "dense_11 (Dense)             (None, 30)                570       \n",
      "_________________________________________________________________\n",
      "dense_12 (Dense)             (None, 28)                868       \n",
      "_________________________________________________________________\n",
      "dropout_3 (Dropout)          (None, 28)                0         \n",
      "_________________________________________________________________\n",
      "dense_13 (Dense)             (None, 30)                870       \n",
      "_________________________________________________________________\n",
      "dense_14 (Dense)             (None, 28)                868       \n",
      "_________________________________________________________________\n",
      "dropout_4 (Dropout)          (None, 28)                0         \n",
      "_________________________________________________________________\n",
      "dense_15 (Dense)             (None, 20)                580       \n",
      "_________________________________________________________________\n",
      "dense_16 (Dense)             (None, 24)                504       \n",
      "_________________________________________________________________\n",
      "dense_17 (Dense)             (None, 1)                 25        \n",
      "=================================================================\n",
      "Total params: 5,087\n",
      "Trainable params: 5,087\n",
      "Non-trainable params: 0\n",
      "_________________________________________________________________\n",
      "Epoch 1/5\n",
      "712/712 [==============================] - 0s 675us/step - loss: 0.3698 - accuracy: 0.5000\n",
      "Epoch 2/5\n",
      "712/712 [==============================] - 0s 147us/step - loss: 0.2394 - accuracy: 0.5000\n",
      "Epoch 3/5\n",
      "712/712 [==============================] - 0s 165us/step - loss: 0.0991 - accuracy: 0.5000\n",
      "Epoch 4/5\n",
      "712/712 [==============================] - 0s 147us/step - loss: 0.0725 - accuracy: 0.6039\n",
      "Epoch 5/5\n",
      "712/712 [==============================] - 0s 155us/step - loss: 0.0470 - accuracy: 0.9143\n",
      "712/712 [==============================] - 0s 69us/step\n",
      "\n",
      "And the Train Score is  93.39887499809265 %\n",
      "85443/85443 [==============================] - 1s 8us/step\n",
      "\n",
      "And the Test Score is  99.37267899513245 %\n",
      "Classification Report (DNN)\n",
      "              precision    recall  f1-score   support\n",
      "\n",
      "           0       1.00      0.99      1.00     85307\n",
      "           1       0.19      0.90      0.31       136\n",
      "\n",
      "    accuracy                           0.99     85443\n",
      "   macro avg       0.59      0.95      0.65     85443\n",
      "weighted avg       1.00      0.99      1.00     85443\n",
      "\n"
     ]
    },
    {
     "data": {
      "image/png": "[encoded data removed]",
      "text/plain": [
       "<Figure size 576x396 with 2 Axes>"
      ]
     },
     "metadata": {},
     "output_type": "display_data"
    }
   ],
   "source": [
    "clf = create_complex_dnn()\n",
    "clf.summary()\n",
    "clf.compile(optimizer='adam', loss='binary_crossentropy', metrics=['accuracy'])\n",
    "# create/fit model on the training dataset\n",
    "clf.fit(X_train, y_train, batch_size=15, epochs=5, sample_weight=np.where(y_train == 1,0.1,1.0).flatten())\n",
    "#clf.fit(X_train, y_train, batch_size=15, epochs=5, sample_weight=np.where(y_train == 1,5.0,1.0).flatten())\n",
    "#clf.fit(X_train, y_train, batch_size=15, epochs=5)\n",
    "\n",
    "# check model metrics\n",
    "score = clf.evaluate(X_train, y_train, batch_size=128)\n",
    "print('\\nAnd the Train Score is ', score[1] * 100, '%')\n",
    "score = clf.evaluate(X_test, y_test, batch_size=128)\n",
    "print('\\nAnd the Test Score is ', score[1] * 100, '%')\n",
    "# predict probabilities for test set\n",
    "yhat_probs = clf.predict(X_test, verbose=0)\n",
    "# predict crisp classes for test set\n",
    "yhat_classes = clf.predict_classes(X_test, verbose=0)\n",
    "# reduce to 1d array\n",
    "yhat_probs = yhat_probs[:, 0]\n",
    "yhat_classes = yhat_classes[:, 0]\n",
    "print(\"Classification Report (DNN)\") \n",
    "print(classification_report(y_test, yhat_classes))\n",
    "\n",
    "visualize(y_test, yhat_classes, 'DNN')"
   ]
  },
  {
   "cell_type": "code",
   "execution_count": 35,
   "metadata": {},
   "outputs": [],
   "source": [
    "def create_autoencoder():\n",
    "    # input_dim must equal number of features in X_train and X_test dataset\n",
    "    clf1 = Sequential([\n",
    "        Dense(units=14, kernel_initializer='uniform', input_dim=30, activation='tanh', activity_regularizer=regularizers.l1(10e-5)),\n",
    "        Dense(units=7, kernel_initializer='uniform', activation='relu'),\n",
    "        Dense(units=7, kernel_initializer='uniform', activation='tanh'),\n",
    "        Dense(units=30, kernel_initializer='uniform', activation='relu'),\n",
    "        Dense(units=1, kernel_initializer='uniform', activation='sigmoid')\n",
    "    ])\n",
    "    return clf1\n",
    "a='''\n",
    "input_layer = Input(shape=(30, ))\n",
    "encoder = Dense(14, activation=\"tanh\", activity_regularizer=regularizers.l1(10e-5))(input_layer)\n",
    "encoder = Dense(7, activation=\"relu\")(encoder)\n",
    "decoder = Dense(7, activation='tanh')(encoder)\n",
    "decoder = Dense(30, activation='relu')(decoder)\n",
    "autoencoder = Model(inputs=input_layer, outputs=decoder)\n",
    "'''"
   ]
  },
  {
   "cell_type": "code",
   "execution_count": 36,
   "metadata": {},
   "outputs": [
    {
     "name": "stdout",
     "output_type": "stream",
     "text": [
      "Model: \"sequential_4\"\n",
      "_________________________________________________________________\n",
      "Layer (type)                 Output Shape              Param #   \n",
      "=================================================================\n",
      "dense_18 (Dense)             (None, 14)                434       \n",
      "_________________________________________________________________\n",
      "dense_19 (Dense)             (None, 7)                 105       \n",
      "_________________________________________________________________\n",
      "dense_20 (Dense)             (None, 7)                 56        \n",
      "_________________________________________________________________\n",
      "dense_21 (Dense)             (None, 30)                240       \n",
      "_________________________________________________________________\n",
      "dense_22 (Dense)             (None, 1)                 31        \n",
      "=================================================================\n",
      "Total params: 866\n",
      "Trainable params: 866\n",
      "Non-trainable params: 0\n",
      "_________________________________________________________________\n",
      "Epoch 1/100\n",
      "712/712 [==============================] - 0s 287us/step - loss: 0.2536 - accuracy: 0.5042\n",
      "Epoch 2/100\n",
      "712/712 [==============================] - 0s 74us/step - loss: 0.2518 - accuracy: 0.5000\n",
      "Epoch 3/100\n",
      "712/712 [==============================] - 0s 51us/step - loss: 0.2510 - accuracy: 0.5000\n",
      "Epoch 4/100\n",
      "712/712 [==============================] - 0s 67us/step - loss: 0.2506 - accuracy: 0.5000\n",
      "Epoch 5/100\n",
      "712/712 [==============================] - 0s 60us/step - loss: 0.2504 - accuracy: 0.5000\n",
      "Epoch 6/100\n",
      "712/712 [==============================] - 0s 71us/step - loss: 0.2503 - accuracy: 0.5000\n",
      "Epoch 7/100\n",
      "712/712 [==============================] - 0s 62us/step - loss: 0.2502 - accuracy: 0.5000\n",
      "Epoch 8/100\n",
      "712/712 [==============================] - 0s 62us/step - loss: 0.2502 - accuracy: 0.5000\n",
      "Epoch 9/100\n",
      "712/712 [==============================] - 0s 51us/step - loss: 0.2502 - accuracy: 0.5000\n",
      "Epoch 10/100\n",
      "712/712 [==============================] - 0s 49us/step - loss: 0.2501 - accuracy: 0.5000\n",
      "Epoch 11/100\n",
      "712/712 [==============================] - 0s 64us/step - loss: 0.2501 - accuracy: 0.5000\n",
      "Epoch 12/100\n",
      "712/712 [==============================] - 0s 60us/step - loss: 0.2501 - accuracy: 0.5000\n",
      "Epoch 13/100\n",
      "712/712 [==============================] - 0s 55us/step - loss: 0.2501 - accuracy: 0.5000\n",
      "Epoch 14/100\n",
      "712/712 [==============================] - 0s 48us/step - loss: 0.2501 - accuracy: 0.4803\n",
      "Epoch 15/100\n",
      "712/712 [==============================] - 0s 48us/step - loss: 0.2501 - accuracy: 0.4831\n",
      "Epoch 16/100\n",
      "712/712 [==============================] - 0s 52us/step - loss: 0.2501 - accuracy: 0.4916\n",
      "Epoch 17/100\n",
      "712/712 [==============================] - 0s 51us/step - loss: 0.2501 - accuracy: 0.4916\n",
      "Epoch 18/100\n",
      "712/712 [==============================] - 0s 51us/step - loss: 0.2501 - accuracy: 0.4916\n",
      "Epoch 19/100\n",
      "712/712 [==============================] - 0s 55us/step - loss: 0.2501 - accuracy: 0.5000\n",
      "Epoch 20/100\n",
      "712/712 [==============================] - 0s 49us/step - loss: 0.2501 - accuracy: 0.5000\n",
      "Epoch 21/100\n",
      "712/712 [==============================] - 0s 53us/step - loss: 0.2501 - accuracy: 0.4803\n",
      "Epoch 22/100\n",
      "712/712 [==============================] - 0s 48us/step - loss: 0.2501 - accuracy: 0.4860\n",
      "Epoch 23/100\n",
      "712/712 [==============================] - 0s 49us/step - loss: 0.2501 - accuracy: 0.4803\n",
      "Epoch 24/100\n",
      "712/712 [==============================] - 0s 48us/step - loss: 0.2501 - accuracy: 0.5000\n",
      "Epoch 25/100\n",
      "712/712 [==============================] - 0s 48us/step - loss: 0.2501 - accuracy: 0.5000\n",
      "Epoch 26/100\n",
      "712/712 [==============================] - 0s 53us/step - loss: 0.2501 - accuracy: 0.5056\n",
      "Epoch 27/100\n",
      "712/712 [==============================] - 0s 59us/step - loss: 0.2501 - accuracy: 0.4831\n",
      "Epoch 28/100\n",
      "712/712 [==============================] - 0s 59us/step - loss: 0.2501 - accuracy: 0.5000\n",
      "Epoch 29/100\n",
      "712/712 [==============================] - 0s 52us/step - loss: 0.2501 - accuracy: 0.5000\n",
      "Epoch 30/100\n",
      "712/712 [==============================] - 0s 58us/step - loss: 0.2501 - accuracy: 0.5000\n",
      "Epoch 31/100\n",
      "712/712 [==============================] - 0s 70us/step - loss: 0.2501 - accuracy: 0.5000\n",
      "Epoch 32/100\n",
      "712/712 [==============================] - 0s 52us/step - loss: 0.2501 - accuracy: 0.4860\n",
      "Epoch 33/100\n",
      "712/712 [==============================] - 0s 53us/step - loss: 0.2501 - accuracy: 0.4972\n",
      "Epoch 34/100\n",
      "712/712 [==============================] - 0s 49us/step - loss: 0.2501 - accuracy: 0.4803\n",
      "Epoch 35/100\n",
      "712/712 [==============================] - 0s 55us/step - loss: 0.2501 - accuracy: 0.4831\n",
      "Epoch 36/100\n",
      "712/712 [==============================] - 0s 52us/step - loss: 0.2501 - accuracy: 0.4607\n",
      "Epoch 37/100\n",
      "712/712 [==============================] - 0s 48us/step - loss: 0.2502 - accuracy: 0.5000\n",
      "Epoch 38/100\n",
      "712/712 [==============================] - 0s 45us/step - loss: 0.2501 - accuracy: 0.5000\n",
      "Epoch 39/100\n",
      "712/712 [==============================] - 0s 51us/step - loss: 0.2501 - accuracy: 0.5000\n",
      "Epoch 40/100\n",
      "712/712 [==============================] - 0s 52us/step - loss: 0.2501 - accuracy: 0.5000\n",
      "Epoch 41/100\n",
      "712/712 [==============================] - 0s 48us/step - loss: 0.2501 - accuracy: 0.4579\n",
      "Epoch 42/100\n",
      "712/712 [==============================] - 0s 53us/step - loss: 0.2501 - accuracy: 0.4775\n",
      "Epoch 43/100\n",
      "712/712 [==============================] - 0s 60us/step - loss: 0.2501 - accuracy: 0.5028\n",
      "Epoch 44/100\n",
      "712/712 [==============================] - 0s 52us/step - loss: 0.2501 - accuracy: 0.5000\n",
      "Epoch 45/100\n",
      "712/712 [==============================] - 0s 53us/step - loss: 0.2501 - accuracy: 0.5000\n",
      "Epoch 46/100\n",
      "712/712 [==============================] - 0s 55us/step - loss: 0.2501 - accuracy: 0.5000\n",
      "Epoch 47/100\n",
      "712/712 [==============================] - 0s 52us/step - loss: 0.2501 - accuracy: 0.5000\n",
      "Epoch 48/100\n",
      "712/712 [==============================] - 0s 49us/step - loss: 0.2501 - accuracy: 0.5000\n",
      "Epoch 49/100\n",
      "712/712 [==============================] - 0s 53us/step - loss: 0.2501 - accuracy: 0.5000\n",
      "Epoch 50/100\n",
      "712/712 [==============================] - 0s 51us/step - loss: 0.2501 - accuracy: 0.5000\n",
      "Epoch 51/100\n",
      "712/712 [==============================] - 0s 52us/step - loss: 0.2501 - accuracy: 0.4803\n",
      "Epoch 52/100\n",
      "712/712 [==============================] - 0s 49us/step - loss: 0.2501 - accuracy: 0.4747\n",
      "Epoch 53/100\n",
      "712/712 [==============================] - 0s 58us/step - loss: 0.2501 - accuracy: 0.5056\n",
      "Epoch 54/100\n",
      "712/712 [==============================] - 0s 58us/step - loss: 0.2501 - accuracy: 0.5000\n",
      "Epoch 55/100\n",
      "712/712 [==============================] - 0s 66us/step - loss: 0.2501 - accuracy: 0.5000\n",
      "Epoch 56/100\n",
      "712/712 [==============================] - 0s 93us/step - loss: 0.2501 - accuracy: 0.5000\n",
      "Epoch 57/100\n",
      "712/712 [==============================] - 0s 71us/step - loss: 0.2501 - accuracy: 0.5000\n",
      "Epoch 58/100\n",
      "712/712 [==============================] - 0s 64us/step - loss: 0.2501 - accuracy: 0.5000\n",
      "Epoch 59/100\n",
      "712/712 [==============================] - 0s 63us/step - loss: 0.2501 - accuracy: 0.5000\n",
      "Epoch 60/100\n",
      "712/712 [==============================] - 0s 56us/step - loss: 0.2501 - accuracy: 0.5000\n",
      "Epoch 61/100\n",
      "712/712 [==============================] - 0s 51us/step - loss: 0.2501 - accuracy: 0.5000\n",
      "Epoch 62/100\n",
      "712/712 [==============================] - 0s 51us/step - loss: 0.2501 - accuracy: 0.5000\n",
      "Epoch 63/100\n",
      "712/712 [==============================] - 0s 55us/step - loss: 0.2501 - accuracy: 0.5000\n",
      "Epoch 64/100\n",
      "712/712 [==============================] - 0s 48us/step - loss: 0.2501 - accuracy: 0.5000\n",
      "Epoch 65/100\n",
      "712/712 [==============================] - 0s 51us/step - loss: 0.2501 - accuracy: 0.5000\n",
      "Epoch 66/100\n",
      "712/712 [==============================] - 0s 54us/step - loss: 0.2501 - accuracy: 0.5000\n",
      "Epoch 67/100\n",
      "712/712 [==============================] - 0s 52us/step - loss: 0.2501 - accuracy: 0.5000\n",
      "Epoch 68/100\n",
      "712/712 [==============================] - 0s 48us/step - loss: 0.2501 - accuracy: 0.4803\n",
      "Epoch 69/100\n",
      "712/712 [==============================] - 0s 55us/step - loss: 0.2501 - accuracy: 0.4888\n",
      "Epoch 70/100\n",
      "712/712 [==============================] - 0s 51us/step - loss: 0.2501 - accuracy: 0.5000\n",
      "Epoch 71/100\n",
      "712/712 [==============================] - 0s 48us/step - loss: 0.2501 - accuracy: 0.4551\n",
      "Epoch 72/100\n",
      "712/712 [==============================] - 0s 58us/step - loss: 0.2501 - accuracy: 0.4831\n",
      "Epoch 73/100\n",
      "712/712 [==============================] - 0s 52us/step - loss: 0.2501 - accuracy: 0.4579\n",
      "Epoch 74/100\n",
      "712/712 [==============================] - 0s 51us/step - loss: 0.2501 - accuracy: 0.4831\n",
      "Epoch 75/100\n",
      "712/712 [==============================] - 0s 55us/step - loss: 0.2501 - accuracy: 0.4831\n",
      "Epoch 76/100\n",
      "712/712 [==============================] - 0s 58us/step - loss: 0.2501 - accuracy: 0.4775\n",
      "Epoch 77/100\n",
      "712/712 [==============================] - 0s 53us/step - loss: 0.2501 - accuracy: 0.4747\n",
      "Epoch 78/100\n",
      "712/712 [==============================] - 0s 52us/step - loss: 0.2501 - accuracy: 0.4888\n",
      "Epoch 79/100\n",
      "712/712 [==============================] - 0s 55us/step - loss: 0.2501 - accuracy: 0.4747\n",
      "Epoch 80/100\n",
      "712/712 [==============================] - 0s 52us/step - loss: 0.2501 - accuracy: 0.4747\n",
      "Epoch 81/100\n",
      "712/712 [==============================] - 0s 53us/step - loss: 0.2501 - accuracy: 0.5000\n",
      "Epoch 82/100\n",
      "712/712 [==============================] - 0s 52us/step - loss: 0.2501 - accuracy: 0.5000\n",
      "Epoch 83/100\n",
      "712/712 [==============================] - 0s 51us/step - loss: 0.2501 - accuracy: 0.5000\n",
      "Epoch 84/100\n",
      "712/712 [==============================] - 0s 64us/step - loss: 0.2501 - accuracy: 0.5056\n",
      "Epoch 85/100\n",
      "712/712 [==============================] - 0s 52us/step - loss: 0.2501 - accuracy: 0.4803\n",
      "Epoch 86/100\n",
      "712/712 [==============================] - 0s 59us/step - loss: 0.2501 - accuracy: 0.4803\n",
      "Epoch 87/100\n",
      "712/712 [==============================] - 0s 53us/step - loss: 0.2501 - accuracy: 0.4635\n",
      "Epoch 88/100\n",
      "712/712 [==============================] - 0s 64us/step - loss: 0.2501 - accuracy: 0.5028\n",
      "Epoch 89/100\n",
      "712/712 [==============================] - 0s 51us/step - loss: 0.2501 - accuracy: 0.5000\n",
      "Epoch 90/100\n",
      "712/712 [==============================] - 0s 52us/step - loss: 0.2501 - accuracy: 0.5000\n",
      "Epoch 91/100\n",
      "712/712 [==============================] - 0s 51us/step - loss: 0.2501 - accuracy: 0.5000\n",
      "Epoch 92/100\n",
      "712/712 [==============================] - 0s 49us/step - loss: 0.2501 - accuracy: 0.5000\n",
      "Epoch 93/100\n",
      "712/712 [==============================] - 0s 49us/step - loss: 0.2501 - accuracy: 0.4663\n",
      "Epoch 94/100\n",
      "712/712 [==============================] - 0s 52us/step - loss: 0.2501 - accuracy: 0.5000\n",
      "Epoch 95/100\n",
      "712/712 [==============================] - 0s 52us/step - loss: 0.2501 - accuracy: 0.5000\n",
      "Epoch 96/100\n",
      "712/712 [==============================] - 0s 53us/step - loss: 0.2501 - accuracy: 0.4944\n",
      "Epoch 97/100\n",
      "712/712 [==============================] - 0s 52us/step - loss: 0.2501 - accuracy: 0.5000\n",
      "Epoch 98/100\n",
      "712/712 [==============================] - 0s 53us/step - loss: 0.2501 - accuracy: 0.5000\n",
      "Epoch 99/100\n",
      "712/712 [==============================] - 0s 59us/step - loss: 0.2501 - accuracy: 0.5000\n",
      "Epoch 100/100\n",
      "712/712 [==============================] - 0s 56us/step - loss: 0.2501 - accuracy: 0.5000\n",
      "712/712 [==============================] - 0s 51us/step\n",
      "\n",
      "And the Train Score is  50.0 %\n",
      "85443/85443 [==============================] - 2s 27us/step\n",
      "\n",
      "And the Test Score is  99.8408317565918 %\n",
      "Classification Report (DNN)\n"
     ]
    },
    {
     "name": "stderr",
     "output_type": "stream",
     "text": [
      "C:\\Users\\iowahawk89\\miniconda3\\envs\\ds_tensorflow\\lib\\site-packages\\sklearn\\metrics\\_classification.py:1272: UndefinedMetricWarning: Precision and F-score are ill-defined and being set to 0.0 in labels with no predicted samples. Use `zero_division` parameter to control this behavior.\n",
      "  _warn_prf(average, modifier, msg_start, len(result))\n"
     ]
    },
    {
     "name": "stdout",
     "output_type": "stream",
     "text": [
      "              precision    recall  f1-score   support\n",
      "\n",
      "           0       1.00      1.00      1.00     85307\n",
      "           1       0.00      0.00      0.00       136\n",
      "\n",
      "    accuracy                           1.00     85443\n",
      "   macro avg       0.50      0.50      0.50     85443\n",
      "weighted avg       1.00      1.00      1.00     85443\n",
      "\n"
     ]
    },
    {
     "data": {
      "image/png": "[encoded data removed]",
      "text/plain": [
       "<Figure size 576x396 with 2 Axes>"
      ]
     },
     "metadata": {},
     "output_type": "display_data"
    }
   ],
   "source": [
    "clf = create_autoencoder()\n",
    "clf.summary()\n",
    "clf.compile(optimizer='adam', loss='mean_squared_error', metrics=['accuracy'])\n",
    "#clf.compile(optimizer='adam', loss='binary_crossentropy', metrics=['accuracy'])\n",
    "\n",
    "# create/fit model on the training dataset\n",
    "clf.fit(X_train, y_train, batch_size=32, epochs=100, shuffle=True)#, validation_data=(X_test, X_test))\n",
    "#clf.fit(X_train, y_train, batch_size=15, epochs=5, sample_weight=np.where(y_train == 1,5.0,1.0).flatten())\n",
    "#clf.fit(X_train, y_train, batch_size=15, epochs=5)\n",
    "\n",
    "# check model metrics\n",
    "score = clf.evaluate(X_train, y_train, batch_size=32)\n",
    "print('\\nAnd the Train Score is ', score[1] * 100, '%')\n",
    "score = clf.evaluate(X_test, y_test, batch_size=32)\n",
    "print('\\nAnd the Test Score is ', score[1] * 100, '%')\n",
    "# predict probabilities for test set\n",
    "yhat_probs = clf.predict(X_test, verbose=0)\n",
    "# predict crisp classes for test set\n",
    "yhat_classes = clf.predict_classes(X_test, verbose=0)\n",
    "# reduce to 1d array\n",
    "yhat_probs = yhat_probs[:, 0]\n",
    "yhat_classes = yhat_classes[:, 0]\n",
    "print(\"Classification Report (DNN)\") \n",
    "print(classification_report(y_test, yhat_classes))\n",
    "\n",
    "visualize(y_test, yhat_classes, 'DNN')"
   ]
  },
  {
   "cell_type": "code",
   "execution_count": null,
   "metadata": {},
   "outputs": [],
   "source": []
  }
 ],
 "metadata": {
  "kernelspec": {
   "display_name": "Python 3",
   "language": "python",
   "name": "python3"
  },
  "language_info": {
   "codemirror_mode": {
    "name": "ipython",
    "version": 3
   },
   "file_extension": ".py",
   "mimetype": "text/x-python",
   "name": "python",
   "nbconvert_exporter": "python",
   "pygments_lexer": "ipython3",
   "version": "3.7.7"
  }
 },
 "nbformat": 4,
 "nbformat_minor": 4
}
