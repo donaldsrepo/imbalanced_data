{
 "cells": [
  {
   "cell_type": "markdown",
   "metadata": {},
   "source": [
    "<h1 align='center' style='color:purple'>Credit Card Imbalanced Data Set</h1>"
   ]
  },
  {
   "cell_type": "markdown",
   "metadata": {},
   "source": [
    "Credit Card Fraud Dataset, trying different algorithms, also try to run 2 consecutive tests to see if this can improve the model\n",
    "Author: Donald Stierman"
   ]
  },
  {
   "cell_type": "code",
   "execution_count": 1,
   "metadata": {},
   "outputs": [],
   "source": [
    "# Import Libraries\n",
    "\n",
    "import numpy as np\n",
    "import pandas as pd\n",
    "import matplotlib.pyplot as plt\n",
    "%matplotlib inline\n",
    "import pandas_profiling as pp\n",
    "import seaborn as sns\n",
    "\n",
    "from sklearn.model_selection import train_test_split\n",
    "from sklearn.linear_model import LogisticRegression\n",
    "from sklearn.tree import DecisionTreeClassifier\n",
    "from sklearn.ensemble import RandomForestClassifier\n",
    "from sklearn.metrics import confusion_matrix\n",
    "from sklearn.metrics import classification_report\n",
    "from sklearn import metrics\n",
    "from sklearn.model_selection import train_test_split\n",
    "from sklearn.ensemble import GradientBoostingClassifier\n",
    "from sklearn.utils.class_weight import compute_sample_weight\n",
    "from sklearn.metrics import roc_curve\n",
    "from sklearn.metrics import roc_auc_score\n",
    "from sklearn.metrics import precision_recall_curve\n",
    "from sklearn.metrics import f1_score\n",
    "from sklearn.metrics import auc\n",
    "from matplotlib import pyplot"
   ]
  },
  {
   "cell_type": "code",
   "execution_count": 2,
   "metadata": {},
   "outputs": [],
   "source": [
    "# Load the Data Set\n",
    "\n",
    "df = pd.read_csv('creditcard.csv')"
   ]
  },
  {
   "cell_type": "code",
   "execution_count": 3,
   "metadata": {},
   "outputs": [
    {
     "name": "stdout",
     "output_type": "stream",
     "text": [
      "   Time_Series        V1        V2        V3        V4        V5        V6  \\\n",
      "0          0.0 -1.359807 -0.072781  2.536347  1.378155 -0.338321  0.462388   \n",
      "1          0.0  1.191857  0.266151  0.166480  0.448154  0.060018 -0.082361   \n",
      "2          1.0 -1.358354 -1.340163  1.773209  0.379780 -0.503198  1.800499   \n",
      "3          1.0 -0.966272 -0.185226  1.792993 -0.863291 -0.010309  1.247203   \n",
      "4          2.0 -1.158233  0.877737  1.548718  0.403034 -0.407193  0.095921   \n",
      "\n",
      "         V7        V8        V9  ...       V21       V22       V23       V24  \\\n",
      "0  0.239599  0.098698  0.363787  ... -0.018307  0.277838 -0.110474  0.066928   \n",
      "1 -0.078803  0.085102 -0.255425  ... -0.225775 -0.638672  0.101288 -0.339846   \n",
      "2  0.791461  0.247676 -1.514654  ...  0.247998  0.771679  0.909412 -0.689281   \n",
      "3  0.237609  0.377436 -1.387024  ... -0.108300  0.005274 -0.190321 -1.175575   \n",
      "4  0.592941 -0.270533  0.817739  ... -0.009431  0.798278 -0.137458  0.141267   \n",
      "\n",
      "        V25       V26       V27       V28  Amount  Class  \n",
      "0  0.128539 -0.189115  0.133558 -0.021053  149.62      0  \n",
      "1  0.167170  0.125895 -0.008983  0.014724    2.69      0  \n",
      "2 -0.327642 -0.139097 -0.055353 -0.059752  378.66      0  \n",
      "3  0.647376 -0.221929  0.062723  0.061458  123.50      0  \n",
      "4 -0.206010  0.502292  0.219422  0.215153   69.99      0  \n",
      "\n",
      "[5 rows x 31 columns]\n"
     ]
    }
   ],
   "source": [
    "# Check the data\n",
    "print(df.head())"
   ]
  },
  {
   "cell_type": "code",
   "execution_count": 4,
   "metadata": {},
   "outputs": [
    {
     "name": "stdout",
     "output_type": "stream",
     "text": [
      "<class 'pandas.core.frame.DataFrame'>\n",
      "RangeIndex: 284807 entries, 0 to 284806\n",
      "Data columns (total 31 columns):\n",
      "Time_Series    284807 non-null float64\n",
      "V1             284807 non-null float64\n",
      "V2             284807 non-null float64\n",
      "V3             284807 non-null float64\n",
      "V4             284807 non-null float64\n",
      "V5             284807 non-null float64\n",
      "V6             284807 non-null float64\n",
      "V7             284807 non-null float64\n",
      "V8             284807 non-null float64\n",
      "V9             284807 non-null float64\n",
      "V10            284807 non-null float64\n",
      "V11            284807 non-null float64\n",
      "V12            284807 non-null float64\n",
      "V13            284807 non-null float64\n",
      "V14            284807 non-null float64\n",
      "V15            284807 non-null float64\n",
      "V16            284807 non-null float64\n",
      "V17            284807 non-null float64\n",
      "V18            284807 non-null float64\n",
      "V19            284807 non-null float64\n",
      "V20            284807 non-null float64\n",
      "V21            284807 non-null float64\n",
      "V22            284807 non-null float64\n",
      "V23            284807 non-null float64\n",
      "V24            284807 non-null float64\n",
      "V25            284807 non-null float64\n",
      "V26            284807 non-null float64\n",
      "V27            284807 non-null float64\n",
      "V28            284807 non-null float64\n",
      "Amount         284807 non-null float64\n",
      "Class          284807 non-null int64\n",
      "dtypes: float64(30), int64(1)\n",
      "memory usage: 67.4 MB\n"
     ]
    }
   ],
   "source": [
    "# Check the datatypes of the Data set \n",
    "df.info()"
   ]
  },
  {
   "cell_type": "code",
   "execution_count": 5,
   "metadata": {},
   "outputs": [
    {
     "data": {
      "text/plain": [
       "Time_Series    124592\n",
       "V1             275663\n",
       "V2             275662\n",
       "V3             275663\n",
       "V4             275662\n",
       "V5             275662\n",
       "V6             275662\n",
       "V7             275662\n",
       "V8             275661\n",
       "V9             275662\n",
       "V10            275659\n",
       "V11            275662\n",
       "V12            275662\n",
       "V13            275663\n",
       "V14            275662\n",
       "V15            275661\n",
       "V16            275661\n",
       "V17            275662\n",
       "V18            275662\n",
       "V19            275661\n",
       "V20            275661\n",
       "V21            275660\n",
       "V22            275661\n",
       "V23            275659\n",
       "V24            275662\n",
       "V25            275661\n",
       "V26            275661\n",
       "V27            275659\n",
       "V28            275653\n",
       "Amount          32767\n",
       "Class               2\n",
       "dtype: int64"
      ]
     },
     "execution_count": 5,
     "metadata": {},
     "output_type": "execute_result"
    }
   ],
   "source": [
    "# Check the Uniqueness\n",
    "df.nunique()"
   ]
  },
  {
   "cell_type": "code",
   "execution_count": 6,
   "metadata": {},
   "outputs": [
    {
     "data": {
      "text/plain": [
       "Time_Series    0\n",
       "V1             0\n",
       "V2             0\n",
       "V3             0\n",
       "V4             0\n",
       "V5             0\n",
       "V6             0\n",
       "V7             0\n",
       "V8             0\n",
       "V9             0\n",
       "V10            0\n",
       "V11            0\n",
       "V12            0\n",
       "V13            0\n",
       "V14            0\n",
       "V15            0\n",
       "V16            0\n",
       "V17            0\n",
       "V18            0\n",
       "V19            0\n",
       "V20            0\n",
       "V21            0\n",
       "V22            0\n",
       "V23            0\n",
       "V24            0\n",
       "V25            0\n",
       "V26            0\n",
       "V27            0\n",
       "V28            0\n",
       "Amount         0\n",
       "Class          0\n",
       "dtype: int64"
      ]
     },
     "execution_count": 6,
     "metadata": {},
     "output_type": "execute_result"
    }
   ],
   "source": [
    "# Check for missing data\n",
    "df.isnull().sum()"
   ]
  },
  {
   "cell_type": "code",
   "execution_count": 7,
   "metadata": {},
   "outputs": [
    {
     "data": {
      "text/html": [
       "<div>\n",
       "<style scoped>\n",
       "    .dataframe tbody tr th:only-of-type {\n",
       "        vertical-align: middle;\n",
       "    }\n",
       "\n",
       "    .dataframe tbody tr th {\n",
       "        vertical-align: top;\n",
       "    }\n",
       "\n",
       "    .dataframe thead th {\n",
       "        text-align: right;\n",
       "    }\n",
       "</style>\n",
       "<table border=\"1\" class=\"dataframe\">\n",
       "  <thead>\n",
       "    <tr style=\"text-align: right;\">\n",
       "      <th></th>\n",
       "      <th>Time_Series</th>\n",
       "      <th>V1</th>\n",
       "      <th>V2</th>\n",
       "      <th>V3</th>\n",
       "      <th>V4</th>\n",
       "      <th>V5</th>\n",
       "      <th>V6</th>\n",
       "      <th>V7</th>\n",
       "      <th>V8</th>\n",
       "      <th>V9</th>\n",
       "      <th>...</th>\n",
       "      <th>V21</th>\n",
       "      <th>V22</th>\n",
       "      <th>V23</th>\n",
       "      <th>V24</th>\n",
       "      <th>V25</th>\n",
       "      <th>V26</th>\n",
       "      <th>V27</th>\n",
       "      <th>V28</th>\n",
       "      <th>Amount</th>\n",
       "      <th>Class</th>\n",
       "    </tr>\n",
       "  </thead>\n",
       "  <tbody>\n",
       "    <tr>\n",
       "      <th>count</th>\n",
       "      <td>284807.000000</td>\n",
       "      <td>2.848070e+05</td>\n",
       "      <td>2.848070e+05</td>\n",
       "      <td>2.848070e+05</td>\n",
       "      <td>2.848070e+05</td>\n",
       "      <td>2.848070e+05</td>\n",
       "      <td>2.848070e+05</td>\n",
       "      <td>2.848070e+05</td>\n",
       "      <td>2.848070e+05</td>\n",
       "      <td>2.848070e+05</td>\n",
       "      <td>...</td>\n",
       "      <td>2.848070e+05</td>\n",
       "      <td>2.848070e+05</td>\n",
       "      <td>2.848070e+05</td>\n",
       "      <td>2.848070e+05</td>\n",
       "      <td>2.848070e+05</td>\n",
       "      <td>2.848070e+05</td>\n",
       "      <td>2.848070e+05</td>\n",
       "      <td>2.848070e+05</td>\n",
       "      <td>284807.000000</td>\n",
       "      <td>284807.000000</td>\n",
       "    </tr>\n",
       "    <tr>\n",
       "      <th>mean</th>\n",
       "      <td>94813.859575</td>\n",
       "      <td>-2.971792e-14</td>\n",
       "      <td>2.531226e-14</td>\n",
       "      <td>-1.923049e-14</td>\n",
       "      <td>1.093810e-14</td>\n",
       "      <td>-6.677660e-14</td>\n",
       "      <td>1.285053e-14</td>\n",
       "      <td>-5.204238e-14</td>\n",
       "      <td>1.023695e-14</td>\n",
       "      <td>2.237256e-15</td>\n",
       "      <td>...</td>\n",
       "      <td>-3.823399e-14</td>\n",
       "      <td>9.996013e-14</td>\n",
       "      <td>8.036320e-15</td>\n",
       "      <td>3.042869e-14</td>\n",
       "      <td>-8.644179e-14</td>\n",
       "      <td>-9.235807e-14</td>\n",
       "      <td>-5.269689e-14</td>\n",
       "      <td>9.542474e-14</td>\n",
       "      <td>88.349619</td>\n",
       "      <td>0.001727</td>\n",
       "    </tr>\n",
       "    <tr>\n",
       "      <th>std</th>\n",
       "      <td>47488.145955</td>\n",
       "      <td>1.958696e+00</td>\n",
       "      <td>1.651309e+00</td>\n",
       "      <td>1.516255e+00</td>\n",
       "      <td>1.415869e+00</td>\n",
       "      <td>1.380247e+00</td>\n",
       "      <td>1.332271e+00</td>\n",
       "      <td>1.237094e+00</td>\n",
       "      <td>1.194353e+00</td>\n",
       "      <td>1.098632e+00</td>\n",
       "      <td>...</td>\n",
       "      <td>7.345240e-01</td>\n",
       "      <td>7.257016e-01</td>\n",
       "      <td>6.244603e-01</td>\n",
       "      <td>6.056471e-01</td>\n",
       "      <td>5.212781e-01</td>\n",
       "      <td>4.822270e-01</td>\n",
       "      <td>4.036325e-01</td>\n",
       "      <td>3.300833e-01</td>\n",
       "      <td>250.120109</td>\n",
       "      <td>0.041527</td>\n",
       "    </tr>\n",
       "    <tr>\n",
       "      <th>min</th>\n",
       "      <td>0.000000</td>\n",
       "      <td>-5.640751e+01</td>\n",
       "      <td>-7.271573e+01</td>\n",
       "      <td>-4.832559e+01</td>\n",
       "      <td>-5.683171e+00</td>\n",
       "      <td>-1.137433e+02</td>\n",
       "      <td>-2.616051e+01</td>\n",
       "      <td>-4.355724e+01</td>\n",
       "      <td>-7.321672e+01</td>\n",
       "      <td>-1.343407e+01</td>\n",
       "      <td>...</td>\n",
       "      <td>-3.483038e+01</td>\n",
       "      <td>-1.093314e+01</td>\n",
       "      <td>-4.480774e+01</td>\n",
       "      <td>-2.836627e+00</td>\n",
       "      <td>-1.029540e+01</td>\n",
       "      <td>-2.604551e+00</td>\n",
       "      <td>-2.256568e+01</td>\n",
       "      <td>-1.543008e+01</td>\n",
       "      <td>0.000000</td>\n",
       "      <td>0.000000</td>\n",
       "    </tr>\n",
       "    <tr>\n",
       "      <th>25%</th>\n",
       "      <td>54201.500000</td>\n",
       "      <td>-9.203734e-01</td>\n",
       "      <td>-5.985499e-01</td>\n",
       "      <td>-8.903648e-01</td>\n",
       "      <td>-8.486401e-01</td>\n",
       "      <td>-6.915971e-01</td>\n",
       "      <td>-7.682956e-01</td>\n",
       "      <td>-5.540759e-01</td>\n",
       "      <td>-2.086297e-01</td>\n",
       "      <td>-6.430976e-01</td>\n",
       "      <td>...</td>\n",
       "      <td>-2.283949e-01</td>\n",
       "      <td>-5.423504e-01</td>\n",
       "      <td>-1.618463e-01</td>\n",
       "      <td>-3.545861e-01</td>\n",
       "      <td>-3.171451e-01</td>\n",
       "      <td>-3.269839e-01</td>\n",
       "      <td>-7.083953e-02</td>\n",
       "      <td>-5.295979e-02</td>\n",
       "      <td>5.600000</td>\n",
       "      <td>0.000000</td>\n",
       "    </tr>\n",
       "    <tr>\n",
       "      <th>50%</th>\n",
       "      <td>84692.000000</td>\n",
       "      <td>1.810880e-02</td>\n",
       "      <td>6.548556e-02</td>\n",
       "      <td>1.798463e-01</td>\n",
       "      <td>-1.984653e-02</td>\n",
       "      <td>-5.433583e-02</td>\n",
       "      <td>-2.741871e-01</td>\n",
       "      <td>4.010308e-02</td>\n",
       "      <td>2.235804e-02</td>\n",
       "      <td>-5.142873e-02</td>\n",
       "      <td>...</td>\n",
       "      <td>-2.945017e-02</td>\n",
       "      <td>6.781942e-03</td>\n",
       "      <td>-1.119293e-02</td>\n",
       "      <td>4.097606e-02</td>\n",
       "      <td>1.659350e-02</td>\n",
       "      <td>-5.213911e-02</td>\n",
       "      <td>1.342146e-03</td>\n",
       "      <td>1.124383e-02</td>\n",
       "      <td>22.000000</td>\n",
       "      <td>0.000000</td>\n",
       "    </tr>\n",
       "    <tr>\n",
       "      <th>75%</th>\n",
       "      <td>139320.500000</td>\n",
       "      <td>1.315642e+00</td>\n",
       "      <td>8.037239e-01</td>\n",
       "      <td>1.027196e+00</td>\n",
       "      <td>7.433413e-01</td>\n",
       "      <td>6.119264e-01</td>\n",
       "      <td>3.985649e-01</td>\n",
       "      <td>5.704361e-01</td>\n",
       "      <td>3.273459e-01</td>\n",
       "      <td>5.971390e-01</td>\n",
       "      <td>...</td>\n",
       "      <td>1.863772e-01</td>\n",
       "      <td>5.285536e-01</td>\n",
       "      <td>1.476421e-01</td>\n",
       "      <td>4.395266e-01</td>\n",
       "      <td>3.507156e-01</td>\n",
       "      <td>2.409522e-01</td>\n",
       "      <td>9.104512e-02</td>\n",
       "      <td>7.827995e-02</td>\n",
       "      <td>77.165000</td>\n",
       "      <td>0.000000</td>\n",
       "    </tr>\n",
       "    <tr>\n",
       "      <th>max</th>\n",
       "      <td>172792.000000</td>\n",
       "      <td>2.454930e+00</td>\n",
       "      <td>2.205773e+01</td>\n",
       "      <td>9.382558e+00</td>\n",
       "      <td>1.687534e+01</td>\n",
       "      <td>3.480167e+01</td>\n",
       "      <td>7.330163e+01</td>\n",
       "      <td>1.205895e+02</td>\n",
       "      <td>2.000721e+01</td>\n",
       "      <td>1.559499e+01</td>\n",
       "      <td>...</td>\n",
       "      <td>2.720284e+01</td>\n",
       "      <td>1.050309e+01</td>\n",
       "      <td>2.252841e+01</td>\n",
       "      <td>4.584549e+00</td>\n",
       "      <td>7.519589e+00</td>\n",
       "      <td>3.517346e+00</td>\n",
       "      <td>3.161220e+01</td>\n",
       "      <td>3.384781e+01</td>\n",
       "      <td>25691.160000</td>\n",
       "      <td>1.000000</td>\n",
       "    </tr>\n",
       "  </tbody>\n",
       "</table>\n",
       "<p>8 rows × 31 columns</p>\n",
       "</div>"
      ],
      "text/plain": [
       "         Time_Series            V1            V2            V3            V4  \\\n",
       "count  284807.000000  2.848070e+05  2.848070e+05  2.848070e+05  2.848070e+05   \n",
       "mean    94813.859575 -2.971792e-14  2.531226e-14 -1.923049e-14  1.093810e-14   \n",
       "std     47488.145955  1.958696e+00  1.651309e+00  1.516255e+00  1.415869e+00   \n",
       "min         0.000000 -5.640751e+01 -7.271573e+01 -4.832559e+01 -5.683171e+00   \n",
       "25%     54201.500000 -9.203734e-01 -5.985499e-01 -8.903648e-01 -8.486401e-01   \n",
       "50%     84692.000000  1.810880e-02  6.548556e-02  1.798463e-01 -1.984653e-02   \n",
       "75%    139320.500000  1.315642e+00  8.037239e-01  1.027196e+00  7.433413e-01   \n",
       "max    172792.000000  2.454930e+00  2.205773e+01  9.382558e+00  1.687534e+01   \n",
       "\n",
       "                 V5            V6            V7            V8            V9  \\\n",
       "count  2.848070e+05  2.848070e+05  2.848070e+05  2.848070e+05  2.848070e+05   \n",
       "mean  -6.677660e-14  1.285053e-14 -5.204238e-14  1.023695e-14  2.237256e-15   \n",
       "std    1.380247e+00  1.332271e+00  1.237094e+00  1.194353e+00  1.098632e+00   \n",
       "min   -1.137433e+02 -2.616051e+01 -4.355724e+01 -7.321672e+01 -1.343407e+01   \n",
       "25%   -6.915971e-01 -7.682956e-01 -5.540759e-01 -2.086297e-01 -6.430976e-01   \n",
       "50%   -5.433583e-02 -2.741871e-01  4.010308e-02  2.235804e-02 -5.142873e-02   \n",
       "75%    6.119264e-01  3.985649e-01  5.704361e-01  3.273459e-01  5.971390e-01   \n",
       "max    3.480167e+01  7.330163e+01  1.205895e+02  2.000721e+01  1.559499e+01   \n",
       "\n",
       "       ...           V21           V22           V23           V24  \\\n",
       "count  ...  2.848070e+05  2.848070e+05  2.848070e+05  2.848070e+05   \n",
       "mean   ... -3.823399e-14  9.996013e-14  8.036320e-15  3.042869e-14   \n",
       "std    ...  7.345240e-01  7.257016e-01  6.244603e-01  6.056471e-01   \n",
       "min    ... -3.483038e+01 -1.093314e+01 -4.480774e+01 -2.836627e+00   \n",
       "25%    ... -2.283949e-01 -5.423504e-01 -1.618463e-01 -3.545861e-01   \n",
       "50%    ... -2.945017e-02  6.781942e-03 -1.119293e-02  4.097606e-02   \n",
       "75%    ...  1.863772e-01  5.285536e-01  1.476421e-01  4.395266e-01   \n",
       "max    ...  2.720284e+01  1.050309e+01  2.252841e+01  4.584549e+00   \n",
       "\n",
       "                V25           V26           V27           V28         Amount  \\\n",
       "count  2.848070e+05  2.848070e+05  2.848070e+05  2.848070e+05  284807.000000   \n",
       "mean  -8.644179e-14 -9.235807e-14 -5.269689e-14  9.542474e-14      88.349619   \n",
       "std    5.212781e-01  4.822270e-01  4.036325e-01  3.300833e-01     250.120109   \n",
       "min   -1.029540e+01 -2.604551e+00 -2.256568e+01 -1.543008e+01       0.000000   \n",
       "25%   -3.171451e-01 -3.269839e-01 -7.083953e-02 -5.295979e-02       5.600000   \n",
       "50%    1.659350e-02 -5.213911e-02  1.342146e-03  1.124383e-02      22.000000   \n",
       "75%    3.507156e-01  2.409522e-01  9.104512e-02  7.827995e-02      77.165000   \n",
       "max    7.519589e+00  3.517346e+00  3.161220e+01  3.384781e+01   25691.160000   \n",
       "\n",
       "               Class  \n",
       "count  284807.000000  \n",
       "mean        0.001727  \n",
       "std         0.041527  \n",
       "min         0.000000  \n",
       "25%         0.000000  \n",
       "50%         0.000000  \n",
       "75%         0.000000  \n",
       "max         1.000000  \n",
       "\n",
       "[8 rows x 31 columns]"
      ]
     },
     "execution_count": 7,
     "metadata": {},
     "output_type": "execute_result"
    }
   ],
   "source": [
    "# Check the Statistics\n",
    "\n",
    "df.describe(include ='all')"
   ]
  },
  {
   "cell_type": "code",
   "execution_count": 8,
   "metadata": {},
   "outputs": [
    {
     "data": {
      "text/plain": [
       "0    284315\n",
       "1       492\n",
       "Name: Class, dtype: int64"
      ]
     },
     "execution_count": 8,
     "metadata": {},
     "output_type": "execute_result"
    }
   ],
   "source": [
    "# Check the Class Imbalance of the Data \n",
    "\n",
    "df['Class'].value_counts()"
   ]
  },
  {
   "cell_type": "code",
   "execution_count": 9,
   "metadata": {},
   "outputs": [
    {
     "data": {
      "image/png": "[encoded data removed]",
      "text/plain": [
       "<Figure size 1440x1080 with 36 Axes>"
      ]
     },
     "metadata": {
      "needs_background": "light"
     },
     "output_type": "display_data"
    }
   ],
   "source": [
    "# Histograms of the features\n",
    "\n",
    "df.hist(bins=10, figsize=(20,15))\n",
    "plt.show()"
   ]
  },
  {
   "cell_type": "code",
   "execution_count": 10,
   "metadata": {},
   "outputs": [],
   "source": [
    "# divide full data into features and label\n",
    "\n",
    "X = df.loc[:, df.columns != 'Class']\n",
    "y = df.loc[:, df.columns == 'Class']"
   ]
  },
  {
   "cell_type": "code",
   "execution_count": 11,
   "metadata": {},
   "outputs": [],
   "source": [
    "# Split the Data into Train and Test \n",
    "\n",
    "X_train, X_test, y_train, y_test = train_test_split(X,y, test_size = 0.3, random_state = 42)"
   ]
  },
  {
   "cell_type": "code",
   "execution_count": 12,
   "metadata": {},
   "outputs": [],
   "source": [
    "# find the number of minority (value=1) samples in our train set so we can down-sample our majority to it\n",
    "yes = len(y_train[y_train['Class'] ==1])\n",
    "\n",
    "# retrieve the indices of the minority and majority samples \n",
    "yes_ind = y_train[y_train['Class'] == 1].index\n",
    "no_ind = y_train[y_train['Class'] == 0].index\n",
    "\n",
    "# random sample the majority indices based on the amount of \n",
    "# minority samples\n",
    "new_no_ind = np.random.choice(no_ind, yes, replace = False)\n",
    "\n",
    "# merge the two indices together\n",
    "undersample_ind = np.concatenate([new_no_ind, yes_ind])\n",
    "\n",
    "# get undersampled dataframe from the merged indices of the train dataset\n",
    "X_train = X_train.loc[undersample_ind]\n",
    "y_train = y_train.loc[undersample_ind]"
   ]
  },
  {
   "cell_type": "code",
   "execution_count": 45,
   "metadata": {},
   "outputs": [
    {
     "name": "stdout",
     "output_type": "stream",
     "text": [
      "              precision    recall  f1-score   support\n",
      "\n",
      "           0       1.00      0.96      0.98     85307\n",
      "           1       0.04      0.93      0.07       136\n",
      "\n",
      "    accuracy                           0.96     85443\n",
      "   macro avg       0.52      0.95      0.53     85443\n",
      "weighted avg       1.00      0.96      0.98     85443\n",
      "\n"
     ]
    },
    {
     "name": "stderr",
     "output_type": "stream",
     "text": [
      "c:\\users\\iowahawk89\\appdata\\local\\programs\\python\\python37\\lib\\site-packages\\sklearn\\linear_model\\logistic.py:432: FutureWarning: Default solver will be changed to 'lbfgs' in 0.22. Specify a solver to silence this warning.\n",
      "  FutureWarning)\n",
      "c:\\users\\iowahawk89\\appdata\\local\\programs\\python\\python37\\lib\\site-packages\\sklearn\\utils\\validation.py:724: DataConversionWarning: A column-vector y was passed when a 1d array was expected. Please change the shape of y to (n_samples, ), for example using ravel().\n",
      "  y = column_or_1d(y, warn=True)\n"
     ]
    }
   ],
   "source": [
    "# Logistic Regression \n",
    "\n",
    "lr = LogisticRegression()\n",
    "#lr = LogisticRegression(solver='lbfgs')\n",
    "\n",
    "lr.fit(X_train, y_train)\n",
    "\n",
    "lr_Pred=lr.predict(X_test)\n",
    "\n",
    "#print(metrics.accuracy_score(y_test, y_pred))\n",
    "print(classification_report(y_test, lr_Pred))"
   ]
  },
  {
   "cell_type": "code",
   "execution_count": 46,
   "metadata": {},
   "outputs": [
    {
     "data": {
      "text/plain": [
       "Text(0.5, 257.44, 'Predicted label')"
      ]
     },
     "execution_count": 46,
     "metadata": {},
     "output_type": "execute_result"
    },
    {
     "data": {
      "image/png": "[encoded data removed]",
      "text/plain": [
       "<Figure size 432x288 with 2 Axes>"
      ]
     },
     "metadata": {
      "needs_background": "light"
     },
     "output_type": "display_data"
    }
   ],
   "source": [
    "#Confusion Matrix\n",
    "cnf_matrix=metrics.confusion_matrix(y_test, lr_Pred)\n",
    "cnf_matrix\n",
    "\n",
    "#Visualize confusion matrix using heat map\n",
    "\n",
    "class_names=[0,1] # name  of classes\n",
    "fig, ax = plt.subplots()\n",
    "tick_marks = np.arange(len(class_names))\n",
    "plt.xticks(tick_marks, class_names)\n",
    "plt.yticks(tick_marks, class_names)\n",
    "\n",
    "# create heatmap\n",
    "sns.heatmap(pd.DataFrame(cnf_matrix), annot=True, cmap=\"YlGnBu\" ,fmt='g')\n",
    "ax.xaxis.set_label_position(\"top\")\n",
    "plt.tight_layout()\n",
    "plt.title('Confusion matrix', y=1.1)\n",
    "plt.ylabel('Actual label')\n",
    "plt.xlabel('Predicted label')"
   ]
  },
  {
   "cell_type": "code",
   "execution_count": 47,
   "metadata": {},
   "outputs": [
    {
     "name": "stdout",
     "output_type": "stream",
     "text": [
      "No Skill: ROC AUC=0.500\n",
      "Logistic: ROC AUC=0.978\n"
     ]
    },
    {
     "data": {
      "image/png": "[encoded data removed]",
      "text/plain": [
       "<Figure size 432x288 with 1 Axes>"
      ]
     },
     "metadata": {
      "needs_background": "light"
     },
     "output_type": "display_data"
    }
   ],
   "source": [
    "# useful for balanced data, included here for an example to use later\n",
    "\n",
    "ns_probs = [0 for _ in range(len(y_test))]\n",
    "# predict probabilities\n",
    "lr_probs = lr.predict_proba(X_test)\n",
    "# keep probabilities for the positive outcome only\n",
    "lr_probs = lr_probs[:, 1]\n",
    "# calculate scores\n",
    "ns_auc = roc_auc_score(y_test, ns_probs)\n",
    "lr_auc = roc_auc_score(y_test, lr_probs)\n",
    "# summarize scores\n",
    "print('No Skill: ROC AUC=%.3f' % (ns_auc))\n",
    "print('Logistic: ROC AUC=%.3f' % (lr_auc))\n",
    "# calculate roc curves\n",
    "ns_fpr, ns_tpr, _ = roc_curve(y_test, ns_probs)\n",
    "lr_fpr, lr_tpr, _ = roc_curve(y_test, lr_probs)\n",
    "# plot the roc curve for the model\n",
    "pyplot.plot(ns_fpr, ns_tpr, linestyle='--', label='No Skill')\n",
    "pyplot.plot(lr_fpr, lr_tpr, marker='.', label='Logistic')\n",
    "# axis labels\n",
    "pyplot.xlabel('False Positive Rate')\n",
    "pyplot.ylabel('True Positive Rate')\n",
    "# show the legend\n",
    "pyplot.legend()\n",
    "# show the plot\n",
    "pyplot.show()"
   ]
  },
  {
   "cell_type": "code",
   "execution_count": 48,
   "metadata": {},
   "outputs": [
    {
     "name": "stdout",
     "output_type": "stream",
     "text": [
      "Logistic: f1=0.073 auc=0.486\n"
     ]
    },
    {
     "data": {
      "image/png": "[encoded data removed]",
      "text/plain": [
       "<Figure size 432x288 with 1 Axes>"
      ]
     },
     "metadata": {
      "needs_background": "light"
     },
     "output_type": "display_data"
    }
   ],
   "source": [
    "# useful for unbalanced data\n",
    "\n",
    "lr_precision, lr_recall, _ = precision_recall_curve(y_test, lr_Pred)\n",
    "lr_f1, lr_auc = f1_score(y_test, lr_Pred), auc(lr_recall, lr_precision)\n",
    "# summarize scores\n",
    "print('Logistic: f1=%.3f auc=%.3f' % (lr_f1, lr_auc))\n",
    "# plot the precision-recall curves\n",
    "no_skill = len(y_test[y_test==1]) / len(y_test)\n",
    "pyplot.plot([0, 1], [no_skill, no_skill], linestyle='--', label='No Skill')\n",
    "pyplot.plot(lr_recall, lr_precision, marker='.', label='Logistic')\n",
    "# axis labels\n",
    "pyplot.xlabel('Recall')\n",
    "pyplot.ylabel('Precision')\n",
    "# show the legend\n",
    "pyplot.legend()\n",
    "# show the plot\n",
    "pyplot.show()"
   ]
  },
  {
   "cell_type": "code",
   "execution_count": 49,
   "metadata": {},
   "outputs": [
    {
     "name": "stderr",
     "output_type": "stream",
     "text": [
      "c:\\users\\iowahawk89\\appdata\\local\\programs\\python\\python37\\lib\\site-packages\\ipykernel_launcher.py:5: DataConversionWarning: A column-vector y was passed when a 1d array was expected. Please change the shape of y to (n_samples,), for example using ravel().\n",
      "  \"\"\"\n"
     ]
    },
    {
     "name": "stdout",
     "output_type": "stream",
     "text": [
      "              precision    recall  f1-score   support\n",
      "\n",
      "           0       1.00      0.98      0.99     85307\n",
      "           1       0.06      0.93      0.11       136\n",
      "\n",
      "    accuracy                           0.98     85443\n",
      "   macro avg       0.53      0.95      0.55     85443\n",
      "weighted avg       1.00      0.98      0.99     85443\n",
      "\n"
     ]
    }
   ],
   "source": [
    "# Fit Random Forest Model\n",
    "\n",
    "rf = RandomForestClassifier(n_estimators = 1000)\n",
    "\n",
    "rf.fit(X_train, y_train)\n",
    "\n",
    "rf_Pred=rf.predict(X_test)\n",
    "\n",
    "#print(metrics.accuracy_score(y_test, y_pred))\n",
    "print(classification_report(y_test, rf_Pred))"
   ]
  },
  {
   "cell_type": "code",
   "execution_count": 50,
   "metadata": {},
   "outputs": [
    {
     "data": {
      "text/plain": [
       "Text(0.5, 257.44, 'Predicted label')"
      ]
     },
     "execution_count": 50,
     "metadata": {},
     "output_type": "execute_result"
    },
    {
     "data": {
      "image/png": "[encoded data removed]",
      "text/plain": [
       "<Figure size 432x288 with 2 Axes>"
      ]
     },
     "metadata": {
      "needs_background": "light"
     },
     "output_type": "display_data"
    }
   ],
   "source": [
    "#Confusion Matrix\n",
    "cnf_matrix=metrics.confusion_matrix(y_test, rf_Pred)\n",
    "cnf_matrix\n",
    "#Visualize confusion matrix using heat map\n",
    "\n",
    "class_names=[0,1] # name  of classes\n",
    "fig, ax = plt.subplots()\n",
    "tick_marks = np.arange(len(class_names))\n",
    "plt.xticks(tick_marks, class_names)\n",
    "plt.yticks(tick_marks, class_names)\n",
    "\n",
    "# create heatmap\n",
    "sns.heatmap(pd.DataFrame(cnf_matrix), annot=True, cmap=\"YlGnBu\" ,fmt='g')\n",
    "ax.xaxis.set_label_position(\"top\")\n",
    "plt.tight_layout()\n",
    "plt.title('Confusion matrix', y=1.1)\n",
    "plt.ylabel('Actual label')\n",
    "plt.xlabel('Predicted label')"
   ]
  },
  {
   "cell_type": "markdown",
   "metadata": {},
   "source": [
    "So far, logistic regression has better prediction capability, the RandomForestClassifier test has a lot more mistakes in the False Positive category, and only a few less mistakes in the False Negative category."
   ]
  },
  {
   "cell_type": "code",
   "execution_count": 13,
   "metadata": {},
   "outputs": [
    {
     "name": "stderr",
     "output_type": "stream",
     "text": [
      "c:\\users\\iowahawk89\\appdata\\local\\programs\\python\\python37\\lib\\site-packages\\sklearn\\ensemble\\gradient_boosting.py:1444: DataConversionWarning: A column-vector y was passed when a 1d array was expected. Please change the shape of y to (n_samples, ), for example using ravel().\n",
      "  sample_weight = column_or_1d(sample_weight, warn=True)\n",
      "c:\\users\\iowahawk89\\appdata\\local\\programs\\python\\python37\\lib\\site-packages\\sklearn\\ensemble\\gradient_boosting.py:1450: DataConversionWarning: A column-vector y was passed when a 1d array was expected. Please change the shape of y to (n_samples, ), for example using ravel().\n",
      "  y = column_or_1d(y, warn=True)\n"
     ]
    },
    {
     "name": "stdout",
     "output_type": "stream",
     "text": [
      "0.9830062146694287\n",
      "AxesSubplot(0.125,0.125;0.775x0.755)\n",
      "Accuracy score (training): 0.944\n",
      "Accuracy score (validation): 0.983\n",
      "Confusion Matrix:\n",
      "false positive pct: 1.6865044532612383\n",
      "tn  fp  fn  tp\n",
      "83866 1441 11 125\n",
      "[[83866  1441]\n",
      " [   11   125]]\n",
      "Classification Report\n",
      "              precision    recall  f1-score   support\n",
      "\n",
      "           0       1.00      0.98      0.99     85307\n",
      "           1       0.08      0.92      0.15       136\n",
      "\n",
      "    accuracy                           0.98     85443\n",
      "   macro avg       0.54      0.95      0.57     85443\n",
      "weighted avg       1.00      0.98      0.99     85443\n",
      "\n"
     ]
    },
    {
     "data": {
      "text/plain": [
       "Text(0.5, 257.44, 'Predicted label')"
      ]
     },
     "execution_count": 13,
     "metadata": {},
     "output_type": "execute_result"
    },
    {
     "data": {
      "image/png": "[encoded data removed]",
      "text/plain": [
       "<Figure size 432x288 with 1 Axes>"
      ]
     },
     "metadata": {
      "needs_background": "light"
     },
     "output_type": "display_data"
    },
    {
     "data": {
      "image/png": "[encoded data removed]",
      "text/plain": [
       "<Figure size 432x288 with 2 Axes>"
      ]
     },
     "metadata": {
      "needs_background": "light"
     },
     "output_type": "display_data"
    }
   ],
   "source": [
    "#setup model parameters, change some of the defaults based on benchmarking\n",
    "gb_clf = GradientBoostingClassifier(n_estimators=20, learning_rate=0.1, max_features=10, \n",
    "                                    max_depth=3, random_state=0, subsample = 0.5, criterion='mse', \n",
    "                                    min_samples_split = 10, min_samples_leaf = 10)\n",
    "\n",
    "#default fit model\n",
    "#gb_clf.fit(X_train, y_train)\n",
    "\n",
    "#since a false negative is much more likely than a false positive, we should weight them accordingly\n",
    "gb_clf.fit( X_train, y_train, sample_weight=np.where(y_train == 1,0.5,1.0) )\n",
    "\n",
    "#use model to predict validation dataset\n",
    "predictions = gb_clf.predict(X_test)\n",
    "\n",
    "print(gb_clf.score(X_test, y_test)) \n",
    "print(pd.Series(gb_clf.feature_importances_, index=X_train.columns[:]).nlargest(10).plot(kind='barh')) \n",
    "print(\"Accuracy score (training): {0:.3f}\".format(gb_clf.score(X_train, y_train))) \n",
    "print(\"Accuracy score (validation): {0:.3f}\".format(gb_clf.score(X_test, y_test))) \n",
    "print(\"Confusion Matrix:\")\n",
    "tn, fp, fn, tp = confusion_matrix(y_test, predictions).ravel()\n",
    "total = tn+ fp+ fn+ tp \n",
    "print(\"false positive pct:\",(fp/total)*100) \n",
    "print(\"tn\", \" fp\", \" fn\", \" tp\") \n",
    "print(tn, fp, fn, tp) \n",
    "print(confusion_matrix(y_test, predictions)) \n",
    "print(\"Classification Report\") \n",
    "print(classification_report(y_test, predictions))\n",
    "\n",
    "cnf_matrix=metrics.confusion_matrix(y_test, predictions)\n",
    "cnf_matrix\n",
    "\n",
    "#Visualize confusion matrix using heat map cnf_matrix=metrics.confusion_matrix(y_test, predictions) cnf_matrix\n",
    "\n",
    "class_names=[0,1] # name of classes \n",
    "fig, ax = plt.subplots() \n",
    "tick_marks = np.arange(len(class_names)) \n",
    "plt.xticks(tick_marks, class_names) \n",
    "plt.yticks(tick_marks, class_names)\n",
    "\n",
    "#create heatmap\n",
    "sns.heatmap(pd.DataFrame(cnf_matrix), annot=True, cmap=\"YlGnBu\" ,fmt='g') \n",
    "ax.xaxis.set_label_position(\"top\") \n",
    "plt.tight_layout() \n",
    "plt.title('Confusion matrix', y=1.1) \n",
    "plt.ylabel('Actual label') \n",
    "plt.xlabel('Predicted label')"
   ]
  },
  {
   "cell_type": "markdown",
   "metadata": {},
   "source": [
    "After tweaking the parameters, i get a better result from GradientBoostingClassifier. Changing the weights has a very large influence on the number of errors (FN and FP). decreasing the true value vs the false value will decrease the FN, doing the opposite will decrease the FP. For example:  the sample_weight=np.where(y_train == 1,0.37,1.0) gives 13 FN and 795 FP. sample_weight=np.where(y_train == 1,0.1,1.0) gives 17 FN and 217 FP"
   ]
  },
  {
   "cell_type": "markdown",
   "metadata": {},
   "source": [
    "my next step is to run 2 consecutive tests. 1st test should have low false negatives to catch (almost) all the actual positives, even if the number of false positives is high. Then only take these records with a predicted 1 value (should only be a few thousand), as the input for the next test. 2nd test should have low false positives to weed out the actual negatives.\n",
    "Can also try the inverse, but think this option will have less chance of success."
   ]
  },
  {
   "cell_type": "markdown",
   "metadata": {},
   "source": [
    "1st step"
   ]
  },
  {
   "cell_type": "code",
   "execution_count": 14,
   "metadata": {},
   "outputs": [
    {
     "name": "stderr",
     "output_type": "stream",
     "text": [
      "c:\\users\\iowahawk89\\appdata\\local\\programs\\python\\python37\\lib\\site-packages\\sklearn\\ensemble\\gradient_boosting.py:1444: DataConversionWarning: A column-vector y was passed when a 1d array was expected. Please change the shape of y to (n_samples, ), for example using ravel().\n",
      "  sample_weight = column_or_1d(sample_weight, warn=True)\n",
      "c:\\users\\iowahawk89\\appdata\\local\\programs\\python\\python37\\lib\\site-packages\\sklearn\\ensemble\\gradient_boosting.py:1450: DataConversionWarning: A column-vector y was passed when a 1d array was expected. Please change the shape of y to (n_samples, ), for example using ravel().\n",
      "  y = column_or_1d(y, warn=True)\n"
     ]
    },
    {
     "name": "stdout",
     "output_type": "stream",
     "text": [
      "0.8570508994300293\n",
      "AxesSubplot(0.125,0.125;0.775x0.755)\n",
      "Accuracy score (training): 0.944\n",
      "Accuracy score (validation): 0.857\n",
      "Confusion Matrix:\n",
      "false positive pct: 14.286717460763315\n",
      "tn1  fp  fn1  tp\n",
      "73100 12207 7 129\n",
      "[[73100 12207]\n",
      " [    7   129]]\n",
      "Classification Report\n",
      "              precision    recall  f1-score   support\n",
      "\n",
      "           0       1.00      0.86      0.92     85307\n",
      "           1       0.01      0.95      0.02       136\n",
      "\n",
      "    accuracy                           0.86     85443\n",
      "   macro avg       0.51      0.90      0.47     85443\n",
      "weighted avg       1.00      0.86      0.92     85443\n",
      "\n"
     ]
    },
    {
     "name": "stderr",
     "output_type": "stream",
     "text": [
      "c:\\users\\iowahawk89\\appdata\\local\\programs\\python\\python37\\lib\\site-packages\\ipykernel_launcher.py:48: SettingWithCopyWarning: \n",
      "A value is trying to be set on a copy of a slice from a DataFrame.\n",
      "Try using .loc[row_indexer,col_indexer] = value instead\n",
      "\n",
      "See the caveats in the documentation: http://pandas.pydata.org/pandas-docs/stable/user_guide/indexing.html#returning-a-view-versus-a-copy\n"
     ]
    },
    {
     "data": {
      "image/png": "[encoded data removed]",
      "text/plain": [
       "<Figure size 432x288 with 1 Axes>"
      ]
     },
     "metadata": {
      "needs_background": "light"
     },
     "output_type": "display_data"
    },
    {
     "data": {
      "image/png": "[encoded data removed]",
      "text/plain": [
       "<Figure size 432x288 with 2 Axes>"
      ]
     },
     "metadata": {
      "needs_background": "light"
     },
     "output_type": "display_data"
    }
   ],
   "source": [
    "#setup model parameters, change some of the defaults based on benchmarking\n",
    "gb_clf = GradientBoostingClassifier(n_estimators=20, learning_rate=0.1, max_features=5, \n",
    "                                    max_depth=3, random_state=0, subsample = 1.0, criterion='mse', \n",
    "                                    min_samples_split = 10, min_samples_leaf = 10)\n",
    "\n",
    "#default fit model\n",
    "#gb_clf.fit(X_train, y_train)\n",
    "\n",
    "#since a false negative is much more likely than a false positive, we should weight them accordingly. \n",
    "#IE Finding a true one is more important\n",
    "gb_clf.fit( X_train, y_train, sample_weight=np.where(y_train == 1,5.0,1.0) )\n",
    "\n",
    "#use model to predict validation dataset\n",
    "predictions = gb_clf.predict(X_test) \n",
    "print(gb_clf.score(X_test, y_test)) \n",
    "print(pd.Series(gb_clf.feature_importances_, index=X_train.columns[:]).nlargest(10).plot(kind='barh')) \n",
    "print(\"Accuracy score (training): {0:.3f}\".format(gb_clf.score(X_train, y_train))) \n",
    "print(\"Accuracy score (validation): {0:.3f}\".format(gb_clf.score(X_test, y_test))) \n",
    "print(\"Confusion Matrix:\")\n",
    "tn1, fp, fn1, tp = confusion_matrix(y_test, predictions).ravel()\n",
    "total = tn1+ fp+ fn1+ tp \n",
    "print(\"false positive pct:\",(fp/total)*100) \n",
    "print(\"tn1\", \" fp\", \" fn1\", \" tp\") \n",
    "print(tn1, fp, fn1, tp) \n",
    "print(confusion_matrix(y_test, predictions)) \n",
    "print(\"Classification Report\") \n",
    "print(classification_report(y_test, predictions))\n",
    "\n",
    "cnf_matrix=metrics.confusion_matrix(y_test, predictions)\n",
    "cnf_matrix\n",
    "\n",
    "#Visualize confusion matrix using heat map cnf_matrix=metrics.confusion_matrix(y_test, predictions) cnf_matrix\n",
    "\n",
    "class_names=[0,1] # name of classes \n",
    "fig, ax = plt.subplots() \n",
    "tick_marks = np.arange(len(class_names)) \n",
    "plt.xticks(tick_marks, class_names) \n",
    "plt.yticks(tick_marks, class_names)\n",
    "\n",
    "#create heatmap\n",
    "sns.heatmap(pd.DataFrame(cnf_matrix), annot=True, cmap=\"YlGnBu\" ,fmt='g') \n",
    "ax.xaxis.set_label_position(\"top\") \n",
    "plt.tight_layout() \n",
    "plt.title('Confusion matrix', y=1.1) \n",
    "plt.ylabel('Actual label') \n",
    "plt.xlabel('Predicted label')\n",
    "\n",
    "X_test['Prediction'] = predictions"
   ]
  },
  {
   "cell_type": "code",
   "execution_count": 15,
   "metadata": {},
   "outputs": [
    {
     "data": {
      "text/html": [
       "<div>\n",
       "<style scoped>\n",
       "    .dataframe tbody tr th:only-of-type {\n",
       "        vertical-align: middle;\n",
       "    }\n",
       "\n",
       "    .dataframe tbody tr th {\n",
       "        vertical-align: top;\n",
       "    }\n",
       "\n",
       "    .dataframe thead th {\n",
       "        text-align: right;\n",
       "    }\n",
       "</style>\n",
       "<table border=\"1\" class=\"dataframe\">\n",
       "  <thead>\n",
       "    <tr style=\"text-align: right;\">\n",
       "      <th></th>\n",
       "      <th>Time_Series</th>\n",
       "      <th>V1</th>\n",
       "      <th>V2</th>\n",
       "      <th>V3</th>\n",
       "      <th>V4</th>\n",
       "      <th>V5</th>\n",
       "      <th>V6</th>\n",
       "      <th>V7</th>\n",
       "      <th>V8</th>\n",
       "      <th>V9</th>\n",
       "      <th>...</th>\n",
       "      <th>V21</th>\n",
       "      <th>V22</th>\n",
       "      <th>V23</th>\n",
       "      <th>V24</th>\n",
       "      <th>V25</th>\n",
       "      <th>V26</th>\n",
       "      <th>V27</th>\n",
       "      <th>V28</th>\n",
       "      <th>Amount</th>\n",
       "      <th>Prediction</th>\n",
       "    </tr>\n",
       "  </thead>\n",
       "  <tbody>\n",
       "    <tr>\n",
       "      <th>43428</th>\n",
       "      <td>41505.0</td>\n",
       "      <td>-16.526507</td>\n",
       "      <td>8.584972</td>\n",
       "      <td>-18.649853</td>\n",
       "      <td>9.505594</td>\n",
       "      <td>-13.793819</td>\n",
       "      <td>-2.832404</td>\n",
       "      <td>-16.701694</td>\n",
       "      <td>7.517344</td>\n",
       "      <td>-8.507059</td>\n",
       "      <td>...</td>\n",
       "      <td>1.190739</td>\n",
       "      <td>-1.127670</td>\n",
       "      <td>-2.358579</td>\n",
       "      <td>0.673461</td>\n",
       "      <td>-1.413700</td>\n",
       "      <td>-0.462762</td>\n",
       "      <td>-2.018575</td>\n",
       "      <td>-1.042804</td>\n",
       "      <td>364.19</td>\n",
       "      <td>1</td>\n",
       "    </tr>\n",
       "    <tr>\n",
       "      <th>49906</th>\n",
       "      <td>44261.0</td>\n",
       "      <td>0.339812</td>\n",
       "      <td>-2.743745</td>\n",
       "      <td>-0.134070</td>\n",
       "      <td>-1.385729</td>\n",
       "      <td>-1.451413</td>\n",
       "      <td>1.015887</td>\n",
       "      <td>-0.524379</td>\n",
       "      <td>0.224060</td>\n",
       "      <td>0.899746</td>\n",
       "      <td>...</td>\n",
       "      <td>-0.213436</td>\n",
       "      <td>-0.942525</td>\n",
       "      <td>-0.526819</td>\n",
       "      <td>-1.156992</td>\n",
       "      <td>0.311211</td>\n",
       "      <td>-0.746647</td>\n",
       "      <td>0.040996</td>\n",
       "      <td>0.102038</td>\n",
       "      <td>520.12</td>\n",
       "      <td>0</td>\n",
       "    </tr>\n",
       "    <tr>\n",
       "      <th>29474</th>\n",
       "      <td>35484.0</td>\n",
       "      <td>1.399590</td>\n",
       "      <td>-0.590701</td>\n",
       "      <td>0.168619</td>\n",
       "      <td>-1.029950</td>\n",
       "      <td>-0.539806</td>\n",
       "      <td>0.040444</td>\n",
       "      <td>-0.712567</td>\n",
       "      <td>0.002299</td>\n",
       "      <td>-0.971747</td>\n",
       "      <td>...</td>\n",
       "      <td>0.102398</td>\n",
       "      <td>0.168269</td>\n",
       "      <td>-0.166639</td>\n",
       "      <td>-0.810250</td>\n",
       "      <td>0.505083</td>\n",
       "      <td>-0.232340</td>\n",
       "      <td>0.011409</td>\n",
       "      <td>0.004634</td>\n",
       "      <td>31.00</td>\n",
       "      <td>0</td>\n",
       "    </tr>\n",
       "    <tr>\n",
       "      <th>276481</th>\n",
       "      <td>167123.0</td>\n",
       "      <td>-0.432071</td>\n",
       "      <td>1.647895</td>\n",
       "      <td>-1.669361</td>\n",
       "      <td>-0.349504</td>\n",
       "      <td>0.785785</td>\n",
       "      <td>-0.630647</td>\n",
       "      <td>0.276990</td>\n",
       "      <td>0.586025</td>\n",
       "      <td>-0.484715</td>\n",
       "      <td>...</td>\n",
       "      <td>0.358932</td>\n",
       "      <td>0.873663</td>\n",
       "      <td>-0.178642</td>\n",
       "      <td>-0.017171</td>\n",
       "      <td>-0.207392</td>\n",
       "      <td>-0.157756</td>\n",
       "      <td>-0.237386</td>\n",
       "      <td>0.001934</td>\n",
       "      <td>1.50</td>\n",
       "      <td>0</td>\n",
       "    </tr>\n",
       "    <tr>\n",
       "      <th>278846</th>\n",
       "      <td>168473.0</td>\n",
       "      <td>2.014160</td>\n",
       "      <td>-0.137394</td>\n",
       "      <td>-1.015839</td>\n",
       "      <td>0.327269</td>\n",
       "      <td>-0.182179</td>\n",
       "      <td>-0.956571</td>\n",
       "      <td>0.043241</td>\n",
       "      <td>-0.160746</td>\n",
       "      <td>0.363241</td>\n",
       "      <td>...</td>\n",
       "      <td>-0.238644</td>\n",
       "      <td>-0.616400</td>\n",
       "      <td>0.347045</td>\n",
       "      <td>0.061561</td>\n",
       "      <td>-0.360196</td>\n",
       "      <td>0.174730</td>\n",
       "      <td>-0.078043</td>\n",
       "      <td>-0.070571</td>\n",
       "      <td>0.89</td>\n",
       "      <td>0</td>\n",
       "    </tr>\n",
       "    <tr>\n",
       "      <th>...</th>\n",
       "      <td>...</td>\n",
       "      <td>...</td>\n",
       "      <td>...</td>\n",
       "      <td>...</td>\n",
       "      <td>...</td>\n",
       "      <td>...</td>\n",
       "      <td>...</td>\n",
       "      <td>...</td>\n",
       "      <td>...</td>\n",
       "      <td>...</td>\n",
       "      <td>...</td>\n",
       "      <td>...</td>\n",
       "      <td>...</td>\n",
       "      <td>...</td>\n",
       "      <td>...</td>\n",
       "      <td>...</td>\n",
       "      <td>...</td>\n",
       "      <td>...</td>\n",
       "      <td>...</td>\n",
       "      <td>...</td>\n",
       "      <td>...</td>\n",
       "    </tr>\n",
       "    <tr>\n",
       "      <th>180795</th>\n",
       "      <td>124702.0</td>\n",
       "      <td>-0.673320</td>\n",
       "      <td>1.823100</td>\n",
       "      <td>-2.152665</td>\n",
       "      <td>-1.051308</td>\n",
       "      <td>1.822568</td>\n",
       "      <td>1.319646</td>\n",
       "      <td>-0.228012</td>\n",
       "      <td>-1.743339</td>\n",
       "      <td>-0.665095</td>\n",
       "      <td>...</td>\n",
       "      <td>2.292603</td>\n",
       "      <td>-0.929823</td>\n",
       "      <td>0.561185</td>\n",
       "      <td>2.970343</td>\n",
       "      <td>-0.632171</td>\n",
       "      <td>0.095316</td>\n",
       "      <td>0.031770</td>\n",
       "      <td>0.093565</td>\n",
       "      <td>3.99</td>\n",
       "      <td>0</td>\n",
       "    </tr>\n",
       "    <tr>\n",
       "      <th>259979</th>\n",
       "      <td>159354.0</td>\n",
       "      <td>2.125553</td>\n",
       "      <td>-0.065046</td>\n",
       "      <td>-1.537467</td>\n",
       "      <td>0.125578</td>\n",
       "      <td>0.500319</td>\n",
       "      <td>-0.359530</td>\n",
       "      <td>0.124248</td>\n",
       "      <td>-0.201678</td>\n",
       "      <td>0.551045</td>\n",
       "      <td>...</td>\n",
       "      <td>-0.342157</td>\n",
       "      <td>-0.878330</td>\n",
       "      <td>0.281129</td>\n",
       "      <td>0.035931</td>\n",
       "      <td>-0.173013</td>\n",
       "      <td>0.207555</td>\n",
       "      <td>-0.075438</td>\n",
       "      <td>-0.060078</td>\n",
       "      <td>1.79</td>\n",
       "      <td>0</td>\n",
       "    </tr>\n",
       "    <tr>\n",
       "      <th>21885</th>\n",
       "      <td>31911.0</td>\n",
       "      <td>0.746800</td>\n",
       "      <td>-1.028053</td>\n",
       "      <td>1.127833</td>\n",
       "      <td>1.631418</td>\n",
       "      <td>-1.193487</td>\n",
       "      <td>0.946088</td>\n",
       "      <td>-0.857322</td>\n",
       "      <td>0.480905</td>\n",
       "      <td>1.662617</td>\n",
       "      <td>...</td>\n",
       "      <td>0.073226</td>\n",
       "      <td>0.058198</td>\n",
       "      <td>-0.235697</td>\n",
       "      <td>-0.457910</td>\n",
       "      <td>0.328226</td>\n",
       "      <td>-0.219767</td>\n",
       "      <td>0.058352</td>\n",
       "      <td>0.058441</td>\n",
       "      <td>195.60</td>\n",
       "      <td>0</td>\n",
       "    </tr>\n",
       "    <tr>\n",
       "      <th>217812</th>\n",
       "      <td>141043.0</td>\n",
       "      <td>2.080547</td>\n",
       "      <td>0.167780</td>\n",
       "      <td>-1.722107</td>\n",
       "      <td>0.403323</td>\n",
       "      <td>0.451991</td>\n",
       "      <td>-0.848388</td>\n",
       "      <td>0.190703</td>\n",
       "      <td>-0.239152</td>\n",
       "      <td>0.481197</td>\n",
       "      <td>...</td>\n",
       "      <td>-0.367406</td>\n",
       "      <td>-0.945073</td>\n",
       "      <td>0.332659</td>\n",
       "      <td>0.484916</td>\n",
       "      <td>-0.246959</td>\n",
       "      <td>0.174693</td>\n",
       "      <td>-0.061887</td>\n",
       "      <td>-0.030910</td>\n",
       "      <td>0.89</td>\n",
       "      <td>0</td>\n",
       "    </tr>\n",
       "    <tr>\n",
       "      <th>86348</th>\n",
       "      <td>61191.0</td>\n",
       "      <td>1.091637</td>\n",
       "      <td>-0.068047</td>\n",
       "      <td>1.336154</td>\n",
       "      <td>1.430728</td>\n",
       "      <td>-0.971375</td>\n",
       "      <td>0.012072</td>\n",
       "      <td>-0.662681</td>\n",
       "      <td>0.216994</td>\n",
       "      <td>0.776510</td>\n",
       "      <td>...</td>\n",
       "      <td>0.168724</td>\n",
       "      <td>0.657102</td>\n",
       "      <td>-0.015262</td>\n",
       "      <td>0.413638</td>\n",
       "      <td>0.368876</td>\n",
       "      <td>-0.231823</td>\n",
       "      <td>0.080135</td>\n",
       "      <td>0.035442</td>\n",
       "      <td>10.00</td>\n",
       "      <td>0</td>\n",
       "    </tr>\n",
       "  </tbody>\n",
       "</table>\n",
       "<p>85443 rows × 31 columns</p>\n",
       "</div>"
      ],
      "text/plain": [
       "        Time_Series         V1        V2         V3        V4         V5  \\\n",
       "43428       41505.0 -16.526507  8.584972 -18.649853  9.505594 -13.793819   \n",
       "49906       44261.0   0.339812 -2.743745  -0.134070 -1.385729  -1.451413   \n",
       "29474       35484.0   1.399590 -0.590701   0.168619 -1.029950  -0.539806   \n",
       "276481     167123.0  -0.432071  1.647895  -1.669361 -0.349504   0.785785   \n",
       "278846     168473.0   2.014160 -0.137394  -1.015839  0.327269  -0.182179   \n",
       "...             ...        ...       ...        ...       ...        ...   \n",
       "180795     124702.0  -0.673320  1.823100  -2.152665 -1.051308   1.822568   \n",
       "259979     159354.0   2.125553 -0.065046  -1.537467  0.125578   0.500319   \n",
       "21885       31911.0   0.746800 -1.028053   1.127833  1.631418  -1.193487   \n",
       "217812     141043.0   2.080547  0.167780  -1.722107  0.403323   0.451991   \n",
       "86348       61191.0   1.091637 -0.068047   1.336154  1.430728  -0.971375   \n",
       "\n",
       "              V6         V7        V8        V9  ...       V21       V22  \\\n",
       "43428  -2.832404 -16.701694  7.517344 -8.507059  ...  1.190739 -1.127670   \n",
       "49906   1.015887  -0.524379  0.224060  0.899746  ... -0.213436 -0.942525   \n",
       "29474   0.040444  -0.712567  0.002299 -0.971747  ...  0.102398  0.168269   \n",
       "276481 -0.630647   0.276990  0.586025 -0.484715  ...  0.358932  0.873663   \n",
       "278846 -0.956571   0.043241 -0.160746  0.363241  ... -0.238644 -0.616400   \n",
       "...          ...        ...       ...       ...  ...       ...       ...   \n",
       "180795  1.319646  -0.228012 -1.743339 -0.665095  ...  2.292603 -0.929823   \n",
       "259979 -0.359530   0.124248 -0.201678  0.551045  ... -0.342157 -0.878330   \n",
       "21885   0.946088  -0.857322  0.480905  1.662617  ...  0.073226  0.058198   \n",
       "217812 -0.848388   0.190703 -0.239152  0.481197  ... -0.367406 -0.945073   \n",
       "86348   0.012072  -0.662681  0.216994  0.776510  ...  0.168724  0.657102   \n",
       "\n",
       "             V23       V24       V25       V26       V27       V28  Amount  \\\n",
       "43428  -2.358579  0.673461 -1.413700 -0.462762 -2.018575 -1.042804  364.19   \n",
       "49906  -0.526819 -1.156992  0.311211 -0.746647  0.040996  0.102038  520.12   \n",
       "29474  -0.166639 -0.810250  0.505083 -0.232340  0.011409  0.004634   31.00   \n",
       "276481 -0.178642 -0.017171 -0.207392 -0.157756 -0.237386  0.001934    1.50   \n",
       "278846  0.347045  0.061561 -0.360196  0.174730 -0.078043 -0.070571    0.89   \n",
       "...          ...       ...       ...       ...       ...       ...     ...   \n",
       "180795  0.561185  2.970343 -0.632171  0.095316  0.031770  0.093565    3.99   \n",
       "259979  0.281129  0.035931 -0.173013  0.207555 -0.075438 -0.060078    1.79   \n",
       "21885  -0.235697 -0.457910  0.328226 -0.219767  0.058352  0.058441  195.60   \n",
       "217812  0.332659  0.484916 -0.246959  0.174693 -0.061887 -0.030910    0.89   \n",
       "86348  -0.015262  0.413638  0.368876 -0.231823  0.080135  0.035442   10.00   \n",
       "\n",
       "        Prediction  \n",
       "43428            1  \n",
       "49906            0  \n",
       "29474            0  \n",
       "276481           0  \n",
       "278846           0  \n",
       "...            ...  \n",
       "180795           0  \n",
       "259979           0  \n",
       "21885            0  \n",
       "217812           0  \n",
       "86348            0  \n",
       "\n",
       "[85443 rows x 31 columns]"
      ]
     },
     "execution_count": 15,
     "metadata": {},
     "output_type": "execute_result"
    }
   ],
   "source": [
    "X_test"
   ]
  },
  {
   "cell_type": "code",
   "execution_count": 16,
   "metadata": {},
   "outputs": [
    {
     "name": "stderr",
     "output_type": "stream",
     "text": [
      "c:\\users\\iowahawk89\\appdata\\local\\programs\\python\\python37\\lib\\site-packages\\ipykernel_launcher.py:1: SettingWithCopyWarning: \n",
      "A value is trying to be set on a copy of a slice from a DataFrame.\n",
      "Try using .loc[row_indexer,col_indexer] = value instead\n",
      "\n",
      "See the caveats in the documentation: http://pandas.pydata.org/pandas-docs/stable/user_guide/indexing.html#returning-a-view-versus-a-copy\n",
      "  \"\"\"Entry point for launching an IPython kernel.\n"
     ]
    }
   ],
   "source": [
    "X_test['Prediction'] = predictions"
   ]
  },
  {
   "cell_type": "code",
   "execution_count": 17,
   "metadata": {},
   "outputs": [],
   "source": [
    "yes_ind = X_test[X_test['Prediction'] == 1].index"
   ]
  },
  {
   "cell_type": "code",
   "execution_count": 20,
   "metadata": {},
   "outputs": [],
   "source": [
    "X2_test = X_test.loc[yes_ind]\n",
    "y2_test = y_test.loc[yes_ind]\n",
    "X2_test = X2_test.drop(['Prediction'], axis=1)"
   ]
  },
  {
   "cell_type": "code",
   "execution_count": 26,
   "metadata": {},
   "outputs": [
    {
     "name": "stderr",
     "output_type": "stream",
     "text": [
      "c:\\users\\iowahawk89\\appdata\\local\\programs\\python\\python37\\lib\\site-packages\\sklearn\\ensemble\\gradient_boosting.py:1444: DataConversionWarning: A column-vector y was passed when a 1d array was expected. Please change the shape of y to (n_samples, ), for example using ravel().\n",
      "  sample_weight = column_or_1d(sample_weight, warn=True)\n",
      "c:\\users\\iowahawk89\\appdata\\local\\programs\\python\\python37\\lib\\site-packages\\sklearn\\ensemble\\gradient_boosting.py:1450: DataConversionWarning: A column-vector y was passed when a 1d array was expected. Please change the shape of y to (n_samples, ), for example using ravel().\n",
      "  y = column_or_1d(y, warn=True)\n"
     ]
    },
    {
     "name": "stdout",
     "output_type": "stream",
     "text": [
      "0.9713035019455253\n",
      "AxesSubplot(0.125,0.125;0.775x0.755)\n",
      "Accuracy score (training): 0.917\n",
      "Accuracy score (validation): 0.971\n",
      "Confusion Matrix:\n",
      "false positive pct: 2.7885862516212714\n",
      "tn  fp  fn  tp\n",
      "11863 344 10 119\n",
      "[[11863   344]\n",
      " [   10   119]]\n",
      "Classification Report\n",
      "              precision    recall  f1-score   support\n",
      "\n",
      "           0       1.00      0.97      0.99     12207\n",
      "           1       0.26      0.92      0.40       129\n",
      "\n",
      "    accuracy                           0.97     12336\n",
      "   macro avg       0.63      0.95      0.69     12336\n",
      "weighted avg       0.99      0.97      0.98     12336\n",
      "\n",
      "2 Step Final Confusion Matrix:\n",
      "84963 344\n",
      "17 119\n"
     ]
    },
    {
     "data": {
      "text/plain": [
       "Text(0.5, 257.44, 'Predicted label')"
      ]
     },
     "execution_count": 26,
     "metadata": {},
     "output_type": "execute_result"
    },
    {
     "data": {
      "image/png": "[encoded data removed]",
      "text/plain": [
       "<Figure size 432x288 with 1 Axes>"
      ]
     },
     "metadata": {
      "needs_background": "light"
     },
     "output_type": "display_data"
    },
    {
     "data": {
      "image/png": "[encoded data removed]",
      "text/plain": [
       "<Figure size 432x288 with 2 Axes>"
      ]
     },
     "metadata": {
      "needs_background": "light"
     },
     "output_type": "display_data"
    },
    {
     "data": {
      "image/png": "[encoded data removed]",
      "text/plain": [
       "<Figure size 432x288 with 2 Axes>"
      ]
     },
     "metadata": {
      "needs_background": "light"
     },
     "output_type": "display_data"
    }
   ],
   "source": [
    "#setup model parameters, change some of the defaults based on benchmarking\n",
    "gb_clf = GradientBoostingClassifier(n_estimators=20, learning_rate=0.1, max_features=5, \n",
    "                                    max_depth=3, random_state=0, subsample = 1.0, criterion='mse', \n",
    "                                    min_samples_split = 10, min_samples_leaf = 10)\n",
    "\n",
    "#default fit model\n",
    "#gb_clf.fit(X_train, y_train)\n",
    "\n",
    "#since a false negative is much more likely than a false positive, we should weight them accordingly. \n",
    "#IE Finding a true one is more important\n",
    "gb_clf.fit( X_train, y_train, sample_weight=np.where(y_train == 1,0.1,1.0) )\n",
    "\n",
    "#use model to predict validation dataset\n",
    "predictions = gb_clf.predict(X2_test) \n",
    "print(gb_clf.score(X2_test, y2_test)) \n",
    "print(pd.Series(gb_clf.feature_importances_, index=X_train.columns[:]).nlargest(10).plot(kind='barh')) \n",
    "print(\"Accuracy score (training): {0:.3f}\".format(gb_clf.score(X_train, y_train))) \n",
    "print(\"Accuracy score (validation): {0:.3f}\".format(gb_clf.score(X2_test, y2_test))) \n",
    "print(\"Confusion Matrix:\")\n",
    "tn, fp, fn, tp = confusion_matrix(y2_test, predictions).ravel()\n",
    "total = tn+ fp+ fn+ tp \n",
    "print(\"false positive pct:\",(fp/total)*100) \n",
    "print(\"tn\", \" fp\", \" fn\", \" tp\") \n",
    "print(tn, fp, fn, tp) \n",
    "print(confusion_matrix(y2_test, predictions)) \n",
    "\n",
    "print(\"Classification Report\") \n",
    "print(classification_report(y2_test, predictions))\n",
    "\n",
    "cnf_matrix=metrics.confusion_matrix(y2_test, predictions)\n",
    "cnf_matrix\n",
    "\n",
    "#Visualize confusion matrix using heat map cnf_matrix=metrics.confusion_matrix(y_test, predictions) cnf_matrix\n",
    "\n",
    "class_names=[0,1] # name of classes \n",
    "fig, ax = plt.subplots() \n",
    "tick_marks = np.arange(len(class_names)) \n",
    "plt.xticks(tick_marks, class_names) \n",
    "plt.yticks(tick_marks, class_names)\n",
    "\n",
    "#create heatmap\n",
    "sns.heatmap(pd.DataFrame(cnf_matrix), annot=True, cmap=\"YlGnBu\" ,fmt='g') \n",
    "ax.xaxis.set_label_position(\"top\") \n",
    "plt.tight_layout() \n",
    "plt.title('Confusion matrix', y=1.1) \n",
    "plt.ylabel('Actual label') \n",
    "plt.xlabel('Predicted label')\n",
    "\n",
    "\n",
    "print(\"2 Step Final Confusion Matrix:\")\n",
    "print(tn+tn1, fp) \n",
    "print(fn+fn1, tp) \n",
    "\n",
    "fig, ax = plt.subplots() \n",
    "tick_marks = np.arange(len(class_names)) \n",
    "plt.xticks(tick_marks, class_names) \n",
    "plt.yticks(tick_marks, class_names)\n",
    "\n",
    "#create heatmap\n",
    "sns.heatmap(pd.DataFrame([[tn+tn1,fp],[fn+fn1,tp]]), annot=True, cmap=\"YlGnBu\" ,fmt='g') \n",
    "ax.xaxis.set_label_position(\"top\") \n",
    "plt.tight_layout() \n",
    "plt.title('2 Step Final Confusion matrix', y=1.1) \n",
    "plt.ylabel('Actual label') \n",
    "plt.xlabel('Predicted label')"
   ]
  },
  {
   "cell_type": "markdown",
   "metadata": {},
   "source": [
    "The 2 step process improves the overall model prediction by a large amount (361 incorrect predictions). I don't think we could get this high of precision and recall together with a single model. The best I could do with a single model was 1452 incorrect predictions."
   ]
  },
  {
   "cell_type": "code",
   "execution_count": null,
   "metadata": {},
   "outputs": [],
   "source": []
  }
 ],
 "metadata": {
  "kernelspec": {
   "display_name": "Python 3",
   "language": "python",
   "name": "python3"
  },
  "language_info": {
   "codemirror_mode": {
    "name": "ipython",
    "version": 3
   },
   "file_extension": ".py",
   "mimetype": "text/x-python",
   "name": "python",
   "nbconvert_exporter": "python",
   "pygments_lexer": "ipython3",
   "version": "3.7.7"
  }
 },
 "nbformat": 4,
 "nbformat_minor": 4
}
